{
 "cells": [
  {
   "cell_type": "code",
   "execution_count": 125,
   "id": "d64184f6",
   "metadata": {},
   "outputs": [
    {
     "name": "stdout",
     "output_type": "stream",
     "text": [
      "Running gkg_tools.py\n"
     ]
    }
   ],
   "source": [
    "import os\n",
    "import re\n",
    "import pandas as pd\n",
    "import numpy as np\n",
    "import requests\n",
    "from requests.adapters import HTTPAdapter\n",
    "from requests.packages.urllib3.util.retry import Retry\n",
    "import json\n",
    "from datetime import date, datetime, timedelta\n",
    "from bs4 import BeautifulSoup\n",
    "import gdelt # for gdelt searchs\n",
    "# from gdelt.gkg_tools import * # for gkg searchs\n",
    "%run \"../gkg_tools.py\" # using magic command run to access the script from the parent directory\n",
    "\n",
    "\n",
    "import nltk\n",
    "from nltk.tokenize import word_tokenize, sent_tokenize\n",
    "\n",
    "\n",
    "from transformers import pipeline, set_seed\n",
    "import torch\n",
    "\n",
    "# GPU Timing (using GPU 1) else -1 for CPU\n",
    "device_id = 1 if torch.cuda.is_available() else -1 "
   ]
  },
  {
   "cell_type": "markdown",
   "id": "61072b35",
   "metadata": {},
   "source": [
    "# Get Article from GDELT"
   ]
  },
  {
   "cell_type": "code",
   "execution_count": 204,
   "id": "a4dfafb0",
   "metadata": {},
   "outputs": [
    {
     "name": "stderr",
     "output_type": "stream",
     "text": [
      "/home/cld1465/notebooks/gdelt/gdelt-venv/lib/python3.11/site-packages/gdelt/parallel.py:111: UserWarning: GDELT did not return data for date time 20241020090000\n",
      "  warnings.warn(message)\n",
      "/home/cld1465/notebooks/gdelt/gdelt-venv/lib/python3.11/site-packages/gdelt/parallel.py:111: UserWarning: GDELT did not return data for date time 20241020124500\n",
      "  warnings.warn(message)\n",
      "/home/cld1465/notebooks/gdelt/gdelt-venv/lib/python3.11/site-packages/gdelt/parallel.py:111: UserWarning: GDELT did not return data for date time 20241021061500\n",
      "  warnings.warn(message)\n",
      "/home/cld1465/notebooks/gdelt/gdelt-venv/lib/python3.11/site-packages/gdelt/parallel.py:111: UserWarning: GDELT did not return data for date time 20241021164500\n",
      "  warnings.warn(message)\n"
     ]
    }
   ],
   "source": [
    "gkg = gkg_operator() # create a gkg operator\n",
    "gkg.set_date(['2024 Oct 20', '2024 Oct 21']) # set the date range for the search\n",
    "gkg.get_gkg()\n",
    "persons = ['Eiichiro Oda', 'Shueisha', 'One Piece']\n",
    "OP = gkg.gkg_persons(persons)\n",
    "OP.reset_index(inplace=True)"
   ]
  },
  {
   "cell_type": "code",
   "execution_count": 287,
   "id": "0d84b041",
   "metadata": {},
   "outputs": [
    {
     "data": {
      "text/plain": [
       "'https://gamerant.com/one-piece-sun-god-loki-nika-luffy/'"
      ]
     },
     "execution_count": 287,
     "metadata": {},
     "output_type": "execute_result"
    }
   ],
   "source": [
    "url = OP['documentidentifier'].iloc[0]\n",
    "url\n",
    "\n",
    "# I tried to suppress this warning which occurs when querying from the lambda2 server, didn't work, so I dropped the warning code."
   ]
  },
  {
   "cell_type": "code",
   "execution_count": 288,
   "id": "4503af95",
   "metadata": {},
   "outputs": [],
   "source": [
    "\n",
    "headers = {\n",
    "        'User-Agent': 'Mozilla/5.0 (Windows NT 10.0; Win64; x64) AppleWebKit/537.36 (KHTML, like Gecko) Chrome/58.0.3029.110 Safari/537.3'}\n",
    "    \n",
    "session = requests.Session()\n",
    "retry = Retry(connect=2, backoff_factor=0.5)\n",
    "adapter = HTTPAdapter(max_retries=retry)\n",
    "session.mount('http://', adapter)\n",
    "session.mount('https://', adapter)\n",
    "\n",
    "try:\n",
    "    response = session.get(url, headers=headers)\n",
    "    response.raise_for_status()\n",
    "    soup = BeautifulSoup(response.content, 'html.parser')\n",
    "except requests.exceptions.RequestException as e:\n",
    "        print(f\"Error: {e}\")"
   ]
  },
  {
   "cell_type": "markdown",
   "id": "84ba1e85",
   "metadata": {},
   "source": [
    "## Headers"
   ]
  },
  {
   "cell_type": "code",
   "execution_count": 289,
   "id": "6f738a68",
   "metadata": {},
   "outputs": [
    {
     "data": {
      "text/plain": [
       "['Game Rant',\n",
       " 'One Piece: Sun God Loki Vs Sun God Luffy, Explained',\n",
       " \" Loki And Luffy's First Meeting In One Piece \",\n",
       " ' Why Loki Will Test His Strength Against Luffy ',\n",
       " ' Will Loki and Luffy Be Friends Or Enemies? ',\n",
       " 'Will Loki Be Yonko Level?',\n",
       " 'Related',\n",
       " 'Key Takeaways',\n",
       " ' Loki and Luffy Are Set To Clash in One Piece ',\n",
       " ' Loki and Luffy Will Start As Enemies ',\n",
       " 'Trending Now']"
      ]
     },
     "execution_count": 289,
     "metadata": {},
     "output_type": "execute_result"
    }
   ],
   "source": [
    "headers = soup.find_all('h1')\n",
    "header_text = []\n",
    "for i in range(1,5):\n",
    "    headers = soup.find_all(f'h{i}')\n",
    "    for h in headers:\n",
    "        header_text.append(h.get_text())\n",
    "    \n",
    "header_text"
   ]
  },
  {
   "cell_type": "markdown",
   "id": "d0c0e649",
   "metadata": {},
   "source": [
    "## Paragraphs"
   ]
  },
  {
   "cell_type": "code",
   "execution_count": 290,
   "id": "00d6ccfa",
   "metadata": {},
   "outputs": [
    {
     "data": {
      "text/plain": [
       "<p><em><strong>One Piece</strong></em> chapter 1130 proved to be absolutely stunning from start to finish and it is safe to say that this chapter shocked the fans to quite an extent with <a href=\"https://gamerant.com/one-piece-loki-potential-legendary-devil-fruit-explained/\" target=\"_blank\">the reveal of Loki so early into the arc</a>. Truly, few were expecting Loki to be revealed in such fashion in <a href=\"https://gamerant.com/tag/one-piece/\" target=\"_blank\"><em>One Piece</em></a> chapter 1130, and at the same time, even fewer individuals were expecting him to be as important as he has proven to be.</p>"
      ]
     },
     "execution_count": 290,
     "metadata": {},
     "output_type": "execute_result"
    }
   ],
   "source": [
    "paragraphs = soup.find_all('p')\n",
    "paragraphs[7]"
   ]
  },
  {
   "cell_type": "code",
   "execution_count": 291,
   "id": "b4826478",
   "metadata": {
    "scrolled": true
   },
   "outputs": [
    {
     "name": "stdout",
     "output_type": "stream",
     "text": [
      "0 1 28\n",
      "1 0 0\n",
      "2 1 13\n",
      "3 1 27\n",
      "4 1 33\n",
      "5 1 56\n",
      "6 1 58\n",
      "7 6 395\n",
      "8 1 96\n",
      "9 3 372\n",
      "10 3 699\n",
      "11 1 57\n",
      "12 3 672\n",
      "13 1 423\n",
      "14 3 534\n",
      "15 1 66\n",
      "16 1 661\n",
      "17 1 128\n",
      "18 3 504\n",
      "19 3 561\n",
      "20 1 443\n",
      "21 5 375\n",
      "22 3 249\n",
      "23 1 246\n",
      "24 0 0\n",
      "25 1 28\n",
      "26 0 0\n",
      "27 1 13\n",
      "28 1 27\n",
      "29 1 33\n",
      "30 1 56\n",
      "31 1 101\n",
      "32 1 31\n",
      "33 1 35\n",
      "34 1 35\n",
      "35 0 0\n",
      "36 1 81\n",
      "37 1 131\n",
      "38 1 88\n",
      "39 1 128\n",
      "40 1 147\n",
      "41 1 111\n",
      "42 1 133\n",
      "Number of Paragraphs:43\n"
     ]
    },
    {
     "data": {
      "text/plain": [
       "['Please verify your email address.',\n",
       " 'You’ve reached your account maximum for followed topics.',\n",
       " \"This article contains spoilers from One Piece's Elbaf Arc.\",\n",
       " 'One Piece chapter 1130 proved to be absolutely stunning from start to finish and it is safe to say that this chapter shocked the fans to quite an extent with the reveal of Loki so early into the arc. Truly, few were expecting Loki to be revealed in such fashion in One Piece chapter 1130, and at the same time, even fewer individuals were expecting him to be as important as he has proven to be.',\n",
       " 'Loki is perhaps the most powerful giant. His strength might be on par with a Yonko in One Piece.',\n",
       " 'In this chapter, fans even got what can be considered to be a buildup of sorts towards a fight between Luffy, who is the Sun God Nika, and Loki, who also believes himself to be the Sun God. It looks like there is going to be a clash of Sun Gods after One Piece chapter 1130 and it is certainly going to be one worth watching, provided Loki does break free from his chains.',\n",
       " \"Luffy and Loki met for the very first time in One Piece chapter 1130. This is a meeting that fans have been anticipating since the Elbaf arc began, but few had imagined it to happen so early. As soon as Luffy found his way into the real Elbaf, the story saw him exploring the country. But, while the forest was certainly intriguing enough for Luffy, something that kept bothering him was a very strong presence nearby. This presence was so strong that Luffy's entire body was tingling. This just goes to show how strong Loki truly is. Along with Luffy, both Zoro and Sanji also felt Loki's presence, and at this point, it was clear for the fans to see that Loki was portrayed to be a monster by Oda.\",\n",
       " \"I'm the Sun God who will destroy this world, Loki! – Loki\",\n",
       " \"Luffy separated from the crew and went to see Loki by himself, which is where the first meeting finally happened. This was a meeting that fans had waited years for, and finally, the Straw Hat pirate, who is now a Yonko, stood in front of Loki, the Disgraced Prince of Elbaf. Finally, fans got a proper look at Loki's character design, and it is safe to say that this has to be one of One Piece's very best that Oda has delivered so far. Loki looks quite like a mixture of Kaido, Doflamingo, and Katakuri, and just the character design itself personifies the strength of the highest tier. Loki looks Like an absolute monster, and fans cannot wait to see him in real combat.\",\n",
       " 'As far as his personality goes, he seems quite brash, but at the same time, prideful, which is expected of a warrior from the land of Elbaf. At the same time, Loki also looks incredibly strong and confident in his abilities, given that he referred to himself as the Sun God, and the one who will destroy the world. Naturally, there is more to Loki than meets the eye, and fans will slowly find out more about him with time.']"
      ]
     },
     "execution_count": 291,
     "metadata": {},
     "output_type": "execute_result"
    }
   ],
   "source": [
    "para_text = []\n",
    "# for idx, p in enumerate(paragraphs[4:14]):\n",
    "for idx, p in enumerate(paragraphs):\n",
    "    print(idx, len(p), len(p.get_text())) # use enumerate to track line number visually\n",
    "    para_text.append(p.get_text())\n",
    "\n",
    "print(f'Number of Paragraphs:{len(para_text)}')\n",
    "para_text[4:14]"
   ]
  },
  {
   "cell_type": "markdown",
   "id": "5572a292",
   "metadata": {},
   "source": [
    "# NLP Vectorizers"
   ]
  },
  {
   "cell_type": "code",
   "execution_count": 292,
   "id": "2e7e8756",
   "metadata": {},
   "outputs": [],
   "source": [
    "from sklearn.feature_extraction.text import CountVectorizer\n",
    "from sklearn.feature_extraction.text import TfidfVectorizer"
   ]
  },
  {
   "cell_type": "markdown",
   "id": "528571a9",
   "metadata": {},
   "source": [
    "## CountVectorizer"
   ]
  },
  {
   "cell_type": "code",
   "execution_count": 293,
   "id": "fe124d6a",
   "metadata": {},
   "outputs": [
    {
     "data": {
      "text/plain": [
       "array(['1130', '20', '2024', 'abilities', 'about', 'absolute',\n",
       "       'absolutely', 'account', 'actually', 'address', 'after', 'against',\n",
       "       'ahead', 'all', 'along', 'already', 'also', 'an', 'and',\n",
       "       'announces', 'another', 'anticipating', 'app', 'arc', 'are',\n",
       "       'arise', 'armored', 'around', 'article', 'as', 'at', 'available',\n",
       "       'back', 'bandai', 'battle', 'battlegrounds', 'be', 'because',\n",
       "       'been', 'began', 'being', 'believe', 'believes', 'below', 'best',\n",
       "       'better', 'between', 'big', 'bit', 'body', 'both', 'bothering',\n",
       "       'bounties', 'brash', 'break', 'buildup', 'but', 'by', 'called',\n",
       "       'calm', 'calming', 'can', 'cannot', 'captain', 'care', 'certainly',\n",
       "       'chains', 'challenge', 'challenging', 'change', 'changes',\n",
       "       'chapter', 'character', 'characters', 'claim', 'claiming', 'clash',\n",
       "       'clear', 'clearly', 'cliffhanger', 'combat', 'come', 'comes',\n",
       "       'comment', 'confident', 'considered', 'consoles', 'contains',\n",
       "       'core', 'could', 'countries', 'country', 'course', 'crafts',\n",
       "       'crew', 'crochet', 'culture', 'current', 'customization', 'date',\n",
       "       'declare', 'deity', 'delivered', 'design', 'destroy', 'destroying',\n",
       "       'detailed', 'developments', 'devil', 'did', 'dire', 'disaster',\n",
       "       'discussion', 'disgraced', 'do', 'does', 'doesn', 'doflamingo',\n",
       "       'doll', 'down', 'download', 'dropped', 'each', 'early', 'edition',\n",
       "       'elbaf', 'email', 'ended', 'enough', 'entire', 'entirety',\n",
       "       'episode', 'especially', 'essentially', 'even', 'eventually',\n",
       "       'exactly', 'exciting', 'expected', 'expecting', 'exploring',\n",
       "       'extent', 'eye', 'face', 'fact', 'fan', 'fans', 'far', 'fashion',\n",
       "       'feel', 'felt', 'few', 'fewer', 'fight', 'figures', 'filled',\n",
       "       'finally', 'find', 'finds', 'finish', 'fires', 'first', 'five',\n",
       "       'foe', 'followed', 'for', 'forest', 'fortnite', 'found', 'free',\n",
       "       'freed', 'freeing', 'from', 'front', 'fruit', 'future', 'game',\n",
       "       'gargoyle', 'get', 'getting', 'giant', 'giants', 'given', 'go',\n",
       "       'god', 'gods', 'goes', 'going', 'goosebumps', 'got', 'greater',\n",
       "       'had', 'handiwork', 'happen', 'happened', 'happens', 'has', 'hat',\n",
       "       'haunted', 'have', 'he', 'hear', 'heavily', 'here', 'high',\n",
       "       'highest', 'him', 'himself', 'hint', 'his', 'hito', 'hostile',\n",
       "       'how', 'however', 'idea', 'if', 'imagined', 'impending',\n",
       "       'important', 'impossible', 'impressive', 'in', 'incredibly',\n",
       "       'individuals', 'interesting', 'interrupted', 'into', 'intriguing',\n",
       "       'is', 'it', 'its', 'itself', 'jump', 'just', 'kaido', 'katakuri',\n",
       "       'keep', 'kept', 'know', 'land', 'lead', 'leads', 'least',\n",
       "       'legendary', 'liberated', 'like', 'likely', 'limited', 'logia',\n",
       "       'loki', 'long', 'look', 'looks', 'luffy', 'major', 'makers',\n",
       "       'makes', 'manga', 'many', 'mawile', 'maximum', 'mean', 'media',\n",
       "       'meeting', 'meets', 'mega', 'met', 'mi', 'might', 'mind',\n",
       "       'misinformed', 'mixture', 'model', 'monopoly', 'monster', 'more',\n",
       "       'most', 'multiplayer', 'my', 'myths', 'namco', 'naturally',\n",
       "       'nearby', 'necessarily', 'need', 'neither', 'new', 'newest',\n",
       "       'next', 'nika', 'no', 'none', 'not', 'now', 'obviously', 'october',\n",
       "       'oda', 'of', 'officially', 'on', 'one', 'open', 'openly',\n",
       "       'opinions', 'or', 'order', 'other', 'out', 'over', 'painted',\n",
       "       'par', 'patch', 'pc', 'peers', 'penguin', 'perhaps', 'period',\n",
       "       'person', 'personality', 'personifies', 'piece', 'pirate',\n",
       "       'pirates', 'pits', 'play', 'please', 'plot', 'plus', 'point',\n",
       "       'pokemon', 'popular', 'portrait', 'portrayed', 'post', 'power',\n",
       "       'powerful', 'predict', 'presence', 'previous', 'prideful',\n",
       "       'prince', 'problematic', 'proper', 'prophecy', 'protagonist',\n",
       "       'prove', 'proved', 'proven', 'provided', 'pubg', 'quite',\n",
       "       'ragnarok', 'reached', 'read', 'real', 'referred', 'related',\n",
       "       'relationship', 'release', 'remember', 'respected', 'respectful',\n",
       "       'responsible', 'return', 'reveal', 'revealed', 'revolve', 'right',\n",
       "       'road', 'role', 'royale', 'rubicon', 'rumors', 'safe', 'same',\n",
       "       'sanji', 'saved', 'saw', 'say', 'scottie', 'see', 'seems', 'sent',\n",
       "       'separated', 'series', 'set', 'shape', 'share', 'shares', 'shield',\n",
       "       'shocked', 'shonen', 'shooter', 'show', 'significant', 'simply',\n",
       "       'since', 'sixth', 'skill', 'slowly', 'so', 'some', 'something',\n",
       "       'soon', 'sort', 'sorts', 'spoilers', 'start', 'stay', 'stood',\n",
       "       'story', 'straw', 'strength', 'strong', 'stunning', 'such', 'sun',\n",
       "       'surely', 'take', 'talented', 'tales', 'team', 'teams', 'test',\n",
       "       'than', 'that', 'the', 'their', 'them', 'then', 'there', 'these',\n",
       "       'they', 'thing', 'things', 'this', 'thoughts', 'thread', 'through',\n",
       "       'throughout', 'tier', 'time', 'tingling', 'to', 'together',\n",
       "       'token', 'topics', 'towards', 'trouble', 'truly', 'turn', 'two',\n",
       "       'up', 'updated', 've', 'verify', 'very', 'via', 'villain', 'viz',\n",
       "       'wait', 'waited', 'want', 'warrior', 'was', 'watching', 'way',\n",
       "       'we', 'weeks', 'well', 'went', 'were', 'what', 'when', 'where',\n",
       "       'which', 'while', 'who', 'whom', 'why', 'will', 'with', 'world',\n",
       "       'worshiped', 'worth', 'worthy', 'would', 'years', 'yonko', 'you',\n",
       "       'your', 'zoro'], dtype=object)"
      ]
     },
     "execution_count": 293,
     "metadata": {},
     "output_type": "execute_result"
    }
   ],
   "source": [
    "cv = CountVectorizer()\n",
    "# cv = CountVectorizer(stop_words='english')\n",
    "# cv = CountVectorizer(stop_words='english', min_df=3) # ignore words that appear in only 'n' documents.\n",
    "# cv = CountVectorizer(stop_words='english',max_df=0.5) # ignore words that don't appear in at least half of the documents\n",
    "cv.fit(para_text)\n",
    "cv.get_feature_names_out()[:]\n"
   ]
  },
  {
   "cell_type": "code",
   "execution_count": 294,
   "id": "8e4bf8b8",
   "metadata": {},
   "outputs": [
    {
     "name": "stdout",
     "output_type": "stream",
     "text": [
      "Counts Shape: (43, 492)\n"
     ]
    },
    {
     "data": {
      "text/plain": [
       "(<43x492 sparse matrix of type '<class 'numpy.int64'>'\n",
       " \twith 1052 stored elements in Compressed Sparse Row format>,\n",
       " None)"
      ]
     },
     "execution_count": 294,
     "metadata": {},
     "output_type": "execute_result"
    }
   ],
   "source": [
    "counts = cv.transform(para_text)\n",
    "counts, print(f'Counts Shape: {counts.shape}')"
   ]
  },
  {
   "cell_type": "code",
   "execution_count": 295,
   "id": "7873bfc2",
   "metadata": {},
   "outputs": [
    {
     "name": "stdout",
     "output_type": "stream",
     "text": [
      "  (7, 0)\t2\n",
      "  (9, 0)\t1\n",
      "  (10, 0)\t1\n",
      "  (13, 3)\t1\n",
      "  (13, 4)\t1\n",
      "  (14, 0)\t1\n",
      "  (18, 4)\t2\n",
      "  (23, 0)\t1\n",
      "  (23, 1)\t1\n",
      "  (23, 2)\t1\n"
     ]
    }
   ],
   "source": [
    "print(counts[:,:5]) # sparse matrix (row,col) coordinates with count value"
   ]
  },
  {
   "cell_type": "code",
   "execution_count": 296,
   "id": "4e857c35",
   "metadata": {},
   "outputs": [
    {
     "data": {
      "text/plain": [
       "array([[0, 0, 0, 0, 0, 0, 0, 0, 0, 0, 0, 0, 0, 0, 0, 0, 0, 0, 0, 0, 0, 0],\n",
       "       [0, 0, 0, 0, 0, 0, 0, 0, 0, 0, 0, 0, 0, 0, 0, 0, 0, 0, 0, 0, 0, 0],\n",
       "       [0, 0, 0, 0, 0, 0, 0, 0, 0, 0, 0, 0, 0, 0, 0, 0, 0, 0, 0, 0, 0, 0],\n",
       "       [0, 0, 0, 0, 0, 0, 0, 0, 0, 0, 0, 0, 0, 0, 0, 1, 0, 0, 0, 0, 0, 0],\n",
       "       [0, 0, 0, 0, 0, 0, 0, 0, 0, 1, 0, 0, 0, 0, 0, 0, 0, 0, 0, 0, 0, 0],\n",
       "       [0, 0, 0, 0, 0, 0, 0, 1, 0, 0, 0, 0, 0, 0, 0, 0, 0, 0, 0, 0, 0, 0],\n",
       "       [0, 0, 0, 0, 0, 0, 0, 0, 0, 0, 0, 0, 0, 0, 0, 0, 0, 0, 0, 0, 0, 0],\n",
       "       [2, 0, 0, 0, 0, 0, 1, 0, 0, 0, 0, 0, 0, 0, 0, 0, 0, 1, 2, 0, 0, 0],\n",
       "       [0, 0, 0, 0, 0, 0, 0, 0, 0, 0, 0, 0, 0, 0, 0, 0, 0, 0, 0, 0, 0, 0],\n",
       "       [1, 0, 0, 0, 0, 0, 0, 0, 0, 0, 1, 0, 0, 0, 0, 0, 1, 0, 2, 0, 0, 0]])"
      ]
     },
     "execution_count": 296,
     "metadata": {},
     "output_type": "execute_result"
    }
   ],
   "source": [
    "counts.toarray()[:10,:22] # sparse matrix format"
   ]
  },
  {
   "cell_type": "code",
   "execution_count": 297,
   "id": "ac4e80d4",
   "metadata": {},
   "outputs": [
    {
     "data": {
      "text/html": [
       "<div>\n",
       "<style scoped>\n",
       "    .dataframe tbody tr th:only-of-type {\n",
       "        vertical-align: middle;\n",
       "    }\n",
       "\n",
       "    .dataframe tbody tr th {\n",
       "        vertical-align: top;\n",
       "    }\n",
       "\n",
       "    .dataframe thead th {\n",
       "        text-align: right;\n",
       "    }\n",
       "</style>\n",
       "<table border=\"1\" class=\"dataframe\">\n",
       "  <thead>\n",
       "    <tr style=\"text-align: right;\">\n",
       "      <th></th>\n",
       "      <th>1130</th>\n",
       "      <th>20</th>\n",
       "      <th>2024</th>\n",
       "      <th>abilities</th>\n",
       "      <th>about</th>\n",
       "      <th>absolute</th>\n",
       "      <th>absolutely</th>\n",
       "      <th>account</th>\n",
       "      <th>actually</th>\n",
       "      <th>address</th>\n",
       "      <th>...</th>\n",
       "      <th>world</th>\n",
       "      <th>worshiped</th>\n",
       "      <th>worth</th>\n",
       "      <th>worthy</th>\n",
       "      <th>would</th>\n",
       "      <th>years</th>\n",
       "      <th>yonko</th>\n",
       "      <th>you</th>\n",
       "      <th>your</th>\n",
       "      <th>zoro</th>\n",
       "    </tr>\n",
       "  </thead>\n",
       "  <tbody>\n",
       "    <tr>\n",
       "      <th>4</th>\n",
       "      <td>0</td>\n",
       "      <td>0</td>\n",
       "      <td>0</td>\n",
       "      <td>0</td>\n",
       "      <td>0</td>\n",
       "      <td>0</td>\n",
       "      <td>0</td>\n",
       "      <td>0</td>\n",
       "      <td>0</td>\n",
       "      <td>1</td>\n",
       "      <td>...</td>\n",
       "      <td>0</td>\n",
       "      <td>0</td>\n",
       "      <td>0</td>\n",
       "      <td>0</td>\n",
       "      <td>0</td>\n",
       "      <td>0</td>\n",
       "      <td>0</td>\n",
       "      <td>0</td>\n",
       "      <td>1</td>\n",
       "      <td>0</td>\n",
       "    </tr>\n",
       "    <tr>\n",
       "      <th>5</th>\n",
       "      <td>0</td>\n",
       "      <td>0</td>\n",
       "      <td>0</td>\n",
       "      <td>0</td>\n",
       "      <td>0</td>\n",
       "      <td>0</td>\n",
       "      <td>0</td>\n",
       "      <td>1</td>\n",
       "      <td>0</td>\n",
       "      <td>0</td>\n",
       "      <td>...</td>\n",
       "      <td>0</td>\n",
       "      <td>0</td>\n",
       "      <td>0</td>\n",
       "      <td>0</td>\n",
       "      <td>0</td>\n",
       "      <td>0</td>\n",
       "      <td>0</td>\n",
       "      <td>1</td>\n",
       "      <td>1</td>\n",
       "      <td>0</td>\n",
       "    </tr>\n",
       "    <tr>\n",
       "      <th>6</th>\n",
       "      <td>0</td>\n",
       "      <td>0</td>\n",
       "      <td>0</td>\n",
       "      <td>0</td>\n",
       "      <td>0</td>\n",
       "      <td>0</td>\n",
       "      <td>0</td>\n",
       "      <td>0</td>\n",
       "      <td>0</td>\n",
       "      <td>0</td>\n",
       "      <td>...</td>\n",
       "      <td>0</td>\n",
       "      <td>0</td>\n",
       "      <td>0</td>\n",
       "      <td>0</td>\n",
       "      <td>0</td>\n",
       "      <td>0</td>\n",
       "      <td>0</td>\n",
       "      <td>0</td>\n",
       "      <td>0</td>\n",
       "      <td>0</td>\n",
       "    </tr>\n",
       "    <tr>\n",
       "      <th>7</th>\n",
       "      <td>2</td>\n",
       "      <td>0</td>\n",
       "      <td>0</td>\n",
       "      <td>0</td>\n",
       "      <td>0</td>\n",
       "      <td>0</td>\n",
       "      <td>1</td>\n",
       "      <td>0</td>\n",
       "      <td>0</td>\n",
       "      <td>0</td>\n",
       "      <td>...</td>\n",
       "      <td>0</td>\n",
       "      <td>0</td>\n",
       "      <td>0</td>\n",
       "      <td>0</td>\n",
       "      <td>0</td>\n",
       "      <td>0</td>\n",
       "      <td>0</td>\n",
       "      <td>0</td>\n",
       "      <td>0</td>\n",
       "      <td>0</td>\n",
       "    </tr>\n",
       "    <tr>\n",
       "      <th>8</th>\n",
       "      <td>0</td>\n",
       "      <td>0</td>\n",
       "      <td>0</td>\n",
       "      <td>0</td>\n",
       "      <td>0</td>\n",
       "      <td>0</td>\n",
       "      <td>0</td>\n",
       "      <td>0</td>\n",
       "      <td>0</td>\n",
       "      <td>0</td>\n",
       "      <td>...</td>\n",
       "      <td>0</td>\n",
       "      <td>0</td>\n",
       "      <td>0</td>\n",
       "      <td>0</td>\n",
       "      <td>0</td>\n",
       "      <td>0</td>\n",
       "      <td>1</td>\n",
       "      <td>0</td>\n",
       "      <td>0</td>\n",
       "      <td>0</td>\n",
       "    </tr>\n",
       "    <tr>\n",
       "      <th>9</th>\n",
       "      <td>1</td>\n",
       "      <td>0</td>\n",
       "      <td>0</td>\n",
       "      <td>0</td>\n",
       "      <td>0</td>\n",
       "      <td>0</td>\n",
       "      <td>0</td>\n",
       "      <td>0</td>\n",
       "      <td>0</td>\n",
       "      <td>0</td>\n",
       "      <td>...</td>\n",
       "      <td>0</td>\n",
       "      <td>0</td>\n",
       "      <td>1</td>\n",
       "      <td>0</td>\n",
       "      <td>0</td>\n",
       "      <td>0</td>\n",
       "      <td>0</td>\n",
       "      <td>0</td>\n",
       "      <td>0</td>\n",
       "      <td>0</td>\n",
       "    </tr>\n",
       "  </tbody>\n",
       "</table>\n",
       "<p>6 rows × 492 columns</p>\n",
       "</div>"
      ],
      "text/plain": [
       "   1130  20  2024  abilities  about  absolute  absolutely  account  actually  \\\n",
       "4     0   0     0          0      0         0           0        0         0   \n",
       "5     0   0     0          0      0         0           0        1         0   \n",
       "6     0   0     0          0      0         0           0        0         0   \n",
       "7     2   0     0          0      0         0           1        0         0   \n",
       "8     0   0     0          0      0         0           0        0         0   \n",
       "9     1   0     0          0      0         0           0        0         0   \n",
       "\n",
       "   address  ...  world  worshiped  worth  worthy  would  years  yonko  you  \\\n",
       "4        1  ...      0          0      0       0      0      0      0    0   \n",
       "5        0  ...      0          0      0       0      0      0      0    1   \n",
       "6        0  ...      0          0      0       0      0      0      0    0   \n",
       "7        0  ...      0          0      0       0      0      0      0    0   \n",
       "8        0  ...      0          0      0       0      0      0      1    0   \n",
       "9        0  ...      0          0      1       0      0      0      0    0   \n",
       "\n",
       "   your  zoro  \n",
       "4     1     0  \n",
       "5     1     0  \n",
       "6     0     0  \n",
       "7     0     0  \n",
       "8     0     0  \n",
       "9     0     0  \n",
       "\n",
       "[6 rows x 492 columns]"
      ]
     },
     "execution_count": 297,
     "metadata": {},
     "output_type": "execute_result"
    }
   ],
   "source": [
    "cv_df = pd.DataFrame(counts.toarray(),columns=cv.get_feature_names_out())\n",
    "cv_df.iloc[4:10,:]"
   ]
  },
  {
   "cell_type": "code",
   "execution_count": 298,
   "id": "ac761520",
   "metadata": {},
   "outputs": [
    {
     "data": {
      "text/html": [
       "<div>\n",
       "<style scoped>\n",
       "    .dataframe tbody tr th:only-of-type {\n",
       "        vertical-align: middle;\n",
       "    }\n",
       "\n",
       "    .dataframe tbody tr th {\n",
       "        vertical-align: top;\n",
       "    }\n",
       "\n",
       "    .dataframe thead th {\n",
       "        text-align: right;\n",
       "    }\n",
       "</style>\n",
       "<table border=\"1\" class=\"dataframe\">\n",
       "  <thead>\n",
       "    <tr style=\"text-align: right;\">\n",
       "      <th></th>\n",
       "      <th>Term</th>\n",
       "      <th>Total Count</th>\n",
       "    </tr>\n",
       "  </thead>\n",
       "  <tbody>\n",
       "    <tr>\n",
       "      <th>0</th>\n",
       "      <td>the</td>\n",
       "      <td>92</td>\n",
       "    </tr>\n",
       "    <tr>\n",
       "      <th>1</th>\n",
       "      <td>to</td>\n",
       "      <td>50</td>\n",
       "    </tr>\n",
       "    <tr>\n",
       "      <th>2</th>\n",
       "      <td>and</td>\n",
       "      <td>43</td>\n",
       "    </tr>\n",
       "    <tr>\n",
       "      <th>3</th>\n",
       "      <td>of</td>\n",
       "      <td>35</td>\n",
       "    </tr>\n",
       "    <tr>\n",
       "      <th>4</th>\n",
       "      <td>is</td>\n",
       "      <td>34</td>\n",
       "    </tr>\n",
       "    <tr>\n",
       "      <th>5</th>\n",
       "      <td>loki</td>\n",
       "      <td>32</td>\n",
       "    </tr>\n",
       "    <tr>\n",
       "      <th>6</th>\n",
       "      <td>that</td>\n",
       "      <td>26</td>\n",
       "    </tr>\n",
       "    <tr>\n",
       "      <th>7</th>\n",
       "      <td>be</td>\n",
       "      <td>26</td>\n",
       "    </tr>\n",
       "    <tr>\n",
       "      <th>8</th>\n",
       "      <td>one</td>\n",
       "      <td>23</td>\n",
       "    </tr>\n",
       "    <tr>\n",
       "      <th>9</th>\n",
       "      <td>this</td>\n",
       "      <td>23</td>\n",
       "    </tr>\n",
       "  </tbody>\n",
       "</table>\n",
       "</div>"
      ],
      "text/plain": [
       "   Term  Total Count\n",
       "0   the           92\n",
       "1    to           50\n",
       "2   and           43\n",
       "3    of           35\n",
       "4    is           34\n",
       "5  loki           32\n",
       "6  that           26\n",
       "7    be           26\n",
       "8   one           23\n",
       "9  this           23"
      ]
     },
     "execution_count": 298,
     "metadata": {},
     "output_type": "execute_result"
    }
   ],
   "source": [
    "# Aggregate the counts across all documents for each term\n",
    "total_counts = cv_df.sum(axis=0)\n",
    "total_counts_df = total_counts.reset_index()\n",
    "total_counts_df.columns = ['Term', 'Total Count']\n",
    "total_counts_df.sort_values(by='Total Count', ascending=False).reset_index(drop=True).head(10)\n",
    "\n"
   ]
  },
  {
   "cell_type": "code",
   "execution_count": 299,
   "id": "1ec760e8",
   "metadata": {},
   "outputs": [
    {
     "data": {
      "text/html": [
       "<div>\n",
       "<style scoped>\n",
       "    .dataframe tbody tr th:only-of-type {\n",
       "        vertical-align: middle;\n",
       "    }\n",
       "\n",
       "    .dataframe tbody tr th {\n",
       "        vertical-align: top;\n",
       "    }\n",
       "\n",
       "    .dataframe thead th {\n",
       "        text-align: right;\n",
       "    }\n",
       "</style>\n",
       "<table border=\"1\" class=\"dataframe\">\n",
       "  <thead>\n",
       "    <tr style=\"text-align: right;\">\n",
       "      <th></th>\n",
       "      <th>Paragraph</th>\n",
       "      <th>Word Count</th>\n",
       "    </tr>\n",
       "  </thead>\n",
       "  <tbody>\n",
       "    <tr>\n",
       "      <th>10</th>\n",
       "      <td>10</td>\n",
       "      <td>127</td>\n",
       "    </tr>\n",
       "    <tr>\n",
       "      <th>16</th>\n",
       "      <td>16</td>\n",
       "      <td>124</td>\n",
       "    </tr>\n",
       "    <tr>\n",
       "      <th>12</th>\n",
       "      <td>12</td>\n",
       "      <td>120</td>\n",
       "    </tr>\n",
       "    <tr>\n",
       "      <th>14</th>\n",
       "      <td>14</td>\n",
       "      <td>99</td>\n",
       "    </tr>\n",
       "    <tr>\n",
       "      <th>19</th>\n",
       "      <td>19</td>\n",
       "      <td>94</td>\n",
       "    </tr>\n",
       "    <tr>\n",
       "      <th>18</th>\n",
       "      <td>18</td>\n",
       "      <td>91</td>\n",
       "    </tr>\n",
       "    <tr>\n",
       "      <th>20</th>\n",
       "      <td>20</td>\n",
       "      <td>83</td>\n",
       "    </tr>\n",
       "    <tr>\n",
       "      <th>13</th>\n",
       "      <td>13</td>\n",
       "      <td>79</td>\n",
       "    </tr>\n",
       "    <tr>\n",
       "      <th>7</th>\n",
       "      <td>7</td>\n",
       "      <td>76</td>\n",
       "    </tr>\n",
       "    <tr>\n",
       "      <th>9</th>\n",
       "      <td>9</td>\n",
       "      <td>71</td>\n",
       "    </tr>\n",
       "  </tbody>\n",
       "</table>\n",
       "</div>"
      ],
      "text/plain": [
       "    Paragraph  Word Count\n",
       "10         10         127\n",
       "16         16         124\n",
       "12         12         120\n",
       "14         14          99\n",
       "19         19          94\n",
       "18         18          91\n",
       "20         20          83\n",
       "13         13          79\n",
       "7           7          76\n",
       "9           9          71"
      ]
     },
     "execution_count": 299,
     "metadata": {},
     "output_type": "execute_result"
    }
   ],
   "source": [
    "para_word_count = cv_df.sum(axis=1)\n",
    "para_wc_df = para_word_count.reset_index()\n",
    "para_wc_df.columns = ['Paragraph', 'Word Count']\n",
    "para_wc_df.sort_values(by='Word Count', ascending=False).head(10)"
   ]
  },
  {
   "cell_type": "code",
   "execution_count": 300,
   "id": "a6b77b5a",
   "metadata": {},
   "outputs": [
    {
     "data": {
      "text/plain": [
       "count     43.000000\n",
       "mean      33.162791\n",
       "std       38.842742\n",
       "min        0.000000\n",
       "25%        5.000000\n",
       "50%       14.000000\n",
       "75%       58.000000\n",
       "max      127.000000\n",
       "Name: Word Count, dtype: float64"
      ]
     },
     "execution_count": 300,
     "metadata": {},
     "output_type": "execute_result"
    }
   ],
   "source": [
    "para_wc_df['Word Count'].describe()"
   ]
  },
  {
   "cell_type": "code",
   "execution_count": 301,
   "id": "2235b73a",
   "metadata": {},
   "outputs": [
    {
     "name": "stdout",
     "output_type": "stream",
     "text": [
      "Total Number of Words in Article:\n",
      "1426\n"
     ]
    }
   ],
   "source": [
    "tot_wc = para_wc_df['Word Count'].sum(axis=0)\n",
    "print(f'Total Number of Words in Article:\\n{tot_wc}')"
   ]
  },
  {
   "cell_type": "code",
   "execution_count": 303,
   "id": "77ba419d",
   "metadata": {},
   "outputs": [
    {
     "name": "stdout",
     "output_type": "stream",
     "text": [
      "6.417\n",
      "Estimated reading time from 5.7 to 7.1 minutes\n"
     ]
    }
   ],
   "source": [
    "# words per minute read time estimator:\n",
    "#upper/lower bound vector\n",
    "ublb = np.array([1/200, 1/250]) # conversation factor between 200 to 250 words per minute\n",
    "art = tot_wc * ublb\n",
    "art = art[::-1]\n",
    "print(art.mean())\n",
    "print(f'Estimated reading time from {round(art[0],1)} to {round(art[1],1)} minutes')"
   ]
  },
  {
   "cell_type": "markdown",
   "id": "9b84f2ff",
   "metadata": {},
   "source": [
    "# Estimating Read Times\n",
    "Take a random sample of length/complexity documents and time the users read time for each document. Model read time against length/complexity.\n",
    "\n",
    "Test for random repeat documents. How does a second reading within a certain time period effect read time?"
   ]
  }
 ],
 "metadata": {
  "kernelspec": {
   "display_name": "py-gdelt",
   "language": "python",
   "name": "py-gdelt"
  },
  "language_info": {
   "codemirror_mode": {
    "name": "ipython",
    "version": 3
   },
   "file_extension": ".py",
   "mimetype": "text/x-python",
   "name": "python",
   "nbconvert_exporter": "python",
   "pygments_lexer": "ipython3",
   "version": "3.11.7"
  }
 },
 "nbformat": 4,
 "nbformat_minor": 5
}
