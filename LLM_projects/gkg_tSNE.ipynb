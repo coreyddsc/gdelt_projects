{
 "cells": [
  {
   "cell_type": "code",
   "execution_count": 1,
   "metadata": {},
   "outputs": [
    {
     "name": "stdout",
     "output_type": "stream",
     "text": [
      "here\n"
     ]
    }
   ],
   "source": [
    "import gdelt # for gdelt searchs\n",
    "from gkg_tools import * # for gkg searchs\n",
    "# %run \"../gkg_tools.py\" # using magic command run to access the script from the parent directory\n",
    "\n",
    "import pandas as pd\n",
    "from sklearn.feature_extraction.text import TfidfVectorizer\n",
    "from sklearn.manifold import TSNE\n",
    "import matplotlib.pyplot as plt\n",
    "import seaborn as sns\n",
    "\n",
    "\n",
    "import nltk\n",
    "from nltk.tokenize import word_tokenize, sent_tokenize\n",
    "\n",
    "\n",
    "from transformers import pipeline, set_seed\n",
    "import torch\n",
    "\n",
    "# # GPU Timing (using GPU 1) else -1 for CPU\n",
    "device_id = 1 if torch.cuda.is_available() else -1 "
   ]
  },
  {
   "cell_type": "code",
   "execution_count": 2,
   "metadata": {},
   "outputs": [
    {
     "data": {
      "text/plain": [
       "(258, 38)"
      ]
     },
     "execution_count": 2,
     "metadata": {},
     "output_type": "execute_result"
    }
   ],
   "source": [
    "gkg = gkg_operator() # create a gkg operator\n",
    "manga = pd.read_csv('manga_soup_labeled.csv')\n",
    "manga = manga[manga['sourcecommonname'].map(manga['sourcecommonname'].value_counts()) > 5]\n",
    "# manga = manga.iloc[:,1:]\n",
    "gkg.get_gkg(data=manga) # stores in gkg.gkg_query as a dataframe\n",
    "gkg.parse_urls()\n",
    "# gkg.get_gkg(data=OP) # stores in gkg.gkg_query as a dataframe\n",
    "gkg.gkg_query.shape\n"
   ]
  },
  {
   "cell_type": "code",
   "execution_count": 3,
   "metadata": {},
   "outputs": [],
   "source": [
    "# import concurrent.futures\n",
    "# from concurrent.futures import TimeoutError\n",
    "# import pandas as pd\n",
    "# import numpy as np\n",
    "\n",
    "# # List to hold results for each URL\n",
    "# results = []\n",
    "\n",
    "# # Define the maximum time allowed per item\n",
    "# timeout = 10\n",
    "\n",
    "# # Iterate over each URL and fetch titles with a timeout\n",
    "# with concurrent.futures.ThreadPoolExecutor() as executor:\n",
    "#     for url in gkg.urls:\n",
    "#         # Submit the title-fetching task to the executor\n",
    "#         future = executor.submit(gkg.get_title, url, verbose=True)\n",
    "#         try:\n",
    "#             # Wait for the result with a timeout\n",
    "#             title = future.result(timeout=timeout)\n",
    "#             print(gkg.urls.index(url))\n",
    "#             results.append({\"url\": url, \"title\": title})\n",
    "#         except TimeoutError:\n",
    "#             print(f\"Timeout for URL {url}, moving to next item.\")\n",
    "#             # Append URL with a NaN title if it times out\n",
    "#             results.append({\"url\": url, \"title\": np.nan})\n",
    "\n",
    "# # Convert the results list to a DataFrame\n",
    "# df = pd.DataFrame(results)\n",
    "\n",
    "# print(df)\n"
   ]
  },
  {
   "cell_type": "code",
   "execution_count": 4,
   "metadata": {},
   "outputs": [],
   "source": [
    "# # merge df left onto manga by url\n",
    "# merged = pd.merge(manga, df[['url', 'title']], left_on='documentidentifier', right_on='url', how='inner').drop(columns='url')\n",
    "# merged.to_csv('manga_soup.csv')"
   ]
  },
  {
   "cell_type": "code",
   "execution_count": 5,
   "metadata": {},
   "outputs": [
    {
     "name": "stdout",
     "output_type": "stream",
     "text": [
      "No text bounds set for this URL: https://comicbook.com/anime/news/dandadan-anime-hideo-kojima/\n",
      "No text bounds set for this URL: https://comicbook.com/anime/news/my-hero-academia-season-7-finale/\n"
     ]
    }
   ],
   "source": [
    "gkg.get_all_soup(limit_output=5) # get the soup for all the urls in the dataframe\n",
    "# gkg.get_all_soup(limit_output='all')"
   ]
  },
  {
   "cell_type": "code",
   "execution_count": 6,
   "metadata": {},
   "outputs": [
    {
     "data": {
      "text/html": [
       "<div>\n",
       "<style scoped>\n",
       "    .dataframe tbody tr th:only-of-type {\n",
       "        vertical-align: middle;\n",
       "    }\n",
       "\n",
       "    .dataframe tbody tr th {\n",
       "        vertical-align: top;\n",
       "    }\n",
       "\n",
       "    .dataframe thead th {\n",
       "        text-align: right;\n",
       "    }\n",
       "</style>\n",
       "<table border=\"1\" class=\"dataframe\">\n",
       "  <thead>\n",
       "    <tr style=\"text-align: right;\">\n",
       "      <th></th>\n",
       "      <th>URL</th>\n",
       "      <th>Parsed URL</th>\n",
       "      <th>Titles</th>\n",
       "      <th>Headers</th>\n",
       "      <th>Paragraphs</th>\n",
       "    </tr>\n",
       "  </thead>\n",
       "  <tbody>\n",
       "    <tr>\n",
       "      <th>0</th>\n",
       "      <td>https://gamerant.com/one-piece-oda-reveals-leg...</td>\n",
       "      <td>one piece oda reveals legendary god elbaf</td>\n",
       "      <td>One Piece: Oda Reveals A Legendary God From Elbaf</td>\n",
       "      <td>[Game Rant, One Piece: Oda Reveals A Legendary...</td>\n",
       "      <td>[This article contains spoilers from One Piece...</td>\n",
       "    </tr>\n",
       "    <tr>\n",
       "      <th>1</th>\n",
       "      <td>https://comicbook.com/anime/news/dandadan-anim...</td>\n",
       "      <td>dandadan anime hideo kojima</td>\n",
       "      <td>Dandadan Premiere Earns Stamp of Approval From...</td>\n",
       "      <td>[Dandadan Premiere Earns Stamp of Approval Fro...</td>\n",
       "      <td>[Hideo Kojima has shared his praise for Dandad...</td>\n",
       "    </tr>\n",
       "    <tr>\n",
       "      <th>2</th>\n",
       "      <td>https://comicbook.com/anime/news/my-hero-acade...</td>\n",
       "      <td>my hero academia season 7 finale</td>\n",
       "      <td>My Hero Academia Season 7 Shares First Look at...</td>\n",
       "      <td>[My Hero Academia Season 7 Shares First Look a...</td>\n",
       "      <td>[My Hero Academia has shared the first look at...</td>\n",
       "    </tr>\n",
       "    <tr>\n",
       "      <th>3</th>\n",
       "      <td>https://screenrant.com/spy-x-family-hints-jeev...</td>\n",
       "      <td>spy x family hints jeeves related damian easy ...</td>\n",
       "      <td>Spy x Family Has Been Dropping Hints That A Ke...</td>\n",
       "      <td>[Screen Rant, Spy x Family Has Been Dropping H...</td>\n",
       "      <td>[Spy x Familyfeatures a cast of fascinating an...</td>\n",
       "    </tr>\n",
       "    <tr>\n",
       "      <th>4</th>\n",
       "      <td>https://gamerant.com/best-dongua-watch/</td>\n",
       "      <td>best dongua watch</td>\n",
       "      <td>Best Dongua To Watch</td>\n",
       "      <td>[Game Rant, 10 Best Dongua To Watch, Ranked, 1...</td>\n",
       "      <td>[Murim donghua adaptationis a genre that focus...</td>\n",
       "    </tr>\n",
       "  </tbody>\n",
       "</table>\n",
       "</div>"
      ],
      "text/plain": [
       "                                                 URL  \\\n",
       "0  https://gamerant.com/one-piece-oda-reveals-leg...   \n",
       "1  https://comicbook.com/anime/news/dandadan-anim...   \n",
       "2  https://comicbook.com/anime/news/my-hero-acade...   \n",
       "3  https://screenrant.com/spy-x-family-hints-jeev...   \n",
       "4            https://gamerant.com/best-dongua-watch/   \n",
       "\n",
       "                                          Parsed URL  \\\n",
       "0          one piece oda reveals legendary god elbaf   \n",
       "1                        dandadan anime hideo kojima   \n",
       "2                   my hero academia season 7 finale   \n",
       "3  spy x family hints jeeves related damian easy ...   \n",
       "4                                  best dongua watch   \n",
       "\n",
       "                                              Titles  \\\n",
       "0  One Piece: Oda Reveals A Legendary God From Elbaf   \n",
       "1  Dandadan Premiere Earns Stamp of Approval From...   \n",
       "2  My Hero Academia Season 7 Shares First Look at...   \n",
       "3  Spy x Family Has Been Dropping Hints That A Ke...   \n",
       "4                               Best Dongua To Watch   \n",
       "\n",
       "                                             Headers  \\\n",
       "0  [Game Rant, One Piece: Oda Reveals A Legendary...   \n",
       "1  [Dandadan Premiere Earns Stamp of Approval Fro...   \n",
       "2  [My Hero Academia Season 7 Shares First Look a...   \n",
       "3  [Screen Rant, Spy x Family Has Been Dropping H...   \n",
       "4  [Game Rant, 10 Best Dongua To Watch, Ranked, 1...   \n",
       "\n",
       "                                          Paragraphs  \n",
       "0  [This article contains spoilers from One Piece...  \n",
       "1  [Hideo Kojima has shared his praise for Dandad...  \n",
       "2  [My Hero Academia has shared the first look at...  \n",
       "3  [Spy x Familyfeatures a cast of fascinating an...  \n",
       "4  [Murim donghua adaptationis a genre that focus...  "
      ]
     },
     "execution_count": 6,
     "metadata": {},
     "output_type": "execute_result"
    }
   ],
   "source": [
    "gkg.all_soup_data"
   ]
  },
  {
   "cell_type": "code",
   "execution_count": 7,
   "metadata": {},
   "outputs": [],
   "source": [
    "# titles = gkg.all_soup_data['Titles'].tolist()\n",
    "titles = gkg.gkg_query['title'].tolist()\n",
    "# titles = gkg.parsed_urls"
   ]
  },
  {
   "cell_type": "code",
   "execution_count": 8,
   "metadata": {},
   "outputs": [
    {
     "data": {
      "text/html": [
       "<div>\n",
       "<style scoped>\n",
       "    .dataframe tbody tr th:only-of-type {\n",
       "        vertical-align: middle;\n",
       "    }\n",
       "\n",
       "    .dataframe tbody tr th {\n",
       "        vertical-align: top;\n",
       "    }\n",
       "\n",
       "    .dataframe thead th {\n",
       "        text-align: right;\n",
       "    }\n",
       "</style>\n",
       "<table border=\"1\" class=\"dataframe\">\n",
       "  <thead>\n",
       "    <tr style=\"text-align: right;\">\n",
       "      <th></th>\n",
       "      <th>10</th>\n",
       "      <th>100</th>\n",
       "      <th>1121</th>\n",
       "      <th>1128</th>\n",
       "      <th>1131</th>\n",
       "      <th>1132</th>\n",
       "      <th>11th</th>\n",
       "      <th>14</th>\n",
       "      <th>15</th>\n",
       "      <th>19</th>\n",
       "      <th>...</th>\n",
       "      <th>yokai</th>\n",
       "      <th>yoriichi</th>\n",
       "      <th>yoshinaga</th>\n",
       "      <th>young</th>\n",
       "      <th>yozakura</th>\n",
       "      <th>yuki</th>\n",
       "      <th>zeno</th>\n",
       "      <th>zone</th>\n",
       "      <th>zoro</th>\n",
       "      <th>ōgaki</th>\n",
       "    </tr>\n",
       "  </thead>\n",
       "  <tbody>\n",
       "    <tr>\n",
       "      <th>0</th>\n",
       "      <td>0.0</td>\n",
       "      <td>0.0</td>\n",
       "      <td>0.0</td>\n",
       "      <td>0.0</td>\n",
       "      <td>0.0</td>\n",
       "      <td>0.00000</td>\n",
       "      <td>0.0</td>\n",
       "      <td>0.0</td>\n",
       "      <td>0.0</td>\n",
       "      <td>0.0</td>\n",
       "      <td>...</td>\n",
       "      <td>0.0</td>\n",
       "      <td>0.0</td>\n",
       "      <td>0.0</td>\n",
       "      <td>0.0</td>\n",
       "      <td>0.0</td>\n",
       "      <td>0.0</td>\n",
       "      <td>0.0</td>\n",
       "      <td>0.0</td>\n",
       "      <td>0.0</td>\n",
       "      <td>0.0</td>\n",
       "    </tr>\n",
       "    <tr>\n",
       "      <th>1</th>\n",
       "      <td>0.0</td>\n",
       "      <td>0.0</td>\n",
       "      <td>0.0</td>\n",
       "      <td>0.0</td>\n",
       "      <td>0.0</td>\n",
       "      <td>0.00000</td>\n",
       "      <td>0.0</td>\n",
       "      <td>0.0</td>\n",
       "      <td>0.0</td>\n",
       "      <td>0.0</td>\n",
       "      <td>...</td>\n",
       "      <td>0.0</td>\n",
       "      <td>0.0</td>\n",
       "      <td>0.0</td>\n",
       "      <td>0.0</td>\n",
       "      <td>0.0</td>\n",
       "      <td>0.0</td>\n",
       "      <td>0.0</td>\n",
       "      <td>0.0</td>\n",
       "      <td>0.0</td>\n",
       "      <td>0.0</td>\n",
       "    </tr>\n",
       "    <tr>\n",
       "      <th>2</th>\n",
       "      <td>0.0</td>\n",
       "      <td>0.0</td>\n",
       "      <td>0.0</td>\n",
       "      <td>0.0</td>\n",
       "      <td>0.0</td>\n",
       "      <td>0.00000</td>\n",
       "      <td>0.0</td>\n",
       "      <td>0.0</td>\n",
       "      <td>0.0</td>\n",
       "      <td>0.0</td>\n",
       "      <td>...</td>\n",
       "      <td>0.0</td>\n",
       "      <td>0.0</td>\n",
       "      <td>0.0</td>\n",
       "      <td>0.0</td>\n",
       "      <td>0.0</td>\n",
       "      <td>0.0</td>\n",
       "      <td>0.0</td>\n",
       "      <td>0.0</td>\n",
       "      <td>0.0</td>\n",
       "      <td>0.0</td>\n",
       "    </tr>\n",
       "    <tr>\n",
       "      <th>3</th>\n",
       "      <td>0.0</td>\n",
       "      <td>0.0</td>\n",
       "      <td>0.0</td>\n",
       "      <td>0.0</td>\n",
       "      <td>0.0</td>\n",
       "      <td>0.00000</td>\n",
       "      <td>0.0</td>\n",
       "      <td>0.0</td>\n",
       "      <td>0.0</td>\n",
       "      <td>0.0</td>\n",
       "      <td>...</td>\n",
       "      <td>0.0</td>\n",
       "      <td>0.0</td>\n",
       "      <td>0.0</td>\n",
       "      <td>0.0</td>\n",
       "      <td>0.0</td>\n",
       "      <td>0.0</td>\n",
       "      <td>0.0</td>\n",
       "      <td>0.0</td>\n",
       "      <td>0.0</td>\n",
       "      <td>0.0</td>\n",
       "    </tr>\n",
       "    <tr>\n",
       "      <th>4</th>\n",
       "      <td>0.0</td>\n",
       "      <td>0.0</td>\n",
       "      <td>0.0</td>\n",
       "      <td>0.0</td>\n",
       "      <td>0.0</td>\n",
       "      <td>0.00000</td>\n",
       "      <td>0.0</td>\n",
       "      <td>0.0</td>\n",
       "      <td>0.0</td>\n",
       "      <td>0.0</td>\n",
       "      <td>...</td>\n",
       "      <td>0.0</td>\n",
       "      <td>0.0</td>\n",
       "      <td>0.0</td>\n",
       "      <td>0.0</td>\n",
       "      <td>0.0</td>\n",
       "      <td>0.0</td>\n",
       "      <td>0.0</td>\n",
       "      <td>0.0</td>\n",
       "      <td>0.0</td>\n",
       "      <td>0.0</td>\n",
       "    </tr>\n",
       "    <tr>\n",
       "      <th>...</th>\n",
       "      <td>...</td>\n",
       "      <td>...</td>\n",
       "      <td>...</td>\n",
       "      <td>...</td>\n",
       "      <td>...</td>\n",
       "      <td>...</td>\n",
       "      <td>...</td>\n",
       "      <td>...</td>\n",
       "      <td>...</td>\n",
       "      <td>...</td>\n",
       "      <td>...</td>\n",
       "      <td>...</td>\n",
       "      <td>...</td>\n",
       "      <td>...</td>\n",
       "      <td>...</td>\n",
       "      <td>...</td>\n",
       "      <td>...</td>\n",
       "      <td>...</td>\n",
       "      <td>...</td>\n",
       "      <td>...</td>\n",
       "      <td>...</td>\n",
       "    </tr>\n",
       "    <tr>\n",
       "      <th>253</th>\n",
       "      <td>0.0</td>\n",
       "      <td>0.0</td>\n",
       "      <td>0.0</td>\n",
       "      <td>0.0</td>\n",
       "      <td>0.0</td>\n",
       "      <td>0.00000</td>\n",
       "      <td>0.0</td>\n",
       "      <td>0.0</td>\n",
       "      <td>0.0</td>\n",
       "      <td>0.0</td>\n",
       "      <td>...</td>\n",
       "      <td>0.0</td>\n",
       "      <td>0.0</td>\n",
       "      <td>0.0</td>\n",
       "      <td>0.0</td>\n",
       "      <td>0.0</td>\n",
       "      <td>0.0</td>\n",
       "      <td>0.0</td>\n",
       "      <td>0.0</td>\n",
       "      <td>0.0</td>\n",
       "      <td>0.0</td>\n",
       "    </tr>\n",
       "    <tr>\n",
       "      <th>254</th>\n",
       "      <td>0.0</td>\n",
       "      <td>0.0</td>\n",
       "      <td>0.0</td>\n",
       "      <td>0.0</td>\n",
       "      <td>0.0</td>\n",
       "      <td>0.00000</td>\n",
       "      <td>0.0</td>\n",
       "      <td>0.0</td>\n",
       "      <td>0.0</td>\n",
       "      <td>0.0</td>\n",
       "      <td>...</td>\n",
       "      <td>0.0</td>\n",
       "      <td>0.0</td>\n",
       "      <td>0.0</td>\n",
       "      <td>0.0</td>\n",
       "      <td>0.0</td>\n",
       "      <td>0.0</td>\n",
       "      <td>0.0</td>\n",
       "      <td>0.0</td>\n",
       "      <td>0.0</td>\n",
       "      <td>0.0</td>\n",
       "    </tr>\n",
       "    <tr>\n",
       "      <th>255</th>\n",
       "      <td>0.0</td>\n",
       "      <td>0.0</td>\n",
       "      <td>0.0</td>\n",
       "      <td>0.0</td>\n",
       "      <td>0.0</td>\n",
       "      <td>0.00000</td>\n",
       "      <td>0.0</td>\n",
       "      <td>0.0</td>\n",
       "      <td>0.0</td>\n",
       "      <td>0.0</td>\n",
       "      <td>...</td>\n",
       "      <td>0.0</td>\n",
       "      <td>0.0</td>\n",
       "      <td>0.0</td>\n",
       "      <td>0.0</td>\n",
       "      <td>0.0</td>\n",
       "      <td>0.0</td>\n",
       "      <td>0.0</td>\n",
       "      <td>0.0</td>\n",
       "      <td>0.0</td>\n",
       "      <td>0.0</td>\n",
       "    </tr>\n",
       "    <tr>\n",
       "      <th>256</th>\n",
       "      <td>0.0</td>\n",
       "      <td>0.0</td>\n",
       "      <td>0.0</td>\n",
       "      <td>0.0</td>\n",
       "      <td>0.0</td>\n",
       "      <td>0.00000</td>\n",
       "      <td>0.0</td>\n",
       "      <td>0.0</td>\n",
       "      <td>0.0</td>\n",
       "      <td>0.0</td>\n",
       "      <td>...</td>\n",
       "      <td>0.0</td>\n",
       "      <td>0.0</td>\n",
       "      <td>0.0</td>\n",
       "      <td>0.0</td>\n",
       "      <td>0.0</td>\n",
       "      <td>0.0</td>\n",
       "      <td>0.0</td>\n",
       "      <td>0.0</td>\n",
       "      <td>0.0</td>\n",
       "      <td>0.0</td>\n",
       "    </tr>\n",
       "    <tr>\n",
       "      <th>257</th>\n",
       "      <td>0.0</td>\n",
       "      <td>0.0</td>\n",
       "      <td>0.0</td>\n",
       "      <td>0.0</td>\n",
       "      <td>0.0</td>\n",
       "      <td>0.35813</td>\n",
       "      <td>0.0</td>\n",
       "      <td>0.0</td>\n",
       "      <td>0.0</td>\n",
       "      <td>0.0</td>\n",
       "      <td>...</td>\n",
       "      <td>0.0</td>\n",
       "      <td>0.0</td>\n",
       "      <td>0.0</td>\n",
       "      <td>0.0</td>\n",
       "      <td>0.0</td>\n",
       "      <td>0.0</td>\n",
       "      <td>0.0</td>\n",
       "      <td>0.0</td>\n",
       "      <td>0.0</td>\n",
       "      <td>0.0</td>\n",
       "    </tr>\n",
       "  </tbody>\n",
       "</table>\n",
       "<p>258 rows × 785 columns</p>\n",
       "</div>"
      ],
      "text/plain": [
       "      10  100  1121  1128  1131     1132  11th   14   15   19  ...  yokai  \\\n",
       "0    0.0  0.0   0.0   0.0   0.0  0.00000   0.0  0.0  0.0  0.0  ...    0.0   \n",
       "1    0.0  0.0   0.0   0.0   0.0  0.00000   0.0  0.0  0.0  0.0  ...    0.0   \n",
       "2    0.0  0.0   0.0   0.0   0.0  0.00000   0.0  0.0  0.0  0.0  ...    0.0   \n",
       "3    0.0  0.0   0.0   0.0   0.0  0.00000   0.0  0.0  0.0  0.0  ...    0.0   \n",
       "4    0.0  0.0   0.0   0.0   0.0  0.00000   0.0  0.0  0.0  0.0  ...    0.0   \n",
       "..   ...  ...   ...   ...   ...      ...   ...  ...  ...  ...  ...    ...   \n",
       "253  0.0  0.0   0.0   0.0   0.0  0.00000   0.0  0.0  0.0  0.0  ...    0.0   \n",
       "254  0.0  0.0   0.0   0.0   0.0  0.00000   0.0  0.0  0.0  0.0  ...    0.0   \n",
       "255  0.0  0.0   0.0   0.0   0.0  0.00000   0.0  0.0  0.0  0.0  ...    0.0   \n",
       "256  0.0  0.0   0.0   0.0   0.0  0.00000   0.0  0.0  0.0  0.0  ...    0.0   \n",
       "257  0.0  0.0   0.0   0.0   0.0  0.35813   0.0  0.0  0.0  0.0  ...    0.0   \n",
       "\n",
       "     yoriichi  yoshinaga  young  yozakura  yuki  zeno  zone  zoro  ōgaki  \n",
       "0         0.0        0.0    0.0       0.0   0.0   0.0   0.0   0.0    0.0  \n",
       "1         0.0        0.0    0.0       0.0   0.0   0.0   0.0   0.0    0.0  \n",
       "2         0.0        0.0    0.0       0.0   0.0   0.0   0.0   0.0    0.0  \n",
       "3         0.0        0.0    0.0       0.0   0.0   0.0   0.0   0.0    0.0  \n",
       "4         0.0        0.0    0.0       0.0   0.0   0.0   0.0   0.0    0.0  \n",
       "..        ...        ...    ...       ...   ...   ...   ...   ...    ...  \n",
       "253       0.0        0.0    0.0       0.0   0.0   0.0   0.0   0.0    0.0  \n",
       "254       0.0        0.0    0.0       0.0   0.0   0.0   0.0   0.0    0.0  \n",
       "255       0.0        0.0    0.0       0.0   0.0   0.0   0.0   0.0    0.0  \n",
       "256       0.0        0.0    0.0       0.0   0.0   0.0   0.0   0.0    0.0  \n",
       "257       0.0        0.0    0.0       0.0   0.0   0.0   0.0   0.0    0.0  \n",
       "\n",
       "[258 rows x 785 columns]"
      ]
     },
     "execution_count": 8,
     "metadata": {},
     "output_type": "execute_result"
    }
   ],
   "source": [
    "tv = TfidfVectorizer(stop_words='english')\n",
    "f = tv.fit_transform(titles)\n",
    "tva = pd.DataFrame(f.toarray(),columns=tv.get_feature_names_out())\n",
    "tva"
   ]
  },
  {
   "cell_type": "code",
   "execution_count": 9,
   "metadata": {},
   "outputs": [
    {
     "data": {
      "text/plain": [
       "news       18.232378\n",
       "anime      17.476427\n",
       "piece      10.086910\n",
       "network     9.902907\n",
       "best        8.947961\n",
       "new         6.569507\n",
       "manga       6.359001\n",
       "hero        6.328673\n",
       "forum       6.243988\n",
       "dragon      6.101926\n",
       "dtype: float64"
      ]
     },
     "execution_count": 9,
     "metadata": {},
     "output_type": "execute_result"
    }
   ],
   "source": [
    "# Sort in ascending order\n",
    "sorted_sum = tva.sum(axis=0).sort_values(ascending=False)\n",
    "sorted_sum[:10]"
   ]
  },
  {
   "cell_type": "markdown",
   "metadata": {},
   "source": [
    "## Representing article titles using t-SNE\n",
    "\n",
    "### Using TFidf Vectorizer"
   ]
  },
  {
   "cell_type": "markdown",
   "metadata": {},
   "source": [
    "### Using `v2persons` Field with GKG Tools Vectorizer"
   ]
  },
  {
   "cell_type": "code",
   "execution_count": 16,
   "metadata": {},
   "outputs": [
    {
     "data": {
      "text/html": [
       "<div>\n",
       "<style scoped>\n",
       "    .dataframe tbody tr th:only-of-type {\n",
       "        vertical-align: middle;\n",
       "    }\n",
       "\n",
       "    .dataframe tbody tr th {\n",
       "        vertical-align: top;\n",
       "    }\n",
       "\n",
       "    .dataframe thead th {\n",
       "        text-align: right;\n",
       "    }\n",
       "</style>\n",
       "<table border=\"1\" class=\"dataframe\">\n",
       "  <thead>\n",
       "    <tr style=\"text-align: right;\">\n",
       "      <th></th>\n",
       "      <th>index</th>\n",
       "      <th>allnames_0</th>\n",
       "      <th>allnames_1</th>\n",
       "    </tr>\n",
       "  </thead>\n",
       "  <tbody>\n",
       "    <tr>\n",
       "      <th>0</th>\n",
       "      <td>0</td>\n",
       "      <td>Sun God Nika</td>\n",
       "      <td>47</td>\n",
       "    </tr>\n",
       "    <tr>\n",
       "      <th>1</th>\n",
       "      <td>0</td>\n",
       "      <td>Sun God</td>\n",
       "      <td>133</td>\n",
       "    </tr>\n",
       "    <tr>\n",
       "      <th>2</th>\n",
       "      <td>0</td>\n",
       "      <td>Elbaf Arc</td>\n",
       "      <td>351</td>\n",
       "    </tr>\n",
       "    <tr>\n",
       "      <th>3</th>\n",
       "      <td>0</td>\n",
       "      <td>One Piece</td>\n",
       "      <td>700</td>\n",
       "    </tr>\n",
       "    <tr>\n",
       "      <th>4</th>\n",
       "      <td>0</td>\n",
       "      <td>Sun God</td>\n",
       "      <td>918</td>\n",
       "    </tr>\n",
       "    <tr>\n",
       "      <th>...</th>\n",
       "      <td>...</td>\n",
       "      <td>...</td>\n",
       "      <td>...</td>\n",
       "    </tr>\n",
       "    <tr>\n",
       "      <th>5423</th>\n",
       "      <td>257</td>\n",
       "      <td>One Piece</td>\n",
       "      <td>7244</td>\n",
       "    </tr>\n",
       "    <tr>\n",
       "      <th>5424</th>\n",
       "      <td>257</td>\n",
       "      <td>Shonen Jump</td>\n",
       "      <td>7394</td>\n",
       "    </tr>\n",
       "    <tr>\n",
       "      <th>5425</th>\n",
       "      <td>257</td>\n",
       "      <td>Manga Plus</td>\n",
       "      <td>7413</td>\n",
       "    </tr>\n",
       "    <tr>\n",
       "      <th>5426</th>\n",
       "      <td>257</td>\n",
       "      <td>One Piece</td>\n",
       "      <td>7471</td>\n",
       "    </tr>\n",
       "    <tr>\n",
       "      <th>5427</th>\n",
       "      <td>257</td>\n",
       "      <td>One Piece</td>\n",
       "      <td>7486</td>\n",
       "    </tr>\n",
       "  </tbody>\n",
       "</table>\n",
       "<p>5428 rows × 3 columns</p>\n",
       "</div>"
      ],
      "text/plain": [
       "      index    allnames_0 allnames_1\n",
       "0         0  Sun God Nika         47\n",
       "1         0       Sun God        133\n",
       "2         0     Elbaf Arc        351\n",
       "3         0     One Piece        700\n",
       "4         0       Sun God        918\n",
       "...     ...           ...        ...\n",
       "5423    257     One Piece       7244\n",
       "5424    257   Shonen Jump       7394\n",
       "5425    257    Manga Plus       7413\n",
       "5426    257     One Piece       7471\n",
       "5427    257     One Piece       7486\n",
       "\n",
       "[5428 rows x 3 columns]"
      ]
     },
     "execution_count": 16,
     "metadata": {},
     "output_type": "execute_result"
    }
   ],
   "source": [
    "# gkg.parse_gkg_field('v2persons')\n",
    "# gkg.parse_gkg_field('persons')\n",
    "gkg.parse_gkg_field('allnames')\n",
    "# gkg.parse_gkg_field('organizations')\n",
    "# gkg.parse_gkg_field('v2themes')\n",
    "# gkg.parse_gkg_field('amounts')\n",
    "# gkg.parse_gkg_field('v2tone')"
   ]
  },
  {
   "cell_type": "code",
   "execution_count": 17,
   "metadata": {},
   "outputs": [
    {
     "name": "stderr",
     "output_type": "stream",
     "text": [
      "/home/cld1465/notebooks/gdelt/gkg_tools.py:167: FutureWarning:\n",
      "\n",
      "DataFrame.applymap has been deprecated. Use DataFrame.map instead.\n",
      "\n"
     ]
    },
    {
     "data": {
      "text/plain": [
       "array([[0., 0., 0., ..., 0., 0., 0.],\n",
       "       [0., 0., 0., ..., 0., 0., 0.],\n",
       "       [0., 0., 0., ..., 0., 0., 0.],\n",
       "       ...,\n",
       "       [0., 0., 0., ..., 0., 0., 0.],\n",
       "       [0., 0., 0., ..., 0., 0., 0.],\n",
       "       [0., 0., 0., ..., 0., 0., 0.]])"
      ]
     },
     "execution_count": 17,
     "metadata": {},
     "output_type": "execute_result"
    }
   ],
   "source": [
    "gkg.vectorize_field(weight='weighted')\n",
    "gkgvf_arr = gkg.vectorized_df.copy()\n",
    "gkgvf_arr.values"
   ]
  },
  {
   "cell_type": "code",
   "execution_count": 18,
   "metadata": {},
   "outputs": [
    {
     "data": {
      "image/png": "[encoded data removed]",
      "text/plain": [
       "<Figure size 1000x700 with 1 Axes>"
      ]
     },
     "metadata": {},
     "output_type": "display_data"
    }
   ],
   "source": [
    "# titles: List of article titles\n",
    "# tfidf_matrix: TF-IDF matrix used as input for t-SNE\n",
    "# labels: List of labels for each article\n",
    "labels = gkg.gkg_query['label']\n",
    "# Step 2: Use t-SNE to reduce dimensions\n",
    "tsne_model = TSNE(n_components=2, perplexity=30, random_state=42, n_iter=1000)\n",
    "# tsne_results = tsne_model.fit_transform(tfidf_matrix.toarray())\n",
    "tsne_results = tsne_model.fit_transform(gkgvf_arr.values)\n",
    "\n",
    "# Step 3: Create a DataFrame for the t-SNE results\n",
    "tsne_df = pd.DataFrame(tsne_results, columns=['TSNE1', 'TSNE2'])\n",
    "tsne_df['Title'] = titles  # Optionally add titles as a label\n",
    "tsne_df['Label'] = labels  # Add labels as a new column\n",
    "\n",
    "# Step 4: Visualize with seaborn, using 'Label' as the hue to color by labels\n",
    "plt.figure(figsize=(10, 7))\n",
    "sns.scatterplot(x='TSNE1', y='TSNE2', hue='Label', data=tsne_df, s=50)\n",
    "plt.title(\"t-SNE Clustering of Article Titles by GKG Persons Field (Weighted)\")\n",
    "plt.xlabel(\"t-SNE Dimension 1\")\n",
    "plt.ylabel(\"t-SNE Dimension 2\")\n",
    "plt.legend(title='Zero-Shot Labels', bbox_to_anchor=(1.05, 1), loc='upper left')\n",
    "plt.show()\n"
   ]
  },
  {
   "cell_type": "code",
   "execution_count": 19,
   "metadata": {},
   "outputs": [
    {
     "data": {
      "application/vnd.plotly.v1+json": {
       "config": {
        "plotlyServerURL": "https://plot.ly"
       },
       "data": [
        {
         "hovertemplate": "<b>%{hovertext}</b><br><br>t-SNE Dimension 1=%{x}<br>t-SNE Dimension 2=%{y}<extra></extra>",
         "hovertext": [
          "One Piece: Oda Reveals A Legendary God From Elbaf",
          "Dandadan Premiere Earns Stamp of Approval From Hideo Kojima - ComicBook.com",
          "My Hero Academia Season 7 Shares First Look at Finale - ComicBook.com",
          "Spy x Family Has Been Dropping Hints That A Key Character Is Related To Damian, But It's Easy To Miss",
          "Best Dongua To Watch",
          "Best Dongua To Watch",
          "Best Dongua To Watch",
          "Mission: Yozakura Family Anime Gets 2nd Season - News - Anime News Network",
          "Vampire Knight: Memories Manga Ends in 11th Volume - News - Anime News Network",
          "The 19-Panel Page In Absolute Batman #1 (Minor Spoilers)",
          "The 19-Panel Page In Absolute Batman #1 (Minor Spoilers)",
          "\"Nah, I'd Win\": Jujutsu Kaisen's Finale Revealed the True Meaning of Gojo's Most Famous Words",
          "NEWS: Vampire Knight: Memories Manga Ends in 11th Volume - Forum - Anime News Network",
          "NEWS: Fairy Tail: 100 Years Quest Anime Casts Nana Mizuki - Forum - Anime News Network",
          "NEWS: Oshi no Ko Anime Gets 3rd Season, Reveals More Cast [1/2] - Forum - Anime News Network",
          "Dragon Ball Super Was A Great Anime... But Its Return Will Be The Best Dragon Ball's Been Since the End Of Z",
          "Legendary Evangelion Director Will Return With the Remake of an Iconic Sci-Fi Anime",
          "Shonen Jump's Biggest Anime of the Summer Is Already Confirmed For a New Season",
          "Shonen Jump's Biggest Anime of the Summer Is Already Confirmed For a New Season",
          "Shonen Jump's Biggest Anime of the Summer Is Already Confirmed For a New Season",
          "Shonen Jump's Biggest Anime of the Summer Is Already Confirmed For a New Season",
          "Shonen Jump's Biggest Anime of the Summer Is Already Confirmed For a New Season",
          "Shonen Jump's Biggest Anime of the Summer Is Already Confirmed For a New Season",
          "Dandadan: Acrobatic Silky's Power and Abilities, Explained",
          "BLEACH: Who is Kazui Kurosaki? ",
          "Hunter X Hunter's Biggest Plot Twist Yet Makes One Character The Main Antagonist",
          "REVIEW: Dungeon People Anime Series Review - Forum - Anime News Network",
          "Tokyo Indie Games Summit Opens Indie Game Applications for March 2025 Kichijoji Event - Anime News Network",
          "JoJo's Bizarre Adventure: Who's the Strongest Joestar?",
          "Sakamoto Days Manga Goes on 1-Issue Break Due to Author's Health - News - Anime News Network",
          "TsumaSho - The Fall 2024 Anime Preview Guide - Anime News Network",
          "The Elusive Samurai Anime Gets 2nd Season - News - Anime News Network",
          "NEWS: The Elusive Samurai Anime Gets 2nd Season [1/2] - Forum - Anime News Network",
          "My Hero Academia: A Smile Worth Saving",
          "One Piece Chapter 1128: The Sun God Makes An Appearance",
          "One Piece Chapter 1128: The Sun God Makes An Appearance",
          "One Piece Chapter 1128: The Sun God Makes An Appearance",
          "One Piece Chapter 1128: The Sun God Makes An Appearance",
          "Oshi no Ko Season 3 Officially Announced",
          "Naruto's Entire Uchiha Family Tree, Explained",
          "Who Is Abura? Dragon Ball's Ancient Demon King Explained - ComicBook.com",
          "Dragon Ball Just Revealed the Secret Twist Behind the Dragon Balls - ComicBook.com",
          "One Piece: Oda Reveals Sanji's Improved Mastery Over Ifrit Jambe",
          "My Hero Academia Final Season Set for 2025; Teaser Released",
          "My Hero Academia Final Season Set for 2025; Teaser Released",
          "One Piece Fan Letter Anime Shares First Look Trailer - ComicBook.com",
          "NEWS: Rumiko Takahashi's Manga Top 230 Million Copies in Circulation Worldwide - Forum - Anime News Network",
          "INTEREST: Anime World Offers Condolences After Voice Actor Nobuyo Oyama's Passing, Part I - Forum - Anime News Network",
          "My Hero Academia Season 7 Really Saved the Anime - ComicBook.com",
          "NEWS: Live-Action Wingman Series Reveals 3 More Cast Members, New Trailer - Forum - Anime News Network",
          "Live-Action Wingman Series Reveals 3 More Cast Members, New Trailer - News - Anime News Network",
          "GTO Series Gets New Uchiyamada Spinoff Manga - News - Anime News Network",
          "NEWS: Sonic Wings/Aero Fighters Shooting Game Franchise Develops 1st New Game in 26 Years - Forum - Anime News Network",
          "Medaka Kuroiwa is Impervious to My Charms Reveals New Cast Hinaki Yano, Anime's January Debut in 4th Character Video (Updated) - News - Anime News Network",
          "Crunchyroll to Stream Medaka Kuroiwa is Impervious to My Charms, Toilet-Bound Hanako-kun 2nd Season, More in January - News - Anime News Network",
          "Soborou's 'Why the Hell are You Here, Teacher!?' Manga Ends on October 21 - News - Anime News Network",
          "Soborou's 'Why the Hell are You Here, Teacher!?' Manga Ends on October 21 - News - Anime News Network",
          "Soborou's 'Why the Hell are You Here, Teacher!?' Manga Ends on October 21 - News - Anime News Network",
          "One Piece Fans Get Devastating News With Anime Hiatus Announcement",
          "Hotly Anticipated Shonen Jump Anime Has One Of The Most Exciting Anime Romances In Years, & It's Not Close",
          "NEWS: Macross 7 Anime Gets New Audio Drama Launching on Wednesday - Forum - Anime News Network",
          "NEWS: Wind Breaker Season 2 Reveals Game, More Cast & Staff, April Debut in Videos - Forum - Anime News Network",
          "NEWS: GTO Series Gets New Uchiyamada Spinoff Manga - Forum - Anime News Network",
          "NEWS: Soborou's 'Why the Hell are You Here, Teacher!?' Manga Ends on October 21 - Forum - Anime News Network",
          "NEWS: Lockdown Zone: Level X 'Light Anime' Gets 2nd Season - Forum - Anime News Network",
          "One Piece Anime's Egghead Arc Resumes Next April - News - Anime News Network",
          "The Real Reason That One-Punch Man S-Class Hero Changed His Name Is Actually Hilarious, But Western Fans Missed It",
          "The Real Reason That One-Punch Man S-Class Hero Changed His Name Is Actually Hilarious, But Western Fans Missed It",
          "One Piece Anime Announces Historic Hiatus - ComicBook.com",
          "The Best Japanese Martial Arts Movies",
          "Incredible Isekai Puts The Best Twist On The Evil Overlord Trope The Genre Has Seen In Years",
          "Incredible Isekai Puts The Best Twist On The Evil Overlord Trope The Genre Has Seen In Years",
          "Incredible Isekai Puts The Best Twist On The Evil Overlord Trope The Genre Has Seen In Years",
          "Incredible Isekai Puts The Best Twist On The Evil Overlord Trope The Genre Has Seen In Years",
          "Incredible Isekai Puts The Best Twist On The Evil Overlord Trope The Genre Has Seen In Years",
          "Jujutsu Kaisen's Cursed Energy Explained: Why All Sorcerers Are In Japan & Why It Makes The Series Revolutionary",
          "Akira Toriyama's Swan Song Dragon Ball Daima Has Arrived",
          "JoJo's Bizarre Adventure Jotaro Cosplay Is Nothing Short Of Jaw Dropping In Incredible Shoot",
          "My Hero Academia: How Has Shirakumo's Death Affected Aizawa?",
          "10 Smartest JoJo’s Bizarre Adventure Characters",
          "JoJo's Bizarre Adventure Summary, Trailer, Cast, and More",
          "Toei Animation Provides Major One Piece Update Detailing Series Hiatus, Special Content - Anime News Network",
          "Boruto: Two Blue Vortex's Strongest Power Has An Unexpected Effect That Could Change The Series",
          "NEWS: Crunchyroll to Stream Medaka Kuroiwa is Impervious to My Charms, Toilet-Bound Hanako-kun 2nd S - Forum - Anime News Network",
          "Red Cat Ramen Anime Series Review - Review - Anime News Network",
          "Dandadan: Turbo Granny's Powers and Abilities, Explained",
          "Dandadan: Turbo Granny's Powers and Abilities, Explained",
          "Dandadan: Turbo Granny's Powers and Abilities, Explained",
          "Dandadan: Turbo Granny's Powers and Abilities, Explained",
          "My Hero Academia's Weakest Hero Is Actually Responsible For Defeating All for One",
          "One Piece Episode 1121 Reveals Garp's Outrageous Bounty",
          "One Piece Episode 1121 Reveals Garp's Outrageous Bounty",
          "One Piece Episode 1121 Reveals Garp's Outrageous Bounty",
          "The Next One Piece Episode Will Reveal The Winner Of Garp Vs. Kuzan",
          "Dan Da Dan: Okarun’s Turbo Granny Powers Explained",
          "One Piece: Why Zoro Could Open His Left Eye In Elbaf",
          "One Piece Anime To Go On Break Till 2025",
          "Jujutsu Kaisen's Gojo Vs. Demon Slayer's Yoriichi: Which Hero Truly Embodies The Concept Of Strongest Better?",
          "One Piece Fan Letter: 25th Anniversary Anime Work Set for Netflix",
          "One Piece: Oda Reveals The Real Identity Of Elbaf's Sun God",
          "REVIEW: Red Cat Ramen Anime Series Review - Forum - Anime News Network",
          "One Piece Orders Special Anime Remake for Fish-Man Island Arc - ComicBook.com",
          "Dragon Ball's Demon Realm Is Bigger Than Ever Expected - ComicBook.com",
          "Rooster Fighter Anime Announces Cast Members - News - Anime News Network",
          "Rooster Fighter Anime Announces Cast Members - News - Anime News Network",
          "Rooster Fighter Anime Announces Cast Members - News - Anime News Network",
          "Rooster Fighter Anime Announces Cast Members - News - Anime News Network",
          "Dragon Ball's Stephanie Naldony Breaks Silence on Returning to Goku After Nearly 15 Years - ComicBook.com",
          "Dan Da Dan Episode #4 Release Date & Time",
          "Dr. Stone Science Future Trailer Teases the Final Season's Debut: Watch -",
          "Dragon Ball Daima Is Ready to Put Some Respect on Gohan's Name - ComicBook.com",
          "Dragon Ball Daima Honors Late Creator Akira Toriyama With New Easter Egg: Watch - ComicBook.com",
          "One Piece: Sun God Loki Vs Sun God Nika, Explained",
          "Uzumaki's Azami Kurotani Comes To Life In Terrifying New Cosplay",
          "Uzumaki's Azami Kurotani Comes To Life In Terrifying New Cosplay",
          "Pirates Who Are Animals In One Piece:",
          "Viz Media Releases Akira Himekawa's Kamudo Manga Simultaneously in English - News - Anime News Network",
          "Hideaki Anno Reflects on Space Battleship Yamato Before Launching New Anime - Interest - Anime News Network",
          "Dragon Ball Daima Reunites Goku With One of His Strongest Weapons",
          "Yen Press Adds 3 Manga, Announces Release of Collector's Edition of Spice & Wolf Manga - News - Anime News Network",
          "Galaxy Express 999 Another Story: Ultimate Journey Manga Resumes After 2 Years - News - Anime News Network",
          "My Hero Academia's Trina Nishimura, Zeno Robinson, and Jessie Grelle Interview",
          "Fights That Are Better In The Bleach Anime",
          "Fights That Are Better In The Bleach Anime",
          "Dragon Ball DAIMA Introduces A Big Shenron Retcon That Changes His Relationship With Goku Forever",
          "Dragon Ball DAIMA Introduces A Big Shenron Retcon That Changes His Relationship With Goku Forever",
          "The Too-Perfect Saint: Tossed Aside by My Fiancé and Sold To Another Kingdom Novels Get 2025 TV Anime - News - Anime News Network",
          "NEWS: Goblin Slayer Author Kumo Kagyu's Blade & Bastard Light Novels Get Anime [1/2] - Forum - Anime News Network",
          "Goblin Slayer Author Kumo Kagyu's Blade & Bastard Light Novels Get Anime - News - Anime News Network",
          "Kujira Tokiwa's The Holy Grail of Eris Light Novels Gets Anime - News - Anime News Network",
          "I'm the Evil Lord of an Intergalactic Empire! Light Novels Get TV Anime Next April - News - Anime News Network",
          "BLEACH: The Structure of the Realms, Explained",
          "Incredible New My Hero Academia Deku & Bakugo Cosplay Is Nothing Short Of Staggering",
          "This Villainess Manhwa Was One of the Best of the Genre Until It Ruined Its Story",
          "This Villainess Manhwa Was One of the Best of the Genre Until It Ruined Its Story",
          "This Villainess Manhwa Was One of the Best of the Genre Until It Ruined Its Story",
          "This Villainess Manhwa Was One of the Best of the Genre Until It Ruined Its Story",
          "This Villainess Manhwa Was One of the Best of the Genre Until It Ruined Its Story",
          "This Villainess Manhwa Was One of the Best of the Genre Until It Ruined Its Story",
          "This Villainess Manhwa Was One of the Best of the Genre Until It Ruined Its Story",
          "One Piece: Fan Letter May Be the Anime's Best Episode Ever - ComicBook.com",
          "A Huge Twist in Jujutsu Kaisen's Ending Was Foreshadowed All the Way Back in the First Movie",
          "The Beginning After the End, a Top Webtoon, Is Getting an Anime",
          "The Beginning After the End, a Top Webtoon, Is Getting an Anime",
          "One Piece Manga Takes 2-Week Break So Creator Can Do Research - News - Anime News Network",
          "Kodansha to Publish Young Magazine USA Special Issue in August 2025 - News - Anime News Network",
          "Attack on Titan: Gabi’s Journey from Hated to Understood",
          "Dragon Ball Daima's Massive Namekian Revelation Was Foreshadowed Years In Advanced ",
          "Dandadan: Who are the Serpoians?",
          "New Jujutsu Kaisen Gojo Cosplay Brings Shonen's Most Iconic Mentor To Life With Anime-Accurate Look",
          "New Jujutsu Kaisen Gojo Cosplay Brings Shonen's Most Iconic Mentor To Life With Anime-Accurate Look",
          "One Piece: Oda Announces Two Major Projects During The Manga Break",
          "Naruto's Last Battle Is Actually a Genius Callback to Kishimoto's Original Idea for the Manga",
          "The Beginning After the End: Web Comic Gets Anime Adapt in 2025",
          "One Piece 1131: What To Expect From The Chapter",
          "One Piece Clip Shares First Look at Fish-Man Island Remake",
          "Dragon Ball Daima's Worst Wish Isn't Bad for Everybody",
          "Dan Da Dan Anime Makes A Small Change That Is A Big Improvement Over One Early Fight",
          "One Piece: Zoro's Post-Elbaf Power, Explained",
          "INTEREST: Magic: The Gathering Teases Final Fantasy Set - Forum - Anime News Network",
          "INTEREST: Magic: The Gathering Teases Final Fantasy Set - Forum - Anime News Network",
          "Bleach: Thousand-Year Blood War Just Gave Uryu a Brand-New Form",
          "Bleach: Thousand-Year Blood War Just Gave Uryu a Brand-New Form",
          "INTEREST: Venom Collaborates Again With Birth of Kitaro, Brave Bang Bravern! - Forum - Anime News Network",
          "NEWS: Kazuma Kawamura, Yuki Tanaka Perform Themes for I Left My A-Rank Party TV Anime - Forum - Anime News Network",
          "NEWS: Crazy Food Truck Manga Creator Rokurou Ōgaki Launches New Manga on November 1 - Forum - Anime News Network",
          "NEWS: Japan's Video Game Rankings, October 14-20 [2024-10-26] - Forum - Anime News Network",
          "Jujutsu Kaisen Doesn't Need a Sequel Anytime Soon",
          "Dragon Ball Z’s Second-Strongest Villain Is Still Alive in Super, But Most Fans Missed It",
          "Phases of the Moon Knight #3 Preview: Avatar Eclipse Alert",
          "\"Thanks To My Master\" - Boruto: Two Blue Vortex Continues One Of The Franchise's Best And Most Important Themes",
          "NEWS: Crunchyroll States it is Investigating Situation After Voice Actor Claims Company Opened His M [1/4] - Forum - Anime News Network",
          "NEWS: Idolm@ster Cinderella Girls U149 Manga Ends on November 9 - Forum - Anime News Network",
          "NEWS: Toshinori Sogabe's Yankee JK Kuzuhana-chan Gets Spinoff Manga - Forum - Anime News Network",
          "Dan Da Dan Officially Confirms It's Jujutsu Kaisen's True Successor By Revisiting The Hit Shonen's Big Theme",
          "NEWS: Report: Japan's Online Video Industry to Grow to 45% of Total Screen Revenue by 2029 - Forum - Anime News Network",
          "NEWS: Report: Japan's Online Video Industry to Grow to 45% of Total Screen Revenue by 2029 - Forum - Anime News Network",
          "NEWS: Report: Japan's Online Video Industry to Grow to 45% of Total Screen Revenue by 2029 - Forum - Anime News Network",
          "Even As A Non-Horror Fan, There's One Horrific Anime I Think Is An Absolute Masterpiece",
          "My Hero Academia: What In the World Happened to Izuku's Dad? - ComicBook.com",
          "My Hero Academia: What In the World Happened to Izuku's Dad? - ComicBook.com",
          "Demon Slayer: What if Muzan Had Never Killed the Kamado Family?",
          "Cute Venom x Anime Collaboration Art Drops Just in Time for the Movie Release",
          "Every Naruto Form Ranked From Weakest To Strongest",
          "10 Most Hateable Anime Characters Of All Time, Ranked",
          "Maki Minami's 'Hisureba, Hana' Manga Ends in December - News - Anime News Network",
          "Ayuko, Fumi Yoshinaga, More Launch New Manga in Cocohana Magazine - News - Anime News Network",
          "NEWS: Guilty Gear Strive Game Streams DLC Character Trailer for Queen Dizzy - Forum - Anime News Network",
          "NEWS: Ayuko, Fumi Yoshinaga, More Launch New Manga in Cocohana Magazine - Forum - Anime News Network",
          "NEWS: MAGES. Unveils Steins;Gate Re:Boot Game Slated for 2025 [1/2] - Forum - Anime News Network",
          "NEWS: Cute High Earth Defense Club Eternal Love! Anime Film Reveals More Returning Cast, Theme Song, - Forum - Anime News Network",
          "NEWS: Cute High Earth Defense Club Eternal Love! Anime Film Reveals More Returning Cast, Theme Song, - Forum - Anime News Network",
          "Attack On Titan's Controversial Time Skip Is Secretly Genius for One Reason I Can't Stop Thinking About",
          "One Piece: Why Luffy Will Destroy The World, Explained",
          "Ultraman: Rising Director Divulges Details About the Film's Sequel",
          "Who Are the World's Wealthiest Manga Creators?",
          "Ranma 1/2 E01: Here's Ranma & E02: I Hate Men Honor Original: Review",
          "10 Best Fruits Basket Fan Ships That Never Came True",
          "10 Best Fruits Basket Fan Ships That Never Came True",
          "One Piece: Why Loki Must Have A Logia Type Devil Fruit",
          "Fruits Basket's Famous Love Triangle Was Actually More Complicated Than Fans Think Because Of One Overlooked Character",
          "Fruits Basket's Famous Love Triangle Was Actually More Complicated Than Fans Think Because Of One Overlooked Character",
          "Fruits Basket's Famous Love Triangle Was Actually More Complicated Than Fans Think Because Of One Overlooked Character",
          "Fruits Basket's Famous Love Triangle Was Actually More Complicated Than Fans Think Because Of One Overlooked Character",
          "Fruits Basket's Famous Love Triangle Was Actually More Complicated Than Fans Think Because Of One Overlooked Character",
          "Fruits Basket's Famous Love Triangle Was Actually More Complicated Than Fans Think Because Of One Overlooked Character",
          "Bleach: Uryuu Receives One of the Best Anime Additions Yet",
          "Fall's Best Anime Shows Are Dominating Netflix Ratings",
          "Fall's Best Anime Shows Are Dominating Netflix Ratings",
          "Fall's Best Anime Shows Are Dominating Netflix Ratings",
          "Fall's Best Anime Shows Are Dominating Netflix Ratings",
          "Fall's Best Anime Shows Are Dominating Netflix Ratings",
          "10 Best Single Season Romance Anime",
          "Bleach: Uryuu's Vollstandig, Explained",
          "One Of The Best Romance Anime Of All Time Is An Underrated Masterpiece, But There's One Thing Holding It Back From Being Huge",
          "Who Is That Cat In Dan Da Dan's Opening & Closing? The Series' Mysterious Yokai Mascot Explained",
          "One Piece: Why Rocks D. Xebec May Be the Series' Most Important Character",
          "Attack on Titan: The Last Attack Will A New Post-Credit Scene",
          "My Hero Academia You’re Next Is Just One Big Homage",
          "My Hero Academia You’re Next Is Just One Big Homage",
          "One Piece's Creator Confirms The True Nature Of Luffy's Gear 5 Power, & It's So Much More Bizarre Than Fans Thought",
          "Kaiju No. 8's Kafka Springs to Life In Impressive New Cosplay",
          "Dragon Ball Daima Confirms It's a Love Letter To Akira Toriyama and GT With a Subtle Homage",
          "Latest Vivre Card Confirms One Major Detail About Koby's Haki",
          "My Hero Academia Still Has One Dangling Plot Thread After The Finale That Was A Major Missed Opportunity",
          "10 Jujutsu Kaisen Characters That Deserve Their Own Spin-Off",
          "After Years of Waiting, Bleach Just Brought Back Its Best Arrancar",
          "One Piece: Oda Reveals New Cross Guild Bounties",
          "Dragon Ball Daima’s First Real Fight Is a Major Change for the Franchise for One Subtle, Yet Huge, Reason",
          "Dragon Ball Daima’s First Real Fight Is a Major Change for the Franchise for One Subtle, Yet Huge, Reason",
          "Dragon Ball Daima’s First Real Fight Is a Major Change for the Franchise for One Subtle, Yet Huge, Reason",
          "One Piece: Loki's Connection To Shanks, Explained",
          "Sorry Chainsaw Man & Spy x Family, But 2022’s Most Important Anime Was A Sleeper Hit No One Expected To Get As Big As It Did",
          "One Piece: Oda Plans For A Major Reunion In Elbaf",
          "One Piece 1132: What To Expect From The Chapter",
          "One Piece 1132: What To Expect From The Chapter",
          "One Piece 1132: What To Expect From The Chapter",
          "One Piece 1132: What To Expect From The Chapter",
          "One Piece 1132: What To Expect From The Chapter",
          "10 Best Thorfinn Quotes In Vinland Saga That Prove Just How Deep The Series Is",
          "The Best Manga With Ghost Protagonists",
          "The Best Manga With Ghost Protagonists",
          "Solo Leveling's Sequel Highlights a MAJOR Problem in the Manhwa Industry",
          "Dragon Ball Daima Has A Prime Opportunity To Connect To Super's Next Big Frieza Saga Through A Powerful Forgotten Artifact",
          "Boruto: Two Blue Vortex Has Been Dropping Hints That One Major Character Has Been Living A Lie The Whole Time",
          "The Apothecary Diaries’ Successor Is a Beautiful New Manga That Gives Greek Mythology a Shojo Twist",
          "New Oshi no Ko Novel Announced ",
          "Deku Might Be My Hero Academia's Main Character, But The Series' True Hero Is Another Character",
          "Deku Might Be My Hero Academia's Main Character, But The Series' True Hero Is Another Character",
          "Deku Might Be My Hero Academia's Main Character, But The Series' True Hero Is Another Character",
          "If You Love Netflix's Sweet Home, You Need to Check Out the Terrifying Manwha That Inspired It",
          "Dragon Ball Daima’s Fights Are a Huge Change for the Franchise, & I for One, Am Absolutely Loving It",
          "Dragon Ball Daima’s Fights Are a Huge Change for the Franchise, & I for One, Am Absolutely Loving It",
          "Dragon Ball Daima’s Fights Are a Huge Change for the Franchise, & I for One, Am Absolutely Loving It",
          "Dragon Ball Daima’s Fights Are a Huge Change for the Franchise, & I for One, Am Absolutely Loving It",
          "Dragon Ball DAIMA is Fast Losing Steam",
          "Dan Da Dan's Unique Trait is the Real Reason The Fall's Biggest Anime Will SuvriveMuch  Longer Than Other Shonen",
          "One Piece Chapter 1132: Loki And Luffy Strike A Deal"
         ],
         "legendgroup": "",
         "marker": {
          "color": "#636efa",
          "symbol": "circle"
         },
         "mode": "markers",
         "name": "",
         "orientation": "v",
         "showlegend": false,
         "type": "scatter",
         "x": [
          129.89017,
          12.807016,
          155.65125,
          -74.77939,
          -41.70643,
          -2.2500498,
          40.47908,
          13.071323,
          -53.12604,
          -67.55264,
          -90.14607,
          -69.517914,
          -2.2360804,
          -2.2360804,
          -2.2360804,
          -8.9489155,
          28.629715,
          -61.7581,
          -14.165799,
          -1.3628124,
          -20.915228,
          -116.38581,
          -17.183693,
          -38.881203,
          -93.1525,
          -110.74833,
          19.59171,
          -2.2360804,
          28.581642,
          -31.014652,
          -42.984554,
          -68.7589,
          -2.2360804,
          146.07881,
          140.35812,
          -92.6098,
          75.58628,
          37.562187,
          -62.834156,
          -52.91821,
          31.672655,
          29.764265,
          67.844376,
          47.854206,
          -131.24866,
          119.05982,
          127.32132,
          112.78638,
          164.68153,
          119.14314,
          -82.34165,
          -160.12729,
          119.44599,
          119.14314,
          50.170155,
          -33.24645,
          25.937243,
          -31.185005,
          94.2673,
          7.411926,
          119.14314,
          119.14314,
          119.14314,
          119.14314,
          119.14314,
          116.212746,
          -30.521563,
          -53.254665,
          49.56764,
          -45.03006,
          -56.482517,
          -119.01051,
          -15.61362,
          37.263817,
          50.58129,
          -77.6186,
          -10.478276,
          41.702965,
          26.166685,
          51.62359,
          30.433205,
          119.14314,
          -105.94464,
          135.38542,
          -32.93806,
          -39.901257,
          75.58628,
          42.57857,
          -64.93297,
          127.033775,
          80.4906,
          3.2482405,
          -67.88453,
          87.42164,
          40.224224,
          71.54944,
          101.17457,
          -119.28793,
          -62.891663,
          144.13829,
          132.63623,
          93.5147,
          26.41164,
          -17.615185,
          -78.984375,
          47.339813,
          -42.206913,
          23.454628,
          31.350811,
          -69.05386,
          5.702051,
          22.089373,
          131.32767,
          -96.27465,
          -2.2500498,
          51.663292,
          22.31422,
          22.546453,
          35.385147,
          -32.467224,
          -86.052025,
          112.168495,
          -114.75839,
          28.612932,
          16.998775,
          3.2482405,
          -3.1288643,
          10.118231,
          -25.626026,
          7.0506005,
          -71.45222,
          -96.90808,
          122.3672,
          -123.936226,
          3.2482405,
          -17.183693,
          -2.1191099,
          -117.543526,
          -19.829304,
          73.1148,
          88.224785,
          -67.379166,
          165.225,
          75.58628,
          105.43634,
          12.592534,
          -50.205833,
          8.251481,
          -37.733334,
          -71.69638,
          0.33038154,
          108.1716,
          -139.99493,
          162.28639,
          114.91316,
          83.7848,
          44.81367,
          20.324718,
          69.04855,
          -29.791164,
          58.33547,
          -102.29514,
          76.07889,
          -29.791164,
          -29.791164,
          -29.791164,
          -29.791164,
          -51.124447,
          -19.576149,
          -15.603664,
          -112.7568,
          -29.791164,
          -29.791164,
          -29.791164,
          29.992397,
          -29.791164,
          -2.66966,
          4.5553474,
          -109.59228,
          36.164417,
          73.86866,
          -90.704285,
          -99.16758,
          0.62944055,
          -62.25864,
          -29.791164,
          -65.44143,
          -29.791164,
          -29.791164,
          -29.791164,
          -29.791164,
          75.58628,
          -42.160294,
          104.99466,
          -78.509735,
          -38.628067,
          -83.55746,
          -105.619255,
          -7.418444,
          110.40865,
          -96.117134,
          -31.185005,
          -31.185005,
          -49.487797,
          -65.66037,
          -54.253674,
          -148.962,
          -4.5348167,
          -61.549416,
          -31.185005,
          15.012708,
          -149.80127,
          -84.07396,
          -137.9283,
          11.437055,
          29.986467,
          75.56244,
          -157.82584,
          28.481527,
          -10.349257,
          107.625916,
          -15.61362,
          13.839537,
          -46.34052,
          49.31502,
          -55.979214,
          -100.37533,
          70.38083,
          4.6594043,
          -19.436714,
          75.58628,
          55.48714,
          -139.38364,
          85.32213,
          85.53285,
          36.223537,
          35.2922,
          37.791603,
          -31.185005,
          -78.192116,
          -51.195095,
          -133.40077,
          -26.195799,
          -17.98997,
          -130.2978,
          -109.506386,
          -20.377604,
          129.85408,
          29.146387,
          -79.15668,
          -55.00335,
          -8.857618,
          -15.61362,
          79.32081,
          4.5553474,
          -13.139148,
          19.41716,
          83.9202
         ],
         "xaxis": "x",
         "y": [
          -85.6633,
          -44.40955,
          -19.396955,
          29.416082,
          23.212673,
          8.13444,
          42.07891,
          40.082123,
          -27.92482,
          43.415363,
          41.773354,
          126.121414,
          32.111546,
          32.111546,
          32.111546,
          95.67694,
          -71.46125,
          -53.688015,
          17.093151,
          48.60862,
          -73.8481,
          -51.340385,
          -19.066332,
          -98.081375,
          -13.099112,
          -12.075474,
          -13.673036,
          32.111546,
          27.116833,
          -45.90795,
          -22.255203,
          -38.35863,
          32.111546,
          -24.126247,
          -78.78772,
          -90.45119,
          35.123363,
          -33.950783,
          19.963923,
          -1.7996163,
          149.24504,
          164.17746,
          -56.506706,
          -98.30705,
          23.87818,
          -47.548172,
          94.37304,
          94.58138,
          -16.543905,
          80.05109,
          58.517044,
          -23.153479,
          64.23454,
          80.05109,
          69.71025,
          84.18834,
          53.49861,
          -23.889135,
          -41.717354,
          -141.26439,
          80.05109,
          80.05109,
          80.05109,
          80.05109,
          80.05109,
          -32.30567,
          -136.93703,
          -14.711399,
          -54.76751,
          -52.111088,
          -86.097046,
          112.176155,
          -38.099148,
          67.311165,
          56.726444,
          131.28008,
          137.31815,
          15.700199,
          -114.10934,
          16.791868,
          16.332445,
          80.05109,
          -69.50948,
          83.717094,
          -61.4856,
          -113.89068,
          35.123363,
          96.05362,
          4.897166,
          22.066599,
          -6.3281255,
          -28.81078,
          -68.69165,
          0.43636045,
          -161.30331,
          -66.31205,
          -43.688076,
          -88.42473,
          60.23317,
          -86.262596,
          70.63654,
          -27.893457,
          155.08708,
          -57.39035,
          -19.803593,
          -4.5181775,
          -13.054962,
          123.92532,
          -170.89076,
          78.23635,
          107.17003,
          137.29805,
          -93.0305,
          -49.60595,
          8.13444,
          -72.950516,
          -29.331034,
          -76.21788,
          137.42705,
          55.67167,
          -69.249985,
          18.133415,
          77.273125,
          -49.152466,
          168.8694,
          -28.81078,
          -70.57044,
          66.41379,
          42.532074,
          77.257126,
          -87.49173,
          93.52935,
          12.47033,
          3.8757133,
          -28.81078,
          -19.066332,
          65.31491,
          -31.145489,
          52.70309,
          92.80141,
          -54.754585,
          133.56555,
          30.361774,
          35.123363,
          -32.621845,
          18.678572,
          -67.20532,
          127.0212,
          -78.8865,
          104.38466,
          -81.38319,
          -74.16436,
          56.38347,
          36.922592,
          -88.103676,
          -42.68958,
          142.29236,
          -166.53197,
          -76.45962,
          1.715503,
          -38.35467,
          71.66535,
          109.951515,
          1.715503,
          1.715503,
          1.715503,
          1.715503,
          95.155426,
          130.83084,
          -115.24855,
          48.070843,
          1.715503,
          1.715503,
          1.715503,
          -152.07353,
          1.715503,
          -51.60802,
          -8.088246,
          -112.9973,
          -103.3888,
          99.68726,
          23.618526,
          -30.12915,
          -101.353386,
          -107.68525,
          1.715503,
          -23.955244,
          1.715503,
          1.715503,
          1.715503,
          1.715503,
          35.123363,
          -37.465572,
          -56.050446,
          -52.20409,
          37.69527,
          -34.97382,
          9.0076065,
          -17.377113,
          -98.180336,
          5.2166266,
          -23.889135,
          -23.889135,
          49.24681,
          -9.654173,
          32.362717,
          -70.41175,
          113.530205,
          -134.55765,
          -23.889135,
          4.270359,
          3.0927787,
          -115.60515,
          -67.26577,
          -59.956097,
          -161.5658,
          -27.744423,
          29.311342,
          -96.44,
          -4.8723183,
          -18.028824,
          -38.099148,
          139.73288,
          69.637085,
          -113.35287,
          130.30902,
          83.855606,
          -4.349214,
          154.10602,
          -92.095825,
          35.123363,
          -24.44971,
          -40.116295,
          -76.013916,
          -99.09211,
          93.5356,
          -16.397654,
          54.820305,
          -23.889135,
          12.119856,
          12.483353,
          -16.00958,
          26.771679,
          109.989,
          51.11836,
          28.272247,
          71.532234,
          4.630248,
          -0.68359953,
          -3.4957714,
          -40.8624,
          160.18112,
          -38.099148,
          48.621815,
          -8.088246,
          148.54309,
          -155.05824,
          -90.84334
         ],
         "yaxis": "y"
        }
       ],
       "layout": {
        "legend": {
         "tracegroupgap": 0
        },
        "template": {
         "data": {
          "bar": [
           {
            "error_x": {
             "color": "#2a3f5f"
            },
            "error_y": {
             "color": "#2a3f5f"
            },
            "marker": {
             "line": {
              "color": "#E5ECF6",
              "width": 0.5
             },
             "pattern": {
              "fillmode": "overlay",
              "size": 10,
              "solidity": 0.2
             }
            },
            "type": "bar"
           }
          ],
          "barpolar": [
           {
            "marker": {
             "line": {
              "color": "#E5ECF6",
              "width": 0.5
             },
             "pattern": {
              "fillmode": "overlay",
              "size": 10,
              "solidity": 0.2
             }
            },
            "type": "barpolar"
           }
          ],
          "carpet": [
           {
            "aaxis": {
             "endlinecolor": "#2a3f5f",
             "gridcolor": "white",
             "linecolor": "white",
             "minorgridcolor": "white",
             "startlinecolor": "#2a3f5f"
            },
            "baxis": {
             "endlinecolor": "#2a3f5f",
             "gridcolor": "white",
             "linecolor": "white",
             "minorgridcolor": "white",
             "startlinecolor": "#2a3f5f"
            },
            "type": "carpet"
           }
          ],
          "choropleth": [
           {
            "colorbar": {
             "outlinewidth": 0,
             "ticks": ""
            },
            "type": "choropleth"
           }
          ],
          "contour": [
           {
            "colorbar": {
             "outlinewidth": 0,
             "ticks": ""
            },
            "colorscale": [
             [
              0,
              "#0d0887"
             ],
             [
              0.1111111111111111,
              "#46039f"
             ],
             [
              0.2222222222222222,
              "#7201a8"
             ],
             [
              0.3333333333333333,
              "#9c179e"
             ],
             [
              0.4444444444444444,
              "#bd3786"
             ],
             [
              0.5555555555555556,
              "#d8576b"
             ],
             [
              0.6666666666666666,
              "#ed7953"
             ],
             [
              0.7777777777777778,
              "#fb9f3a"
             ],
             [
              0.8888888888888888,
              "#fdca26"
             ],
             [
              1,
              "#f0f921"
             ]
            ],
            "type": "contour"
           }
          ],
          "contourcarpet": [
           {
            "colorbar": {
             "outlinewidth": 0,
             "ticks": ""
            },
            "type": "contourcarpet"
           }
          ],
          "heatmap": [
           {
            "colorbar": {
             "outlinewidth": 0,
             "ticks": ""
            },
            "colorscale": [
             [
              0,
              "#0d0887"
             ],
             [
              0.1111111111111111,
              "#46039f"
             ],
             [
              0.2222222222222222,
              "#7201a8"
             ],
             [
              0.3333333333333333,
              "#9c179e"
             ],
             [
              0.4444444444444444,
              "#bd3786"
             ],
             [
              0.5555555555555556,
              "#d8576b"
             ],
             [
              0.6666666666666666,
              "#ed7953"
             ],
             [
              0.7777777777777778,
              "#fb9f3a"
             ],
             [
              0.8888888888888888,
              "#fdca26"
             ],
             [
              1,
              "#f0f921"
             ]
            ],
            "type": "heatmap"
           }
          ],
          "heatmapgl": [
           {
            "colorbar": {
             "outlinewidth": 0,
             "ticks": ""
            },
            "colorscale": [
             [
              0,
              "#0d0887"
             ],
             [
              0.1111111111111111,
              "#46039f"
             ],
             [
              0.2222222222222222,
              "#7201a8"
             ],
             [
              0.3333333333333333,
              "#9c179e"
             ],
             [
              0.4444444444444444,
              "#bd3786"
             ],
             [
              0.5555555555555556,
              "#d8576b"
             ],
             [
              0.6666666666666666,
              "#ed7953"
             ],
             [
              0.7777777777777778,
              "#fb9f3a"
             ],
             [
              0.8888888888888888,
              "#fdca26"
             ],
             [
              1,
              "#f0f921"
             ]
            ],
            "type": "heatmapgl"
           }
          ],
          "histogram": [
           {
            "marker": {
             "pattern": {
              "fillmode": "overlay",
              "size": 10,
              "solidity": 0.2
             }
            },
            "type": "histogram"
           }
          ],
          "histogram2d": [
           {
            "colorbar": {
             "outlinewidth": 0,
             "ticks": ""
            },
            "colorscale": [
             [
              0,
              "#0d0887"
             ],
             [
              0.1111111111111111,
              "#46039f"
             ],
             [
              0.2222222222222222,
              "#7201a8"
             ],
             [
              0.3333333333333333,
              "#9c179e"
             ],
             [
              0.4444444444444444,
              "#bd3786"
             ],
             [
              0.5555555555555556,
              "#d8576b"
             ],
             [
              0.6666666666666666,
              "#ed7953"
             ],
             [
              0.7777777777777778,
              "#fb9f3a"
             ],
             [
              0.8888888888888888,
              "#fdca26"
             ],
             [
              1,
              "#f0f921"
             ]
            ],
            "type": "histogram2d"
           }
          ],
          "histogram2dcontour": [
           {
            "colorbar": {
             "outlinewidth": 0,
             "ticks": ""
            },
            "colorscale": [
             [
              0,
              "#0d0887"
             ],
             [
              0.1111111111111111,
              "#46039f"
             ],
             [
              0.2222222222222222,
              "#7201a8"
             ],
             [
              0.3333333333333333,
              "#9c179e"
             ],
             [
              0.4444444444444444,
              "#bd3786"
             ],
             [
              0.5555555555555556,
              "#d8576b"
             ],
             [
              0.6666666666666666,
              "#ed7953"
             ],
             [
              0.7777777777777778,
              "#fb9f3a"
             ],
             [
              0.8888888888888888,
              "#fdca26"
             ],
             [
              1,
              "#f0f921"
             ]
            ],
            "type": "histogram2dcontour"
           }
          ],
          "mesh3d": [
           {
            "colorbar": {
             "outlinewidth": 0,
             "ticks": ""
            },
            "type": "mesh3d"
           }
          ],
          "parcoords": [
           {
            "line": {
             "colorbar": {
              "outlinewidth": 0,
              "ticks": ""
             }
            },
            "type": "parcoords"
           }
          ],
          "pie": [
           {
            "automargin": true,
            "type": "pie"
           }
          ],
          "scatter": [
           {
            "fillpattern": {
             "fillmode": "overlay",
             "size": 10,
             "solidity": 0.2
            },
            "type": "scatter"
           }
          ],
          "scatter3d": [
           {
            "line": {
             "colorbar": {
              "outlinewidth": 0,
              "ticks": ""
             }
            },
            "marker": {
             "colorbar": {
              "outlinewidth": 0,
              "ticks": ""
             }
            },
            "type": "scatter3d"
           }
          ],
          "scattercarpet": [
           {
            "marker": {
             "colorbar": {
              "outlinewidth": 0,
              "ticks": ""
             }
            },
            "type": "scattercarpet"
           }
          ],
          "scattergeo": [
           {
            "marker": {
             "colorbar": {
              "outlinewidth": 0,
              "ticks": ""
             }
            },
            "type": "scattergeo"
           }
          ],
          "scattergl": [
           {
            "marker": {
             "colorbar": {
              "outlinewidth": 0,
              "ticks": ""
             }
            },
            "type": "scattergl"
           }
          ],
          "scattermapbox": [
           {
            "marker": {
             "colorbar": {
              "outlinewidth": 0,
              "ticks": ""
             }
            },
            "type": "scattermapbox"
           }
          ],
          "scatterpolar": [
           {
            "marker": {
             "colorbar": {
              "outlinewidth": 0,
              "ticks": ""
             }
            },
            "type": "scatterpolar"
           }
          ],
          "scatterpolargl": [
           {
            "marker": {
             "colorbar": {
              "outlinewidth": 0,
              "ticks": ""
             }
            },
            "type": "scatterpolargl"
           }
          ],
          "scatterternary": [
           {
            "marker": {
             "colorbar": {
              "outlinewidth": 0,
              "ticks": ""
             }
            },
            "type": "scatterternary"
           }
          ],
          "surface": [
           {
            "colorbar": {
             "outlinewidth": 0,
             "ticks": ""
            },
            "colorscale": [
             [
              0,
              "#0d0887"
             ],
             [
              0.1111111111111111,
              "#46039f"
             ],
             [
              0.2222222222222222,
              "#7201a8"
             ],
             [
              0.3333333333333333,
              "#9c179e"
             ],
             [
              0.4444444444444444,
              "#bd3786"
             ],
             [
              0.5555555555555556,
              "#d8576b"
             ],
             [
              0.6666666666666666,
              "#ed7953"
             ],
             [
              0.7777777777777778,
              "#fb9f3a"
             ],
             [
              0.8888888888888888,
              "#fdca26"
             ],
             [
              1,
              "#f0f921"
             ]
            ],
            "type": "surface"
           }
          ],
          "table": [
           {
            "cells": {
             "fill": {
              "color": "#EBF0F8"
             },
             "line": {
              "color": "white"
             }
            },
            "header": {
             "fill": {
              "color": "#C8D4E3"
             },
             "line": {
              "color": "white"
             }
            },
            "type": "table"
           }
          ]
         },
         "layout": {
          "annotationdefaults": {
           "arrowcolor": "#2a3f5f",
           "arrowhead": 0,
           "arrowwidth": 1
          },
          "autotypenumbers": "strict",
          "coloraxis": {
           "colorbar": {
            "outlinewidth": 0,
            "ticks": ""
           }
          },
          "colorscale": {
           "diverging": [
            [
             0,
             "#8e0152"
            ],
            [
             0.1,
             "#c51b7d"
            ],
            [
             0.2,
             "#de77ae"
            ],
            [
             0.3,
             "#f1b6da"
            ],
            [
             0.4,
             "#fde0ef"
            ],
            [
             0.5,
             "#f7f7f7"
            ],
            [
             0.6,
             "#e6f5d0"
            ],
            [
             0.7,
             "#b8e186"
            ],
            [
             0.8,
             "#7fbc41"
            ],
            [
             0.9,
             "#4d9221"
            ],
            [
             1,
             "#276419"
            ]
           ],
           "sequential": [
            [
             0,
             "#0d0887"
            ],
            [
             0.1111111111111111,
             "#46039f"
            ],
            [
             0.2222222222222222,
             "#7201a8"
            ],
            [
             0.3333333333333333,
             "#9c179e"
            ],
            [
             0.4444444444444444,
             "#bd3786"
            ],
            [
             0.5555555555555556,
             "#d8576b"
            ],
            [
             0.6666666666666666,
             "#ed7953"
            ],
            [
             0.7777777777777778,
             "#fb9f3a"
            ],
            [
             0.8888888888888888,
             "#fdca26"
            ],
            [
             1,
             "#f0f921"
            ]
           ],
           "sequentialminus": [
            [
             0,
             "#0d0887"
            ],
            [
             0.1111111111111111,
             "#46039f"
            ],
            [
             0.2222222222222222,
             "#7201a8"
            ],
            [
             0.3333333333333333,
             "#9c179e"
            ],
            [
             0.4444444444444444,
             "#bd3786"
            ],
            [
             0.5555555555555556,
             "#d8576b"
            ],
            [
             0.6666666666666666,
             "#ed7953"
            ],
            [
             0.7777777777777778,
             "#fb9f3a"
            ],
            [
             0.8888888888888888,
             "#fdca26"
            ],
            [
             1,
             "#f0f921"
            ]
           ]
          },
          "colorway": [
           "#636efa",
           "#EF553B",
           "#00cc96",
           "#ab63fa",
           "#FFA15A",
           "#19d3f3",
           "#FF6692",
           "#B6E880",
           "#FF97FF",
           "#FECB52"
          ],
          "font": {
           "color": "#2a3f5f"
          },
          "geo": {
           "bgcolor": "white",
           "lakecolor": "white",
           "landcolor": "#E5ECF6",
           "showlakes": true,
           "showland": true,
           "subunitcolor": "white"
          },
          "hoverlabel": {
           "align": "left"
          },
          "hovermode": "closest",
          "mapbox": {
           "style": "light"
          },
          "paper_bgcolor": "white",
          "plot_bgcolor": "#E5ECF6",
          "polar": {
           "angularaxis": {
            "gridcolor": "white",
            "linecolor": "white",
            "ticks": ""
           },
           "bgcolor": "#E5ECF6",
           "radialaxis": {
            "gridcolor": "white",
            "linecolor": "white",
            "ticks": ""
           }
          },
          "scene": {
           "xaxis": {
            "backgroundcolor": "#E5ECF6",
            "gridcolor": "white",
            "gridwidth": 2,
            "linecolor": "white",
            "showbackground": true,
            "ticks": "",
            "zerolinecolor": "white"
           },
           "yaxis": {
            "backgroundcolor": "#E5ECF6",
            "gridcolor": "white",
            "gridwidth": 2,
            "linecolor": "white",
            "showbackground": true,
            "ticks": "",
            "zerolinecolor": "white"
           },
           "zaxis": {
            "backgroundcolor": "#E5ECF6",
            "gridcolor": "white",
            "gridwidth": 2,
            "linecolor": "white",
            "showbackground": true,
            "ticks": "",
            "zerolinecolor": "white"
           }
          },
          "shapedefaults": {
           "line": {
            "color": "#2a3f5f"
           }
          },
          "ternary": {
           "aaxis": {
            "gridcolor": "white",
            "linecolor": "white",
            "ticks": ""
           },
           "baxis": {
            "gridcolor": "white",
            "linecolor": "white",
            "ticks": ""
           },
           "bgcolor": "#E5ECF6",
           "caxis": {
            "gridcolor": "white",
            "linecolor": "white",
            "ticks": ""
           }
          },
          "title": {
           "x": 0.05
          },
          "xaxis": {
           "automargin": true,
           "gridcolor": "white",
           "linecolor": "white",
           "ticks": "",
           "title": {
            "standoff": 15
           },
           "zerolinecolor": "white",
           "zerolinewidth": 2
          },
          "yaxis": {
           "automargin": true,
           "gridcolor": "white",
           "linecolor": "white",
           "ticks": "",
           "title": {
            "standoff": 15
           },
           "zerolinecolor": "white",
           "zerolinewidth": 2
          }
         }
        },
        "title": {
         "text": "t-SNE Clustering of Article Titles"
        },
        "xaxis": {
         "anchor": "y",
         "domain": [
          0,
          1
         ],
         "title": {
          "text": "t-SNE Dimension 1"
         }
        },
        "yaxis": {
         "anchor": "x",
         "domain": [
          0,
          1
         ],
         "title": {
          "text": "t-SNE Dimension 2"
         }
        }
       }
      },
      "text/html": [
       "<div>                            <div id=\"72d3542a-6ac0-4cee-b61d-40848dc01691\" class=\"plotly-graph-div\" style=\"height:525px; width:100%;\"></div>            <script type=\"text/javascript\">                require([\"plotly\"], function(Plotly) {                    window.PLOTLYENV=window.PLOTLYENV || {};                                    if (document.getElementById(\"72d3542a-6ac0-4cee-b61d-40848dc01691\")) {                    Plotly.newPlot(                        \"72d3542a-6ac0-4cee-b61d-40848dc01691\",                        [{\"hovertemplate\":\"<b>%{hovertext}</b><br><br>t-SNE Dimension 1=%{x}<br>t-SNE Dimension 2=%{y}<extra></extra>\",\"hovertext\":[\"One Piece: Oda Reveals A Legendary God From Elbaf\",\"Dandadan Premiere Earns Stamp of Approval From Hideo Kojima - ComicBook.com\",\"My Hero Academia Season 7 Shares First Look at Finale - ComicBook.com\",\"Spy x Family Has Been Dropping Hints That A Key Character Is Related To Damian, But It's Easy To Miss\",\"Best Dongua To Watch\",\"Best Dongua To Watch\",\"Best Dongua To Watch\",\"Mission: Yozakura Family Anime Gets 2nd Season - News - Anime News Network\",\"Vampire Knight: Memories Manga Ends in 11th Volume - News - Anime News Network\",\"The 19-Panel Page In Absolute Batman #1 (Minor Spoilers)\",\"The 19-Panel Page In Absolute Batman #1 (Minor Spoilers)\",\"\\\"Nah, I'd Win\\\": Jujutsu Kaisen's Finale Revealed the True Meaning of Gojo's Most Famous Words\",\"NEWS: Vampire Knight: Memories Manga Ends in 11th Volume - Forum - Anime News Network\",\"NEWS: Fairy Tail: 100 Years Quest Anime Casts Nana Mizuki - Forum - Anime News Network\",\"NEWS: Oshi no Ko Anime Gets 3rd Season, Reveals More Cast [1/2] - Forum - Anime News Network\",\"Dragon Ball Super Was A Great Anime... But Its Return Will Be The Best Dragon Ball's Been Since the End Of Z\",\"Legendary Evangelion Director Will Return With the Remake of an Iconic Sci-Fi Anime\",\"Shonen Jump's Biggest Anime of the Summer Is Already Confirmed For a New Season\",\"Shonen Jump's Biggest Anime of the Summer Is Already Confirmed For a New Season\",\"Shonen Jump's Biggest Anime of the Summer Is Already Confirmed For a New Season\",\"Shonen Jump's Biggest Anime of the Summer Is Already Confirmed For a New Season\",\"Shonen Jump's Biggest Anime of the Summer Is Already Confirmed For a New Season\",\"Shonen Jump's Biggest Anime of the Summer Is Already Confirmed For a New Season\",\"Dandadan: Acrobatic Silky's Power and Abilities, Explained\",\"BLEACH: Who is Kazui Kurosaki? \",\"Hunter X Hunter's Biggest Plot Twist Yet Makes One Character The Main Antagonist\",\"REVIEW: Dungeon People Anime Series Review - Forum - Anime News Network\",\"Tokyo Indie Games Summit Opens Indie Game Applications for March 2025 Kichijoji Event - Anime News Network\",\"JoJo's Bizarre Adventure: Who's the Strongest Joestar?\",\"Sakamoto Days Manga Goes on 1-Issue Break Due to Author's Health - News - Anime News Network\",\"TsumaSho - The Fall 2024 Anime Preview Guide - Anime News Network\",\"The Elusive Samurai Anime Gets 2nd Season - News - Anime News Network\",\"NEWS: The Elusive Samurai Anime Gets 2nd Season [1/2] - Forum - Anime News Network\",\"My Hero Academia: A Smile Worth Saving\",\"One Piece Chapter 1128: The Sun God Makes An Appearance\",\"One Piece Chapter 1128: The Sun God Makes An Appearance\",\"One Piece Chapter 1128: The Sun God Makes An Appearance\",\"One Piece Chapter 1128: The Sun God Makes An Appearance\",\"Oshi no Ko Season 3 Officially Announced\",\"Naruto's Entire Uchiha Family Tree, Explained\",\"Who Is Abura? Dragon Ball's Ancient Demon King Explained - ComicBook.com\",\"Dragon Ball Just Revealed the Secret Twist Behind the Dragon Balls - ComicBook.com\",\"One Piece: Oda Reveals Sanji's Improved Mastery Over Ifrit Jambe\",\"My Hero Academia Final Season Set for 2025; Teaser Released\",\"My Hero Academia Final Season Set for 2025; Teaser Released\",\"One Piece Fan Letter Anime Shares First Look Trailer - ComicBook.com\",\"NEWS: Rumiko Takahashi's Manga Top 230 Million Copies in Circulation Worldwide - Forum - Anime News Network\",\"INTEREST: Anime World Offers Condolences After Voice Actor Nobuyo Oyama's Passing, Part I - Forum - Anime News Network\",\"My Hero Academia Season 7 Really Saved the Anime - ComicBook.com\",\"NEWS: Live-Action Wingman Series Reveals 3 More Cast Members, New Trailer - Forum - Anime News Network\",\"Live-Action Wingman Series Reveals 3 More Cast Members, New Trailer - News - Anime News Network\",\"GTO Series Gets New Uchiyamada Spinoff Manga - News - Anime News Network\",\"NEWS: Sonic Wings/Aero Fighters Shooting Game Franchise Develops 1st New Game in 26 Years - Forum - Anime News Network\",\"Medaka Kuroiwa is Impervious to My Charms Reveals New Cast Hinaki Yano, Anime's January Debut in 4th Character Video (Updated) - News - Anime News Network\",\"Crunchyroll to Stream Medaka Kuroiwa is Impervious to My Charms, Toilet-Bound Hanako-kun 2nd Season, More in January - News - Anime News Network\",\"Soborou's 'Why the Hell are You Here, Teacher!?' Manga Ends on October 21 - News - Anime News Network\",\"Soborou's 'Why the Hell are You Here, Teacher!?' Manga Ends on October 21 - News - Anime News Network\",\"Soborou's 'Why the Hell are You Here, Teacher!?' Manga Ends on October 21 - News - Anime News Network\",\"One Piece Fans Get Devastating News With Anime Hiatus Announcement\",\"Hotly Anticipated Shonen Jump Anime Has One Of The Most Exciting Anime Romances In Years, & It's Not Close\",\"NEWS: Macross 7 Anime Gets New Audio Drama Launching on Wednesday - Forum - Anime News Network\",\"NEWS: Wind Breaker Season 2 Reveals Game, More Cast & Staff, April Debut in Videos - Forum - Anime News Network\",\"NEWS: GTO Series Gets New Uchiyamada Spinoff Manga - Forum - Anime News Network\",\"NEWS: Soborou's 'Why the Hell are You Here, Teacher!?' Manga Ends on October 21 - Forum - Anime News Network\",\"NEWS: Lockdown Zone: Level X 'Light Anime' Gets 2nd Season - Forum - Anime News Network\",\"One Piece Anime's Egghead Arc Resumes Next April - News - Anime News Network\",\"The Real Reason That One-Punch Man S-Class Hero Changed His Name Is Actually Hilarious, But Western Fans Missed It\",\"The Real Reason That One-Punch Man S-Class Hero Changed His Name Is Actually Hilarious, But Western Fans Missed It\",\"One Piece Anime Announces Historic Hiatus - ComicBook.com\",\"The Best Japanese Martial Arts Movies\",\"Incredible Isekai Puts The Best Twist On The Evil Overlord Trope The Genre Has Seen In Years\",\"Incredible Isekai Puts The Best Twist On The Evil Overlord Trope The Genre Has Seen In Years\",\"Incredible Isekai Puts The Best Twist On The Evil Overlord Trope The Genre Has Seen In Years\",\"Incredible Isekai Puts The Best Twist On The Evil Overlord Trope The Genre Has Seen In Years\",\"Incredible Isekai Puts The Best Twist On The Evil Overlord Trope The Genre Has Seen In Years\",\"Jujutsu Kaisen's Cursed Energy Explained: Why All Sorcerers Are In Japan & Why It Makes The Series Revolutionary\",\"Akira Toriyama's Swan Song Dragon Ball Daima Has Arrived\",\"JoJo's Bizarre Adventure Jotaro Cosplay Is Nothing Short Of Jaw Dropping In Incredible Shoot\",\"My Hero Academia: How Has Shirakumo's Death Affected Aizawa?\",\"10 Smartest JoJo’s Bizarre Adventure Characters\",\"JoJo's Bizarre Adventure Summary, Trailer, Cast, and More\",\"Toei Animation Provides Major One Piece Update Detailing Series Hiatus, Special Content - Anime News Network\",\"Boruto: Two Blue Vortex's Strongest Power Has An Unexpected Effect That Could Change The Series\",\"NEWS: Crunchyroll to Stream Medaka Kuroiwa is Impervious to My Charms, Toilet-Bound Hanako-kun 2nd S - Forum - Anime News Network\",\"Red Cat Ramen Anime Series Review - Review - Anime News Network\",\"Dandadan: Turbo Granny's Powers and Abilities, Explained\",\"Dandadan: Turbo Granny's Powers and Abilities, Explained\",\"Dandadan: Turbo Granny's Powers and Abilities, Explained\",\"Dandadan: Turbo Granny's Powers and Abilities, Explained\",\"My Hero Academia's Weakest Hero Is Actually Responsible For Defeating All for One\",\"One Piece Episode 1121 Reveals Garp's Outrageous Bounty\",\"One Piece Episode 1121 Reveals Garp's Outrageous Bounty\",\"One Piece Episode 1121 Reveals Garp's Outrageous Bounty\",\"The Next One Piece Episode Will Reveal The Winner Of Garp Vs. Kuzan\",\"Dan Da Dan: Okarun’s Turbo Granny Powers Explained\",\"One Piece: Why Zoro Could Open His Left Eye In Elbaf\",\"One Piece Anime To Go On Break Till 2025\",\"Jujutsu Kaisen's Gojo Vs. Demon Slayer's Yoriichi: Which Hero Truly Embodies The Concept Of Strongest Better?\",\"One Piece Fan Letter: 25th Anniversary Anime Work Set for Netflix\",\"One Piece: Oda Reveals The Real Identity Of Elbaf's Sun God\",\"REVIEW: Red Cat Ramen Anime Series Review - Forum - Anime News Network\",\"One Piece Orders Special Anime Remake for Fish-Man Island Arc - ComicBook.com\",\"Dragon Ball's Demon Realm Is Bigger Than Ever Expected - ComicBook.com\",\"Rooster Fighter Anime Announces Cast Members - News - Anime News Network\",\"Rooster Fighter Anime Announces Cast Members - News - Anime News Network\",\"Rooster Fighter Anime Announces Cast Members - News - Anime News Network\",\"Rooster Fighter Anime Announces Cast Members - News - Anime News Network\",\"Dragon Ball's Stephanie Naldony Breaks Silence on Returning to Goku After Nearly 15 Years - ComicBook.com\",\"Dan Da Dan Episode #4 Release Date & Time\",\"Dr. Stone Science Future Trailer Teases the Final Season's Debut: Watch -\",\"Dragon Ball Daima Is Ready to Put Some Respect on Gohan's Name - ComicBook.com\",\"Dragon Ball Daima Honors Late Creator Akira Toriyama With New Easter Egg: Watch - ComicBook.com\",\"One Piece: Sun God Loki Vs Sun God Nika, Explained\",\"Uzumaki's Azami Kurotani Comes To Life In Terrifying New Cosplay\",\"Uzumaki's Azami Kurotani Comes To Life In Terrifying New Cosplay\",\"Pirates Who Are Animals In One Piece:\",\"Viz Media Releases Akira Himekawa's Kamudo Manga Simultaneously in English - News - Anime News Network\",\"Hideaki Anno Reflects on Space Battleship Yamato Before Launching New Anime - Interest - Anime News Network\",\"Dragon Ball Daima Reunites Goku With One of His Strongest Weapons\",\"Yen Press Adds 3 Manga, Announces Release of Collector's Edition of Spice & Wolf Manga - News - Anime News Network\",\"Galaxy Express 999 Another Story: Ultimate Journey Manga Resumes After 2 Years - News - Anime News Network\",\"My Hero Academia's Trina Nishimura, Zeno Robinson, and Jessie Grelle Interview\",\"Fights That Are Better In The Bleach Anime\",\"Fights That Are Better In The Bleach Anime\",\"Dragon Ball DAIMA Introduces A Big Shenron Retcon That Changes His Relationship With Goku Forever\",\"Dragon Ball DAIMA Introduces A Big Shenron Retcon That Changes His Relationship With Goku Forever\",\"The Too-Perfect Saint: Tossed Aside by My Fiancé and Sold To Another Kingdom Novels Get 2025 TV Anime - News - Anime News Network\",\"NEWS: Goblin Slayer Author Kumo Kagyu's Blade & Bastard Light Novels Get Anime [1/2] - Forum - Anime News Network\",\"Goblin Slayer Author Kumo Kagyu's Blade & Bastard Light Novels Get Anime - News - Anime News Network\",\"Kujira Tokiwa's The Holy Grail of Eris Light Novels Gets Anime - News - Anime News Network\",\"I'm the Evil Lord of an Intergalactic Empire! Light Novels Get TV Anime Next April - News - Anime News Network\",\"BLEACH: The Structure of the Realms, Explained\",\"Incredible New My Hero Academia Deku & Bakugo Cosplay Is Nothing Short Of Staggering\",\"This Villainess Manhwa Was One of the Best of the Genre Until It Ruined Its Story\",\"This Villainess Manhwa Was One of the Best of the Genre Until It Ruined Its Story\",\"This Villainess Manhwa Was One of the Best of the Genre Until It Ruined Its Story\",\"This Villainess Manhwa Was One of the Best of the Genre Until It Ruined Its Story\",\"This Villainess Manhwa Was One of the Best of the Genre Until It Ruined Its Story\",\"This Villainess Manhwa Was One of the Best of the Genre Until It Ruined Its Story\",\"This Villainess Manhwa Was One of the Best of the Genre Until It Ruined Its Story\",\"One Piece: Fan Letter May Be the Anime's Best Episode Ever - ComicBook.com\",\"A Huge Twist in Jujutsu Kaisen's Ending Was Foreshadowed All the Way Back in the First Movie\",\"The Beginning After the End, a Top Webtoon, Is Getting an Anime\",\"The Beginning After the End, a Top Webtoon, Is Getting an Anime\",\"One Piece Manga Takes 2-Week Break So Creator Can Do Research - News - Anime News Network\",\"Kodansha to Publish Young Magazine USA Special Issue in August 2025 - News - Anime News Network\",\"Attack on Titan: Gabi’s Journey from Hated to Understood\",\"Dragon Ball Daima's Massive Namekian Revelation Was Foreshadowed Years In Advanced \",\"Dandadan: Who are the Serpoians?\",\"New Jujutsu Kaisen Gojo Cosplay Brings Shonen's Most Iconic Mentor To Life With Anime-Accurate Look\",\"New Jujutsu Kaisen Gojo Cosplay Brings Shonen's Most Iconic Mentor To Life With Anime-Accurate Look\",\"One Piece: Oda Announces Two Major Projects During The Manga Break\",\"Naruto's Last Battle Is Actually a Genius Callback to Kishimoto's Original Idea for the Manga\",\"The Beginning After the End: Web Comic Gets Anime Adapt in 2025\",\"One Piece 1131: What To Expect From The Chapter\",\"One Piece Clip Shares First Look at Fish-Man Island Remake\",\"Dragon Ball Daima's Worst Wish Isn't Bad for Everybody\",\"Dan Da Dan Anime Makes A Small Change That Is A Big Improvement Over One Early Fight\",\"One Piece: Zoro's Post-Elbaf Power, Explained\",\"INTEREST: Magic: The Gathering Teases Final Fantasy Set - Forum - Anime News Network\",\"INTEREST: Magic: The Gathering Teases Final Fantasy Set - Forum - Anime News Network\",\"Bleach: Thousand-Year Blood War Just Gave Uryu a Brand-New Form\",\"Bleach: Thousand-Year Blood War Just Gave Uryu a Brand-New Form\",\"INTEREST: Venom Collaborates Again With Birth of Kitaro, Brave Bang Bravern! - Forum - Anime News Network\",\"NEWS: Kazuma Kawamura, Yuki Tanaka Perform Themes for I Left My A-Rank Party TV Anime - Forum - Anime News Network\",\"NEWS: Crazy Food Truck Manga Creator Rokurou Ōgaki Launches New Manga on November 1 - Forum - Anime News Network\",\"NEWS: Japan's Video Game Rankings, October 14-20 [2024-10-26] - Forum - Anime News Network\",\"Jujutsu Kaisen Doesn't Need a Sequel Anytime Soon\",\"Dragon Ball Z’s Second-Strongest Villain Is Still Alive in Super, But Most Fans Missed It\",\"Phases of the Moon Knight #3 Preview: Avatar Eclipse Alert\",\"\\\"Thanks To My Master\\\" - Boruto: Two Blue Vortex Continues One Of The Franchise's Best And Most Important Themes\",\"NEWS: Crunchyroll States it is Investigating Situation After Voice Actor Claims Company Opened His M [1/4] - Forum - Anime News Network\",\"NEWS: Idolm@ster Cinderella Girls U149 Manga Ends on November 9 - Forum - Anime News Network\",\"NEWS: Toshinori Sogabe's Yankee JK Kuzuhana-chan Gets Spinoff Manga - Forum - Anime News Network\",\"Dan Da Dan Officially Confirms It's Jujutsu Kaisen's True Successor By Revisiting The Hit Shonen's Big Theme\",\"NEWS: Report: Japan's Online Video Industry to Grow to 45% of Total Screen Revenue by 2029 - Forum - Anime News Network\",\"NEWS: Report: Japan's Online Video Industry to Grow to 45% of Total Screen Revenue by 2029 - Forum - Anime News Network\",\"NEWS: Report: Japan's Online Video Industry to Grow to 45% of Total Screen Revenue by 2029 - Forum - Anime News Network\",\"Even As A Non-Horror Fan, There's One Horrific Anime I Think Is An Absolute Masterpiece\",\"My Hero Academia: What In the World Happened to Izuku's Dad? - ComicBook.com\",\"My Hero Academia: What In the World Happened to Izuku's Dad? - ComicBook.com\",\"Demon Slayer: What if Muzan Had Never Killed the Kamado Family?\",\"Cute Venom x Anime Collaboration Art Drops Just in Time for the Movie Release\",\"Every Naruto Form Ranked From Weakest To Strongest\",\"10 Most Hateable Anime Characters Of All Time, Ranked\",\"Maki Minami's 'Hisureba, Hana' Manga Ends in December - News - Anime News Network\",\"Ayuko, Fumi Yoshinaga, More Launch New Manga in Cocohana Magazine - News - Anime News Network\",\"NEWS: Guilty Gear Strive Game Streams DLC Character Trailer for Queen Dizzy - Forum - Anime News Network\",\"NEWS: Ayuko, Fumi Yoshinaga, More Launch New Manga in Cocohana Magazine - Forum - Anime News Network\",\"NEWS: MAGES. Unveils Steins;Gate Re:Boot Game Slated for 2025 [1/2] - Forum - Anime News Network\",\"NEWS: Cute High Earth Defense Club Eternal Love! Anime Film Reveals More Returning Cast, Theme Song, - Forum - Anime News Network\",\"NEWS: Cute High Earth Defense Club Eternal Love! Anime Film Reveals More Returning Cast, Theme Song, - Forum - Anime News Network\",\"Attack On Titan's Controversial Time Skip Is Secretly Genius for One Reason I Can't Stop Thinking About\",\"One Piece: Why Luffy Will Destroy The World, Explained\",\"Ultraman: Rising Director Divulges Details About the Film's Sequel\",\"Who Are the World's Wealthiest Manga Creators?\",\"Ranma 1/2 E01: Here's Ranma & E02: I Hate Men Honor Original: Review\",\"10 Best Fruits Basket Fan Ships That Never Came True\",\"10 Best Fruits Basket Fan Ships That Never Came True\",\"One Piece: Why Loki Must Have A Logia Type Devil Fruit\",\"Fruits Basket's Famous Love Triangle Was Actually More Complicated Than Fans Think Because Of One Overlooked Character\",\"Fruits Basket's Famous Love Triangle Was Actually More Complicated Than Fans Think Because Of One Overlooked Character\",\"Fruits Basket's Famous Love Triangle Was Actually More Complicated Than Fans Think Because Of One Overlooked Character\",\"Fruits Basket's Famous Love Triangle Was Actually More Complicated Than Fans Think Because Of One Overlooked Character\",\"Fruits Basket's Famous Love Triangle Was Actually More Complicated Than Fans Think Because Of One Overlooked Character\",\"Fruits Basket's Famous Love Triangle Was Actually More Complicated Than Fans Think Because Of One Overlooked Character\",\"Bleach: Uryuu Receives One of the Best Anime Additions Yet\",\"Fall's Best Anime Shows Are Dominating Netflix Ratings\",\"Fall's Best Anime Shows Are Dominating Netflix Ratings\",\"Fall's Best Anime Shows Are Dominating Netflix Ratings\",\"Fall's Best Anime Shows Are Dominating Netflix Ratings\",\"Fall's Best Anime Shows Are Dominating Netflix Ratings\",\"10 Best Single Season Romance Anime\",\"Bleach: Uryuu's Vollstandig, Explained\",\"One Of The Best Romance Anime Of All Time Is An Underrated Masterpiece, But There's One Thing Holding It Back From Being Huge\",\"Who Is That Cat In Dan Da Dan's Opening & Closing? The Series' Mysterious Yokai Mascot Explained\",\"One Piece: Why Rocks D. Xebec May Be the Series' Most Important Character\",\"Attack on Titan: The Last Attack Will A New Post-Credit Scene\",\"My Hero Academia You’re Next Is Just One Big Homage\",\"My Hero Academia You’re Next Is Just One Big Homage\",\"One Piece's Creator Confirms The True Nature Of Luffy's Gear 5 Power, & It's So Much More Bizarre Than Fans Thought\",\"Kaiju No. 8's Kafka Springs to Life In Impressive New Cosplay\",\"Dragon Ball Daima Confirms It's a Love Letter To Akira Toriyama and GT With a Subtle Homage\",\"Latest Vivre Card Confirms One Major Detail About Koby's Haki\",\"My Hero Academia Still Has One Dangling Plot Thread After The Finale That Was A Major Missed Opportunity\",\"10 Jujutsu Kaisen Characters That Deserve Their Own Spin-Off\",\"After Years of Waiting, Bleach Just Brought Back Its Best Arrancar\",\"One Piece: Oda Reveals New Cross Guild Bounties\",\"Dragon Ball Daima’s First Real Fight Is a Major Change for the Franchise for One Subtle, Yet Huge, Reason\",\"Dragon Ball Daima’s First Real Fight Is a Major Change for the Franchise for One Subtle, Yet Huge, Reason\",\"Dragon Ball Daima’s First Real Fight Is a Major Change for the Franchise for One Subtle, Yet Huge, Reason\",\"One Piece: Loki's Connection To Shanks, Explained\",\"Sorry Chainsaw Man & Spy x Family, But 2022’s Most Important Anime Was A Sleeper Hit No One Expected To Get As Big As It Did\",\"One Piece: Oda Plans For A Major Reunion In Elbaf\",\"One Piece 1132: What To Expect From The Chapter\",\"One Piece 1132: What To Expect From The Chapter\",\"One Piece 1132: What To Expect From The Chapter\",\"One Piece 1132: What To Expect From The Chapter\",\"One Piece 1132: What To Expect From The Chapter\",\"10 Best Thorfinn Quotes In Vinland Saga That Prove Just How Deep The Series Is\",\"The Best Manga With Ghost Protagonists\",\"The Best Manga With Ghost Protagonists\",\"Solo Leveling's Sequel Highlights a MAJOR Problem in the Manhwa Industry\",\"Dragon Ball Daima Has A Prime Opportunity To Connect To Super's Next Big Frieza Saga Through A Powerful Forgotten Artifact\",\"Boruto: Two Blue Vortex Has Been Dropping Hints That One Major Character Has Been Living A Lie The Whole Time\",\"The Apothecary Diaries’ Successor Is a Beautiful New Manga That Gives Greek Mythology a Shojo Twist\",\"New Oshi no Ko Novel Announced \",\"Deku Might Be My Hero Academia's Main Character, But The Series' True Hero Is Another Character\",\"Deku Might Be My Hero Academia's Main Character, But The Series' True Hero Is Another Character\",\"Deku Might Be My Hero Academia's Main Character, But The Series' True Hero Is Another Character\",\"If You Love Netflix's Sweet Home, You Need to Check Out the Terrifying Manwha That Inspired It\",\"Dragon Ball Daima’s Fights Are a Huge Change for the Franchise, & I for One, Am Absolutely Loving It\",\"Dragon Ball Daima’s Fights Are a Huge Change for the Franchise, & I for One, Am Absolutely Loving It\",\"Dragon Ball Daima’s Fights Are a Huge Change for the Franchise, & I for One, Am Absolutely Loving It\",\"Dragon Ball Daima’s Fights Are a Huge Change for the Franchise, & I for One, Am Absolutely Loving It\",\"Dragon Ball DAIMA is Fast Losing Steam\",\"Dan Da Dan's Unique Trait is the Real Reason The Fall's Biggest Anime Will SuvriveMuch  Longer Than Other Shonen\",\"One Piece Chapter 1132: Loki And Luffy Strike A Deal\"],\"legendgroup\":\"\",\"marker\":{\"color\":\"#636efa\",\"symbol\":\"circle\"},\"mode\":\"markers\",\"name\":\"\",\"orientation\":\"v\",\"showlegend\":false,\"x\":[129.89017,12.807016,155.65125,-74.77939,-41.70643,-2.2500498,40.47908,13.071323,-53.12604,-67.55264,-90.14607,-69.517914,-2.2360804,-2.2360804,-2.2360804,-8.9489155,28.629715,-61.7581,-14.165799,-1.3628124,-20.915228,-116.38581,-17.183693,-38.881203,-93.1525,-110.74833,19.59171,-2.2360804,28.581642,-31.014652,-42.984554,-68.7589,-2.2360804,146.07881,140.35812,-92.6098,75.58628,37.562187,-62.834156,-52.91821,31.672655,29.764265,67.844376,47.854206,-131.24866,119.05982,127.32132,112.78638,164.68153,119.14314,-82.34165,-160.12729,119.44599,119.14314,50.170155,-33.24645,25.937243,-31.185005,94.2673,7.411926,119.14314,119.14314,119.14314,119.14314,119.14314,116.212746,-30.521563,-53.254665,49.56764,-45.03006,-56.482517,-119.01051,-15.61362,37.263817,50.58129,-77.6186,-10.478276,41.702965,26.166685,51.62359,30.433205,119.14314,-105.94464,135.38542,-32.93806,-39.901257,75.58628,42.57857,-64.93297,127.033775,80.4906,3.2482405,-67.88453,87.42164,40.224224,71.54944,101.17457,-119.28793,-62.891663,144.13829,132.63623,93.5147,26.41164,-17.615185,-78.984375,47.339813,-42.206913,23.454628,31.350811,-69.05386,5.702051,22.089373,131.32767,-96.27465,-2.2500498,51.663292,22.31422,22.546453,35.385147,-32.467224,-86.052025,112.168495,-114.75839,28.612932,16.998775,3.2482405,-3.1288643,10.118231,-25.626026,7.0506005,-71.45222,-96.90808,122.3672,-123.936226,3.2482405,-17.183693,-2.1191099,-117.543526,-19.829304,73.1148,88.224785,-67.379166,165.225,75.58628,105.43634,12.592534,-50.205833,8.251481,-37.733334,-71.69638,0.33038154,108.1716,-139.99493,162.28639,114.91316,83.7848,44.81367,20.324718,69.04855,-29.791164,58.33547,-102.29514,76.07889,-29.791164,-29.791164,-29.791164,-29.791164,-51.124447,-19.576149,-15.603664,-112.7568,-29.791164,-29.791164,-29.791164,29.992397,-29.791164,-2.66966,4.5553474,-109.59228,36.164417,73.86866,-90.704285,-99.16758,0.62944055,-62.25864,-29.791164,-65.44143,-29.791164,-29.791164,-29.791164,-29.791164,75.58628,-42.160294,104.99466,-78.509735,-38.628067,-83.55746,-105.619255,-7.418444,110.40865,-96.117134,-31.185005,-31.185005,-49.487797,-65.66037,-54.253674,-148.962,-4.5348167,-61.549416,-31.185005,15.012708,-149.80127,-84.07396,-137.9283,11.437055,29.986467,75.56244,-157.82584,28.481527,-10.349257,107.625916,-15.61362,13.839537,-46.34052,49.31502,-55.979214,-100.37533,70.38083,4.6594043,-19.436714,75.58628,55.48714,-139.38364,85.32213,85.53285,36.223537,35.2922,37.791603,-31.185005,-78.192116,-51.195095,-133.40077,-26.195799,-17.98997,-130.2978,-109.506386,-20.377604,129.85408,29.146387,-79.15668,-55.00335,-8.857618,-15.61362,79.32081,4.5553474,-13.139148,19.41716,83.9202],\"xaxis\":\"x\",\"y\":[-85.6633,-44.40955,-19.396955,29.416082,23.212673,8.13444,42.07891,40.082123,-27.92482,43.415363,41.773354,126.121414,32.111546,32.111546,32.111546,95.67694,-71.46125,-53.688015,17.093151,48.60862,-73.8481,-51.340385,-19.066332,-98.081375,-13.099112,-12.075474,-13.673036,32.111546,27.116833,-45.90795,-22.255203,-38.35863,32.111546,-24.126247,-78.78772,-90.45119,35.123363,-33.950783,19.963923,-1.7996163,149.24504,164.17746,-56.506706,-98.30705,23.87818,-47.548172,94.37304,94.58138,-16.543905,80.05109,58.517044,-23.153479,64.23454,80.05109,69.71025,84.18834,53.49861,-23.889135,-41.717354,-141.26439,80.05109,80.05109,80.05109,80.05109,80.05109,-32.30567,-136.93703,-14.711399,-54.76751,-52.111088,-86.097046,112.176155,-38.099148,67.311165,56.726444,131.28008,137.31815,15.700199,-114.10934,16.791868,16.332445,80.05109,-69.50948,83.717094,-61.4856,-113.89068,35.123363,96.05362,4.897166,22.066599,-6.3281255,-28.81078,-68.69165,0.43636045,-161.30331,-66.31205,-43.688076,-88.42473,60.23317,-86.262596,70.63654,-27.893457,155.08708,-57.39035,-19.803593,-4.5181775,-13.054962,123.92532,-170.89076,78.23635,107.17003,137.29805,-93.0305,-49.60595,8.13444,-72.950516,-29.331034,-76.21788,137.42705,55.67167,-69.249985,18.133415,77.273125,-49.152466,168.8694,-28.81078,-70.57044,66.41379,42.532074,77.257126,-87.49173,93.52935,12.47033,3.8757133,-28.81078,-19.066332,65.31491,-31.145489,52.70309,92.80141,-54.754585,133.56555,30.361774,35.123363,-32.621845,18.678572,-67.20532,127.0212,-78.8865,104.38466,-81.38319,-74.16436,56.38347,36.922592,-88.103676,-42.68958,142.29236,-166.53197,-76.45962,1.715503,-38.35467,71.66535,109.951515,1.715503,1.715503,1.715503,1.715503,95.155426,130.83084,-115.24855,48.070843,1.715503,1.715503,1.715503,-152.07353,1.715503,-51.60802,-8.088246,-112.9973,-103.3888,99.68726,23.618526,-30.12915,-101.353386,-107.68525,1.715503,-23.955244,1.715503,1.715503,1.715503,1.715503,35.123363,-37.465572,-56.050446,-52.20409,37.69527,-34.97382,9.0076065,-17.377113,-98.180336,5.2166266,-23.889135,-23.889135,49.24681,-9.654173,32.362717,-70.41175,113.530205,-134.55765,-23.889135,4.270359,3.0927787,-115.60515,-67.26577,-59.956097,-161.5658,-27.744423,29.311342,-96.44,-4.8723183,-18.028824,-38.099148,139.73288,69.637085,-113.35287,130.30902,83.855606,-4.349214,154.10602,-92.095825,35.123363,-24.44971,-40.116295,-76.013916,-99.09211,93.5356,-16.397654,54.820305,-23.889135,12.119856,12.483353,-16.00958,26.771679,109.989,51.11836,28.272247,71.532234,4.630248,-0.68359953,-3.4957714,-40.8624,160.18112,-38.099148,48.621815,-8.088246,148.54309,-155.05824,-90.84334],\"yaxis\":\"y\",\"type\":\"scatter\"}],                        {\"template\":{\"data\":{\"histogram2dcontour\":[{\"type\":\"histogram2dcontour\",\"colorbar\":{\"outlinewidth\":0,\"ticks\":\"\"},\"colorscale\":[[0.0,\"#0d0887\"],[0.1111111111111111,\"#46039f\"],[0.2222222222222222,\"#7201a8\"],[0.3333333333333333,\"#9c179e\"],[0.4444444444444444,\"#bd3786\"],[0.5555555555555556,\"#d8576b\"],[0.6666666666666666,\"#ed7953\"],[0.7777777777777778,\"#fb9f3a\"],[0.8888888888888888,\"#fdca26\"],[1.0,\"#f0f921\"]]}],\"choropleth\":[{\"type\":\"choropleth\",\"colorbar\":{\"outlinewidth\":0,\"ticks\":\"\"}}],\"histogram2d\":[{\"type\":\"histogram2d\",\"colorbar\":{\"outlinewidth\":0,\"ticks\":\"\"},\"colorscale\":[[0.0,\"#0d0887\"],[0.1111111111111111,\"#46039f\"],[0.2222222222222222,\"#7201a8\"],[0.3333333333333333,\"#9c179e\"],[0.4444444444444444,\"#bd3786\"],[0.5555555555555556,\"#d8576b\"],[0.6666666666666666,\"#ed7953\"],[0.7777777777777778,\"#fb9f3a\"],[0.8888888888888888,\"#fdca26\"],[1.0,\"#f0f921\"]]}],\"heatmap\":[{\"type\":\"heatmap\",\"colorbar\":{\"outlinewidth\":0,\"ticks\":\"\"},\"colorscale\":[[0.0,\"#0d0887\"],[0.1111111111111111,\"#46039f\"],[0.2222222222222222,\"#7201a8\"],[0.3333333333333333,\"#9c179e\"],[0.4444444444444444,\"#bd3786\"],[0.5555555555555556,\"#d8576b\"],[0.6666666666666666,\"#ed7953\"],[0.7777777777777778,\"#fb9f3a\"],[0.8888888888888888,\"#fdca26\"],[1.0,\"#f0f921\"]]}],\"heatmapgl\":[{\"type\":\"heatmapgl\",\"colorbar\":{\"outlinewidth\":0,\"ticks\":\"\"},\"colorscale\":[[0.0,\"#0d0887\"],[0.1111111111111111,\"#46039f\"],[0.2222222222222222,\"#7201a8\"],[0.3333333333333333,\"#9c179e\"],[0.4444444444444444,\"#bd3786\"],[0.5555555555555556,\"#d8576b\"],[0.6666666666666666,\"#ed7953\"],[0.7777777777777778,\"#fb9f3a\"],[0.8888888888888888,\"#fdca26\"],[1.0,\"#f0f921\"]]}],\"contourcarpet\":[{\"type\":\"contourcarpet\",\"colorbar\":{\"outlinewidth\":0,\"ticks\":\"\"}}],\"contour\":[{\"type\":\"contour\",\"colorbar\":{\"outlinewidth\":0,\"ticks\":\"\"},\"colorscale\":[[0.0,\"#0d0887\"],[0.1111111111111111,\"#46039f\"],[0.2222222222222222,\"#7201a8\"],[0.3333333333333333,\"#9c179e\"],[0.4444444444444444,\"#bd3786\"],[0.5555555555555556,\"#d8576b\"],[0.6666666666666666,\"#ed7953\"],[0.7777777777777778,\"#fb9f3a\"],[0.8888888888888888,\"#fdca26\"],[1.0,\"#f0f921\"]]}],\"surface\":[{\"type\":\"surface\",\"colorbar\":{\"outlinewidth\":0,\"ticks\":\"\"},\"colorscale\":[[0.0,\"#0d0887\"],[0.1111111111111111,\"#46039f\"],[0.2222222222222222,\"#7201a8\"],[0.3333333333333333,\"#9c179e\"],[0.4444444444444444,\"#bd3786\"],[0.5555555555555556,\"#d8576b\"],[0.6666666666666666,\"#ed7953\"],[0.7777777777777778,\"#fb9f3a\"],[0.8888888888888888,\"#fdca26\"],[1.0,\"#f0f921\"]]}],\"mesh3d\":[{\"type\":\"mesh3d\",\"colorbar\":{\"outlinewidth\":0,\"ticks\":\"\"}}],\"scatter\":[{\"fillpattern\":{\"fillmode\":\"overlay\",\"size\":10,\"solidity\":0.2},\"type\":\"scatter\"}],\"parcoords\":[{\"type\":\"parcoords\",\"line\":{\"colorbar\":{\"outlinewidth\":0,\"ticks\":\"\"}}}],\"scatterpolargl\":[{\"type\":\"scatterpolargl\",\"marker\":{\"colorbar\":{\"outlinewidth\":0,\"ticks\":\"\"}}}],\"bar\":[{\"error_x\":{\"color\":\"#2a3f5f\"},\"error_y\":{\"color\":\"#2a3f5f\"},\"marker\":{\"line\":{\"color\":\"#E5ECF6\",\"width\":0.5},\"pattern\":{\"fillmode\":\"overlay\",\"size\":10,\"solidity\":0.2}},\"type\":\"bar\"}],\"scattergeo\":[{\"type\":\"scattergeo\",\"marker\":{\"colorbar\":{\"outlinewidth\":0,\"ticks\":\"\"}}}],\"scatterpolar\":[{\"type\":\"scatterpolar\",\"marker\":{\"colorbar\":{\"outlinewidth\":0,\"ticks\":\"\"}}}],\"histogram\":[{\"marker\":{\"pattern\":{\"fillmode\":\"overlay\",\"size\":10,\"solidity\":0.2}},\"type\":\"histogram\"}],\"scattergl\":[{\"type\":\"scattergl\",\"marker\":{\"colorbar\":{\"outlinewidth\":0,\"ticks\":\"\"}}}],\"scatter3d\":[{\"type\":\"scatter3d\",\"line\":{\"colorbar\":{\"outlinewidth\":0,\"ticks\":\"\"}},\"marker\":{\"colorbar\":{\"outlinewidth\":0,\"ticks\":\"\"}}}],\"scattermapbox\":[{\"type\":\"scattermapbox\",\"marker\":{\"colorbar\":{\"outlinewidth\":0,\"ticks\":\"\"}}}],\"scatterternary\":[{\"type\":\"scatterternary\",\"marker\":{\"colorbar\":{\"outlinewidth\":0,\"ticks\":\"\"}}}],\"scattercarpet\":[{\"type\":\"scattercarpet\",\"marker\":{\"colorbar\":{\"outlinewidth\":0,\"ticks\":\"\"}}}],\"carpet\":[{\"aaxis\":{\"endlinecolor\":\"#2a3f5f\",\"gridcolor\":\"white\",\"linecolor\":\"white\",\"minorgridcolor\":\"white\",\"startlinecolor\":\"#2a3f5f\"},\"baxis\":{\"endlinecolor\":\"#2a3f5f\",\"gridcolor\":\"white\",\"linecolor\":\"white\",\"minorgridcolor\":\"white\",\"startlinecolor\":\"#2a3f5f\"},\"type\":\"carpet\"}],\"table\":[{\"cells\":{\"fill\":{\"color\":\"#EBF0F8\"},\"line\":{\"color\":\"white\"}},\"header\":{\"fill\":{\"color\":\"#C8D4E3\"},\"line\":{\"color\":\"white\"}},\"type\":\"table\"}],\"barpolar\":[{\"marker\":{\"line\":{\"color\":\"#E5ECF6\",\"width\":0.5},\"pattern\":{\"fillmode\":\"overlay\",\"size\":10,\"solidity\":0.2}},\"type\":\"barpolar\"}],\"pie\":[{\"automargin\":true,\"type\":\"pie\"}]},\"layout\":{\"autotypenumbers\":\"strict\",\"colorway\":[\"#636efa\",\"#EF553B\",\"#00cc96\",\"#ab63fa\",\"#FFA15A\",\"#19d3f3\",\"#FF6692\",\"#B6E880\",\"#FF97FF\",\"#FECB52\"],\"font\":{\"color\":\"#2a3f5f\"},\"hovermode\":\"closest\",\"hoverlabel\":{\"align\":\"left\"},\"paper_bgcolor\":\"white\",\"plot_bgcolor\":\"#E5ECF6\",\"polar\":{\"bgcolor\":\"#E5ECF6\",\"angularaxis\":{\"gridcolor\":\"white\",\"linecolor\":\"white\",\"ticks\":\"\"},\"radialaxis\":{\"gridcolor\":\"white\",\"linecolor\":\"white\",\"ticks\":\"\"}},\"ternary\":{\"bgcolor\":\"#E5ECF6\",\"aaxis\":{\"gridcolor\":\"white\",\"linecolor\":\"white\",\"ticks\":\"\"},\"baxis\":{\"gridcolor\":\"white\",\"linecolor\":\"white\",\"ticks\":\"\"},\"caxis\":{\"gridcolor\":\"white\",\"linecolor\":\"white\",\"ticks\":\"\"}},\"coloraxis\":{\"colorbar\":{\"outlinewidth\":0,\"ticks\":\"\"}},\"colorscale\":{\"sequential\":[[0.0,\"#0d0887\"],[0.1111111111111111,\"#46039f\"],[0.2222222222222222,\"#7201a8\"],[0.3333333333333333,\"#9c179e\"],[0.4444444444444444,\"#bd3786\"],[0.5555555555555556,\"#d8576b\"],[0.6666666666666666,\"#ed7953\"],[0.7777777777777778,\"#fb9f3a\"],[0.8888888888888888,\"#fdca26\"],[1.0,\"#f0f921\"]],\"sequentialminus\":[[0.0,\"#0d0887\"],[0.1111111111111111,\"#46039f\"],[0.2222222222222222,\"#7201a8\"],[0.3333333333333333,\"#9c179e\"],[0.4444444444444444,\"#bd3786\"],[0.5555555555555556,\"#d8576b\"],[0.6666666666666666,\"#ed7953\"],[0.7777777777777778,\"#fb9f3a\"],[0.8888888888888888,\"#fdca26\"],[1.0,\"#f0f921\"]],\"diverging\":[[0,\"#8e0152\"],[0.1,\"#c51b7d\"],[0.2,\"#de77ae\"],[0.3,\"#f1b6da\"],[0.4,\"#fde0ef\"],[0.5,\"#f7f7f7\"],[0.6,\"#e6f5d0\"],[0.7,\"#b8e186\"],[0.8,\"#7fbc41\"],[0.9,\"#4d9221\"],[1,\"#276419\"]]},\"xaxis\":{\"gridcolor\":\"white\",\"linecolor\":\"white\",\"ticks\":\"\",\"title\":{\"standoff\":15},\"zerolinecolor\":\"white\",\"automargin\":true,\"zerolinewidth\":2},\"yaxis\":{\"gridcolor\":\"white\",\"linecolor\":\"white\",\"ticks\":\"\",\"title\":{\"standoff\":15},\"zerolinecolor\":\"white\",\"automargin\":true,\"zerolinewidth\":2},\"scene\":{\"xaxis\":{\"backgroundcolor\":\"#E5ECF6\",\"gridcolor\":\"white\",\"linecolor\":\"white\",\"showbackground\":true,\"ticks\":\"\",\"zerolinecolor\":\"white\",\"gridwidth\":2},\"yaxis\":{\"backgroundcolor\":\"#E5ECF6\",\"gridcolor\":\"white\",\"linecolor\":\"white\",\"showbackground\":true,\"ticks\":\"\",\"zerolinecolor\":\"white\",\"gridwidth\":2},\"zaxis\":{\"backgroundcolor\":\"#E5ECF6\",\"gridcolor\":\"white\",\"linecolor\":\"white\",\"showbackground\":true,\"ticks\":\"\",\"zerolinecolor\":\"white\",\"gridwidth\":2}},\"shapedefaults\":{\"line\":{\"color\":\"#2a3f5f\"}},\"annotationdefaults\":{\"arrowcolor\":\"#2a3f5f\",\"arrowhead\":0,\"arrowwidth\":1},\"geo\":{\"bgcolor\":\"white\",\"landcolor\":\"#E5ECF6\",\"subunitcolor\":\"white\",\"showland\":true,\"showlakes\":true,\"lakecolor\":\"white\"},\"title\":{\"x\":0.05},\"mapbox\":{\"style\":\"light\"}}},\"xaxis\":{\"anchor\":\"y\",\"domain\":[0.0,1.0],\"title\":{\"text\":\"t-SNE Dimension 1\"}},\"yaxis\":{\"anchor\":\"x\",\"domain\":[0.0,1.0],\"title\":{\"text\":\"t-SNE Dimension 2\"}},\"legend\":{\"tracegroupgap\":0},\"title\":{\"text\":\"t-SNE Clustering of Article Titles\"}},                        {\"responsive\": true}                    ).then(function(){\n",
       "                            \n",
       "var gd = document.getElementById('72d3542a-6ac0-4cee-b61d-40848dc01691');\n",
       "var x = new MutationObserver(function (mutations, observer) {{\n",
       "        var display = window.getComputedStyle(gd).display;\n",
       "        if (!display || display === 'none') {{\n",
       "            console.log([gd, 'removed!']);\n",
       "            Plotly.purge(gd);\n",
       "            observer.disconnect();\n",
       "        }}\n",
       "}});\n",
       "\n",
       "// Listen for the removal of the full notebook cells\n",
       "var notebookContainer = gd.closest('#notebook-container');\n",
       "if (notebookContainer) {{\n",
       "    x.observe(notebookContainer, {childList: true});\n",
       "}}\n",
       "\n",
       "// Listen for the clearing of the current output cell\n",
       "var outputEl = gd.closest('.output');\n",
       "if (outputEl) {{\n",
       "    x.observe(outputEl, {childList: true});\n",
       "}}\n",
       "\n",
       "                        })                };                });            </script>        </div>"
      ]
     },
     "metadata": {},
     "output_type": "display_data"
    }
   ],
   "source": [
    "import pandas as pd\n",
    "from sklearn.manifold import TSNE\n",
    "import plotly.express as px\n",
    "\n",
    "# Assuming gkgvf_arr is the DataFrame with vectorized values and article titles as the index\n",
    "# The values are used as input to the t-SNE model, and index rows are the article titles\n",
    "\n",
    "# article_titles = gkg.parsed_urls  # Extract titles from the index\n",
    "model_input = gkgvf_arr.values  # Use the values for t-SNE\n",
    "article_titles = titles  # Extract titles from the index\n",
    "# model_input = tfidf_matrix.toarray()  # Use the values for t-SNE\n",
    "labels = gkg.gkg_query['label']\n",
    "\n",
    "# Step 1: Use t-SNE to reduce dimensions\n",
    "tsne_model = TSNE(n_components=2, perplexity=30, random_state=42, n_iter=1000)\n",
    "tsne_results = tsne_model.fit_transform(model_input)\n",
    "\n",
    "# Step 2: Create a DataFrame for the t-SNE results\n",
    "tsne_df = pd.DataFrame(tsne_results, columns=['TSNE1', 'TSNE2'])\n",
    "tsne_df['Title'] = article_titles  # Add titles from the index\n",
    "\n",
    "# Step 3: Plot with Plotly to add hover functionality\n",
    "fig = px.scatter(\n",
    "    tsne_df,\n",
    "    x='TSNE1',\n",
    "    y='TSNE2',\n",
    "    hover_name='Title',  # This will show the title when hovering\n",
    "    title=\"t-SNE Clustering of Article Titles\",\n",
    "    labels={'TSNE1': 't-SNE Dimension 1', 'TSNE2': 't-SNE Dimension 2'}\n",
    ")\n",
    "\n",
    "# Display the plot\n",
    "fig.show()\n"
   ]
  },
  {
   "cell_type": "code",
   "execution_count": 20,
   "metadata": {},
   "outputs": [
    {
     "data": {
      "application/vnd.plotly.v1+json": {
       "config": {
        "plotlyServerURL": "https://plot.ly"
       },
       "data": [
        {
         "hovertemplate": "<b>%{hovertext}</b><br><br>Label=ONE PIECE<br>t-SNE Dimension 1=%{x}<br>t-SNE Dimension 2=%{y}<extra></extra>",
         "hovertext": [
          "One Piece: Oda Reveals A Legendary God From Elbaf",
          "Sakamoto Days Manga Goes on 1-Issue Break Due to Author's Health - News - Anime News Network",
          "One Piece Chapter 1128: The Sun God Makes An Appearance",
          "One Piece Chapter 1128: The Sun God Makes An Appearance",
          "One Piece Chapter 1128: The Sun God Makes An Appearance",
          "One Piece Chapter 1128: The Sun God Makes An Appearance",
          "One Piece: Oda Reveals Sanji's Improved Mastery Over Ifrit Jambe",
          "One Piece Fan Letter Anime Shares First Look Trailer - ComicBook.com",
          "INTEREST: Anime World Offers Condolences After Voice Actor Nobuyo Oyama's Passing, Part I - Forum - Anime News Network",
          "One Piece Fans Get Devastating News With Anime Hiatus Announcement",
          "One Piece Anime's Egghead Arc Resumes Next April - News - Anime News Network",
          "One Piece Anime Announces Historic Hiatus - ComicBook.com",
          "Toei Animation Provides Major One Piece Update Detailing Series Hiatus, Special Content - Anime News Network",
          "One Piece Episode 1121 Reveals Garp's Outrageous Bounty",
          "One Piece Episode 1121 Reveals Garp's Outrageous Bounty",
          "One Piece Episode 1121 Reveals Garp's Outrageous Bounty",
          "The Next One Piece Episode Will Reveal The Winner Of Garp Vs. Kuzan",
          "One Piece: Why Zoro Could Open His Left Eye In Elbaf",
          "One Piece Anime To Go On Break Till 2025",
          "One Piece Fan Letter: 25th Anniversary Anime Work Set for Netflix",
          "One Piece: Oda Reveals The Real Identity Of Elbaf's Sun God",
          "One Piece Orders Special Anime Remake for Fish-Man Island Arc - ComicBook.com",
          "One Piece: Sun God Loki Vs Sun God Nika, Explained",
          "Pirates Who Are Animals In One Piece:",
          "Galaxy Express 999 Another Story: Ultimate Journey Manga Resumes After 2 Years - News - Anime News Network",
          "NEWS: Goblin Slayer Author Kumo Kagyu's Blade & Bastard Light Novels Get Anime [1/2] - Forum - Anime News Network",
          "One Piece: Fan Letter May Be the Anime's Best Episode Ever - ComicBook.com",
          "One Piece Manga Takes 2-Week Break So Creator Can Do Research - News - Anime News Network",
          "One Piece: Oda Announces Two Major Projects During The Manga Break",
          "One Piece 1131: What To Expect From The Chapter",
          "One Piece Clip Shares First Look at Fish-Man Island Remake",
          "One Piece: Zoro's Post-Elbaf Power, Explained",
          "Jujutsu Kaisen Doesn't Need a Sequel Anytime Soon",
          "Even As A Non-Horror Fan, There's One Horrific Anime I Think Is An Absolute Masterpiece",
          "One Piece: Why Luffy Will Destroy The World, Explained",
          "One Piece: Why Loki Must Have A Logia Type Devil Fruit",
          "10 Best Single Season Romance Anime",
          "One Piece: Why Rocks D. Xebec May Be the Series' Most Important Character",
          "My Hero Academia You’re Next Is Just One Big Homage",
          "My Hero Academia You’re Next Is Just One Big Homage",
          "One Piece's Creator Confirms The True Nature Of Luffy's Gear 5 Power, & It's So Much More Bizarre Than Fans Thought",
          "One Piece: Oda Reveals New Cross Guild Bounties",
          "One Piece: Loki's Connection To Shanks, Explained",
          "One Piece: Oda Plans For A Major Reunion In Elbaf",
          "One Piece 1132: What To Expect From The Chapter",
          "One Piece 1132: What To Expect From The Chapter",
          "One Piece 1132: What To Expect From The Chapter",
          "One Piece 1132: What To Expect From The Chapter",
          "One Piece 1132: What To Expect From The Chapter",
          "One Piece Chapter 1132: Loki And Luffy Strike A Deal"
         ],
         "legendgroup": "ONE PIECE",
         "marker": {
          "color": "#636efa",
          "symbol": "circle"
         },
         "mode": "markers",
         "name": "ONE PIECE",
         "orientation": "v",
         "showlegend": true,
         "type": "scatter",
         "x": [
          129.89017,
          -31.014652,
          140.35812,
          -92.6098,
          75.58628,
          37.562187,
          67.844376,
          119.05982,
          112.78638,
          94.2673,
          116.212746,
          49.56764,
          119.14314,
          80.4906,
          3.2482405,
          -67.88453,
          87.42164,
          71.54944,
          101.17457,
          -62.891663,
          144.13829,
          93.5147,
          131.32767,
          51.663292,
          -86.052025,
          10.118231,
          88.224785,
          105.43634,
          108.1716,
          114.91316,
          83.7848,
          69.04855,
          -51.124447,
          -109.59228,
          104.99466,
          110.40865,
          -84.07396,
          75.56244,
          28.481527,
          -10.349257,
          107.625916,
          70.38083,
          55.48714,
          85.32213,
          85.53285,
          36.223537,
          35.2922,
          37.791603,
          -31.185005,
          83.9202
         ],
         "xaxis": "x",
         "y": [
          -85.6633,
          -45.90795,
          -78.78772,
          -90.45119,
          35.123363,
          -33.950783,
          -56.506706,
          -47.548172,
          94.58138,
          -41.717354,
          -32.30567,
          -54.76751,
          80.05109,
          -6.3281255,
          -28.81078,
          -68.69165,
          0.43636045,
          -66.31205,
          -43.688076,
          60.23317,
          -86.262596,
          -27.893457,
          -93.0305,
          -72.950516,
          -69.249985,
          66.41379,
          -54.754585,
          -32.621845,
          -74.16436,
          -88.103676,
          -42.68958,
          -76.45962,
          95.155426,
          -112.9973,
          -56.050446,
          -98.180336,
          -115.60515,
          -27.744423,
          -96.44,
          -4.8723183,
          -18.028824,
          -4.349214,
          -24.44971,
          -76.013916,
          -99.09211,
          93.5356,
          -16.397654,
          54.820305,
          -23.889135,
          -90.84334
         ],
         "yaxis": "y"
        },
        {
         "hovertemplate": "<b>%{hovertext}</b><br><br>Label=DAN DA DAN<br>t-SNE Dimension 1=%{x}<br>t-SNE Dimension 2=%{y}<extra></extra>",
         "hovertext": [
          "Dandadan Premiere Earns Stamp of Approval From Hideo Kojima - ComicBook.com",
          "Dandadan: Acrobatic Silky's Power and Abilities, Explained",
          "Dandadan: Turbo Granny's Powers and Abilities, Explained",
          "Dandadan: Turbo Granny's Powers and Abilities, Explained",
          "Dandadan: Turbo Granny's Powers and Abilities, Explained",
          "Dandadan: Turbo Granny's Powers and Abilities, Explained",
          "Dan Da Dan: Okarun’s Turbo Granny Powers Explained",
          "Dan Da Dan Episode #4 Release Date & Time",
          "Dandadan: Who are the Serpoians?",
          "Dan Da Dan Anime Makes A Small Change That Is A Big Improvement Over One Early Fight",
          "Dan Da Dan Officially Confirms It's Jujutsu Kaisen's True Successor By Revisiting The Hit Shonen's Big Theme",
          "Who Is That Cat In Dan Da Dan's Opening & Closing? The Series' Mysterious Yokai Mascot Explained",
          "Dan Da Dan's Unique Trait is the Real Reason The Fall's Biggest Anime Will SuvriveMuch  Longer Than Other Shonen"
         ],
         "legendgroup": "DAN DA DAN",
         "marker": {
          "color": "#EF553B",
          "symbol": "circle"
         },
         "mode": "markers",
         "name": "DAN DA DAN",
         "orientation": "v",
         "showlegend": true,
         "type": "scatter",
         "x": [
          12.807016,
          -38.881203,
          -39.901257,
          75.58628,
          42.57857,
          -64.93297,
          40.224224,
          31.350811,
          -37.733334,
          20.324718,
          29.992397,
          29.986467,
          19.41716
         ],
         "xaxis": "x",
         "y": [
          -44.40955,
          -98.081375,
          -113.89068,
          35.123363,
          96.05362,
          4.897166,
          -161.30331,
          -170.89076,
          -78.8865,
          -166.53197,
          -152.07353,
          -161.5658,
          -155.05824
         ],
         "yaxis": "y"
        },
        {
         "hovertemplate": "<b>%{hovertext}</b><br><br>Label=HERO ACADEMIA<br>t-SNE Dimension 1=%{x}<br>t-SNE Dimension 2=%{y}<extra></extra>",
         "hovertext": [
          "My Hero Academia Season 7 Shares First Look at Finale - ComicBook.com",
          "My Hero Academia: A Smile Worth Saving",
          "My Hero Academia Final Season Set for 2025; Teaser Released",
          "My Hero Academia Final Season Set for 2025; Teaser Released",
          "My Hero Academia Season 7 Really Saved the Anime - ComicBook.com",
          "My Hero Academia: How Has Shirakumo's Death Affected Aizawa?",
          "My Hero Academia's Weakest Hero Is Actually Responsible For Defeating All for One",
          "My Hero Academia's Trina Nishimura, Zeno Robinson, and Jessie Grelle Interview",
          "Incredible New My Hero Academia Deku & Bakugo Cosplay Is Nothing Short Of Staggering",
          "My Hero Academia: What In the World Happened to Izuku's Dad? - ComicBook.com",
          "My Hero Academia: What In the World Happened to Izuku's Dad? - ComicBook.com",
          "My Hero Academia Still Has One Dangling Plot Thread After The Finale That Was A Major Missed Opportunity",
          "Deku Might Be My Hero Academia's Main Character, But The Series' True Hero Is Another Character",
          "Deku Might Be My Hero Academia's Main Character, But The Series' True Hero Is Another Character",
          "Deku Might Be My Hero Academia's Main Character, But The Series' True Hero Is Another Character"
         ],
         "legendgroup": "HERO ACADEMIA",
         "marker": {
          "color": "#00cc96",
          "symbol": "circle"
         },
         "mode": "markers",
         "name": "HERO ACADEMIA",
         "orientation": "v",
         "showlegend": true,
         "type": "scatter",
         "x": [
          155.65125,
          146.07881,
          47.854206,
          -131.24866,
          164.68153,
          26.166685,
          127.033775,
          112.168495,
          122.3672,
          36.164417,
          73.86866,
          49.31502,
          129.85408,
          29.146387,
          -79.15668
         ],
         "xaxis": "x",
         "y": [
          -19.396955,
          -24.126247,
          -98.30705,
          23.87818,
          -16.543905,
          -114.10934,
          22.066599,
          18.133415,
          12.47033,
          -103.3888,
          99.68726,
          -113.35287,
          4.630248,
          -0.68359953,
          -3.4957714
         ],
         "yaxis": "y"
        },
        {
         "hovertemplate": "<b>%{hovertext}</b><br><br>Label=NO MATCH<br>t-SNE Dimension 1=%{x}<br>t-SNE Dimension 2=%{y}<extra></extra>",
         "hovertext": [
          "Spy x Family Has Been Dropping Hints That A Key Character Is Related To Damian, But It's Easy To Miss",
          "Best Dongua To Watch",
          "Best Dongua To Watch",
          "Best Dongua To Watch",
          "Mission: Yozakura Family Anime Gets 2nd Season - News - Anime News Network",
          "Vampire Knight: Memories Manga Ends in 11th Volume - News - Anime News Network",
          "The 19-Panel Page In Absolute Batman #1 (Minor Spoilers)",
          "The 19-Panel Page In Absolute Batman #1 (Minor Spoilers)",
          "\"Nah, I'd Win\": Jujutsu Kaisen's Finale Revealed the True Meaning of Gojo's Most Famous Words",
          "NEWS: Vampire Knight: Memories Manga Ends in 11th Volume - Forum - Anime News Network",
          "NEWS: Oshi no Ko Anime Gets 3rd Season, Reveals More Cast [1/2] - Forum - Anime News Network",
          "Legendary Evangelion Director Will Return With the Remake of an Iconic Sci-Fi Anime",
          "Shonen Jump's Biggest Anime of the Summer Is Already Confirmed For a New Season",
          "Shonen Jump's Biggest Anime of the Summer Is Already Confirmed For a New Season",
          "Shonen Jump's Biggest Anime of the Summer Is Already Confirmed For a New Season",
          "Shonen Jump's Biggest Anime of the Summer Is Already Confirmed For a New Season",
          "Shonen Jump's Biggest Anime of the Summer Is Already Confirmed For a New Season",
          "Shonen Jump's Biggest Anime of the Summer Is Already Confirmed For a New Season",
          "BLEACH: Who is Kazui Kurosaki? ",
          "Hunter X Hunter's Biggest Plot Twist Yet Makes One Character The Main Antagonist",
          "REVIEW: Dungeon People Anime Series Review - Forum - Anime News Network",
          "Tokyo Indie Games Summit Opens Indie Game Applications for March 2025 Kichijoji Event - Anime News Network",
          "JoJo's Bizarre Adventure: Who's the Strongest Joestar?",
          "TsumaSho - The Fall 2024 Anime Preview Guide - Anime News Network",
          "The Elusive Samurai Anime Gets 2nd Season - News - Anime News Network",
          "NEWS: The Elusive Samurai Anime Gets 2nd Season [1/2] - Forum - Anime News Network",
          "Oshi no Ko Season 3 Officially Announced",
          "Who Is Abura? Dragon Ball's Ancient Demon King Explained - ComicBook.com",
          "NEWS: Rumiko Takahashi's Manga Top 230 Million Copies in Circulation Worldwide - Forum - Anime News Network",
          "NEWS: Live-Action Wingman Series Reveals 3 More Cast Members, New Trailer - Forum - Anime News Network",
          "Live-Action Wingman Series Reveals 3 More Cast Members, New Trailer - News - Anime News Network",
          "GTO Series Gets New Uchiyamada Spinoff Manga - News - Anime News Network",
          "NEWS: Sonic Wings/Aero Fighters Shooting Game Franchise Develops 1st New Game in 26 Years - Forum - Anime News Network",
          "Medaka Kuroiwa is Impervious to My Charms Reveals New Cast Hinaki Yano, Anime's January Debut in 4th Character Video (Updated) - News - Anime News Network",
          "Crunchyroll to Stream Medaka Kuroiwa is Impervious to My Charms, Toilet-Bound Hanako-kun 2nd Season, More in January - News - Anime News Network",
          "Soborou's 'Why the Hell are You Here, Teacher!?' Manga Ends on October 21 - News - Anime News Network",
          "Soborou's 'Why the Hell are You Here, Teacher!?' Manga Ends on October 21 - News - Anime News Network",
          "Soborou's 'Why the Hell are You Here, Teacher!?' Manga Ends on October 21 - News - Anime News Network",
          "Hotly Anticipated Shonen Jump Anime Has One Of The Most Exciting Anime Romances In Years, & It's Not Close",
          "NEWS: Macross 7 Anime Gets New Audio Drama Launching on Wednesday - Forum - Anime News Network",
          "NEWS: Wind Breaker Season 2 Reveals Game, More Cast & Staff, April Debut in Videos - Forum - Anime News Network",
          "NEWS: GTO Series Gets New Uchiyamada Spinoff Manga - Forum - Anime News Network",
          "NEWS: Soborou's 'Why the Hell are You Here, Teacher!?' Manga Ends on October 21 - Forum - Anime News Network",
          "NEWS: Lockdown Zone: Level X 'Light Anime' Gets 2nd Season - Forum - Anime News Network",
          "The Real Reason That One-Punch Man S-Class Hero Changed His Name Is Actually Hilarious, But Western Fans Missed It",
          "The Real Reason That One-Punch Man S-Class Hero Changed His Name Is Actually Hilarious, But Western Fans Missed It",
          "The Best Japanese Martial Arts Movies",
          "Incredible Isekai Puts The Best Twist On The Evil Overlord Trope The Genre Has Seen In Years",
          "Incredible Isekai Puts The Best Twist On The Evil Overlord Trope The Genre Has Seen In Years",
          "Incredible Isekai Puts The Best Twist On The Evil Overlord Trope The Genre Has Seen In Years",
          "Incredible Isekai Puts The Best Twist On The Evil Overlord Trope The Genre Has Seen In Years",
          "Incredible Isekai Puts The Best Twist On The Evil Overlord Trope The Genre Has Seen In Years",
          "Jujutsu Kaisen's Cursed Energy Explained: Why All Sorcerers Are In Japan & Why It Makes The Series Revolutionary",
          "JoJo's Bizarre Adventure Jotaro Cosplay Is Nothing Short Of Jaw Dropping In Incredible Shoot",
          "10 Smartest JoJo’s Bizarre Adventure Characters",
          "JoJo's Bizarre Adventure Summary, Trailer, Cast, and More",
          "Boruto: Two Blue Vortex's Strongest Power Has An Unexpected Effect That Could Change The Series",
          "NEWS: Crunchyroll to Stream Medaka Kuroiwa is Impervious to My Charms, Toilet-Bound Hanako-kun 2nd S - Forum - Anime News Network",
          "Red Cat Ramen Anime Series Review - Review - Anime News Network",
          "Jujutsu Kaisen's Gojo Vs. Demon Slayer's Yoriichi: Which Hero Truly Embodies The Concept Of Strongest Better?",
          "REVIEW: Red Cat Ramen Anime Series Review - Forum - Anime News Network",
          "Rooster Fighter Anime Announces Cast Members - News - Anime News Network",
          "Rooster Fighter Anime Announces Cast Members - News - Anime News Network",
          "Rooster Fighter Anime Announces Cast Members - News - Anime News Network",
          "Rooster Fighter Anime Announces Cast Members - News - Anime News Network",
          "Dr. Stone Science Future Trailer Teases the Final Season's Debut: Watch -",
          "Dragon Ball Daima Is Ready to Put Some Respect on Gohan's Name - ComicBook.com",
          "Dragon Ball Daima Honors Late Creator Akira Toriyama With New Easter Egg: Watch - ComicBook.com",
          "Uzumaki's Azami Kurotani Comes To Life In Terrifying New Cosplay",
          "Uzumaki's Azami Kurotani Comes To Life In Terrifying New Cosplay",
          "Viz Media Releases Akira Himekawa's Kamudo Manga Simultaneously in English - News - Anime News Network",
          "Hideaki Anno Reflects on Space Battleship Yamato Before Launching New Anime - Interest - Anime News Network",
          "Dragon Ball Daima Reunites Goku With One of His Strongest Weapons",
          "Yen Press Adds 3 Manga, Announces Release of Collector's Edition of Spice & Wolf Manga - News - Anime News Network",
          "Fights That Are Better In The Bleach Anime",
          "Fights That Are Better In The Bleach Anime",
          "The Too-Perfect Saint: Tossed Aside by My Fiancé and Sold To Another Kingdom Novels Get 2025 TV Anime - News - Anime News Network",
          "Goblin Slayer Author Kumo Kagyu's Blade & Bastard Light Novels Get Anime - News - Anime News Network",
          "Kujira Tokiwa's The Holy Grail of Eris Light Novels Gets Anime - News - Anime News Network",
          "I'm the Evil Lord of an Intergalactic Empire! Light Novels Get TV Anime Next April - News - Anime News Network",
          "BLEACH: The Structure of the Realms, Explained",
          "This Villainess Manhwa Was One of the Best of the Genre Until It Ruined Its Story",
          "This Villainess Manhwa Was One of the Best of the Genre Until It Ruined Its Story",
          "This Villainess Manhwa Was One of the Best of the Genre Until It Ruined Its Story",
          "This Villainess Manhwa Was One of the Best of the Genre Until It Ruined Its Story",
          "This Villainess Manhwa Was One of the Best of the Genre Until It Ruined Its Story",
          "This Villainess Manhwa Was One of the Best of the Genre Until It Ruined Its Story",
          "This Villainess Manhwa Was One of the Best of the Genre Until It Ruined Its Story",
          "A Huge Twist in Jujutsu Kaisen's Ending Was Foreshadowed All the Way Back in the First Movie",
          "The Beginning After the End, a Top Webtoon, Is Getting an Anime",
          "The Beginning After the End, a Top Webtoon, Is Getting an Anime",
          "Kodansha to Publish Young Magazine USA Special Issue in August 2025 - News - Anime News Network",
          "New Jujutsu Kaisen Gojo Cosplay Brings Shonen's Most Iconic Mentor To Life With Anime-Accurate Look",
          "New Jujutsu Kaisen Gojo Cosplay Brings Shonen's Most Iconic Mentor To Life With Anime-Accurate Look",
          "The Beginning After the End: Web Comic Gets Anime Adapt in 2025",
          "INTEREST: Magic: The Gathering Teases Final Fantasy Set - Forum - Anime News Network",
          "INTEREST: Magic: The Gathering Teases Final Fantasy Set - Forum - Anime News Network",
          "Bleach: Thousand-Year Blood War Just Gave Uryu a Brand-New Form",
          "Bleach: Thousand-Year Blood War Just Gave Uryu a Brand-New Form",
          "INTEREST: Venom Collaborates Again With Birth of Kitaro, Brave Bang Bravern! - Forum - Anime News Network",
          "NEWS: Kazuma Kawamura, Yuki Tanaka Perform Themes for I Left My A-Rank Party TV Anime - Forum - Anime News Network",
          "NEWS: Crazy Food Truck Manga Creator Rokurou Ōgaki Launches New Manga on November 1 - Forum - Anime News Network",
          "NEWS: Japan's Video Game Rankings, October 14-20 [2024-10-26] - Forum - Anime News Network",
          "Phases of the Moon Knight #3 Preview: Avatar Eclipse Alert",
          "\"Thanks To My Master\" - Boruto: Two Blue Vortex Continues One Of The Franchise's Best And Most Important Themes",
          "NEWS: Crunchyroll States it is Investigating Situation After Voice Actor Claims Company Opened His M [1/4] - Forum - Anime News Network",
          "NEWS: Toshinori Sogabe's Yankee JK Kuzuhana-chan Gets Spinoff Manga - Forum - Anime News Network",
          "NEWS: Report: Japan's Online Video Industry to Grow to 45% of Total Screen Revenue by 2029 - Forum - Anime News Network",
          "NEWS: Report: Japan's Online Video Industry to Grow to 45% of Total Screen Revenue by 2029 - Forum - Anime News Network",
          "NEWS: Report: Japan's Online Video Industry to Grow to 45% of Total Screen Revenue by 2029 - Forum - Anime News Network",
          "Demon Slayer: What if Muzan Had Never Killed the Kamado Family?",
          "Cute Venom x Anime Collaboration Art Drops Just in Time for the Movie Release",
          "10 Most Hateable Anime Characters Of All Time, Ranked",
          "Maki Minami's 'Hisureba, Hana' Manga Ends in December - News - Anime News Network",
          "Ayuko, Fumi Yoshinaga, More Launch New Manga in Cocohana Magazine - News - Anime News Network",
          "NEWS: Guilty Gear Strive Game Streams DLC Character Trailer for Queen Dizzy - Forum - Anime News Network",
          "NEWS: Ayuko, Fumi Yoshinaga, More Launch New Manga in Cocohana Magazine - Forum - Anime News Network",
          "NEWS: MAGES. Unveils Steins;Gate Re:Boot Game Slated for 2025 [1/2] - Forum - Anime News Network",
          "NEWS: Cute High Earth Defense Club Eternal Love! Anime Film Reveals More Returning Cast, Theme Song, - Forum - Anime News Network",
          "NEWS: Cute High Earth Defense Club Eternal Love! Anime Film Reveals More Returning Cast, Theme Song, - Forum - Anime News Network",
          "Ultraman: Rising Director Divulges Details About the Film's Sequel",
          "Who Are the World's Wealthiest Manga Creators?",
          "Ranma 1/2 E01: Here's Ranma & E02: I Hate Men Honor Original: Review",
          "Bleach: Uryuu Receives One of the Best Anime Additions Yet",
          "Fall's Best Anime Shows Are Dominating Netflix Ratings",
          "Fall's Best Anime Shows Are Dominating Netflix Ratings",
          "Fall's Best Anime Shows Are Dominating Netflix Ratings",
          "Fall's Best Anime Shows Are Dominating Netflix Ratings",
          "Fall's Best Anime Shows Are Dominating Netflix Ratings",
          "Bleach: Uryuu's Vollstandig, Explained",
          "One Of The Best Romance Anime Of All Time Is An Underrated Masterpiece, But There's One Thing Holding It Back From Being Huge",
          "Kaiju No. 8's Kafka Springs to Life In Impressive New Cosplay",
          "Dragon Ball Daima Confirms It's a Love Letter To Akira Toriyama and GT With a Subtle Homage",
          "Latest Vivre Card Confirms One Major Detail About Koby's Haki",
          "10 Jujutsu Kaisen Characters That Deserve Their Own Spin-Off",
          "After Years of Waiting, Bleach Just Brought Back Its Best Arrancar",
          "Sorry Chainsaw Man & Spy x Family, But 2022’s Most Important Anime Was A Sleeper Hit No One Expected To Get As Big As It Did",
          "10 Best Thorfinn Quotes In Vinland Saga That Prove Just How Deep The Series Is",
          "The Best Manga With Ghost Protagonists",
          "The Best Manga With Ghost Protagonists",
          "Solo Leveling's Sequel Highlights a MAJOR Problem in the Manhwa Industry",
          "Dragon Ball Daima Has A Prime Opportunity To Connect To Super's Next Big Frieza Saga Through A Powerful Forgotten Artifact",
          "Boruto: Two Blue Vortex Has Been Dropping Hints That One Major Character Has Been Living A Lie The Whole Time",
          "The Apothecary Diaries’ Successor Is a Beautiful New Manga That Gives Greek Mythology a Shojo Twist",
          "New Oshi no Ko Novel Announced ",
          "If You Love Netflix's Sweet Home, You Need to Check Out the Terrifying Manwha That Inspired It"
         ],
         "legendgroup": "NO MATCH",
         "marker": {
          "color": "#ab63fa",
          "symbol": "circle"
         },
         "mode": "markers",
         "name": "NO MATCH",
         "orientation": "v",
         "showlegend": true,
         "type": "scatter",
         "x": [
          -74.77939,
          -41.70643,
          -2.2500498,
          40.47908,
          13.071323,
          -53.12604,
          -67.55264,
          -90.14607,
          -69.517914,
          -2.2360804,
          -2.2360804,
          28.629715,
          -61.7581,
          -14.165799,
          -1.3628124,
          -20.915228,
          -116.38581,
          -17.183693,
          -93.1525,
          -110.74833,
          19.59171,
          -2.2360804,
          28.581642,
          -42.984554,
          -68.7589,
          -2.2360804,
          -62.834156,
          31.672655,
          127.32132,
          119.14314,
          -82.34165,
          -160.12729,
          119.44599,
          119.14314,
          50.170155,
          -33.24645,
          25.937243,
          -31.185005,
          7.411926,
          119.14314,
          119.14314,
          119.14314,
          119.14314,
          119.14314,
          -30.521563,
          -53.254665,
          -45.03006,
          -56.482517,
          -119.01051,
          -15.61362,
          37.263817,
          50.58129,
          -77.6186,
          41.702965,
          51.62359,
          30.433205,
          -105.94464,
          135.38542,
          -32.93806,
          -119.28793,
          132.63623,
          -17.615185,
          -78.984375,
          47.339813,
          -42.206913,
          -69.05386,
          5.702051,
          22.089373,
          -96.27465,
          -2.2500498,
          22.31422,
          22.546453,
          35.385147,
          -32.467224,
          -114.75839,
          28.612932,
          -3.1288643,
          -25.626026,
          7.0506005,
          -71.45222,
          -96.90808,
          -123.936226,
          3.2482405,
          -17.183693,
          -2.1191099,
          -117.543526,
          -19.829304,
          73.1148,
          -67.379166,
          165.225,
          75.58628,
          12.592534,
          -71.69638,
          0.33038154,
          162.28639,
          -29.791164,
          58.33547,
          -102.29514,
          76.07889,
          -29.791164,
          -29.791164,
          -29.791164,
          -29.791164,
          -15.603664,
          -112.7568,
          -29.791164,
          -29.791164,
          -29.791164,
          -2.66966,
          4.5553474,
          -90.704285,
          -99.16758,
          -62.25864,
          -29.791164,
          -65.44143,
          -29.791164,
          -29.791164,
          -29.791164,
          -29.791164,
          75.58628,
          -78.509735,
          -38.628067,
          -83.55746,
          -148.962,
          -4.5348167,
          -61.549416,
          -31.185005,
          15.012708,
          -149.80127,
          -137.9283,
          11.437055,
          -15.61362,
          13.839537,
          -46.34052,
          -55.979214,
          -100.37533,
          -139.38364,
          -78.192116,
          -51.195095,
          -133.40077,
          -26.195799,
          -17.98997,
          -130.2978,
          -109.506386,
          -20.377604,
          -55.00335
         ],
         "xaxis": "x",
         "y": [
          29.416082,
          23.212673,
          8.13444,
          42.07891,
          40.082123,
          -27.92482,
          43.415363,
          41.773354,
          126.121414,
          32.111546,
          32.111546,
          -71.46125,
          -53.688015,
          17.093151,
          48.60862,
          -73.8481,
          -51.340385,
          -19.066332,
          -13.099112,
          -12.075474,
          -13.673036,
          32.111546,
          27.116833,
          -22.255203,
          -38.35863,
          32.111546,
          19.963923,
          149.24504,
          94.37304,
          80.05109,
          58.517044,
          -23.153479,
          64.23454,
          80.05109,
          69.71025,
          84.18834,
          53.49861,
          -23.889135,
          -141.26439,
          80.05109,
          80.05109,
          80.05109,
          80.05109,
          80.05109,
          -136.93703,
          -14.711399,
          -52.111088,
          -86.097046,
          112.176155,
          -38.099148,
          67.311165,
          56.726444,
          131.28008,
          15.700199,
          16.791868,
          16.332445,
          -69.50948,
          83.717094,
          -61.4856,
          -88.42473,
          70.63654,
          -57.39035,
          -19.803593,
          -4.5181775,
          -13.054962,
          78.23635,
          107.17003,
          137.29805,
          -49.60595,
          8.13444,
          -29.331034,
          -76.21788,
          137.42705,
          55.67167,
          77.273125,
          -49.152466,
          -70.57044,
          42.532074,
          77.257126,
          -87.49173,
          93.52935,
          3.8757133,
          -28.81078,
          -19.066332,
          65.31491,
          -31.145489,
          52.70309,
          92.80141,
          133.56555,
          30.361774,
          35.123363,
          18.678572,
          104.38466,
          -81.38319,
          36.922592,
          1.715503,
          -38.35467,
          71.66535,
          109.951515,
          1.715503,
          1.715503,
          1.715503,
          1.715503,
          -115.24855,
          48.070843,
          1.715503,
          1.715503,
          1.715503,
          -51.60802,
          -8.088246,
          23.618526,
          -30.12915,
          -107.68525,
          1.715503,
          -23.955244,
          1.715503,
          1.715503,
          1.715503,
          1.715503,
          35.123363,
          -52.20409,
          37.69527,
          -34.97382,
          -70.41175,
          113.530205,
          -134.55765,
          -23.889135,
          4.270359,
          3.0927787,
          -67.26577,
          -59.956097,
          -38.099148,
          139.73288,
          69.637085,
          130.30902,
          83.855606,
          -40.116295,
          12.119856,
          12.483353,
          -16.00958,
          26.771679,
          109.989,
          51.11836,
          28.272247,
          71.532234,
          -40.8624
         ],
         "yaxis": "y"
        },
        {
         "hovertemplate": "<b>%{hovertext}</b><br><br>Label=FAIRY TALE<br>t-SNE Dimension 1=%{x}<br>t-SNE Dimension 2=%{y}<extra></extra>",
         "hovertext": [
          "NEWS: Fairy Tail: 100 Years Quest Anime Casts Nana Mizuki - Forum - Anime News Network",
          "NEWS: Idolm@ster Cinderella Girls U149 Manga Ends on November 9 - Forum - Anime News Network"
         ],
         "legendgroup": "FAIRY TALE",
         "marker": {
          "color": "#FFA15A",
          "symbol": "circle"
         },
         "mode": "markers",
         "name": "FAIRY TALE",
         "orientation": "v",
         "showlegend": true,
         "type": "scatter",
         "x": [
          -2.2360804,
          -29.791164
         ],
         "xaxis": "x",
         "y": [
          32.111546,
          1.715503
         ],
         "yaxis": "y"
        },
        {
         "hovertemplate": "<b>%{hovertext}</b><br><br>Label=DRAGON BALL<br>t-SNE Dimension 1=%{x}<br>t-SNE Dimension 2=%{y}<extra></extra>",
         "hovertext": [
          "Dragon Ball Super Was A Great Anime... But Its Return Will Be The Best Dragon Ball's Been Since the End Of Z",
          "Dragon Ball Just Revealed the Secret Twist Behind the Dragon Balls - ComicBook.com",
          "Akira Toriyama's Swan Song Dragon Ball Daima Has Arrived",
          "Dragon Ball's Demon Realm Is Bigger Than Ever Expected - ComicBook.com",
          "Dragon Ball's Stephanie Naldony Breaks Silence on Returning to Goku After Nearly 15 Years - ComicBook.com",
          "Dragon Ball DAIMA Introduces A Big Shenron Retcon That Changes His Relationship With Goku Forever",
          "Dragon Ball DAIMA Introduces A Big Shenron Retcon That Changes His Relationship With Goku Forever",
          "Dragon Ball Daima's Massive Namekian Revelation Was Foreshadowed Years In Advanced ",
          "Dragon Ball Daima's Worst Wish Isn't Bad for Everybody",
          "Dragon Ball Z’s Second-Strongest Villain Is Still Alive in Super, But Most Fans Missed It",
          "Dragon Ball Daima’s First Real Fight Is a Major Change for the Franchise for One Subtle, Yet Huge, Reason",
          "Dragon Ball Daima’s First Real Fight Is a Major Change for the Franchise for One Subtle, Yet Huge, Reason",
          "Dragon Ball Daima’s First Real Fight Is a Major Change for the Franchise for One Subtle, Yet Huge, Reason",
          "Dragon Ball Daima’s Fights Are a Huge Change for the Franchise, & I for One, Am Absolutely Loving It",
          "Dragon Ball Daima’s Fights Are a Huge Change for the Franchise, & I for One, Am Absolutely Loving It",
          "Dragon Ball Daima’s Fights Are a Huge Change for the Franchise, & I for One, Am Absolutely Loving It",
          "Dragon Ball Daima’s Fights Are a Huge Change for the Franchise, & I for One, Am Absolutely Loving It",
          "Dragon Ball DAIMA is Fast Losing Steam"
         ],
         "legendgroup": "DRAGON BALL",
         "marker": {
          "color": "#19d3f3",
          "symbol": "circle"
         },
         "mode": "markers",
         "name": "DRAGON BALL",
         "orientation": "v",
         "showlegend": true,
         "type": "scatter",
         "x": [
          -8.9489155,
          29.764265,
          -10.478276,
          26.41164,
          23.454628,
          16.998775,
          3.2482405,
          8.251481,
          44.81367,
          -19.576149,
          4.6594043,
          -19.436714,
          75.58628,
          -8.857618,
          -15.61362,
          79.32081,
          4.5553474,
          -13.139148
         ],
         "xaxis": "x",
         "y": [
          95.67694,
          164.17746,
          137.31815,
          155.08708,
          123.92532,
          168.8694,
          -28.81078,
          127.0212,
          142.29236,
          130.83084,
          154.10602,
          -92.095825,
          35.123363,
          160.18112,
          -38.099148,
          48.621815,
          -8.088246,
          148.54309
         ],
         "yaxis": "y"
        },
        {
         "hovertemplate": "<b>%{hovertext}</b><br><br>Label=NARUTO<br>t-SNE Dimension 1=%{x}<br>t-SNE Dimension 2=%{y}<extra></extra>",
         "hovertext": [
          "Naruto's Entire Uchiha Family Tree, Explained",
          "Naruto's Last Battle Is Actually a Genius Callback to Kishimoto's Original Idea for the Manga",
          "Every Naruto Form Ranked From Weakest To Strongest"
         ],
         "legendgroup": "NARUTO",
         "marker": {
          "color": "#FF6692",
          "symbol": "circle"
         },
         "mode": "markers",
         "name": "NARUTO",
         "orientation": "v",
         "showlegend": true,
         "type": "scatter",
         "x": [
          -52.91821,
          -139.99493,
          0.62944055
         ],
         "xaxis": "x",
         "y": [
          -1.7996163,
          56.38347,
          -101.353386
         ],
         "yaxis": "y"
        },
        {
         "hovertemplate": "<b>%{hovertext}</b><br><br>Label=ATTACK ON TITAN<br>t-SNE Dimension 1=%{x}<br>t-SNE Dimension 2=%{y}<extra></extra>",
         "hovertext": [
          "Attack on Titan: Gabi’s Journey from Hated to Understood",
          "Attack On Titan's Controversial Time Skip Is Secretly Genius for One Reason I Can't Stop Thinking About",
          "Attack on Titan: The Last Attack Will A New Post-Credit Scene"
         ],
         "legendgroup": "ATTACK ON TITAN",
         "marker": {
          "color": "#B6E880",
          "symbol": "circle"
         },
         "mode": "markers",
         "name": "ATTACK ON TITAN",
         "orientation": "v",
         "showlegend": true,
         "type": "scatter",
         "x": [
          -50.205833,
          -42.160294,
          -157.82584
         ],
         "xaxis": "x",
         "y": [
          -67.20532,
          -37.465572,
          29.311342
         ],
         "yaxis": "y"
        },
        {
         "hovertemplate": "<b>%{hovertext}</b><br><br>Label=FRUITS BASKET<br>t-SNE Dimension 1=%{x}<br>t-SNE Dimension 2=%{y}<extra></extra>",
         "hovertext": [
          "10 Best Fruits Basket Fan Ships That Never Came True",
          "10 Best Fruits Basket Fan Ships That Never Came True",
          "Fruits Basket's Famous Love Triangle Was Actually More Complicated Than Fans Think Because Of One Overlooked Character",
          "Fruits Basket's Famous Love Triangle Was Actually More Complicated Than Fans Think Because Of One Overlooked Character",
          "Fruits Basket's Famous Love Triangle Was Actually More Complicated Than Fans Think Because Of One Overlooked Character",
          "Fruits Basket's Famous Love Triangle Was Actually More Complicated Than Fans Think Because Of One Overlooked Character",
          "Fruits Basket's Famous Love Triangle Was Actually More Complicated Than Fans Think Because Of One Overlooked Character",
          "Fruits Basket's Famous Love Triangle Was Actually More Complicated Than Fans Think Because Of One Overlooked Character"
         ],
         "legendgroup": "FRUITS BASKET",
         "marker": {
          "color": "#FF97FF",
          "symbol": "circle"
         },
         "mode": "markers",
         "name": "FRUITS BASKET",
         "orientation": "v",
         "showlegend": true,
         "type": "scatter",
         "x": [
          -105.619255,
          -7.418444,
          -96.117134,
          -31.185005,
          -31.185005,
          -49.487797,
          -65.66037,
          -54.253674
         ],
         "xaxis": "x",
         "y": [
          9.0076065,
          -17.377113,
          5.2166266,
          -23.889135,
          -23.889135,
          49.24681,
          -9.654173,
          32.362717
         ],
         "yaxis": "y"
        }
       ],
       "layout": {
        "legend": {
         "title": {
          "text": "Label"
         },
         "tracegroupgap": 0
        },
        "template": {
         "data": {
          "bar": [
           {
            "error_x": {
             "color": "#2a3f5f"
            },
            "error_y": {
             "color": "#2a3f5f"
            },
            "marker": {
             "line": {
              "color": "#E5ECF6",
              "width": 0.5
             },
             "pattern": {
              "fillmode": "overlay",
              "size": 10,
              "solidity": 0.2
             }
            },
            "type": "bar"
           }
          ],
          "barpolar": [
           {
            "marker": {
             "line": {
              "color": "#E5ECF6",
              "width": 0.5
             },
             "pattern": {
              "fillmode": "overlay",
              "size": 10,
              "solidity": 0.2
             }
            },
            "type": "barpolar"
           }
          ],
          "carpet": [
           {
            "aaxis": {
             "endlinecolor": "#2a3f5f",
             "gridcolor": "white",
             "linecolor": "white",
             "minorgridcolor": "white",
             "startlinecolor": "#2a3f5f"
            },
            "baxis": {
             "endlinecolor": "#2a3f5f",
             "gridcolor": "white",
             "linecolor": "white",
             "minorgridcolor": "white",
             "startlinecolor": "#2a3f5f"
            },
            "type": "carpet"
           }
          ],
          "choropleth": [
           {
            "colorbar": {
             "outlinewidth": 0,
             "ticks": ""
            },
            "type": "choropleth"
           }
          ],
          "contour": [
           {
            "colorbar": {
             "outlinewidth": 0,
             "ticks": ""
            },
            "colorscale": [
             [
              0,
              "#0d0887"
             ],
             [
              0.1111111111111111,
              "#46039f"
             ],
             [
              0.2222222222222222,
              "#7201a8"
             ],
             [
              0.3333333333333333,
              "#9c179e"
             ],
             [
              0.4444444444444444,
              "#bd3786"
             ],
             [
              0.5555555555555556,
              "#d8576b"
             ],
             [
              0.6666666666666666,
              "#ed7953"
             ],
             [
              0.7777777777777778,
              "#fb9f3a"
             ],
             [
              0.8888888888888888,
              "#fdca26"
             ],
             [
              1,
              "#f0f921"
             ]
            ],
            "type": "contour"
           }
          ],
          "contourcarpet": [
           {
            "colorbar": {
             "outlinewidth": 0,
             "ticks": ""
            },
            "type": "contourcarpet"
           }
          ],
          "heatmap": [
           {
            "colorbar": {
             "outlinewidth": 0,
             "ticks": ""
            },
            "colorscale": [
             [
              0,
              "#0d0887"
             ],
             [
              0.1111111111111111,
              "#46039f"
             ],
             [
              0.2222222222222222,
              "#7201a8"
             ],
             [
              0.3333333333333333,
              "#9c179e"
             ],
             [
              0.4444444444444444,
              "#bd3786"
             ],
             [
              0.5555555555555556,
              "#d8576b"
             ],
             [
              0.6666666666666666,
              "#ed7953"
             ],
             [
              0.7777777777777778,
              "#fb9f3a"
             ],
             [
              0.8888888888888888,
              "#fdca26"
             ],
             [
              1,
              "#f0f921"
             ]
            ],
            "type": "heatmap"
           }
          ],
          "heatmapgl": [
           {
            "colorbar": {
             "outlinewidth": 0,
             "ticks": ""
            },
            "colorscale": [
             [
              0,
              "#0d0887"
             ],
             [
              0.1111111111111111,
              "#46039f"
             ],
             [
              0.2222222222222222,
              "#7201a8"
             ],
             [
              0.3333333333333333,
              "#9c179e"
             ],
             [
              0.4444444444444444,
              "#bd3786"
             ],
             [
              0.5555555555555556,
              "#d8576b"
             ],
             [
              0.6666666666666666,
              "#ed7953"
             ],
             [
              0.7777777777777778,
              "#fb9f3a"
             ],
             [
              0.8888888888888888,
              "#fdca26"
             ],
             [
              1,
              "#f0f921"
             ]
            ],
            "type": "heatmapgl"
           }
          ],
          "histogram": [
           {
            "marker": {
             "pattern": {
              "fillmode": "overlay",
              "size": 10,
              "solidity": 0.2
             }
            },
            "type": "histogram"
           }
          ],
          "histogram2d": [
           {
            "colorbar": {
             "outlinewidth": 0,
             "ticks": ""
            },
            "colorscale": [
             [
              0,
              "#0d0887"
             ],
             [
              0.1111111111111111,
              "#46039f"
             ],
             [
              0.2222222222222222,
              "#7201a8"
             ],
             [
              0.3333333333333333,
              "#9c179e"
             ],
             [
              0.4444444444444444,
              "#bd3786"
             ],
             [
              0.5555555555555556,
              "#d8576b"
             ],
             [
              0.6666666666666666,
              "#ed7953"
             ],
             [
              0.7777777777777778,
              "#fb9f3a"
             ],
             [
              0.8888888888888888,
              "#fdca26"
             ],
             [
              1,
              "#f0f921"
             ]
            ],
            "type": "histogram2d"
           }
          ],
          "histogram2dcontour": [
           {
            "colorbar": {
             "outlinewidth": 0,
             "ticks": ""
            },
            "colorscale": [
             [
              0,
              "#0d0887"
             ],
             [
              0.1111111111111111,
              "#46039f"
             ],
             [
              0.2222222222222222,
              "#7201a8"
             ],
             [
              0.3333333333333333,
              "#9c179e"
             ],
             [
              0.4444444444444444,
              "#bd3786"
             ],
             [
              0.5555555555555556,
              "#d8576b"
             ],
             [
              0.6666666666666666,
              "#ed7953"
             ],
             [
              0.7777777777777778,
              "#fb9f3a"
             ],
             [
              0.8888888888888888,
              "#fdca26"
             ],
             [
              1,
              "#f0f921"
             ]
            ],
            "type": "histogram2dcontour"
           }
          ],
          "mesh3d": [
           {
            "colorbar": {
             "outlinewidth": 0,
             "ticks": ""
            },
            "type": "mesh3d"
           }
          ],
          "parcoords": [
           {
            "line": {
             "colorbar": {
              "outlinewidth": 0,
              "ticks": ""
             }
            },
            "type": "parcoords"
           }
          ],
          "pie": [
           {
            "automargin": true,
            "type": "pie"
           }
          ],
          "scatter": [
           {
            "fillpattern": {
             "fillmode": "overlay",
             "size": 10,
             "solidity": 0.2
            },
            "type": "scatter"
           }
          ],
          "scatter3d": [
           {
            "line": {
             "colorbar": {
              "outlinewidth": 0,
              "ticks": ""
             }
            },
            "marker": {
             "colorbar": {
              "outlinewidth": 0,
              "ticks": ""
             }
            },
            "type": "scatter3d"
           }
          ],
          "scattercarpet": [
           {
            "marker": {
             "colorbar": {
              "outlinewidth": 0,
              "ticks": ""
             }
            },
            "type": "scattercarpet"
           }
          ],
          "scattergeo": [
           {
            "marker": {
             "colorbar": {
              "outlinewidth": 0,
              "ticks": ""
             }
            },
            "type": "scattergeo"
           }
          ],
          "scattergl": [
           {
            "marker": {
             "colorbar": {
              "outlinewidth": 0,
              "ticks": ""
             }
            },
            "type": "scattergl"
           }
          ],
          "scattermapbox": [
           {
            "marker": {
             "colorbar": {
              "outlinewidth": 0,
              "ticks": ""
             }
            },
            "type": "scattermapbox"
           }
          ],
          "scatterpolar": [
           {
            "marker": {
             "colorbar": {
              "outlinewidth": 0,
              "ticks": ""
             }
            },
            "type": "scatterpolar"
           }
          ],
          "scatterpolargl": [
           {
            "marker": {
             "colorbar": {
              "outlinewidth": 0,
              "ticks": ""
             }
            },
            "type": "scatterpolargl"
           }
          ],
          "scatterternary": [
           {
            "marker": {
             "colorbar": {
              "outlinewidth": 0,
              "ticks": ""
             }
            },
            "type": "scatterternary"
           }
          ],
          "surface": [
           {
            "colorbar": {
             "outlinewidth": 0,
             "ticks": ""
            },
            "colorscale": [
             [
              0,
              "#0d0887"
             ],
             [
              0.1111111111111111,
              "#46039f"
             ],
             [
              0.2222222222222222,
              "#7201a8"
             ],
             [
              0.3333333333333333,
              "#9c179e"
             ],
             [
              0.4444444444444444,
              "#bd3786"
             ],
             [
              0.5555555555555556,
              "#d8576b"
             ],
             [
              0.6666666666666666,
              "#ed7953"
             ],
             [
              0.7777777777777778,
              "#fb9f3a"
             ],
             [
              0.8888888888888888,
              "#fdca26"
             ],
             [
              1,
              "#f0f921"
             ]
            ],
            "type": "surface"
           }
          ],
          "table": [
           {
            "cells": {
             "fill": {
              "color": "#EBF0F8"
             },
             "line": {
              "color": "white"
             }
            },
            "header": {
             "fill": {
              "color": "#C8D4E3"
             },
             "line": {
              "color": "white"
             }
            },
            "type": "table"
           }
          ]
         },
         "layout": {
          "annotationdefaults": {
           "arrowcolor": "#2a3f5f",
           "arrowhead": 0,
           "arrowwidth": 1
          },
          "autotypenumbers": "strict",
          "coloraxis": {
           "colorbar": {
            "outlinewidth": 0,
            "ticks": ""
           }
          },
          "colorscale": {
           "diverging": [
            [
             0,
             "#8e0152"
            ],
            [
             0.1,
             "#c51b7d"
            ],
            [
             0.2,
             "#de77ae"
            ],
            [
             0.3,
             "#f1b6da"
            ],
            [
             0.4,
             "#fde0ef"
            ],
            [
             0.5,
             "#f7f7f7"
            ],
            [
             0.6,
             "#e6f5d0"
            ],
            [
             0.7,
             "#b8e186"
            ],
            [
             0.8,
             "#7fbc41"
            ],
            [
             0.9,
             "#4d9221"
            ],
            [
             1,
             "#276419"
            ]
           ],
           "sequential": [
            [
             0,
             "#0d0887"
            ],
            [
             0.1111111111111111,
             "#46039f"
            ],
            [
             0.2222222222222222,
             "#7201a8"
            ],
            [
             0.3333333333333333,
             "#9c179e"
            ],
            [
             0.4444444444444444,
             "#bd3786"
            ],
            [
             0.5555555555555556,
             "#d8576b"
            ],
            [
             0.6666666666666666,
             "#ed7953"
            ],
            [
             0.7777777777777778,
             "#fb9f3a"
            ],
            [
             0.8888888888888888,
             "#fdca26"
            ],
            [
             1,
             "#f0f921"
            ]
           ],
           "sequentialminus": [
            [
             0,
             "#0d0887"
            ],
            [
             0.1111111111111111,
             "#46039f"
            ],
            [
             0.2222222222222222,
             "#7201a8"
            ],
            [
             0.3333333333333333,
             "#9c179e"
            ],
            [
             0.4444444444444444,
             "#bd3786"
            ],
            [
             0.5555555555555556,
             "#d8576b"
            ],
            [
             0.6666666666666666,
             "#ed7953"
            ],
            [
             0.7777777777777778,
             "#fb9f3a"
            ],
            [
             0.8888888888888888,
             "#fdca26"
            ],
            [
             1,
             "#f0f921"
            ]
           ]
          },
          "colorway": [
           "#636efa",
           "#EF553B",
           "#00cc96",
           "#ab63fa",
           "#FFA15A",
           "#19d3f3",
           "#FF6692",
           "#B6E880",
           "#FF97FF",
           "#FECB52"
          ],
          "font": {
           "color": "#2a3f5f"
          },
          "geo": {
           "bgcolor": "white",
           "lakecolor": "white",
           "landcolor": "#E5ECF6",
           "showlakes": true,
           "showland": true,
           "subunitcolor": "white"
          },
          "hoverlabel": {
           "align": "left"
          },
          "hovermode": "closest",
          "mapbox": {
           "style": "light"
          },
          "paper_bgcolor": "white",
          "plot_bgcolor": "#E5ECF6",
          "polar": {
           "angularaxis": {
            "gridcolor": "white",
            "linecolor": "white",
            "ticks": ""
           },
           "bgcolor": "#E5ECF6",
           "radialaxis": {
            "gridcolor": "white",
            "linecolor": "white",
            "ticks": ""
           }
          },
          "scene": {
           "xaxis": {
            "backgroundcolor": "#E5ECF6",
            "gridcolor": "white",
            "gridwidth": 2,
            "linecolor": "white",
            "showbackground": true,
            "ticks": "",
            "zerolinecolor": "white"
           },
           "yaxis": {
            "backgroundcolor": "#E5ECF6",
            "gridcolor": "white",
            "gridwidth": 2,
            "linecolor": "white",
            "showbackground": true,
            "ticks": "",
            "zerolinecolor": "white"
           },
           "zaxis": {
            "backgroundcolor": "#E5ECF6",
            "gridcolor": "white",
            "gridwidth": 2,
            "linecolor": "white",
            "showbackground": true,
            "ticks": "",
            "zerolinecolor": "white"
           }
          },
          "shapedefaults": {
           "line": {
            "color": "#2a3f5f"
           }
          },
          "ternary": {
           "aaxis": {
            "gridcolor": "white",
            "linecolor": "white",
            "ticks": ""
           },
           "baxis": {
            "gridcolor": "white",
            "linecolor": "white",
            "ticks": ""
           },
           "bgcolor": "#E5ECF6",
           "caxis": {
            "gridcolor": "white",
            "linecolor": "white",
            "ticks": ""
           }
          },
          "title": {
           "x": 0.05
          },
          "xaxis": {
           "automargin": true,
           "gridcolor": "white",
           "linecolor": "white",
           "ticks": "",
           "title": {
            "standoff": 15
           },
           "zerolinecolor": "white",
           "zerolinewidth": 2
          },
          "yaxis": {
           "automargin": true,
           "gridcolor": "white",
           "linecolor": "white",
           "ticks": "",
           "title": {
            "standoff": 15
           },
           "zerolinecolor": "white",
           "zerolinewidth": 2
          }
         }
        },
        "title": {
         "text": "t-SNE Clustering of Article Titles by Label"
        },
        "xaxis": {
         "anchor": "y",
         "domain": [
          0,
          1
         ],
         "title": {
          "text": "t-SNE Dimension 1"
         }
        },
        "yaxis": {
         "anchor": "x",
         "domain": [
          0,
          1
         ],
         "title": {
          "text": "t-SNE Dimension 2"
         }
        }
       }
      },
      "text/html": [
       "<div>                            <div id=\"6584e799-1bb3-4685-87a4-6374d0d8d68b\" class=\"plotly-graph-div\" style=\"height:525px; width:100%;\"></div>            <script type=\"text/javascript\">                require([\"plotly\"], function(Plotly) {                    window.PLOTLYENV=window.PLOTLYENV || {};                                    if (document.getElementById(\"6584e799-1bb3-4685-87a4-6374d0d8d68b\")) {                    Plotly.newPlot(                        \"6584e799-1bb3-4685-87a4-6374d0d8d68b\",                        [{\"hovertemplate\":\"<b>%{hovertext}</b><br><br>Label=ONE PIECE<br>t-SNE Dimension 1=%{x}<br>t-SNE Dimension 2=%{y}<extra></extra>\",\"hovertext\":[\"One Piece: Oda Reveals A Legendary God From Elbaf\",\"Sakamoto Days Manga Goes on 1-Issue Break Due to Author's Health - News - Anime News Network\",\"One Piece Chapter 1128: The Sun God Makes An Appearance\",\"One Piece Chapter 1128: The Sun God Makes An Appearance\",\"One Piece Chapter 1128: The Sun God Makes An Appearance\",\"One Piece Chapter 1128: The Sun God Makes An Appearance\",\"One Piece: Oda Reveals Sanji's Improved Mastery Over Ifrit Jambe\",\"One Piece Fan Letter Anime Shares First Look Trailer - ComicBook.com\",\"INTEREST: Anime World Offers Condolences After Voice Actor Nobuyo Oyama's Passing, Part I - Forum - Anime News Network\",\"One Piece Fans Get Devastating News With Anime Hiatus Announcement\",\"One Piece Anime's Egghead Arc Resumes Next April - News - Anime News Network\",\"One Piece Anime Announces Historic Hiatus - ComicBook.com\",\"Toei Animation Provides Major One Piece Update Detailing Series Hiatus, Special Content - Anime News Network\",\"One Piece Episode 1121 Reveals Garp's Outrageous Bounty\",\"One Piece Episode 1121 Reveals Garp's Outrageous Bounty\",\"One Piece Episode 1121 Reveals Garp's Outrageous Bounty\",\"The Next One Piece Episode Will Reveal The Winner Of Garp Vs. Kuzan\",\"One Piece: Why Zoro Could Open His Left Eye In Elbaf\",\"One Piece Anime To Go On Break Till 2025\",\"One Piece Fan Letter: 25th Anniversary Anime Work Set for Netflix\",\"One Piece: Oda Reveals The Real Identity Of Elbaf's Sun God\",\"One Piece Orders Special Anime Remake for Fish-Man Island Arc - ComicBook.com\",\"One Piece: Sun God Loki Vs Sun God Nika, Explained\",\"Pirates Who Are Animals In One Piece:\",\"Galaxy Express 999 Another Story: Ultimate Journey Manga Resumes After 2 Years - News - Anime News Network\",\"NEWS: Goblin Slayer Author Kumo Kagyu's Blade & Bastard Light Novels Get Anime [1/2] - Forum - Anime News Network\",\"One Piece: Fan Letter May Be the Anime's Best Episode Ever - ComicBook.com\",\"One Piece Manga Takes 2-Week Break So Creator Can Do Research - News - Anime News Network\",\"One Piece: Oda Announces Two Major Projects During The Manga Break\",\"One Piece 1131: What To Expect From The Chapter\",\"One Piece Clip Shares First Look at Fish-Man Island Remake\",\"One Piece: Zoro's Post-Elbaf Power, Explained\",\"Jujutsu Kaisen Doesn't Need a Sequel Anytime Soon\",\"Even As A Non-Horror Fan, There's One Horrific Anime I Think Is An Absolute Masterpiece\",\"One Piece: Why Luffy Will Destroy The World, Explained\",\"One Piece: Why Loki Must Have A Logia Type Devil Fruit\",\"10 Best Single Season Romance Anime\",\"One Piece: Why Rocks D. Xebec May Be the Series' Most Important Character\",\"My Hero Academia You’re Next Is Just One Big Homage\",\"My Hero Academia You’re Next Is Just One Big Homage\",\"One Piece's Creator Confirms The True Nature Of Luffy's Gear 5 Power, & It's So Much More Bizarre Than Fans Thought\",\"One Piece: Oda Reveals New Cross Guild Bounties\",\"One Piece: Loki's Connection To Shanks, Explained\",\"One Piece: Oda Plans For A Major Reunion In Elbaf\",\"One Piece 1132: What To Expect From The Chapter\",\"One Piece 1132: What To Expect From The Chapter\",\"One Piece 1132: What To Expect From The Chapter\",\"One Piece 1132: What To Expect From The Chapter\",\"One Piece 1132: What To Expect From The Chapter\",\"One Piece Chapter 1132: Loki And Luffy Strike A Deal\"],\"legendgroup\":\"ONE PIECE\",\"marker\":{\"color\":\"#636efa\",\"symbol\":\"circle\"},\"mode\":\"markers\",\"name\":\"ONE PIECE\",\"orientation\":\"v\",\"showlegend\":true,\"x\":[129.89017,-31.014652,140.35812,-92.6098,75.58628,37.562187,67.844376,119.05982,112.78638,94.2673,116.212746,49.56764,119.14314,80.4906,3.2482405,-67.88453,87.42164,71.54944,101.17457,-62.891663,144.13829,93.5147,131.32767,51.663292,-86.052025,10.118231,88.224785,105.43634,108.1716,114.91316,83.7848,69.04855,-51.124447,-109.59228,104.99466,110.40865,-84.07396,75.56244,28.481527,-10.349257,107.625916,70.38083,55.48714,85.32213,85.53285,36.223537,35.2922,37.791603,-31.185005,83.9202],\"xaxis\":\"x\",\"y\":[-85.6633,-45.90795,-78.78772,-90.45119,35.123363,-33.950783,-56.506706,-47.548172,94.58138,-41.717354,-32.30567,-54.76751,80.05109,-6.3281255,-28.81078,-68.69165,0.43636045,-66.31205,-43.688076,60.23317,-86.262596,-27.893457,-93.0305,-72.950516,-69.249985,66.41379,-54.754585,-32.621845,-74.16436,-88.103676,-42.68958,-76.45962,95.155426,-112.9973,-56.050446,-98.180336,-115.60515,-27.744423,-96.44,-4.8723183,-18.028824,-4.349214,-24.44971,-76.013916,-99.09211,93.5356,-16.397654,54.820305,-23.889135,-90.84334],\"yaxis\":\"y\",\"type\":\"scatter\"},{\"hovertemplate\":\"<b>%{hovertext}</b><br><br>Label=DAN DA DAN<br>t-SNE Dimension 1=%{x}<br>t-SNE Dimension 2=%{y}<extra></extra>\",\"hovertext\":[\"Dandadan Premiere Earns Stamp of Approval From Hideo Kojima - ComicBook.com\",\"Dandadan: Acrobatic Silky's Power and Abilities, Explained\",\"Dandadan: Turbo Granny's Powers and Abilities, Explained\",\"Dandadan: Turbo Granny's Powers and Abilities, Explained\",\"Dandadan: Turbo Granny's Powers and Abilities, Explained\",\"Dandadan: Turbo Granny's Powers and Abilities, Explained\",\"Dan Da Dan: Okarun’s Turbo Granny Powers Explained\",\"Dan Da Dan Episode #4 Release Date & Time\",\"Dandadan: Who are the Serpoians?\",\"Dan Da Dan Anime Makes A Small Change That Is A Big Improvement Over One Early Fight\",\"Dan Da Dan Officially Confirms It's Jujutsu Kaisen's True Successor By Revisiting The Hit Shonen's Big Theme\",\"Who Is That Cat In Dan Da Dan's Opening & Closing? The Series' Mysterious Yokai Mascot Explained\",\"Dan Da Dan's Unique Trait is the Real Reason The Fall's Biggest Anime Will SuvriveMuch  Longer Than Other Shonen\"],\"legendgroup\":\"DAN DA DAN\",\"marker\":{\"color\":\"#EF553B\",\"symbol\":\"circle\"},\"mode\":\"markers\",\"name\":\"DAN DA DAN\",\"orientation\":\"v\",\"showlegend\":true,\"x\":[12.807016,-38.881203,-39.901257,75.58628,42.57857,-64.93297,40.224224,31.350811,-37.733334,20.324718,29.992397,29.986467,19.41716],\"xaxis\":\"x\",\"y\":[-44.40955,-98.081375,-113.89068,35.123363,96.05362,4.897166,-161.30331,-170.89076,-78.8865,-166.53197,-152.07353,-161.5658,-155.05824],\"yaxis\":\"y\",\"type\":\"scatter\"},{\"hovertemplate\":\"<b>%{hovertext}</b><br><br>Label=HERO ACADEMIA<br>t-SNE Dimension 1=%{x}<br>t-SNE Dimension 2=%{y}<extra></extra>\",\"hovertext\":[\"My Hero Academia Season 7 Shares First Look at Finale - ComicBook.com\",\"My Hero Academia: A Smile Worth Saving\",\"My Hero Academia Final Season Set for 2025; Teaser Released\",\"My Hero Academia Final Season Set for 2025; Teaser Released\",\"My Hero Academia Season 7 Really Saved the Anime - ComicBook.com\",\"My Hero Academia: How Has Shirakumo's Death Affected Aizawa?\",\"My Hero Academia's Weakest Hero Is Actually Responsible For Defeating All for One\",\"My Hero Academia's Trina Nishimura, Zeno Robinson, and Jessie Grelle Interview\",\"Incredible New My Hero Academia Deku & Bakugo Cosplay Is Nothing Short Of Staggering\",\"My Hero Academia: What In the World Happened to Izuku's Dad? - ComicBook.com\",\"My Hero Academia: What In the World Happened to Izuku's Dad? - ComicBook.com\",\"My Hero Academia Still Has One Dangling Plot Thread After The Finale That Was A Major Missed Opportunity\",\"Deku Might Be My Hero Academia's Main Character, But The Series' True Hero Is Another Character\",\"Deku Might Be My Hero Academia's Main Character, But The Series' True Hero Is Another Character\",\"Deku Might Be My Hero Academia's Main Character, But The Series' True Hero Is Another Character\"],\"legendgroup\":\"HERO ACADEMIA\",\"marker\":{\"color\":\"#00cc96\",\"symbol\":\"circle\"},\"mode\":\"markers\",\"name\":\"HERO ACADEMIA\",\"orientation\":\"v\",\"showlegend\":true,\"x\":[155.65125,146.07881,47.854206,-131.24866,164.68153,26.166685,127.033775,112.168495,122.3672,36.164417,73.86866,49.31502,129.85408,29.146387,-79.15668],\"xaxis\":\"x\",\"y\":[-19.396955,-24.126247,-98.30705,23.87818,-16.543905,-114.10934,22.066599,18.133415,12.47033,-103.3888,99.68726,-113.35287,4.630248,-0.68359953,-3.4957714],\"yaxis\":\"y\",\"type\":\"scatter\"},{\"hovertemplate\":\"<b>%{hovertext}</b><br><br>Label=NO MATCH<br>t-SNE Dimension 1=%{x}<br>t-SNE Dimension 2=%{y}<extra></extra>\",\"hovertext\":[\"Spy x Family Has Been Dropping Hints That A Key Character Is Related To Damian, But It's Easy To Miss\",\"Best Dongua To Watch\",\"Best Dongua To Watch\",\"Best Dongua To Watch\",\"Mission: Yozakura Family Anime Gets 2nd Season - News - Anime News Network\",\"Vampire Knight: Memories Manga Ends in 11th Volume - News - Anime News Network\",\"The 19-Panel Page In Absolute Batman #1 (Minor Spoilers)\",\"The 19-Panel Page In Absolute Batman #1 (Minor Spoilers)\",\"\\\"Nah, I'd Win\\\": Jujutsu Kaisen's Finale Revealed the True Meaning of Gojo's Most Famous Words\",\"NEWS: Vampire Knight: Memories Manga Ends in 11th Volume - Forum - Anime News Network\",\"NEWS: Oshi no Ko Anime Gets 3rd Season, Reveals More Cast [1/2] - Forum - Anime News Network\",\"Legendary Evangelion Director Will Return With the Remake of an Iconic Sci-Fi Anime\",\"Shonen Jump's Biggest Anime of the Summer Is Already Confirmed For a New Season\",\"Shonen Jump's Biggest Anime of the Summer Is Already Confirmed For a New Season\",\"Shonen Jump's Biggest Anime of the Summer Is Already Confirmed For a New Season\",\"Shonen Jump's Biggest Anime of the Summer Is Already Confirmed For a New Season\",\"Shonen Jump's Biggest Anime of the Summer Is Already Confirmed For a New Season\",\"Shonen Jump's Biggest Anime of the Summer Is Already Confirmed For a New Season\",\"BLEACH: Who is Kazui Kurosaki? \",\"Hunter X Hunter's Biggest Plot Twist Yet Makes One Character The Main Antagonist\",\"REVIEW: Dungeon People Anime Series Review - Forum - Anime News Network\",\"Tokyo Indie Games Summit Opens Indie Game Applications for March 2025 Kichijoji Event - Anime News Network\",\"JoJo's Bizarre Adventure: Who's the Strongest Joestar?\",\"TsumaSho - The Fall 2024 Anime Preview Guide - Anime News Network\",\"The Elusive Samurai Anime Gets 2nd Season - News - Anime News Network\",\"NEWS: The Elusive Samurai Anime Gets 2nd Season [1/2] - Forum - Anime News Network\",\"Oshi no Ko Season 3 Officially Announced\",\"Who Is Abura? Dragon Ball's Ancient Demon King Explained - ComicBook.com\",\"NEWS: Rumiko Takahashi's Manga Top 230 Million Copies in Circulation Worldwide - Forum - Anime News Network\",\"NEWS: Live-Action Wingman Series Reveals 3 More Cast Members, New Trailer - Forum - Anime News Network\",\"Live-Action Wingman Series Reveals 3 More Cast Members, New Trailer - News - Anime News Network\",\"GTO Series Gets New Uchiyamada Spinoff Manga - News - Anime News Network\",\"NEWS: Sonic Wings/Aero Fighters Shooting Game Franchise Develops 1st New Game in 26 Years - Forum - Anime News Network\",\"Medaka Kuroiwa is Impervious to My Charms Reveals New Cast Hinaki Yano, Anime's January Debut in 4th Character Video (Updated) - News - Anime News Network\",\"Crunchyroll to Stream Medaka Kuroiwa is Impervious to My Charms, Toilet-Bound Hanako-kun 2nd Season, More in January - News - Anime News Network\",\"Soborou's 'Why the Hell are You Here, Teacher!?' Manga Ends on October 21 - News - Anime News Network\",\"Soborou's 'Why the Hell are You Here, Teacher!?' Manga Ends on October 21 - News - Anime News Network\",\"Soborou's 'Why the Hell are You Here, Teacher!?' Manga Ends on October 21 - News - Anime News Network\",\"Hotly Anticipated Shonen Jump Anime Has One Of The Most Exciting Anime Romances In Years, & It's Not Close\",\"NEWS: Macross 7 Anime Gets New Audio Drama Launching on Wednesday - Forum - Anime News Network\",\"NEWS: Wind Breaker Season 2 Reveals Game, More Cast & Staff, April Debut in Videos - Forum - Anime News Network\",\"NEWS: GTO Series Gets New Uchiyamada Spinoff Manga - Forum - Anime News Network\",\"NEWS: Soborou's 'Why the Hell are You Here, Teacher!?' Manga Ends on October 21 - Forum - Anime News Network\",\"NEWS: Lockdown Zone: Level X 'Light Anime' Gets 2nd Season - Forum - Anime News Network\",\"The Real Reason That One-Punch Man S-Class Hero Changed His Name Is Actually Hilarious, But Western Fans Missed It\",\"The Real Reason That One-Punch Man S-Class Hero Changed His Name Is Actually Hilarious, But Western Fans Missed It\",\"The Best Japanese Martial Arts Movies\",\"Incredible Isekai Puts The Best Twist On The Evil Overlord Trope The Genre Has Seen In Years\",\"Incredible Isekai Puts The Best Twist On The Evil Overlord Trope The Genre Has Seen In Years\",\"Incredible Isekai Puts The Best Twist On The Evil Overlord Trope The Genre Has Seen In Years\",\"Incredible Isekai Puts The Best Twist On The Evil Overlord Trope The Genre Has Seen In Years\",\"Incredible Isekai Puts The Best Twist On The Evil Overlord Trope The Genre Has Seen In Years\",\"Jujutsu Kaisen's Cursed Energy Explained: Why All Sorcerers Are In Japan & Why It Makes The Series Revolutionary\",\"JoJo's Bizarre Adventure Jotaro Cosplay Is Nothing Short Of Jaw Dropping In Incredible Shoot\",\"10 Smartest JoJo’s Bizarre Adventure Characters\",\"JoJo's Bizarre Adventure Summary, Trailer, Cast, and More\",\"Boruto: Two Blue Vortex's Strongest Power Has An Unexpected Effect That Could Change The Series\",\"NEWS: Crunchyroll to Stream Medaka Kuroiwa is Impervious to My Charms, Toilet-Bound Hanako-kun 2nd S - Forum - Anime News Network\",\"Red Cat Ramen Anime Series Review - Review - Anime News Network\",\"Jujutsu Kaisen's Gojo Vs. Demon Slayer's Yoriichi: Which Hero Truly Embodies The Concept Of Strongest Better?\",\"REVIEW: Red Cat Ramen Anime Series Review - Forum - Anime News Network\",\"Rooster Fighter Anime Announces Cast Members - News - Anime News Network\",\"Rooster Fighter Anime Announces Cast Members - News - Anime News Network\",\"Rooster Fighter Anime Announces Cast Members - News - Anime News Network\",\"Rooster Fighter Anime Announces Cast Members - News - Anime News Network\",\"Dr. Stone Science Future Trailer Teases the Final Season's Debut: Watch -\",\"Dragon Ball Daima Is Ready to Put Some Respect on Gohan's Name - ComicBook.com\",\"Dragon Ball Daima Honors Late Creator Akira Toriyama With New Easter Egg: Watch - ComicBook.com\",\"Uzumaki's Azami Kurotani Comes To Life In Terrifying New Cosplay\",\"Uzumaki's Azami Kurotani Comes To Life In Terrifying New Cosplay\",\"Viz Media Releases Akira Himekawa's Kamudo Manga Simultaneously in English - News - Anime News Network\",\"Hideaki Anno Reflects on Space Battleship Yamato Before Launching New Anime - Interest - Anime News Network\",\"Dragon Ball Daima Reunites Goku With One of His Strongest Weapons\",\"Yen Press Adds 3 Manga, Announces Release of Collector's Edition of Spice & Wolf Manga - News - Anime News Network\",\"Fights That Are Better In The Bleach Anime\",\"Fights That Are Better In The Bleach Anime\",\"The Too-Perfect Saint: Tossed Aside by My Fiancé and Sold To Another Kingdom Novels Get 2025 TV Anime - News - Anime News Network\",\"Goblin Slayer Author Kumo Kagyu's Blade & Bastard Light Novels Get Anime - News - Anime News Network\",\"Kujira Tokiwa's The Holy Grail of Eris Light Novels Gets Anime - News - Anime News Network\",\"I'm the Evil Lord of an Intergalactic Empire! Light Novels Get TV Anime Next April - News - Anime News Network\",\"BLEACH: The Structure of the Realms, Explained\",\"This Villainess Manhwa Was One of the Best of the Genre Until It Ruined Its Story\",\"This Villainess Manhwa Was One of the Best of the Genre Until It Ruined Its Story\",\"This Villainess Manhwa Was One of the Best of the Genre Until It Ruined Its Story\",\"This Villainess Manhwa Was One of the Best of the Genre Until It Ruined Its Story\",\"This Villainess Manhwa Was One of the Best of the Genre Until It Ruined Its Story\",\"This Villainess Manhwa Was One of the Best of the Genre Until It Ruined Its Story\",\"This Villainess Manhwa Was One of the Best of the Genre Until It Ruined Its Story\",\"A Huge Twist in Jujutsu Kaisen's Ending Was Foreshadowed All the Way Back in the First Movie\",\"The Beginning After the End, a Top Webtoon, Is Getting an Anime\",\"The Beginning After the End, a Top Webtoon, Is Getting an Anime\",\"Kodansha to Publish Young Magazine USA Special Issue in August 2025 - News - Anime News Network\",\"New Jujutsu Kaisen Gojo Cosplay Brings Shonen's Most Iconic Mentor To Life With Anime-Accurate Look\",\"New Jujutsu Kaisen Gojo Cosplay Brings Shonen's Most Iconic Mentor To Life With Anime-Accurate Look\",\"The Beginning After the End: Web Comic Gets Anime Adapt in 2025\",\"INTEREST: Magic: The Gathering Teases Final Fantasy Set - Forum - Anime News Network\",\"INTEREST: Magic: The Gathering Teases Final Fantasy Set - Forum - Anime News Network\",\"Bleach: Thousand-Year Blood War Just Gave Uryu a Brand-New Form\",\"Bleach: Thousand-Year Blood War Just Gave Uryu a Brand-New Form\",\"INTEREST: Venom Collaborates Again With Birth of Kitaro, Brave Bang Bravern! - Forum - Anime News Network\",\"NEWS: Kazuma Kawamura, Yuki Tanaka Perform Themes for I Left My A-Rank Party TV Anime - Forum - Anime News Network\",\"NEWS: Crazy Food Truck Manga Creator Rokurou Ōgaki Launches New Manga on November 1 - Forum - Anime News Network\",\"NEWS: Japan's Video Game Rankings, October 14-20 [2024-10-26] - Forum - Anime News Network\",\"Phases of the Moon Knight #3 Preview: Avatar Eclipse Alert\",\"\\\"Thanks To My Master\\\" - Boruto: Two Blue Vortex Continues One Of The Franchise's Best And Most Important Themes\",\"NEWS: Crunchyroll States it is Investigating Situation After Voice Actor Claims Company Opened His M [1/4] - Forum - Anime News Network\",\"NEWS: Toshinori Sogabe's Yankee JK Kuzuhana-chan Gets Spinoff Manga - Forum - Anime News Network\",\"NEWS: Report: Japan's Online Video Industry to Grow to 45% of Total Screen Revenue by 2029 - Forum - Anime News Network\",\"NEWS: Report: Japan's Online Video Industry to Grow to 45% of Total Screen Revenue by 2029 - Forum - Anime News Network\",\"NEWS: Report: Japan's Online Video Industry to Grow to 45% of Total Screen Revenue by 2029 - Forum - Anime News Network\",\"Demon Slayer: What if Muzan Had Never Killed the Kamado Family?\",\"Cute Venom x Anime Collaboration Art Drops Just in Time for the Movie Release\",\"10 Most Hateable Anime Characters Of All Time, Ranked\",\"Maki Minami's 'Hisureba, Hana' Manga Ends in December - News - Anime News Network\",\"Ayuko, Fumi Yoshinaga, More Launch New Manga in Cocohana Magazine - News - Anime News Network\",\"NEWS: Guilty Gear Strive Game Streams DLC Character Trailer for Queen Dizzy - Forum - Anime News Network\",\"NEWS: Ayuko, Fumi Yoshinaga, More Launch New Manga in Cocohana Magazine - Forum - Anime News Network\",\"NEWS: MAGES. Unveils Steins;Gate Re:Boot Game Slated for 2025 [1/2] - Forum - Anime News Network\",\"NEWS: Cute High Earth Defense Club Eternal Love! Anime Film Reveals More Returning Cast, Theme Song, - Forum - Anime News Network\",\"NEWS: Cute High Earth Defense Club Eternal Love! Anime Film Reveals More Returning Cast, Theme Song, - Forum - Anime News Network\",\"Ultraman: Rising Director Divulges Details About the Film's Sequel\",\"Who Are the World's Wealthiest Manga Creators?\",\"Ranma 1/2 E01: Here's Ranma & E02: I Hate Men Honor Original: Review\",\"Bleach: Uryuu Receives One of the Best Anime Additions Yet\",\"Fall's Best Anime Shows Are Dominating Netflix Ratings\",\"Fall's Best Anime Shows Are Dominating Netflix Ratings\",\"Fall's Best Anime Shows Are Dominating Netflix Ratings\",\"Fall's Best Anime Shows Are Dominating Netflix Ratings\",\"Fall's Best Anime Shows Are Dominating Netflix Ratings\",\"Bleach: Uryuu's Vollstandig, Explained\",\"One Of The Best Romance Anime Of All Time Is An Underrated Masterpiece, But There's One Thing Holding It Back From Being Huge\",\"Kaiju No. 8's Kafka Springs to Life In Impressive New Cosplay\",\"Dragon Ball Daima Confirms It's a Love Letter To Akira Toriyama and GT With a Subtle Homage\",\"Latest Vivre Card Confirms One Major Detail About Koby's Haki\",\"10 Jujutsu Kaisen Characters That Deserve Their Own Spin-Off\",\"After Years of Waiting, Bleach Just Brought Back Its Best Arrancar\",\"Sorry Chainsaw Man & Spy x Family, But 2022’s Most Important Anime Was A Sleeper Hit No One Expected To Get As Big As It Did\",\"10 Best Thorfinn Quotes In Vinland Saga That Prove Just How Deep The Series Is\",\"The Best Manga With Ghost Protagonists\",\"The Best Manga With Ghost Protagonists\",\"Solo Leveling's Sequel Highlights a MAJOR Problem in the Manhwa Industry\",\"Dragon Ball Daima Has A Prime Opportunity To Connect To Super's Next Big Frieza Saga Through A Powerful Forgotten Artifact\",\"Boruto: Two Blue Vortex Has Been Dropping Hints That One Major Character Has Been Living A Lie The Whole Time\",\"The Apothecary Diaries’ Successor Is a Beautiful New Manga That Gives Greek Mythology a Shojo Twist\",\"New Oshi no Ko Novel Announced \",\"If You Love Netflix's Sweet Home, You Need to Check Out the Terrifying Manwha That Inspired It\"],\"legendgroup\":\"NO MATCH\",\"marker\":{\"color\":\"#ab63fa\",\"symbol\":\"circle\"},\"mode\":\"markers\",\"name\":\"NO MATCH\",\"orientation\":\"v\",\"showlegend\":true,\"x\":[-74.77939,-41.70643,-2.2500498,40.47908,13.071323,-53.12604,-67.55264,-90.14607,-69.517914,-2.2360804,-2.2360804,28.629715,-61.7581,-14.165799,-1.3628124,-20.915228,-116.38581,-17.183693,-93.1525,-110.74833,19.59171,-2.2360804,28.581642,-42.984554,-68.7589,-2.2360804,-62.834156,31.672655,127.32132,119.14314,-82.34165,-160.12729,119.44599,119.14314,50.170155,-33.24645,25.937243,-31.185005,7.411926,119.14314,119.14314,119.14314,119.14314,119.14314,-30.521563,-53.254665,-45.03006,-56.482517,-119.01051,-15.61362,37.263817,50.58129,-77.6186,41.702965,51.62359,30.433205,-105.94464,135.38542,-32.93806,-119.28793,132.63623,-17.615185,-78.984375,47.339813,-42.206913,-69.05386,5.702051,22.089373,-96.27465,-2.2500498,22.31422,22.546453,35.385147,-32.467224,-114.75839,28.612932,-3.1288643,-25.626026,7.0506005,-71.45222,-96.90808,-123.936226,3.2482405,-17.183693,-2.1191099,-117.543526,-19.829304,73.1148,-67.379166,165.225,75.58628,12.592534,-71.69638,0.33038154,162.28639,-29.791164,58.33547,-102.29514,76.07889,-29.791164,-29.791164,-29.791164,-29.791164,-15.603664,-112.7568,-29.791164,-29.791164,-29.791164,-2.66966,4.5553474,-90.704285,-99.16758,-62.25864,-29.791164,-65.44143,-29.791164,-29.791164,-29.791164,-29.791164,75.58628,-78.509735,-38.628067,-83.55746,-148.962,-4.5348167,-61.549416,-31.185005,15.012708,-149.80127,-137.9283,11.437055,-15.61362,13.839537,-46.34052,-55.979214,-100.37533,-139.38364,-78.192116,-51.195095,-133.40077,-26.195799,-17.98997,-130.2978,-109.506386,-20.377604,-55.00335],\"xaxis\":\"x\",\"y\":[29.416082,23.212673,8.13444,42.07891,40.082123,-27.92482,43.415363,41.773354,126.121414,32.111546,32.111546,-71.46125,-53.688015,17.093151,48.60862,-73.8481,-51.340385,-19.066332,-13.099112,-12.075474,-13.673036,32.111546,27.116833,-22.255203,-38.35863,32.111546,19.963923,149.24504,94.37304,80.05109,58.517044,-23.153479,64.23454,80.05109,69.71025,84.18834,53.49861,-23.889135,-141.26439,80.05109,80.05109,80.05109,80.05109,80.05109,-136.93703,-14.711399,-52.111088,-86.097046,112.176155,-38.099148,67.311165,56.726444,131.28008,15.700199,16.791868,16.332445,-69.50948,83.717094,-61.4856,-88.42473,70.63654,-57.39035,-19.803593,-4.5181775,-13.054962,78.23635,107.17003,137.29805,-49.60595,8.13444,-29.331034,-76.21788,137.42705,55.67167,77.273125,-49.152466,-70.57044,42.532074,77.257126,-87.49173,93.52935,3.8757133,-28.81078,-19.066332,65.31491,-31.145489,52.70309,92.80141,133.56555,30.361774,35.123363,18.678572,104.38466,-81.38319,36.922592,1.715503,-38.35467,71.66535,109.951515,1.715503,1.715503,1.715503,1.715503,-115.24855,48.070843,1.715503,1.715503,1.715503,-51.60802,-8.088246,23.618526,-30.12915,-107.68525,1.715503,-23.955244,1.715503,1.715503,1.715503,1.715503,35.123363,-52.20409,37.69527,-34.97382,-70.41175,113.530205,-134.55765,-23.889135,4.270359,3.0927787,-67.26577,-59.956097,-38.099148,139.73288,69.637085,130.30902,83.855606,-40.116295,12.119856,12.483353,-16.00958,26.771679,109.989,51.11836,28.272247,71.532234,-40.8624],\"yaxis\":\"y\",\"type\":\"scatter\"},{\"hovertemplate\":\"<b>%{hovertext}</b><br><br>Label=FAIRY TALE<br>t-SNE Dimension 1=%{x}<br>t-SNE Dimension 2=%{y}<extra></extra>\",\"hovertext\":[\"NEWS: Fairy Tail: 100 Years Quest Anime Casts Nana Mizuki - Forum - Anime News Network\",\"NEWS: Idolm@ster Cinderella Girls U149 Manga Ends on November 9 - Forum - Anime News Network\"],\"legendgroup\":\"FAIRY TALE\",\"marker\":{\"color\":\"#FFA15A\",\"symbol\":\"circle\"},\"mode\":\"markers\",\"name\":\"FAIRY TALE\",\"orientation\":\"v\",\"showlegend\":true,\"x\":[-2.2360804,-29.791164],\"xaxis\":\"x\",\"y\":[32.111546,1.715503],\"yaxis\":\"y\",\"type\":\"scatter\"},{\"hovertemplate\":\"<b>%{hovertext}</b><br><br>Label=DRAGON BALL<br>t-SNE Dimension 1=%{x}<br>t-SNE Dimension 2=%{y}<extra></extra>\",\"hovertext\":[\"Dragon Ball Super Was A Great Anime... But Its Return Will Be The Best Dragon Ball's Been Since the End Of Z\",\"Dragon Ball Just Revealed the Secret Twist Behind the Dragon Balls - ComicBook.com\",\"Akira Toriyama's Swan Song Dragon Ball Daima Has Arrived\",\"Dragon Ball's Demon Realm Is Bigger Than Ever Expected - ComicBook.com\",\"Dragon Ball's Stephanie Naldony Breaks Silence on Returning to Goku After Nearly 15 Years - ComicBook.com\",\"Dragon Ball DAIMA Introduces A Big Shenron Retcon That Changes His Relationship With Goku Forever\",\"Dragon Ball DAIMA Introduces A Big Shenron Retcon That Changes His Relationship With Goku Forever\",\"Dragon Ball Daima's Massive Namekian Revelation Was Foreshadowed Years In Advanced \",\"Dragon Ball Daima's Worst Wish Isn't Bad for Everybody\",\"Dragon Ball Z’s Second-Strongest Villain Is Still Alive in Super, But Most Fans Missed It\",\"Dragon Ball Daima’s First Real Fight Is a Major Change for the Franchise for One Subtle, Yet Huge, Reason\",\"Dragon Ball Daima’s First Real Fight Is a Major Change for the Franchise for One Subtle, Yet Huge, Reason\",\"Dragon Ball Daima’s First Real Fight Is a Major Change for the Franchise for One Subtle, Yet Huge, Reason\",\"Dragon Ball Daima’s Fights Are a Huge Change for the Franchise, & I for One, Am Absolutely Loving It\",\"Dragon Ball Daima’s Fights Are a Huge Change for the Franchise, & I for One, Am Absolutely Loving It\",\"Dragon Ball Daima’s Fights Are a Huge Change for the Franchise, & I for One, Am Absolutely Loving It\",\"Dragon Ball Daima’s Fights Are a Huge Change for the Franchise, & I for One, Am Absolutely Loving It\",\"Dragon Ball DAIMA is Fast Losing Steam\"],\"legendgroup\":\"DRAGON BALL\",\"marker\":{\"color\":\"#19d3f3\",\"symbol\":\"circle\"},\"mode\":\"markers\",\"name\":\"DRAGON BALL\",\"orientation\":\"v\",\"showlegend\":true,\"x\":[-8.9489155,29.764265,-10.478276,26.41164,23.454628,16.998775,3.2482405,8.251481,44.81367,-19.576149,4.6594043,-19.436714,75.58628,-8.857618,-15.61362,79.32081,4.5553474,-13.139148],\"xaxis\":\"x\",\"y\":[95.67694,164.17746,137.31815,155.08708,123.92532,168.8694,-28.81078,127.0212,142.29236,130.83084,154.10602,-92.095825,35.123363,160.18112,-38.099148,48.621815,-8.088246,148.54309],\"yaxis\":\"y\",\"type\":\"scatter\"},{\"hovertemplate\":\"<b>%{hovertext}</b><br><br>Label=NARUTO<br>t-SNE Dimension 1=%{x}<br>t-SNE Dimension 2=%{y}<extra></extra>\",\"hovertext\":[\"Naruto's Entire Uchiha Family Tree, Explained\",\"Naruto's Last Battle Is Actually a Genius Callback to Kishimoto's Original Idea for the Manga\",\"Every Naruto Form Ranked From Weakest To Strongest\"],\"legendgroup\":\"NARUTO\",\"marker\":{\"color\":\"#FF6692\",\"symbol\":\"circle\"},\"mode\":\"markers\",\"name\":\"NARUTO\",\"orientation\":\"v\",\"showlegend\":true,\"x\":[-52.91821,-139.99493,0.62944055],\"xaxis\":\"x\",\"y\":[-1.7996163,56.38347,-101.353386],\"yaxis\":\"y\",\"type\":\"scatter\"},{\"hovertemplate\":\"<b>%{hovertext}</b><br><br>Label=ATTACK ON TITAN<br>t-SNE Dimension 1=%{x}<br>t-SNE Dimension 2=%{y}<extra></extra>\",\"hovertext\":[\"Attack on Titan: Gabi’s Journey from Hated to Understood\",\"Attack On Titan's Controversial Time Skip Is Secretly Genius for One Reason I Can't Stop Thinking About\",\"Attack on Titan: The Last Attack Will A New Post-Credit Scene\"],\"legendgroup\":\"ATTACK ON TITAN\",\"marker\":{\"color\":\"#B6E880\",\"symbol\":\"circle\"},\"mode\":\"markers\",\"name\":\"ATTACK ON TITAN\",\"orientation\":\"v\",\"showlegend\":true,\"x\":[-50.205833,-42.160294,-157.82584],\"xaxis\":\"x\",\"y\":[-67.20532,-37.465572,29.311342],\"yaxis\":\"y\",\"type\":\"scatter\"},{\"hovertemplate\":\"<b>%{hovertext}</b><br><br>Label=FRUITS BASKET<br>t-SNE Dimension 1=%{x}<br>t-SNE Dimension 2=%{y}<extra></extra>\",\"hovertext\":[\"10 Best Fruits Basket Fan Ships That Never Came True\",\"10 Best Fruits Basket Fan Ships That Never Came True\",\"Fruits Basket's Famous Love Triangle Was Actually More Complicated Than Fans Think Because Of One Overlooked Character\",\"Fruits Basket's Famous Love Triangle Was Actually More Complicated Than Fans Think Because Of One Overlooked Character\",\"Fruits Basket's Famous Love Triangle Was Actually More Complicated Than Fans Think Because Of One Overlooked Character\",\"Fruits Basket's Famous Love Triangle Was Actually More Complicated Than Fans Think Because Of One Overlooked Character\",\"Fruits Basket's Famous Love Triangle Was Actually More Complicated Than Fans Think Because Of One Overlooked Character\",\"Fruits Basket's Famous Love Triangle Was Actually More Complicated Than Fans Think Because Of One Overlooked Character\"],\"legendgroup\":\"FRUITS BASKET\",\"marker\":{\"color\":\"#FF97FF\",\"symbol\":\"circle\"},\"mode\":\"markers\",\"name\":\"FRUITS BASKET\",\"orientation\":\"v\",\"showlegend\":true,\"x\":[-105.619255,-7.418444,-96.117134,-31.185005,-31.185005,-49.487797,-65.66037,-54.253674],\"xaxis\":\"x\",\"y\":[9.0076065,-17.377113,5.2166266,-23.889135,-23.889135,49.24681,-9.654173,32.362717],\"yaxis\":\"y\",\"type\":\"scatter\"}],                        {\"template\":{\"data\":{\"histogram2dcontour\":[{\"type\":\"histogram2dcontour\",\"colorbar\":{\"outlinewidth\":0,\"ticks\":\"\"},\"colorscale\":[[0.0,\"#0d0887\"],[0.1111111111111111,\"#46039f\"],[0.2222222222222222,\"#7201a8\"],[0.3333333333333333,\"#9c179e\"],[0.4444444444444444,\"#bd3786\"],[0.5555555555555556,\"#d8576b\"],[0.6666666666666666,\"#ed7953\"],[0.7777777777777778,\"#fb9f3a\"],[0.8888888888888888,\"#fdca26\"],[1.0,\"#f0f921\"]]}],\"choropleth\":[{\"type\":\"choropleth\",\"colorbar\":{\"outlinewidth\":0,\"ticks\":\"\"}}],\"histogram2d\":[{\"type\":\"histogram2d\",\"colorbar\":{\"outlinewidth\":0,\"ticks\":\"\"},\"colorscale\":[[0.0,\"#0d0887\"],[0.1111111111111111,\"#46039f\"],[0.2222222222222222,\"#7201a8\"],[0.3333333333333333,\"#9c179e\"],[0.4444444444444444,\"#bd3786\"],[0.5555555555555556,\"#d8576b\"],[0.6666666666666666,\"#ed7953\"],[0.7777777777777778,\"#fb9f3a\"],[0.8888888888888888,\"#fdca26\"],[1.0,\"#f0f921\"]]}],\"heatmap\":[{\"type\":\"heatmap\",\"colorbar\":{\"outlinewidth\":0,\"ticks\":\"\"},\"colorscale\":[[0.0,\"#0d0887\"],[0.1111111111111111,\"#46039f\"],[0.2222222222222222,\"#7201a8\"],[0.3333333333333333,\"#9c179e\"],[0.4444444444444444,\"#bd3786\"],[0.5555555555555556,\"#d8576b\"],[0.6666666666666666,\"#ed7953\"],[0.7777777777777778,\"#fb9f3a\"],[0.8888888888888888,\"#fdca26\"],[1.0,\"#f0f921\"]]}],\"heatmapgl\":[{\"type\":\"heatmapgl\",\"colorbar\":{\"outlinewidth\":0,\"ticks\":\"\"},\"colorscale\":[[0.0,\"#0d0887\"],[0.1111111111111111,\"#46039f\"],[0.2222222222222222,\"#7201a8\"],[0.3333333333333333,\"#9c179e\"],[0.4444444444444444,\"#bd3786\"],[0.5555555555555556,\"#d8576b\"],[0.6666666666666666,\"#ed7953\"],[0.7777777777777778,\"#fb9f3a\"],[0.8888888888888888,\"#fdca26\"],[1.0,\"#f0f921\"]]}],\"contourcarpet\":[{\"type\":\"contourcarpet\",\"colorbar\":{\"outlinewidth\":0,\"ticks\":\"\"}}],\"contour\":[{\"type\":\"contour\",\"colorbar\":{\"outlinewidth\":0,\"ticks\":\"\"},\"colorscale\":[[0.0,\"#0d0887\"],[0.1111111111111111,\"#46039f\"],[0.2222222222222222,\"#7201a8\"],[0.3333333333333333,\"#9c179e\"],[0.4444444444444444,\"#bd3786\"],[0.5555555555555556,\"#d8576b\"],[0.6666666666666666,\"#ed7953\"],[0.7777777777777778,\"#fb9f3a\"],[0.8888888888888888,\"#fdca26\"],[1.0,\"#f0f921\"]]}],\"surface\":[{\"type\":\"surface\",\"colorbar\":{\"outlinewidth\":0,\"ticks\":\"\"},\"colorscale\":[[0.0,\"#0d0887\"],[0.1111111111111111,\"#46039f\"],[0.2222222222222222,\"#7201a8\"],[0.3333333333333333,\"#9c179e\"],[0.4444444444444444,\"#bd3786\"],[0.5555555555555556,\"#d8576b\"],[0.6666666666666666,\"#ed7953\"],[0.7777777777777778,\"#fb9f3a\"],[0.8888888888888888,\"#fdca26\"],[1.0,\"#f0f921\"]]}],\"mesh3d\":[{\"type\":\"mesh3d\",\"colorbar\":{\"outlinewidth\":0,\"ticks\":\"\"}}],\"scatter\":[{\"fillpattern\":{\"fillmode\":\"overlay\",\"size\":10,\"solidity\":0.2},\"type\":\"scatter\"}],\"parcoords\":[{\"type\":\"parcoords\",\"line\":{\"colorbar\":{\"outlinewidth\":0,\"ticks\":\"\"}}}],\"scatterpolargl\":[{\"type\":\"scatterpolargl\",\"marker\":{\"colorbar\":{\"outlinewidth\":0,\"ticks\":\"\"}}}],\"bar\":[{\"error_x\":{\"color\":\"#2a3f5f\"},\"error_y\":{\"color\":\"#2a3f5f\"},\"marker\":{\"line\":{\"color\":\"#E5ECF6\",\"width\":0.5},\"pattern\":{\"fillmode\":\"overlay\",\"size\":10,\"solidity\":0.2}},\"type\":\"bar\"}],\"scattergeo\":[{\"type\":\"scattergeo\",\"marker\":{\"colorbar\":{\"outlinewidth\":0,\"ticks\":\"\"}}}],\"scatterpolar\":[{\"type\":\"scatterpolar\",\"marker\":{\"colorbar\":{\"outlinewidth\":0,\"ticks\":\"\"}}}],\"histogram\":[{\"marker\":{\"pattern\":{\"fillmode\":\"overlay\",\"size\":10,\"solidity\":0.2}},\"type\":\"histogram\"}],\"scattergl\":[{\"type\":\"scattergl\",\"marker\":{\"colorbar\":{\"outlinewidth\":0,\"ticks\":\"\"}}}],\"scatter3d\":[{\"type\":\"scatter3d\",\"line\":{\"colorbar\":{\"outlinewidth\":0,\"ticks\":\"\"}},\"marker\":{\"colorbar\":{\"outlinewidth\":0,\"ticks\":\"\"}}}],\"scattermapbox\":[{\"type\":\"scattermapbox\",\"marker\":{\"colorbar\":{\"outlinewidth\":0,\"ticks\":\"\"}}}],\"scatterternary\":[{\"type\":\"scatterternary\",\"marker\":{\"colorbar\":{\"outlinewidth\":0,\"ticks\":\"\"}}}],\"scattercarpet\":[{\"type\":\"scattercarpet\",\"marker\":{\"colorbar\":{\"outlinewidth\":0,\"ticks\":\"\"}}}],\"carpet\":[{\"aaxis\":{\"endlinecolor\":\"#2a3f5f\",\"gridcolor\":\"white\",\"linecolor\":\"white\",\"minorgridcolor\":\"white\",\"startlinecolor\":\"#2a3f5f\"},\"baxis\":{\"endlinecolor\":\"#2a3f5f\",\"gridcolor\":\"white\",\"linecolor\":\"white\",\"minorgridcolor\":\"white\",\"startlinecolor\":\"#2a3f5f\"},\"type\":\"carpet\"}],\"table\":[{\"cells\":{\"fill\":{\"color\":\"#EBF0F8\"},\"line\":{\"color\":\"white\"}},\"header\":{\"fill\":{\"color\":\"#C8D4E3\"},\"line\":{\"color\":\"white\"}},\"type\":\"table\"}],\"barpolar\":[{\"marker\":{\"line\":{\"color\":\"#E5ECF6\",\"width\":0.5},\"pattern\":{\"fillmode\":\"overlay\",\"size\":10,\"solidity\":0.2}},\"type\":\"barpolar\"}],\"pie\":[{\"automargin\":true,\"type\":\"pie\"}]},\"layout\":{\"autotypenumbers\":\"strict\",\"colorway\":[\"#636efa\",\"#EF553B\",\"#00cc96\",\"#ab63fa\",\"#FFA15A\",\"#19d3f3\",\"#FF6692\",\"#B6E880\",\"#FF97FF\",\"#FECB52\"],\"font\":{\"color\":\"#2a3f5f\"},\"hovermode\":\"closest\",\"hoverlabel\":{\"align\":\"left\"},\"paper_bgcolor\":\"white\",\"plot_bgcolor\":\"#E5ECF6\",\"polar\":{\"bgcolor\":\"#E5ECF6\",\"angularaxis\":{\"gridcolor\":\"white\",\"linecolor\":\"white\",\"ticks\":\"\"},\"radialaxis\":{\"gridcolor\":\"white\",\"linecolor\":\"white\",\"ticks\":\"\"}},\"ternary\":{\"bgcolor\":\"#E5ECF6\",\"aaxis\":{\"gridcolor\":\"white\",\"linecolor\":\"white\",\"ticks\":\"\"},\"baxis\":{\"gridcolor\":\"white\",\"linecolor\":\"white\",\"ticks\":\"\"},\"caxis\":{\"gridcolor\":\"white\",\"linecolor\":\"white\",\"ticks\":\"\"}},\"coloraxis\":{\"colorbar\":{\"outlinewidth\":0,\"ticks\":\"\"}},\"colorscale\":{\"sequential\":[[0.0,\"#0d0887\"],[0.1111111111111111,\"#46039f\"],[0.2222222222222222,\"#7201a8\"],[0.3333333333333333,\"#9c179e\"],[0.4444444444444444,\"#bd3786\"],[0.5555555555555556,\"#d8576b\"],[0.6666666666666666,\"#ed7953\"],[0.7777777777777778,\"#fb9f3a\"],[0.8888888888888888,\"#fdca26\"],[1.0,\"#f0f921\"]],\"sequentialminus\":[[0.0,\"#0d0887\"],[0.1111111111111111,\"#46039f\"],[0.2222222222222222,\"#7201a8\"],[0.3333333333333333,\"#9c179e\"],[0.4444444444444444,\"#bd3786\"],[0.5555555555555556,\"#d8576b\"],[0.6666666666666666,\"#ed7953\"],[0.7777777777777778,\"#fb9f3a\"],[0.8888888888888888,\"#fdca26\"],[1.0,\"#f0f921\"]],\"diverging\":[[0,\"#8e0152\"],[0.1,\"#c51b7d\"],[0.2,\"#de77ae\"],[0.3,\"#f1b6da\"],[0.4,\"#fde0ef\"],[0.5,\"#f7f7f7\"],[0.6,\"#e6f5d0\"],[0.7,\"#b8e186\"],[0.8,\"#7fbc41\"],[0.9,\"#4d9221\"],[1,\"#276419\"]]},\"xaxis\":{\"gridcolor\":\"white\",\"linecolor\":\"white\",\"ticks\":\"\",\"title\":{\"standoff\":15},\"zerolinecolor\":\"white\",\"automargin\":true,\"zerolinewidth\":2},\"yaxis\":{\"gridcolor\":\"white\",\"linecolor\":\"white\",\"ticks\":\"\",\"title\":{\"standoff\":15},\"zerolinecolor\":\"white\",\"automargin\":true,\"zerolinewidth\":2},\"scene\":{\"xaxis\":{\"backgroundcolor\":\"#E5ECF6\",\"gridcolor\":\"white\",\"linecolor\":\"white\",\"showbackground\":true,\"ticks\":\"\",\"zerolinecolor\":\"white\",\"gridwidth\":2},\"yaxis\":{\"backgroundcolor\":\"#E5ECF6\",\"gridcolor\":\"white\",\"linecolor\":\"white\",\"showbackground\":true,\"ticks\":\"\",\"zerolinecolor\":\"white\",\"gridwidth\":2},\"zaxis\":{\"backgroundcolor\":\"#E5ECF6\",\"gridcolor\":\"white\",\"linecolor\":\"white\",\"showbackground\":true,\"ticks\":\"\",\"zerolinecolor\":\"white\",\"gridwidth\":2}},\"shapedefaults\":{\"line\":{\"color\":\"#2a3f5f\"}},\"annotationdefaults\":{\"arrowcolor\":\"#2a3f5f\",\"arrowhead\":0,\"arrowwidth\":1},\"geo\":{\"bgcolor\":\"white\",\"landcolor\":\"#E5ECF6\",\"subunitcolor\":\"white\",\"showland\":true,\"showlakes\":true,\"lakecolor\":\"white\"},\"title\":{\"x\":0.05},\"mapbox\":{\"style\":\"light\"}}},\"xaxis\":{\"anchor\":\"y\",\"domain\":[0.0,1.0],\"title\":{\"text\":\"t-SNE Dimension 1\"}},\"yaxis\":{\"anchor\":\"x\",\"domain\":[0.0,1.0],\"title\":{\"text\":\"t-SNE Dimension 2\"}},\"legend\":{\"title\":{\"text\":\"Label\"},\"tracegroupgap\":0},\"title\":{\"text\":\"t-SNE Clustering of Article Titles by Label\"}},                        {\"responsive\": true}                    ).then(function(){\n",
       "                            \n",
       "var gd = document.getElementById('6584e799-1bb3-4685-87a4-6374d0d8d68b');\n",
       "var x = new MutationObserver(function (mutations, observer) {{\n",
       "        var display = window.getComputedStyle(gd).display;\n",
       "        if (!display || display === 'none') {{\n",
       "            console.log([gd, 'removed!']);\n",
       "            Plotly.purge(gd);\n",
       "            observer.disconnect();\n",
       "        }}\n",
       "}});\n",
       "\n",
       "// Listen for the removal of the full notebook cells\n",
       "var notebookContainer = gd.closest('#notebook-container');\n",
       "if (notebookContainer) {{\n",
       "    x.observe(notebookContainer, {childList: true});\n",
       "}}\n",
       "\n",
       "// Listen for the clearing of the current output cell\n",
       "var outputEl = gd.closest('.output');\n",
       "if (outputEl) {{\n",
       "    x.observe(outputEl, {childList: true});\n",
       "}}\n",
       "\n",
       "                        })                };                });            </script>        </div>"
      ]
     },
     "metadata": {},
     "output_type": "display_data"
    }
   ],
   "source": [
    "import pandas as pd\n",
    "from sklearn.manifold import TSNE\n",
    "import plotly.express as px\n",
    "\n",
    "# Assuming `article_titles`, `model_input`, and `labels` are already defined\n",
    "# article_titles: List of article titles\n",
    "# model_input: Matrix of TF-IDF values for t-SNE\n",
    "# labels: Corresponding labels for each article\n",
    "\n",
    "# Step 1: Use t-SNE to reduce dimensions\n",
    "tsne_model = TSNE(n_components=2, perplexity=30, random_state=42, n_iter=1000)\n",
    "tsne_results = tsne_model.fit_transform(model_input)\n",
    "\n",
    "# Step 2: Create a DataFrame for the t-SNE results\n",
    "tsne_df = pd.DataFrame(tsne_results, columns=['TSNE1', 'TSNE2'])\n",
    "tsne_df['Title'] = article_titles  # Add titles to the DataFrame\n",
    "tsne_df['Label'] = labels  # Add labels to the DataFrame\n",
    "\n",
    "# Step 3: Plot with Plotly, coloring by 'Label'\n",
    "fig = px.scatter(\n",
    "    tsne_df,\n",
    "    x='TSNE1',\n",
    "    y='TSNE2',\n",
    "    color='Label',           # Use labels to color points\n",
    "    hover_name='Title',       # Show article title on hover\n",
    "    title=\"t-SNE Clustering of Article Titles by Label\",\n",
    "    labels={'TSNE1': 't-SNE Dimension 1', 'TSNE2': 't-SNE Dimension 2'}\n",
    ")\n",
    "\n",
    "# Display the plot\n",
    "fig.show()\n"
   ]
  },
  {
   "cell_type": "code",
   "execution_count": null,
   "metadata": {},
   "outputs": [],
   "source": []
  }
 ],
 "metadata": {
  "kernelspec": {
   "display_name": "py-gdelt",
   "language": "python",
   "name": "py-gdelt"
  },
  "language_info": {
   "codemirror_mode": {
    "name": "ipython",
    "version": 3
   },
   "file_extension": ".py",
   "mimetype": "text/x-python",
   "name": "python",
   "nbconvert_exporter": "python",
   "pygments_lexer": "ipython3",
   "version": "3.11.7"
  }
 },
 "nbformat": 4,
 "nbformat_minor": 2
}
