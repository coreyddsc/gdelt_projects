{
 "cells": [
  {
   "cell_type": "code",
   "execution_count": null,
   "metadata": {},
   "outputs": [
    {
     "name": "stdout",
     "output_type": "stream",
     "text": [
      "here\n"
     ]
    }
   ],
   "source": [
    "import gdelt # for gdelt searchs\n",
    "from gkg_tools import * # for gkg searchs\n",
    "# %run \"../gkg_tools.py\" # using magic command run to access the script from the parent directory\n",
    "\n",
    "import pandas as pd\n",
    "from sklearn.feature_extraction.text import TfidfVectorizer\n",
    "from sklearn.manifold import TSNE\n",
    "import matplotlib.pyplot as plt\n",
    "import seaborn as sns\n",
    "\n",
    "\n",
    "import nltk\n",
    "from nltk.tokenize import word_tokenize, sent_tokenize\n",
    "\n",
    "\n",
    "from transformers import pipeline, set_seed\n",
    "import torch\n",
    "\n",
    "# # GPU Timing (using GPU 1) else -1 for CPU\n",
    "device_id = 1 if torch.cuda.is_available() else -1 "
   ]
  },
  {
   "cell_type": "code",
   "execution_count": 38,
   "metadata": {},
   "outputs": [],
   "source": [
    "gkg = gkg_operator() # create a gkg operator\n",
    "gkg.set_date(['2024 Oct 20', '2024 Oct 21']) # set the date range for the search\n",
    "gkg.get_gkg(coverage=True) # initiate the search"
   ]
  },
  {
   "cell_type": "code",
   "execution_count": 69,
   "metadata": {},
   "outputs": [
    {
     "data": {
      "text/plain": [
       "['2024 Sep 30',\n",
       " '2024 Oct 07',\n",
       " '2024 Oct 14',\n",
       " '2024 Oct 21',\n",
       " '2024 Oct 28',\n",
       " '2024 Nov 04',\n",
       " '2024 Nov 11']"
      ]
     },
     "execution_count": 69,
     "metadata": {},
     "output_type": "execute_result"
    }
   ],
   "source": [
    "first_monday = '2024 Sep 30'\n",
    "# make a list of the next N mondays\n",
    "N = 10\n",
    "mondays = pd.date_range(first_monday, periods=7, freq='W-MON').strftime('%Y %b %d').tolist()\n",
    "mondays"
   ]
  },
  {
   "cell_type": "code",
   "execution_count": 79,
   "metadata": {},
   "outputs": [
    {
     "ename": "OSError",
     "evalue": "[WinError 1450] Insufficient system resources exist to complete the requested service",
     "output_type": "error",
     "traceback": [
      "\u001b[1;31m---------------------------------------------------------------------------\u001b[0m",
      "\u001b[1;31m_RemoteTraceback\u001b[0m                          Traceback (most recent call last)",
      "\u001b[1;31m_RemoteTraceback\u001b[0m: \n\"\"\"\nTraceback (most recent call last):\n  File \"c:\\ProgramData\\anaconda3\\Lib\\concurrent\\futures\\process.py\", line 219, in _sendback_result\n    result_queue.put(_ResultItem(work_id, result=result,\n  File \"c:\\ProgramData\\anaconda3\\Lib\\multiprocessing\\queues.py\", line 396, in put\n    self._writer.send_bytes(obj)\n  File \"c:\\ProgramData\\anaconda3\\Lib\\multiprocessing\\connection.py\", line 200, in send_bytes\n    self._send_bytes(m[offset:offset + size])\n  File \"c:\\ProgramData\\anaconda3\\Lib\\multiprocessing\\connection.py\", line 289, in _send_bytes\n    ov, err = _winapi.WriteFile(self._handle, buf, overlapped=True)\n              ^^^^^^^^^^^^^^^^^^^^^^^^^^^^^^^^^^^^^^^^^^^^^^^^^^^^^\nOSError: [WinError 1450] Insufficient system resources exist to complete the requested service\n\"\"\"",
      "\nThe above exception was the direct cause of the following exception:\n",
      "\u001b[1;31mOSError\u001b[0m                                   Traceback (most recent call last)",
      "Cell \u001b[1;32mIn[79], line 4\u001b[0m\n\u001b[0;32m      2\u001b[0m \u001b[38;5;28;01mfor\u001b[39;00m mon \u001b[38;5;129;01min\u001b[39;00m mondays[\u001b[38;5;241m2\u001b[39m:]:\n\u001b[0;32m      3\u001b[0m     gkg\u001b[38;5;241m.\u001b[39mset_date(mon)\n\u001b[1;32m----> 4\u001b[0m     gkg\u001b[38;5;241m.\u001b[39mget_gkg(coverage\u001b[38;5;241m=\u001b[39m\u001b[38;5;28;01mTrue\u001b[39;00m)\n\u001b[0;32m      5\u001b[0m     \u001b[38;5;66;03m# update mondays_news with the new data\u001b[39;00m\n\u001b[0;32m      6\u001b[0m     mondays_news[mon] \u001b[38;5;241m=\u001b[39m gkg\u001b[38;5;241m.\u001b[39mgkg_query\u001b[38;5;241m.\u001b[39mcopy()\n",
      "File \u001b[1;32mc:\\Users\\Corey Dearing\\Desktop\\gdelt\\LLM_projects\\gkg_tools.py:37\u001b[0m, in \u001b[0;36mgkg_operator.get_gkg\u001b[1;34m(self, data, coverage)\u001b[0m\n\u001b[0;32m     35\u001b[0m \u001b[38;5;28;01mdef\u001b[39;00m \u001b[38;5;21mget_gkg\u001b[39m(\u001b[38;5;28mself\u001b[39m, data\u001b[38;5;241m=\u001b[39m\u001b[38;5;28;01mNone\u001b[39;00m, coverage\u001b[38;5;241m=\u001b[39m\u001b[38;5;28;01mTrue\u001b[39;00m):\n\u001b[0;32m     36\u001b[0m     \u001b[38;5;28;01mif\u001b[39;00m data \u001b[38;5;129;01mis\u001b[39;00m \u001b[38;5;28;01mNone\u001b[39;00m:\n\u001b[1;32m---> 37\u001b[0m         \u001b[38;5;28mself\u001b[39m\u001b[38;5;241m.\u001b[39mgkg_query \u001b[38;5;241m=\u001b[39m \u001b[38;5;28mself\u001b[39m\u001b[38;5;241m.\u001b[39mgdv2\u001b[38;5;241m.\u001b[39mSearch(date\u001b[38;5;241m=\u001b[39m\u001b[38;5;28mself\u001b[39m\u001b[38;5;241m.\u001b[39msearch_date, table\u001b[38;5;241m=\u001b[39m\u001b[38;5;124m'\u001b[39m\u001b[38;5;124mgkg\u001b[39m\u001b[38;5;124m'\u001b[39m, normcols \u001b[38;5;241m=\u001b[39m \u001b[38;5;28;01mTrue\u001b[39;00m, coverage\u001b[38;5;241m=\u001b[39mcoverage)\n\u001b[0;32m     38\u001b[0m     \u001b[38;5;28;01melse\u001b[39;00m:\n\u001b[0;32m     39\u001b[0m         \u001b[38;5;28mself\u001b[39m\u001b[38;5;241m.\u001b[39mgkg_query \u001b[38;5;241m=\u001b[39m data\u001b[38;5;241m.\u001b[39mcopy()\n",
      "File \u001b[1;32m~\\AppData\\Roaming\\Python\\Python312\\site-packages\\gdelt\\base.py:646\u001b[0m, in \u001b[0;36mgdelt.Search\u001b[1;34m(self, date, table, coverage, translation, output, queryTime, normcols)\u001b[0m\n\u001b[0;32m    641\u001b[0m \u001b[38;5;28;01melse\u001b[39;00m:\n\u001b[0;32m    642\u001b[0m \n\u001b[0;32m    643\u001b[0m     \u001b[38;5;66;03m#pool = NoDaemonProcessPool(processes=cpu_count())\u001b[39;00m\n\u001b[0;32m    644\u001b[0m     \u001b[38;5;28;01mwith\u001b[39;00m concurrent\u001b[38;5;241m.\u001b[39mfutures\u001b[38;5;241m.\u001b[39mProcessPoolExecutor() \u001b[38;5;28;01mas\u001b[39;00m executor:\n\u001b[0;32m    645\u001b[0m         \u001b[38;5;66;03m# Submit tasks to the executor\u001b[39;00m\n\u001b[1;32m--> 646\u001b[0m         downloaded_dfs \u001b[38;5;241m=\u001b[39m \u001b[38;5;28mlist\u001b[39m(executor\u001b[38;5;241m.\u001b[39mmap(_mp_worker,\u001b[38;5;28mself\u001b[39m\u001b[38;5;241m.\u001b[39mdownload_list))\n\u001b[0;32m    648\u001b[0m         \u001b[38;5;66;03m# downloaded_dfs = []\u001b[39;00m\n\u001b[0;32m    649\u001b[0m         \u001b[38;5;66;03m#\u001b[39;00m\n\u001b[0;32m    650\u001b[0m         \u001b[38;5;66;03m# # Wait for all of the tasks to finish executing\u001b[39;00m\n\u001b[1;32m   (...)\u001b[0m\n\u001b[0;32m    656\u001b[0m \n\u001b[0;32m    657\u001b[0m \u001b[38;5;66;03m# print(downloaded_dfs)\u001b[39;00m\n\u001b[0;32m    658\u001b[0m results \u001b[38;5;241m=\u001b[39m pd\u001b[38;5;241m.\u001b[39mconcat(downloaded_dfs)\n",
      "File \u001b[1;32mc:\\ProgramData\\anaconda3\\Lib\\concurrent\\futures\\process.py:642\u001b[0m, in \u001b[0;36m_chain_from_iterable_of_lists\u001b[1;34m(iterable)\u001b[0m\n\u001b[0;32m    636\u001b[0m \u001b[38;5;28;01mdef\u001b[39;00m \u001b[38;5;21m_chain_from_iterable_of_lists\u001b[39m(iterable):\n\u001b[0;32m    637\u001b[0m \u001b[38;5;250m    \u001b[39m\u001b[38;5;124;03m\"\"\"\u001b[39;00m\n\u001b[0;32m    638\u001b[0m \u001b[38;5;124;03m    Specialized implementation of itertools.chain.from_iterable.\u001b[39;00m\n\u001b[0;32m    639\u001b[0m \u001b[38;5;124;03m    Each item in *iterable* should be a list.  This function is\u001b[39;00m\n\u001b[0;32m    640\u001b[0m \u001b[38;5;124;03m    careful not to keep references to yielded objects.\u001b[39;00m\n\u001b[0;32m    641\u001b[0m \u001b[38;5;124;03m    \"\"\"\u001b[39;00m\n\u001b[1;32m--> 642\u001b[0m     \u001b[38;5;28;01mfor\u001b[39;00m element \u001b[38;5;129;01min\u001b[39;00m iterable:\n\u001b[0;32m    643\u001b[0m         element\u001b[38;5;241m.\u001b[39mreverse()\n\u001b[0;32m    644\u001b[0m         \u001b[38;5;28;01mwhile\u001b[39;00m element:\n",
      "File \u001b[1;32mc:\\ProgramData\\anaconda3\\Lib\\concurrent\\futures\\_base.py:619\u001b[0m, in \u001b[0;36mExecutor.map.<locals>.result_iterator\u001b[1;34m()\u001b[0m\n\u001b[0;32m    616\u001b[0m \u001b[38;5;28;01mwhile\u001b[39;00m fs:\n\u001b[0;32m    617\u001b[0m     \u001b[38;5;66;03m# Careful not to keep a reference to the popped future\u001b[39;00m\n\u001b[0;32m    618\u001b[0m     \u001b[38;5;28;01mif\u001b[39;00m timeout \u001b[38;5;129;01mis\u001b[39;00m \u001b[38;5;28;01mNone\u001b[39;00m:\n\u001b[1;32m--> 619\u001b[0m         \u001b[38;5;28;01myield\u001b[39;00m _result_or_cancel(fs\u001b[38;5;241m.\u001b[39mpop())\n\u001b[0;32m    620\u001b[0m     \u001b[38;5;28;01melse\u001b[39;00m:\n\u001b[0;32m    621\u001b[0m         \u001b[38;5;28;01myield\u001b[39;00m _result_or_cancel(fs\u001b[38;5;241m.\u001b[39mpop(), end_time \u001b[38;5;241m-\u001b[39m time\u001b[38;5;241m.\u001b[39mmonotonic())\n",
      "File \u001b[1;32mc:\\ProgramData\\anaconda3\\Lib\\concurrent\\futures\\_base.py:317\u001b[0m, in \u001b[0;36m_result_or_cancel\u001b[1;34m(***failed resolving arguments***)\u001b[0m\n\u001b[0;32m    315\u001b[0m \u001b[38;5;28;01mtry\u001b[39;00m:\n\u001b[0;32m    316\u001b[0m     \u001b[38;5;28;01mtry\u001b[39;00m:\n\u001b[1;32m--> 317\u001b[0m         \u001b[38;5;28;01mreturn\u001b[39;00m fut\u001b[38;5;241m.\u001b[39mresult(timeout)\n\u001b[0;32m    318\u001b[0m     \u001b[38;5;28;01mfinally\u001b[39;00m:\n\u001b[0;32m    319\u001b[0m         fut\u001b[38;5;241m.\u001b[39mcancel()\n",
      "File \u001b[1;32mc:\\ProgramData\\anaconda3\\Lib\\concurrent\\futures\\_base.py:456\u001b[0m, in \u001b[0;36mFuture.result\u001b[1;34m(self, timeout)\u001b[0m\n\u001b[0;32m    454\u001b[0m     \u001b[38;5;28;01mraise\u001b[39;00m CancelledError()\n\u001b[0;32m    455\u001b[0m \u001b[38;5;28;01melif\u001b[39;00m \u001b[38;5;28mself\u001b[39m\u001b[38;5;241m.\u001b[39m_state \u001b[38;5;241m==\u001b[39m FINISHED:\n\u001b[1;32m--> 456\u001b[0m     \u001b[38;5;28;01mreturn\u001b[39;00m \u001b[38;5;28mself\u001b[39m\u001b[38;5;241m.\u001b[39m__get_result()\n\u001b[0;32m    457\u001b[0m \u001b[38;5;28;01melse\u001b[39;00m:\n\u001b[0;32m    458\u001b[0m     \u001b[38;5;28;01mraise\u001b[39;00m \u001b[38;5;167;01mTimeoutError\u001b[39;00m()\n",
      "File \u001b[1;32mc:\\ProgramData\\anaconda3\\Lib\\concurrent\\futures\\_base.py:401\u001b[0m, in \u001b[0;36mFuture.__get_result\u001b[1;34m(self)\u001b[0m\n\u001b[0;32m    399\u001b[0m \u001b[38;5;28;01mif\u001b[39;00m \u001b[38;5;28mself\u001b[39m\u001b[38;5;241m.\u001b[39m_exception:\n\u001b[0;32m    400\u001b[0m     \u001b[38;5;28;01mtry\u001b[39;00m:\n\u001b[1;32m--> 401\u001b[0m         \u001b[38;5;28;01mraise\u001b[39;00m \u001b[38;5;28mself\u001b[39m\u001b[38;5;241m.\u001b[39m_exception\n\u001b[0;32m    402\u001b[0m     \u001b[38;5;28;01mfinally\u001b[39;00m:\n\u001b[0;32m    403\u001b[0m         \u001b[38;5;66;03m# Break a reference cycle with the exception in self._exception\u001b[39;00m\n\u001b[0;32m    404\u001b[0m         \u001b[38;5;28mself\u001b[39m \u001b[38;5;241m=\u001b[39m \u001b[38;5;28;01mNone\u001b[39;00m\n",
      "\u001b[1;31mOSError\u001b[0m: [WinError 1450] Insufficient system resources exist to complete the requested service"
     ]
    }
   ],
   "source": [
    "# mondays_news = {}\n",
    "for mon in mondays[2:]:\n",
    "    gkg.set_date(mon)\n",
    "    gkg.get_gkg(coverage=True)\n",
    "    # update mondays_news with the new data\n",
    "    mondays_news[mon] = gkg.gkg_query.copy()"
   ]
  },
  {
   "cell_type": "code",
   "execution_count": 72,
   "metadata": {},
   "outputs": [
    {
     "data": {
      "text/plain": [
       "dict_keys(['2024 Sep 30', '2024 Oct 07'])"
      ]
     },
     "execution_count": 72,
     "metadata": {},
     "output_type": "execute_result"
    }
   ],
   "source": [
    "mondays_news.keys()"
   ]
  },
  {
   "cell_type": "code",
   "execution_count": 73,
   "metadata": {},
   "outputs": [],
   "source": [
    "# concatenate the dataframes from monday_news\n",
    "mondays_news_df = pd.concat(mondays_news.values(), ignore_index=True)"
   ]
  },
  {
   "cell_type": "code",
   "execution_count": 76,
   "metadata": {},
   "outputs": [
    {
     "data": {
      "text/plain": [
       "0         20240930000000\n",
       "1         20240930000000\n",
       "2         20240930000000\n",
       "3         20240930000000\n",
       "4         20240930000000\n",
       "               ...      \n",
       "280605    20241007234500\n",
       "280606    20241007234500\n",
       "280607    20241007234500\n",
       "280608    20241007234500\n",
       "280609    20241007234500\n",
       "Name: date, Length: 280610, dtype: int64"
      ]
     },
     "execution_count": 76,
     "metadata": {},
     "output_type": "execute_result"
    }
   ],
   "source": [
    "mondays_news_df['date']"
   ]
  },
  {
   "cell_type": "code",
   "execution_count": 77,
   "metadata": {},
   "outputs": [],
   "source": [
    "gkg.get_gkg(data=mondays_news_df)"
   ]
  },
  {
   "cell_type": "markdown",
   "metadata": {},
   "source": [
    "# make a subset of the gkg table"
   ]
  },
  {
   "cell_type": "code",
   "execution_count": 78,
   "metadata": {},
   "outputs": [
    {
     "data": {
      "text/plain": [
       "(33, 27)"
      ]
     },
     "execution_count": 78,
     "metadata": {},
     "output_type": "execute_result"
    }
   ],
   "source": [
    "# # persons = ['Eiichiro Oda', 'Shueisha', 'One Piece']\n",
    "src_name = ['gamerant.com','screenrant.com']\n",
    "rant = gkg.gkg_query[gkg.gkg_query['sourcecommonname'].isin(src_name)].copy()\n",
    "# search rant themes for the regex pattern MANGA, count entries\n",
    "manga = rant[rant['themes'].str.contains('MANGA') == True].copy()\n",
    "# manga.info()\n",
    "# gkg.get_gkg(data=rant.iloc[:500]) # stores in gkg.gkg_query as a dataframe\n",
    "gkg.get_gkg(data=manga) # stores in gkg.gkg_query as a dataframe\n",
    "gkg.gkg_query.shape\n"
   ]
  },
  {
   "cell_type": "code",
   "execution_count": null,
   "metadata": {},
   "outputs": [],
   "source": [
    "# gkg.get_all_soup(limit_output=50) # get the soup for all the urls in the dataframe\n",
    "# gkg.get_all_soup(limit_output='all')"
   ]
  },
  {
   "cell_type": "code",
   "execution_count": 40,
   "metadata": {},
   "outputs": [],
   "source": [
    "titles = gkg.parsed_urls"
   ]
  },
  {
   "cell_type": "code",
   "execution_count": 42,
   "metadata": {},
   "outputs": [
    {
     "data": {
      "text/html": [
       "<div>\n",
       "<style scoped>\n",
       "    .dataframe tbody tr th:only-of-type {\n",
       "        vertical-align: middle;\n",
       "    }\n",
       "\n",
       "    .dataframe tbody tr th {\n",
       "        vertical-align: top;\n",
       "    }\n",
       "\n",
       "    .dataframe thead th {\n",
       "        text-align: right;\n",
       "    }\n",
       "</style>\n",
       "<table border=\"1\" class=\"dataframe\">\n",
       "  <thead>\n",
       "    <tr style=\"text-align: right;\">\n",
       "      <th></th>\n",
       "      <th>10</th>\n",
       "      <th>1130</th>\n",
       "      <th>1131</th>\n",
       "      <th>13</th>\n",
       "      <th>13th</th>\n",
       "      <th>14</th>\n",
       "      <th>15</th>\n",
       "      <th>1970s</th>\n",
       "      <th>1971</th>\n",
       "      <th>1980s</th>\n",
       "      <th>...</th>\n",
       "      <th>ys</th>\n",
       "      <th>yu</th>\n",
       "      <th>yugioh</th>\n",
       "      <th>zanpakuto</th>\n",
       "      <th>zatanna</th>\n",
       "      <th>zelda</th>\n",
       "      <th>zeno</th>\n",
       "      <th>zero</th>\n",
       "      <th>zoe</th>\n",
       "      <th>zombie</th>\n",
       "    </tr>\n",
       "  </thead>\n",
       "  <tbody>\n",
       "    <tr>\n",
       "      <th>0</th>\n",
       "      <td>0.0</td>\n",
       "      <td>0.0</td>\n",
       "      <td>0.0</td>\n",
       "      <td>0.0</td>\n",
       "      <td>0.0</td>\n",
       "      <td>0.0</td>\n",
       "      <td>0.0</td>\n",
       "      <td>0.0</td>\n",
       "      <td>0.0</td>\n",
       "      <td>0.0</td>\n",
       "      <td>...</td>\n",
       "      <td>0.0</td>\n",
       "      <td>0.0</td>\n",
       "      <td>0.0</td>\n",
       "      <td>0.0</td>\n",
       "      <td>0.0</td>\n",
       "      <td>0.0</td>\n",
       "      <td>0.0</td>\n",
       "      <td>0.000000</td>\n",
       "      <td>0.0</td>\n",
       "      <td>0.0</td>\n",
       "    </tr>\n",
       "    <tr>\n",
       "      <th>1</th>\n",
       "      <td>0.0</td>\n",
       "      <td>0.0</td>\n",
       "      <td>0.0</td>\n",
       "      <td>0.0</td>\n",
       "      <td>0.0</td>\n",
       "      <td>0.0</td>\n",
       "      <td>0.0</td>\n",
       "      <td>0.0</td>\n",
       "      <td>0.0</td>\n",
       "      <td>0.0</td>\n",
       "      <td>...</td>\n",
       "      <td>0.0</td>\n",
       "      <td>0.0</td>\n",
       "      <td>0.0</td>\n",
       "      <td>0.0</td>\n",
       "      <td>0.0</td>\n",
       "      <td>0.0</td>\n",
       "      <td>0.0</td>\n",
       "      <td>0.000000</td>\n",
       "      <td>0.0</td>\n",
       "      <td>0.0</td>\n",
       "    </tr>\n",
       "    <tr>\n",
       "      <th>2</th>\n",
       "      <td>0.0</td>\n",
       "      <td>0.0</td>\n",
       "      <td>0.0</td>\n",
       "      <td>0.0</td>\n",
       "      <td>0.0</td>\n",
       "      <td>0.0</td>\n",
       "      <td>0.0</td>\n",
       "      <td>0.0</td>\n",
       "      <td>0.0</td>\n",
       "      <td>0.0</td>\n",
       "      <td>...</td>\n",
       "      <td>0.0</td>\n",
       "      <td>0.0</td>\n",
       "      <td>0.0</td>\n",
       "      <td>0.0</td>\n",
       "      <td>0.0</td>\n",
       "      <td>0.0</td>\n",
       "      <td>0.0</td>\n",
       "      <td>0.000000</td>\n",
       "      <td>0.0</td>\n",
       "      <td>0.0</td>\n",
       "    </tr>\n",
       "    <tr>\n",
       "      <th>3</th>\n",
       "      <td>0.0</td>\n",
       "      <td>0.0</td>\n",
       "      <td>0.0</td>\n",
       "      <td>0.0</td>\n",
       "      <td>0.0</td>\n",
       "      <td>0.0</td>\n",
       "      <td>0.0</td>\n",
       "      <td>0.0</td>\n",
       "      <td>0.0</td>\n",
       "      <td>0.0</td>\n",
       "      <td>...</td>\n",
       "      <td>0.0</td>\n",
       "      <td>0.0</td>\n",
       "      <td>0.0</td>\n",
       "      <td>0.0</td>\n",
       "      <td>0.0</td>\n",
       "      <td>0.0</td>\n",
       "      <td>0.0</td>\n",
       "      <td>0.520862</td>\n",
       "      <td>0.0</td>\n",
       "      <td>0.0</td>\n",
       "    </tr>\n",
       "    <tr>\n",
       "      <th>4</th>\n",
       "      <td>0.0</td>\n",
       "      <td>0.0</td>\n",
       "      <td>0.0</td>\n",
       "      <td>0.0</td>\n",
       "      <td>0.0</td>\n",
       "      <td>0.0</td>\n",
       "      <td>0.0</td>\n",
       "      <td>0.0</td>\n",
       "      <td>0.0</td>\n",
       "      <td>0.0</td>\n",
       "      <td>...</td>\n",
       "      <td>0.0</td>\n",
       "      <td>0.0</td>\n",
       "      <td>0.0</td>\n",
       "      <td>0.0</td>\n",
       "      <td>0.0</td>\n",
       "      <td>0.0</td>\n",
       "      <td>0.0</td>\n",
       "      <td>0.000000</td>\n",
       "      <td>0.0</td>\n",
       "      <td>0.0</td>\n",
       "    </tr>\n",
       "    <tr>\n",
       "      <th>...</th>\n",
       "      <td>...</td>\n",
       "      <td>...</td>\n",
       "      <td>...</td>\n",
       "      <td>...</td>\n",
       "      <td>...</td>\n",
       "      <td>...</td>\n",
       "      <td>...</td>\n",
       "      <td>...</td>\n",
       "      <td>...</td>\n",
       "      <td>...</td>\n",
       "      <td>...</td>\n",
       "      <td>...</td>\n",
       "      <td>...</td>\n",
       "      <td>...</td>\n",
       "      <td>...</td>\n",
       "      <td>...</td>\n",
       "      <td>...</td>\n",
       "      <td>...</td>\n",
       "      <td>...</td>\n",
       "      <td>...</td>\n",
       "      <td>...</td>\n",
       "    </tr>\n",
       "    <tr>\n",
       "      <th>495</th>\n",
       "      <td>0.0</td>\n",
       "      <td>0.0</td>\n",
       "      <td>0.0</td>\n",
       "      <td>0.0</td>\n",
       "      <td>0.0</td>\n",
       "      <td>0.0</td>\n",
       "      <td>0.0</td>\n",
       "      <td>0.0</td>\n",
       "      <td>0.0</td>\n",
       "      <td>0.0</td>\n",
       "      <td>...</td>\n",
       "      <td>0.0</td>\n",
       "      <td>0.0</td>\n",
       "      <td>0.0</td>\n",
       "      <td>0.0</td>\n",
       "      <td>0.0</td>\n",
       "      <td>0.0</td>\n",
       "      <td>0.0</td>\n",
       "      <td>0.000000</td>\n",
       "      <td>0.0</td>\n",
       "      <td>0.0</td>\n",
       "    </tr>\n",
       "    <tr>\n",
       "      <th>496</th>\n",
       "      <td>0.0</td>\n",
       "      <td>0.0</td>\n",
       "      <td>0.0</td>\n",
       "      <td>0.0</td>\n",
       "      <td>0.0</td>\n",
       "      <td>0.0</td>\n",
       "      <td>0.0</td>\n",
       "      <td>0.0</td>\n",
       "      <td>0.0</td>\n",
       "      <td>0.0</td>\n",
       "      <td>...</td>\n",
       "      <td>0.0</td>\n",
       "      <td>0.0</td>\n",
       "      <td>0.0</td>\n",
       "      <td>0.0</td>\n",
       "      <td>0.0</td>\n",
       "      <td>0.0</td>\n",
       "      <td>0.0</td>\n",
       "      <td>0.000000</td>\n",
       "      <td>0.0</td>\n",
       "      <td>0.0</td>\n",
       "    </tr>\n",
       "    <tr>\n",
       "      <th>497</th>\n",
       "      <td>0.0</td>\n",
       "      <td>0.0</td>\n",
       "      <td>0.0</td>\n",
       "      <td>0.0</td>\n",
       "      <td>0.0</td>\n",
       "      <td>0.0</td>\n",
       "      <td>0.0</td>\n",
       "      <td>0.0</td>\n",
       "      <td>0.0</td>\n",
       "      <td>0.0</td>\n",
       "      <td>...</td>\n",
       "      <td>0.0</td>\n",
       "      <td>0.0</td>\n",
       "      <td>0.0</td>\n",
       "      <td>0.0</td>\n",
       "      <td>0.0</td>\n",
       "      <td>0.0</td>\n",
       "      <td>0.0</td>\n",
       "      <td>0.000000</td>\n",
       "      <td>0.0</td>\n",
       "      <td>0.0</td>\n",
       "    </tr>\n",
       "    <tr>\n",
       "      <th>498</th>\n",
       "      <td>0.0</td>\n",
       "      <td>0.0</td>\n",
       "      <td>0.0</td>\n",
       "      <td>0.0</td>\n",
       "      <td>0.0</td>\n",
       "      <td>0.0</td>\n",
       "      <td>0.0</td>\n",
       "      <td>0.0</td>\n",
       "      <td>0.0</td>\n",
       "      <td>0.0</td>\n",
       "      <td>...</td>\n",
       "      <td>0.0</td>\n",
       "      <td>0.0</td>\n",
       "      <td>0.0</td>\n",
       "      <td>0.0</td>\n",
       "      <td>0.0</td>\n",
       "      <td>0.0</td>\n",
       "      <td>0.0</td>\n",
       "      <td>0.000000</td>\n",
       "      <td>0.0</td>\n",
       "      <td>0.0</td>\n",
       "    </tr>\n",
       "    <tr>\n",
       "      <th>499</th>\n",
       "      <td>0.0</td>\n",
       "      <td>0.0</td>\n",
       "      <td>0.0</td>\n",
       "      <td>0.0</td>\n",
       "      <td>0.0</td>\n",
       "      <td>0.0</td>\n",
       "      <td>0.0</td>\n",
       "      <td>0.0</td>\n",
       "      <td>0.0</td>\n",
       "      <td>0.0</td>\n",
       "      <td>...</td>\n",
       "      <td>0.0</td>\n",
       "      <td>0.0</td>\n",
       "      <td>0.0</td>\n",
       "      <td>0.0</td>\n",
       "      <td>0.0</td>\n",
       "      <td>0.0</td>\n",
       "      <td>0.0</td>\n",
       "      <td>0.000000</td>\n",
       "      <td>0.0</td>\n",
       "      <td>0.0</td>\n",
       "    </tr>\n",
       "  </tbody>\n",
       "</table>\n",
       "<p>500 rows × 1731 columns</p>\n",
       "</div>"
      ],
      "text/plain": [
       "      10  1130  1131   13  13th   14   15  1970s  1971  1980s  ...   ys   yu  \\\n",
       "0    0.0   0.0   0.0  0.0   0.0  0.0  0.0    0.0   0.0    0.0  ...  0.0  0.0   \n",
       "1    0.0   0.0   0.0  0.0   0.0  0.0  0.0    0.0   0.0    0.0  ...  0.0  0.0   \n",
       "2    0.0   0.0   0.0  0.0   0.0  0.0  0.0    0.0   0.0    0.0  ...  0.0  0.0   \n",
       "3    0.0   0.0   0.0  0.0   0.0  0.0  0.0    0.0   0.0    0.0  ...  0.0  0.0   \n",
       "4    0.0   0.0   0.0  0.0   0.0  0.0  0.0    0.0   0.0    0.0  ...  0.0  0.0   \n",
       "..   ...   ...   ...  ...   ...  ...  ...    ...   ...    ...  ...  ...  ...   \n",
       "495  0.0   0.0   0.0  0.0   0.0  0.0  0.0    0.0   0.0    0.0  ...  0.0  0.0   \n",
       "496  0.0   0.0   0.0  0.0   0.0  0.0  0.0    0.0   0.0    0.0  ...  0.0  0.0   \n",
       "497  0.0   0.0   0.0  0.0   0.0  0.0  0.0    0.0   0.0    0.0  ...  0.0  0.0   \n",
       "498  0.0   0.0   0.0  0.0   0.0  0.0  0.0    0.0   0.0    0.0  ...  0.0  0.0   \n",
       "499  0.0   0.0   0.0  0.0   0.0  0.0  0.0    0.0   0.0    0.0  ...  0.0  0.0   \n",
       "\n",
       "     yugioh  zanpakuto  zatanna  zelda  zeno      zero  zoe  zombie  \n",
       "0       0.0        0.0      0.0    0.0   0.0  0.000000  0.0     0.0  \n",
       "1       0.0        0.0      0.0    0.0   0.0  0.000000  0.0     0.0  \n",
       "2       0.0        0.0      0.0    0.0   0.0  0.000000  0.0     0.0  \n",
       "3       0.0        0.0      0.0    0.0   0.0  0.520862  0.0     0.0  \n",
       "4       0.0        0.0      0.0    0.0   0.0  0.000000  0.0     0.0  \n",
       "..      ...        ...      ...    ...   ...       ...  ...     ...  \n",
       "495     0.0        0.0      0.0    0.0   0.0  0.000000  0.0     0.0  \n",
       "496     0.0        0.0      0.0    0.0   0.0  0.000000  0.0     0.0  \n",
       "497     0.0        0.0      0.0    0.0   0.0  0.000000  0.0     0.0  \n",
       "498     0.0        0.0      0.0    0.0   0.0  0.000000  0.0     0.0  \n",
       "499     0.0        0.0      0.0    0.0   0.0  0.000000  0.0     0.0  \n",
       "\n",
       "[500 rows x 1731 columns]"
      ]
     },
     "execution_count": 42,
     "metadata": {},
     "output_type": "execute_result"
    }
   ],
   "source": [
    "tv = TfidfVectorizer(stop_words='english')\n",
    "f = tv.fit_transform(titles)\n",
    "tva = pd.DataFrame(f.toarray(),columns=tv.get_feature_names_out())\n",
    "tva"
   ]
  },
  {
   "cell_type": "markdown",
   "metadata": {},
   "source": [
    "## Representing article titles using t-SNE\n",
    "\n",
    "### Using TFidf Vectorizer"
   ]
  },
  {
   "cell_type": "code",
   "execution_count": 43,
   "metadata": {},
   "outputs": [
    {
     "name": "stderr",
     "output_type": "stream",
     "text": [
      "c:\\ProgramData\\anaconda3\\Lib\\site-packages\\sklearn\\manifold\\_t_sne.py:1162: FutureWarning: 'n_iter' was renamed to 'max_iter' in version 1.5 and will be removed in 1.7.\n",
      "  warnings.warn(\n"
     ]
    },
    {
     "data": {
      "image/png": "[encoded data removed]",
      "text/plain": [
       "<Figure size 1000x700 with 1 Axes>"
      ]
     },
     "metadata": {},
     "output_type": "display_data"
    }
   ],
   "source": [
    "\n",
    "# Step 1: Convert titles to TF-IDF embeddings\n",
    "tfidf_vectorizer = TfidfVectorizer(stop_words='english',max_features=300)  # You can adjust `max_features` as needed\n",
    "tfidf_matrix = tfidf_vectorizer.fit_transform(titles)\n",
    "\n",
    "# Step 2: Use t-SNE to reduce dimensions\n",
    "# Choose perplexity and other parameters based on the dataset size\n",
    "tsne_model = TSNE(n_components=2, perplexity=20, random_state=42, n_iter=1000)\n",
    "tsne_results = tsne_model.fit_transform(tfidf_matrix.toarray())\n",
    "\n",
    "# Step 3: Visualize the t-SNE clusters\n",
    "# Add results to a DataFrame for easy plotting\n",
    "tsne_df = pd.DataFrame(tsne_results, columns=['TSNE1', 'TSNE2'])\n",
    "tsne_df['Title'] = titles  # Optionally add titles as a label\n",
    "\n",
    "plt.figure(figsize=(10, 7))\n",
    "sns.scatterplot(x='TSNE1', y='TSNE2', data=tsne_df, s=50)\n",
    "plt.title(\"t-SNE Clustering of Article Titles\")\n",
    "plt.xlabel(\"t-SNE Dimension 1\")\n",
    "plt.ylabel(\"t-SNE Dimension 2\")\n",
    "plt.show()"
   ]
  },
  {
   "cell_type": "markdown",
   "metadata": {},
   "source": [
    "### Using `v2persons` Field with GKG Tools Vectorizer"
   ]
  },
  {
   "cell_type": "code",
   "execution_count": 51,
   "metadata": {},
   "outputs": [
    {
     "data": {
      "text/html": [
       "<div>\n",
       "<style scoped>\n",
       "    .dataframe tbody tr th:only-of-type {\n",
       "        vertical-align: middle;\n",
       "    }\n",
       "\n",
       "    .dataframe tbody tr th {\n",
       "        vertical-align: top;\n",
       "    }\n",
       "\n",
       "    .dataframe thead th {\n",
       "        text-align: right;\n",
       "    }\n",
       "</style>\n",
       "<table border=\"1\" class=\"dataframe\">\n",
       "  <thead>\n",
       "    <tr style=\"text-align: right;\">\n",
       "      <th></th>\n",
       "      <th>index</th>\n",
       "      <th>persons_0</th>\n",
       "    </tr>\n",
       "  </thead>\n",
       "  <tbody>\n",
       "    <tr>\n",
       "      <th>0</th>\n",
       "      <td>0</td>\n",
       "      <td>redditor alex</td>\n",
       "    </tr>\n",
       "    <tr>\n",
       "      <th>1</th>\n",
       "      <td>1</td>\n",
       "      <td>arnold schwarzenegger</td>\n",
       "    </tr>\n",
       "    <tr>\n",
       "      <th>2</th>\n",
       "      <td>1</td>\n",
       "      <td>laura bailey</td>\n",
       "    </tr>\n",
       "    <tr>\n",
       "      <th>3</th>\n",
       "      <td>1</td>\n",
       "      <td>tim miller</td>\n",
       "    </tr>\n",
       "    <tr>\n",
       "      <th>4</th>\n",
       "      <td>1</td>\n",
       "      <td>dave wilson</td>\n",
       "    </tr>\n",
       "    <tr>\n",
       "      <th>...</th>\n",
       "      <td>...</td>\n",
       "      <td>...</td>\n",
       "    </tr>\n",
       "    <tr>\n",
       "      <th>5721</th>\n",
       "      <td>499</td>\n",
       "      <td>rosemarie dewitt</td>\n",
       "    </tr>\n",
       "    <tr>\n",
       "      <th>5722</th>\n",
       "      <td>499</td>\n",
       "      <td>naomi scott</td>\n",
       "    </tr>\n",
       "    <tr>\n",
       "      <th>5723</th>\n",
       "      <td>499</td>\n",
       "      <td>dylan gelula</td>\n",
       "    </tr>\n",
       "    <tr>\n",
       "      <th>5724</th>\n",
       "      <td>499</td>\n",
       "      <td>parker finn</td>\n",
       "    </tr>\n",
       "    <tr>\n",
       "      <th>5725</th>\n",
       "      <td>499</td>\n",
       "      <td>peter jacobson</td>\n",
       "    </tr>\n",
       "  </tbody>\n",
       "</table>\n",
       "<p>5726 rows × 2 columns</p>\n",
       "</div>"
      ],
      "text/plain": [
       "      index              persons_0\n",
       "0         0          redditor alex\n",
       "1         1  arnold schwarzenegger\n",
       "2         1           laura bailey\n",
       "3         1             tim miller\n",
       "4         1            dave wilson\n",
       "...     ...                    ...\n",
       "5721    499       rosemarie dewitt\n",
       "5722    499            naomi scott\n",
       "5723    499           dylan gelula\n",
       "5724    499            parker finn\n",
       "5725    499         peter jacobson\n",
       "\n",
       "[5726 rows x 2 columns]"
      ]
     },
     "execution_count": 51,
     "metadata": {},
     "output_type": "execute_result"
    }
   ],
   "source": [
    "gkg.parse_gkg_field('persons')"
   ]
  },
  {
   "cell_type": "code",
   "execution_count": 52,
   "metadata": {},
   "outputs": [
    {
     "name": "stderr",
     "output_type": "stream",
     "text": [
      "c:\\Users\\Corey Dearing\\Desktop\\gdelt\\LLM_projects\\gkg_tools.py:122: FutureWarning:\n",
      "\n",
      "errors='ignore' is deprecated and will raise in a future version. Use to_numeric without passing `errors` and catch exceptions explicitly instead\n",
      "\n"
     ]
    },
    {
     "data": {
      "text/plain": [
       "array([[0., 0., 0., ..., 0., 0., 0.],\n",
       "       [0., 0., 0., ..., 0., 0., 0.],\n",
       "       [0., 0., 0., ..., 0., 0., 0.],\n",
       "       ...,\n",
       "       [0., 0., 0., ..., 0., 0., 0.],\n",
       "       [0., 0., 0., ..., 0., 0., 0.],\n",
       "       [0., 0., 0., ..., 0., 0., 0.]])"
      ]
     },
     "execution_count": 52,
     "metadata": {},
     "output_type": "execute_result"
    }
   ],
   "source": [
    "gkg.vectorize_field()\n",
    "gkgvf_arr = gkg.vectorized_df.copy()\n",
    "gkgvf_arr.values"
   ]
  },
  {
   "cell_type": "code",
   "execution_count": 53,
   "metadata": {},
   "outputs": [
    {
     "name": "stderr",
     "output_type": "stream",
     "text": [
      "c:\\ProgramData\\anaconda3\\Lib\\site-packages\\sklearn\\manifold\\_t_sne.py:1162: FutureWarning:\n",
      "\n",
      "'n_iter' was renamed to 'max_iter' in version 1.5 and will be removed in 1.7.\n",
      "\n"
     ]
    },
    {
     "data": {
      "image/png": "[encoded data removed]",
      "text/plain": [
       "<Figure size 1000x700 with 1 Axes>"
      ]
     },
     "metadata": {},
     "output_type": "display_data"
    }
   ],
   "source": [
    "\n",
    "# Step 2: Use t-SNE to reduce dimensions\n",
    "# Choose perplexity and other parameters based on the dataset size\n",
    "tsne_model = TSNE(n_components=2, perplexity=30, random_state=42, n_iter=1000)\n",
    "tsne_results = tsne_model.fit_transform(gkgvf_arr.values)\n",
    "\n",
    "# Step 3: Visualize the t-SNE clusters\n",
    "# Add results to a DataFrame for easy plotting\n",
    "tsne_df = pd.DataFrame(tsne_results, columns=['TSNE1', 'TSNE2'])\n",
    "tsne_df['Title'] = titles  # Optionally add titles as a label\n",
    "\n",
    "plt.figure(figsize=(10, 7))\n",
    "sns.scatterplot(x='TSNE1', y='TSNE2', data=tsne_df, s=50)\n",
    "plt.title(\"t-SNE Clustering of Article Titles\")\n",
    "plt.xlabel(\"t-SNE Dimension 1\")\n",
    "plt.ylabel(\"t-SNE Dimension 2\")\n",
    "plt.show()"
   ]
  },
  {
   "cell_type": "code",
   "execution_count": 54,
   "metadata": {},
   "outputs": [
    {
     "name": "stderr",
     "output_type": "stream",
     "text": [
      "c:\\ProgramData\\anaconda3\\Lib\\site-packages\\sklearn\\manifold\\_t_sne.py:1162: FutureWarning:\n",
      "\n",
      "'n_iter' was renamed to 'max_iter' in version 1.5 and will be removed in 1.7.\n",
      "\n"
     ]
    },
    {
     "data": {
      "application/vnd.plotly.v1+json": {
       "config": {
        "plotlyServerURL": "https://plot.ly"
       },
       "data": [
        {
         "hovertemplate": "<b>%{hovertext}</b><br><br>t-SNE Dimension 1=%{x}<br>t-SNE Dimension 2=%{y}<extra></extra>",
         "hovertext": [
          "the sims 4 red dead redemption 2 rhodes recreation",
          "secret level cast list",
          "jurassic world hammond masrani replacement soyona santos broker",
          "dragon ball sparking zero",
          "smile 2 entity more savage why director explained",
          "batman resurrection joker plot hole fix explained",
          "white collar neal caffrey peter burke best relationship",
          "dragon ball sparking zero dlc 2 new characters",
          "demon slayer kamado family tree explained",
          "action movies 1980s loads of fun",
          "star trek voyager important holodeck reveal season 5",
          "brothers 2024 twins movie comparison",
          "the stormlight archive books 5 6 time jump world mistborn",
          "dan da dan episode 4 release date time",
          "smile 2 ending franchise future impact parker finn explained",
          "stephen king every actor played alan pangborn",
          "one piece sun god loki nika luffy",
          "epic games store halloween 2024 sale now live",
          "absolute batman origin mass shooting survivor",
          "obi wan kenobi commander cody untold story",
          "rings of power stranger gandalf staff white mystery",
          "hysteria show cast characters",
          "best deleted mcu scene quotes",
          "uzumaki azami kurotani cosplay junji ito",
          "woman of the hour ending alcala sheryl fates anna kendrick explained",
          "pirates of the caribbean disney trend challenge johnny depp",
          "one piece unexpected character buggy beauty of writing",
          "scream 7 stu return chances matthew lillard response blunt",
          "movies like the platform 2",
          "smile future sequels smilers mythology explain director response",
          "naruto real best friend shikamaru not sasuke kurama",
          "harry potter messed up magical justice wizarding world",
          "one piece pirates who animals",
          "detective k dramas keep you guessing",
          "star wars boba fett character change reasons",
          "star trek redefined klingons movies tv shows",
          "elusive samurai best moments shonen jump most exciting anime",
          "batman the animated series all unmade episodes",
          "reacher season 3 rebel ridge realistic action",
          "why scarlet witch couldnt find billy what about tommy",
          "woman of the hour dating game sally field contestant",
          "the lincoln lawyer season 3 lorna legally blonde replacement",
          "superman and lois season 4 lane saddest story worse",
          "best monster movies all time",
          "pokemon go halloween 2024 no mimikyu",
          "scarlet witch mcu return agatha all along jac schaeffer response",
          "games with most realistic tracking systems",
          "bitlife how to complete la llorona challenge divorce adopt grave",
          "youtuber kidnapped philippines report",
          "best open world rpgs unique romance options",
          "new york times connections hints answers 497 october 20 2024",
          "new york times strands hints answers october 20 2024",
          "overwatch 2 how to link xbox gamepass account all rewards",
          "bridgerton season 4 penelope colin story continue daphne anthony",
          "netflix menendez brothers documentary new evidence left out explained",
          "best reasons to do a law abiding citizen run grand theft auto 5 gta 5",
          "god of war classic collection games ps plus premium rumor",
          "what happened drew tell me lies season 2",
          "adventure movies 1990s underrated forgotten",
          "tulsa king season 2 episode 6 ending explained",
          "the strangers chapter 2 four masked killers",
          "inside out 3 riley bigger role problem",
          "fire country season 3 bode gabriela cant be together manny betrayal reason",
          "iron man best quotes mcu movie appearances",
          "adventure movies",
          "best body horror movies ever",
          "my hero academia trina nishimura zeno robinson jessie grelle interview",
          "life is strange double exposure all available platforms",
          "bleach fights better in the anime",
          "bloober team success silent hill 2 nintendo cronos new dawn",
          "fantasian neo dimension final fantasy nobuo uematsu last full soundtrack",
          "lord of the rings two towers oscars nominated won",
          "the lord of the rings the two towers",
          "doctor strange 2 beyonder bruce campbell villain mcu theory",
          "shangri la frontier second season sunraku depressing social isolation",
          "brothers clint eastwood orangutan dark every which way homage",
          "shangri la frontier",
          "marvel wandavision epilogue retcon scarlet witch fall tragic",
          "american horror story season 13 antichrist mystery answer",
          "mad max next movie fury road theory no tom hardy",
          "moonstruck movie best quotes lines",
          "honor among thieves 2 replacement dungeons dragons show necessary",
          "ssonic 3 shadow the hedgehog origin story robotnik jim carrey change",
          "star trek strange new worlds season 3 pike ramming maneuver rescue",
          "fallout season 2 release wait streaming trend",
          "scrubs season 10 jd elliot stay plothole season 8 fix",
          "ghosts season 4 sam lie to jay trend bad",
          "best fantasy movies 2000s",
          "absolute batman villain party animals darkseid",
          "spider man andrew garfield movie character age gap weird",
          "daredevil born again villain muse marvel confirmed",
          "mistfall hunter elden ring dark and darker extraction gameplay similar",
          "dragon ball sparking zero more custom battle mode good why",
          "outer banks season 4 pogues ages actors comparison",
          "thomas thandi",
          "beginning after end anime adaptation announced",
          "star trek tng episodes better than you think",
          "hunter x hunter phantom rouge biggest missed opportunity bad",
          "court thorns roses is cassian safe elain predicted death",
          "halo 1990s reimagining fan artwork",
          "rpgs reward exploration over combat",
          "dragon ball daima big shenron retcon three wishes",
          "dc superman times crypto goodest boy",
          "how to build perfect flight simulator 2024 cockpit",
          "fantasy franchises should never end",
          "clone wars fives death inhibitor chips commander fox star wars theory",
          "dragon ball z future trunks made vegeta proud",
          "fbi international season 4 jesse lee soffer interview",
          "genshin impact lore kinichs background character story natlan",
          "law and order ryan eggold matt riley max goodwin new amsterdam flip",
          "dc universe dceu dreams already set make reality",
          "ash",
          "marvels spider man 3 miles morales loss family mom hailey",
          "georgie and mandys first marriage brenda sparks secret role explained",
          "fantasy books shocking plot twists",
          "dragon ball sparking zero spike chunsoft budokai tenkaichi return why",
          "venom mcu vital avengers secret wars",
          "ash movie trailer aaron paul eiza gonzalez",
          "blumhouse universal monsters next movie leigh whannell response",
          "se7en ending change executives brad pitt fought box scene",
          "star citizen monster hunting feature announcement",
          "the boys season 5 predictions theories",
          "how to unlock all piccolo what if storylines sparking episodes in dragon ball sparking zero",
          "intense heist thrillers 1970s",
          "agatha all along mcu loki jolene trick best",
          "smile movie streaming success hulu paramount plus",
          "smile",
          "star wars bad batch plan 99 clones bigger",
          "star trek lower decks season 5 future tease",
          "lego movie morgan freeman vitruvius wise mentor trope funny",
          "the witcher best episode season 1 finale geralt yennefer great",
          "star wars new series perfectly weaves itself into return of the jedi aftermath battlefront",
          "batman spinoffs 2024 villain legacies explained",
          "sammo hung martial arts movies ranked",
          "gilmore girls lorelai madchen amick sherry almost cast",
          "monster hunter now carnival shibuya council local tourist goals",
          "nintendo switch gamers sleep battery life problems firmware update",
          "bleach structure of realms explained",
          "marisa patwa",
          "cross",
          "hero academia deku bakugo cosplay nothing short of staggering",
          "beetlejuice 2 box office highest grossing 2024 wb",
          "georgie and mandys first marriage frasier reference multicam change explain",
          "deadpool wolverine box office domestic chart barbie comparison",
          "funniest far side comics cats september 1984",
          "ready player one",
          "dragon ball z filler list guide episodes skip",
          "mcu kang what went wrong",
          "terrifier 3 sienna dad dreams flashbacks explained",
          "daredevil born again white tiger origin theory",
          "james bond m real person inspiration",
          "onyx storm death theory dain makes sense true",
          "astro bot fan gift gamestop employee promo display",
          "dark knight rises actors reunion nycc venom 3",
          "starfield endgame economy money sink dlc fix good bad why",
          "destiny rising enemies setting npcs exotic mythic modes",
          "star trek lower decks why ending season 5 paramount plus",
          "wwe netflix raw things to expect",
          "fallout season 2 star promises easter eggs",
          "marvel snap high voltage mode guide best deck tips guide",
          "this villainess manhwa was one of the best of the genre until it",
          "abbott elementary season 4 janine gregory first fight good for romance",
          "80s classicrainbow brite reboot will it work",
          "big bang theory spinoff penny return kaley cuoco response",
          "dramas perfect for a date night",
          "south park controversial halloween joke steve irwin",
          "anora box office record opening weekend limited",
          "lieutenant dan arrested why tampa florida boat",
          "dragon ball sparking zero roster original alternate characters good bad",
          "my hero academia koichis quirk evolution explained",
          "super mario party jamboree ranks rewards achievements points",
          "action thrillers 1970s intense",
          "zoe saldana movies ranked",
          "zoe saldana",
          "dragon ball sparking zero goku black jiren episode endings bad why",
          "one piece 1130 loki villain intimidating elbaph",
          "ahsoka tano between star wars prequel original trilogies",
          "transformers one i finally understand megatron deceptions",
          "justice league hero more powerful superman zatanna flash",
          "agents of shield character returns mcu",
          "bleach forbidden zanpakuto that copies others",
          "jurassic world chaos theory dinosaurs senegal global",
          "rare totoro sequel will screen at ghibli park",
          "blue exorcist illuminati explained",
          "god of war 2018 ragnarok cut content enemies atreus sinmara",
          "clair obscur expedition 33 cast charlie cox first game role",
          "honkai star rail leak fourth world enemies",
          "hogwarts legacy 15 hour dlc report price content expectations",
          "walking dead dead city season 2 villain frugal",
          "band of brothers biggest changes book show",
          "reacher roscoe mistake jack ryan fix faster",
          "sony thanos knull set up venom 3 mcu",
          "tulsa king season 2 jackie ming villain better cal bill",
          "green lantern powers construct car batmobile",
          "smile 2 box office opening first movie comparison",
          "jujutsu kaisen ending twist first movie foreshadow",
          "alien romulus prometheus franchise record box office",
          "best halloween movies set in salem",
          "katsura hashino next atlus game after metaphor refantazio teaser",
          "hallmark master chief holiday keepsake ornament collection price",
          "honkai star rail rappa break archetype skills ultimate",
          "terrifier 3 director not cross line",
          "marvels blade rumored morality system switchblade darkhold storyline",
          "the penguin episode 4 supporting character episodes",
          "lords of the rings tales shire memes achievements good why",
          "goosebumps season 2 trailer david schwimmer",
          "stephen king best book endings",
          "brighton nelson",
          "escape from the planet of apes watch modern movies",
          "mcu young avengers wiccan poster art",
          "peacemaker green arrow joke stephen amell payback",
          "the whole truth keanu reeves movie gabriel basso ending twist",
          "escape from the planet of the apes 1971",
          "valley peaks very positive reviews switch version delayed indefinite",
          "persona 6 p5x potential end 2024 reveal announcement why",
          "elizabeth olsen scarlet witch movie release date rumor",
          "attack on titan gabi eren parallel",
          "bleach the shinigami version of peace explained",
          "yugioh master duel halloween selection pack duel trial",
          "star trek voyager seven nine janeway spock plan",
          "recent sci fi shows didnt deserve canceled",
          "bette midler sarah jessica parker hocus pocus first wives club reunion",
          "comic book movie mysteries solved outside movies",
          "dragon ball daima namekian retcon foreshadowed",
          "dune part 2 alia change franchise end messiah movie",
          "hocus pocus",
          "night agent season 3 new character details",
          "oscars timothee chalamet youngest best actor winner record break",
          "jurassic park dinosaurs from jurassic period",
          "obi wan kenobi jedi order leave reason",
          "white lotus daphne return meghann fahy response",
          "fortnite possible mortal kombat fighting game crossover cameos",
          "best laura dern movies watch after lonely planet",
          "injustice",
          "star wars eclipse kotor remake old high republic settings lore",
          "star wars outlaws tease stealth disguise outfits post credits",
          "siren ps5 re release potential remake bloober team good",
          "sonic the hedgehog trademark leak new game sonic spin battle rumors",
          "injustice 3 trope multiverse fighters stories good why",
          "dandadan who are the serpoians",
          "green lantern actor aaron pierre john stewart suit dcu fan art",
          "last of us season 2 catherine ohara new character",
          "disclaimer show apple alfonso cuaron emmanuel lubezki gravity reunion",
          "my hero academias creator youre next more important than fans think",
          "i know just who would be the perfect villain for spider man 4 especially after daredevil born again",
          "superhero movies need watch twice to get",
          "hunger games jennifer lawrence return katniss prequels difficult",
          "wolf man 2024 monster design different tease",
          "scariest hororr movies all time",
          "project rene sims fortnite trademark brand recognition good why",
          "jason statham lock stock smoking barrels action movie star",
          "disney dreamlight valley minecraft dimensions nether end",
          "dandadan episode 3 review",
          "ps plus extra day one games 2025 fbc firebreak",
          "scary classic horror books",
          "star wars palpatine daughter coruscant new republic mistake",
          "fringe lost replacement sci fi show mysteries good",
          "jujutsu kaisen gojo cosplay shonens iconic mentor anime accurate look",
          "white collar romantic couples ranked",
          "masahiro sakurai youtube final episode when october 2024",
          "ps2 games on ps5 primal",
          "one piece oda announces two major projects during manga break",
          "will smith movies defined career",
          "no more room in hell 2 release time date early access nmrih2",
          "underrated military horror movies",
          "the witcher season 4 vesemir recast confirmed representative explained",
          "anora mikey madison oscar nomination deserve reason",
          "blue box new episode 4 release date time netflix",
          "werewolves movie 2024 trailer frank grillo",
          "star trek voyager war story rick berman canceled",
          "animated movies that are dark",
          "mistborn movie better as tv series mistake",
          "baldurs gate 3 companions pokemon trainers fan art",
          "the penguin killing arkham series right move",
          "batman arkham games bat family companions dual play dlc",
          "starfield shattered space skyrim jarl balgruuf character reference",
          "agatha all along reminds everyone wanda maximoff is dead",
          "metaphor refantazio gauntlet runner free time guide",
          "silent hill 2 room 312 hamster",
          "xbox store halloween 2024 sale all deals discounts savings",
          "pokemon go rare nundo zero ivs collectible explained",
          "banjo kazooie xbox aaron greenberg comment",
          "magic the gathering mtg foundations marvel secret lair cards 2024",
          "blue bloods season 14 jamie stolen car joe hill end reagan story",
          "naruto last battle callback kishimotos original idea manga",
          "outer banks show obx accuracy wrong",
          "evil streaming popularity show future creator response",
          "game of thrones tyrion lannister a song of ice and fire books missing",
          "star wars order 66 final battle unseen",
          "mcu scenes improved over time",
          "god war ragnarok every armor ranked worst best",
          "haunting of hill house scene mandela effect steven ghost luke",
          "jack helsdown",
          "one piece 1131 spoilers release date leaks",
          "the nun",
          "cross tv show kayla craig book villain connection actor response",
          "dandadan anime episode 3 seiko momo grandma granny manga extra",
          "sylvester stallone tulsa king western tombstone similar dana delany",
          "greys anatomy season 21 teddy owen problems breakup good",
          "crusader kings 3 how to increase raise cultural acceptance",
          "call of duty black black ops 6 nuketown map",
          "one piece chapter 1130 oda finally introduces loki",
          "smile movies next great horror franchise",
          "throne and liberty classes weapon based sword shield bow wand",
          "mamma mia 2 cher ruby character makes no sense",
          "largest nintendo switch 1st party games",
          "silo season 2 solo eye color syndrome mystery explain",
          "goosebumps season 2 books adapting revealed",
          "my hero academia who are giulio and anna best new couple explained",
          "real steel",
          "hugh jackman real steel shawn levy deadpool wolverine director",
          "pokemon gen 2 origins possible norowara curse mystery explained",
          "asmongold cleaning his house before after photo",
          "most influential mechanics horror game history",
          "fortnite spider woman marvel skin how to get",
          "hunter x hunter 404 spoilers release date leaks",
          "cobra kai season 6 casting senseis sekai taikai dojos",
          "smile 2 lewis curse death gory lukas gage explained",
          "star wars starkiller force unleashed explained",
          "mortal kombat 2 fights exciting better 2021 movie tournament",
          "nightwing beat joker laughing contest better than batman",
          "fast furious shaw family spinoff jason statham deckard",
          "marvel magic users mcu future explained",
          "dragon ball daima english japanese cast",
          "from season 3 episode 5 dale faraway tree pool concrete death",
          "smile 2 mirror symbolism explained",
          "tracker season 2 episode 2 ashton shaw dod connection russell shaw vindication",
          "from season 3 catalina sandino moreno robert joy interview",
          "pokemon scarlet violet halloween events october 2024",
          "tracker season 2 episode 2 reenie russell shaw romance better",
          "classic underrated zombie movies",
          "call of duty black ops 6 replacer ads",
          "hilarie burton best movies and tv shows ranked",
          "rings of power season 2 set up sauron good never seen mairon",
          "most ambitious game crossovers in history",
          "luffy stronger elbaf one piece giants straw hats",
          "alice in borderland joker card meaning explained",
          "the penguin episode 5 ending explained recap",
          "the penguin episode 5 tv review",
          "spy x family most tragic backstories",
          "the penguin episode 5 dc easter eggs references",
          "woman of the hour rodney alcala roman polanski teacher",
          "the walking dead daryl dixon season 2 episode 4 review",
          "the walking dead daryl carol reunion season 3 meaning",
          "daryl dixon season 2 episode 4 ending explained villain team up pouvoir union",
          "star wars naboo new republic return theory",
          "wii u consoles dying warning",
          "best games featuring non traditional hero archetypes",
          "the walking dead isabelle death frustrating",
          "daryl dixon who came back the walking dead mystery explained",
          "most intelligent detectives anime",
          "mcu doctor doom thanos power comparison",
          "harry potter tv remake biggest problem voldemort backstory",
          "smallvilles 10 darkest lex luthor scenes ranked",
          "woman of the hour rodney alcala vetting contestant problem",
          "ancient apocalypse americas white sands footprints graham hancock theories",
          "spider man animated series best villain episodes",
          "brothers brendan fraser comedy perfect after the whale",
          "ancient apocalypse",
          "isekai anime incredible sense scale",
          "new york times connections 498 october 21 2024 hints answers",
          "minecraft plants pale garden should add",
          "new york times strands hints answers october 21 2024",
          "best games that you can play slasher villain",
          "batman movie two face villain the dark knight",
          "hysteria show ending explained",
          "star wars characters most apperances movies shows",
          "the lincoln lawyer gets right law court cases",
          "stardew valley lego pierre general store build",
          "life is strange double exposure how to get gwens book",
          "black myth wukong ps5 physical version release date price",
          "zelda echoes wisdom hyrule ranch flag race complete guide all rewards short medium long eow",
          "silent hill 2 remake red save squares theory",
          "south park medicinal fried chicken episode colorado law changed",
          "best romance anime sequels",
          "joana ferreira",
          "playstation fan game collection melted",
          "manhwa like the gamer you should read",
          "teenage mutant ninja turtles tmnt mutants unleashed trophy achievement guide",
          "teenage mutant ninja turtles tmnt mutants unleashed mission list how long to beat",
          "injustice 3 green lantern john stewart unique fighter why",
          "pokemon gen 10 rumored cross generation switch 2 series first",
          "best open world games play as white mage",
          "once human how get m416 scorched earth location",
          "roblox horror game revives",
          "like a dragon pirate yakuza hawaii fan favorite features good why",
          "the sims 4 life and death expansion pack release date time",
          "digimon adventure 1999",
          "where to watch venom 3 showtimes streaming status",
          "walking dead daryl dixon season 2 carol reunion explained norman reedus",
          "mcu defenders canon spider man great responsibility jessica jones first said",
          "inception christopher nolan michael caine underused bigger role deserve",
          "dcu canon timelines dceu james gunn comments",
          "gangster movies criticized experts accuracy realism",
          "godzilla powers weird only used once",
          "nightwing casting christopher sean dream comments",
          "fantasy box office flops deserved better",
          "agatha all along vision quest setup explained",
          "solo leveling season 2 first look trailer",
          "dragon ball daima gomah power strength main villain gomah",
          "blue bloods season 14 anthony dog willie boy cameo explained",
          "star trek section 31 movie future director response",
          "ghosts season 4 cast jay parents double possession alexander hamilton",
          "pokemon scarlet violet home free shiny meloetta big deal why",
          "teenage mutant ninja turtles tmnt mutants unleashed all digimutant locations catch em all trophy achievement",
          "james gunn future wonder woman casting doubters",
          "stardew valley baby name mistake",
          "once human new way of winter scenario explained weapons armor deviants",
          "pokemon leak multiplayer game freak explained",
          "star trek section 31 movie tv show change director",
          "pokemon go halloween event part 2 froakie rowlet gigantamax gengar",
          "diablo 4 d4 how get farm obducite",
          "sauron the rings of power wolf scene huan reminder",
          "snake eyes",
          "gabriel sheehan",
          "enchanted",
          "enchanted idina menzel character actress not singer sequel",
          "stardew valley marnie house window issue",
          "criminal minds evolution season 3 timeline showrunner explained",
          "10 best war movies of the 1980s",
          "night court",
          "we live in time movie andrew garfield rotten tomatoes audience score career comparison",
          "what we do in the shadows season 6 jerry vampire colin robinson impact mark proksch",
          "doctor doom avengers world domination marvel comics",
          "american housewife oliver cooper together couple theory",
          "star trek picard doctor crusher greatest medical miracle",
          "batman joker 2 ending call out gotham david mazouz",
          "night court season 3 jake susan return images",
          "absolute batman flaming bat symbol nolan dark knight",
          "sonic x shadow generations review",
          "snake eyes movie streaming success netflix",
          "from season 3 episode 5 dale death harold perrineau reaction",
          "marvel comics shanna she devils elektra wolverine",
          "dc comics harley quinn inconsistent characterization new era",
          "fantasy books great from beginning first scene",
          "terrifier 4 art the clown final curmovietain",
          "expendables 2 best movie franchise original promise",
          "yu gi oh every anime series tragedy genocide",
          "tyler hoechlin superman grant gustin flash faster power debate arrowverse stars",
          "divine tree m codes",
          "death note leak game life is strange possible choice system",
          "best horror games lovecraftian elements",
          "far cry 7 cillian murphy rumor proving false good why",
          "diablo 4 rawhide iron chunks changes",
          "subnautica 2 map size environment depths",
          "castlevania vampire saviors crossover announcement dlc release date",
          "lakitu quiz answers rainbow galleria super mario party jamboree",
          "fantastic four first steps herbie villain twist",
          "fear the spotlight",
          "ncis season 22 robin return lilan bowden katrina law",
          "unhinged",
          "how daryl carol reunite in the walking dead",
          "russell crowe unhinged movie inspired steven spielberg duel",
          "2000s tv shows revival ready",
          "stephen king praised fever house devil by name",
          "shonen jump after mha hero academia jujutsu kaisen ending elusive samurai dan da dan",
          "stranger things next show netflix 1990s new cast",
          "beetlejuice beetlejuice movie box office success michael keaton response",
          "big bang theory stuart spinoff leonard dead mystery solve kaley cuoco penny return",
          "wicked movie poster edit cynthia erivo criticism ariana grande response",
          "alien isolation 2 nostalgia franchise community demand",
          "ultimates human torch redesign marvel first hero",
          "the penguin julian rush harley quinn replacement",
          "dark tower adaptation delay mike flanagan stephen king explained",
          "back to the future michael j fox crispin glover family ties",
          "star wars how palpatine defeated first time",
          "georgie and mandys first marriage episode 1 destroy mary big bang theory version result",
          "best hunter x hunter characters",
          "from season 3 episode 5 recap story reveals",
          "venom 3 last dance tom hardy ending eddie brock story",
          "nikoderiko magical world music humor funny how",
          "sonic x shadow generations all available platforms",
          "crimson desert dev declined ps5 exclusivity",
          "call of duty black ops 6 riot shield removed",
          "lego horizon adventures sylens recast",
          "tom hardy venom spiderman crossover rumors",
          "dandadan best manga arcs",
          "is it wrong to try to pick up girls in a dungeon episode 3",
          "epic games store free october 24 moving out",
          "daredevil trailer marvel television mcu canon settled",
          "friday the 13th movies harsh realities rewatch",
          "lincoln lawyer season 3 holt mccallany mindhunter canceled reminder",
          "dead by daylight movie update jason blum",
          "twisters streaming release date peacock",
          "poison ivy diy costume cosplay inspiration idea",
          "john wick original script differences director reveal",
          "minor threats patton oswalt dark horse interview",
          "far side comics about flowers plants gary larson",
          "star wars skeleton crew battle for endor teek return",
          "chosen family",
          "eddie brock carnage host venom lore change",
          "marisa tomei brothers my cousin vinny reminder watch",
          "cowboy bebops english dub wild story crazy",
          "ys 10 nordics release date time",
          "disclaimer show stephen king review",
          "other worlds alex ries artbook kickstarter excerpt moonbreaker art",
          "star trek starfleet acadamey tatiana maslany orphan black",
          "monster hunter wilds where what edition to buy",
          "transformers one breaks movie tradition robots only no humans",
          "smile 2 violence genuinely shocking"
         ],
         "legendgroup": "",
         "marker": {
          "color": "#636efa",
          "symbol": "circle"
         },
         "mode": "markers",
         "name": "",
         "orientation": "v",
         "showlegend": false,
         "type": "scatter",
         "x": [
          40.664764404296875,
          121.77538299560547,
          -77.70064544677734,
          19.7944278717041,
          -130.32568359375,
          19.7944278717041,
          -6.846167087554932,
          -75.9951400756836,
          19.7944278717041,
          19.7944278717041,
          -63.04084014892578,
          -16.419919967651367,
          121.08118438720703,
          20.70591926574707,
          -130.32568359375,
          19.7944278717041,
          -83.45806884765625,
          11.24720573425293,
          -120.74717712402344,
          11.24720573425293,
          56.54384994506836,
          19.7944278717041,
          -156.28541564941406,
          19.7944278717041,
          97.51680755615234,
          19.7944278717041,
          -83.45806884765625,
          19.7944278717041,
          19.7944278717041,
          -130.32568359375,
          19.7944278717041,
          19.7944278717041,
          31.773426055908203,
          -167.7102813720703,
          -79.01744079589844,
          -220.1094207763672,
          -136.8443145751953,
          19.7944278717041,
          19.7944278717041,
          75.32769012451172,
          105.71607208251953,
          48.90801239013672,
          -34.9865608215332,
          147.8978729248047,
          11.24720573425293,
          71.22504425048828,
          3.8256192207336426,
          11.24720573425293,
          19.7944278717041,
          -197.06185913085938,
          12.808816909790039,
          12.808816909790039,
          11.24720573425293,
          19.7944278717041,
          19.7944278717041,
          12.808816909790039,
          12.808816909790039,
          -87.12614440917969,
          112.48129272460938,
          -31.232694625854492,
          19.7944278717041,
          -12.465226173400879,
          19.7944278717041,
          94.3239517211914,
          19.7944278717041,
          19.7944278717041,
          -57.139930725097656,
          8.922264099121094,
          -139.9813690185547,
          -90.96621704101562,
          101.84954071044922,
          -38.817081451416016,
          -30.623348236083984,
          101.7053451538086,
          -244.9794464111328,
          -12.686003684997559,
          12.808816909790039,
          130.14669799804688,
          -163.92955017089844,
          -24.554399490356445,
          109.98246765136719,
          12.808816909790039,
          19.7944278717041,
          19.7944278717041,
          204.33921813964844,
          19.7944278717041,
          4.8891682624816895,
          36.80784225463867,
          -118.22455596923828,
          19.7944278717041,
          19.7944278717041,
          19.7944278717041,
          -69.59729766845703,
          -191.34945678710938,
          31.773426055908203,
          19.7944278717041,
          19.7944278717041,
          100.43991088867188,
          19.7944278717041,
          11.24720573425293,
          12.808816909790039,
          -53.763214111328125,
          -42.992919921875,
          12.808816909790039,
          -53.88160705566406,
          88.17391967773438,
          116.71026611328125,
          19.7944278717041,
          19.7944278717041,
          -251.98516845703125,
          19.7944278717041,
          14.38829517364502,
          10.647095680236816,
          -32.305931091308594,
          -180.85789489746094,
          -57.754032135009766,
          -93.01219177246094,
          19.7944278717041,
          -55.57769775390625,
          -167.2559051513672,
          12.808816909790039,
          -87.12614440917969,
          12.808816909790039,
          59.81203079223633,
          137.3178253173828,
          -72.78569793701172,
          -65.657470703125,
          19.7944278717041,
          -50.30452346801758,
          19.7944278717041,
          59.20559310913086,
          19.7944278717041,
          -242.9342041015625,
          19.7944278717041,
          -87.12614440917969,
          19.7944278717041,
          11.24720573425293,
          19.7944278717041,
          -12.499749183654785,
          12.808816909790039,
          -51.91640090942383,
          39.13473129272461,
          -26.867883682250977,
          0.9355202317237854,
          81.8785171508789,
          19.7944278717041,
          113.89505004882812,
          45.00996398925781,
          -24.303329467773438,
          -171.83619689941406,
          19.7944278717041,
          -141.89134216308594,
          12.808816909790039,
          -24.554399490356445,
          12.808816909790039,
          47.67787551879883,
          75.57719421386719,
          -250.54241943359375,
          19.7944278717041,
          19.7944278717041,
          19.7944278717041,
          19.7944278717041,
          19.7944278717041,
          145.519775390625,
          81.73770904541016,
          76.69380950927734,
          -51.06787872314453,
          19.7944278717041,
          -65.50360107421875,
          19.7944278717041,
          22.872398376464844,
          19.7944278717041,
          -258.5254211425781,
          -191.55491638183594,
          -69.77476501464844,
          -94.82190704345703,
          19.7944278717041,
          19.7944278717041,
          19.7944278717041,
          19.7944278717041,
          19.7944278717041,
          -72.04437255859375,
          19.949636459350586,
          19.7944278717041,
          19.7944278717041,
          -95.34992980957031,
          -8.157075881958008,
          -7.821956634521484,
          19.7944278717041,
          -214.78805541992188,
          19.7944278717041,
          -92.60570526123047,
          -28.1879940032959,
          126.84099578857422,
          -140.32708740234375,
          71.53760528564453,
          4.09588623046875,
          104.75306701660156,
          81.94353485107422,
          -52.44367218017578,
          56.890872955322266,
          -18.12868309020996,
          19.7944278717041,
          156.3496856689453,
          61.22998046875,
          -49.46775817871094,
          19.7944278717041,
          -70.97423553466797,
          19.7944278717041,
          67.40111541748047,
          -219.11598205566406,
          -125.68879699707031,
          12.808816909790039,
          12.808816909790039,
          28.562925338745117,
          61.8757438659668,
          18.68798065185547,
          19.7944278717041,
          -36.60456085205078,
          19.7944278717041,
          -133.25259399414062,
          97.67383575439453,
          143.7428741455078,
          47.924774169921875,
          -173.38442993164062,
          12.808816909790039,
          19.7944278717041,
          27.218183517456055,
          -105.4037094116211,
          -84.41979217529297,
          19.7944278717041,
          19.7944278717041,
          -67.05232238769531,
          19.7944278717041,
          -10.740995407104492,
          30.21083641052246,
          75.10719299316406,
          12.808816909790039,
          19.7944278717041,
          -3.3844590187072754,
          19.7944278717041,
          -163.91854858398438,
          -112.66427612304688,
          101.26705932617188,
          76.90977478027344,
          -135.85951232910156,
          19.7944278717041,
          -50.39114761352539,
          214.77023315429688,
          12.808816909790039,
          -184.10020446777344,
          -59.23537063598633,
          42.048954010009766,
          12.808816909790039,
          -98.89556121826172,
          19.7944278717041,
          19.7944278717041,
          68.12477111816406,
          -3.234694719314575,
          19.7944278717041,
          19.7944278717041,
          -82.49449157714844,
          19.7944278717041,
          19.7944278717041,
          19.7944278717041,
          64.10404205322266,
          -54.43731689453125,
          27.218183517456055,
          19.7944278717041,
          -127.15949249267578,
          -28.345897674560547,
          128.7713623046875,
          19.7944278717041,
          19.7944278717041,
          19.7944278717041,
          19.7944278717041,
          51.10713195800781,
          12.808816909790039,
          -97.59257507324219,
          19.7944278717041,
          19.7944278717041,
          19.7944278717041,
          19.7944278717041,
          -37.93060302734375,
          -113.18301391601562,
          19.7944278717041,
          -225.32008361816406,
          75.87062072753906,
          19.7944278717041,
          178.6123809814453,
          19.7944278717041,
          19.7944278717041,
          -29.750680923461914,
          -87.62857818603516,
          12.808816909790039,
          -189.86585998535156,
          25.424224853515625,
          19.7944278717041,
          204.20440673828125,
          12.808816909790039,
          12.808816909790039,
          -89.5245590209961,
          -127.88507843017578,
          37.84053421020508,
          19.7944278717041,
          19.7944278717041,
          -121.89157104492188,
          -46.690452575683594,
          102.0087661743164,
          12.808816909790039,
          19.7944278717041,
          -24.379898071289062,
          -26.408098220825195,
          12.808816909790039,
          12.808816909790039,
          -74.03744506835938,
          -197.27069091796875,
          -130.39840698242188,
          88.19674682617188,
          -140.22776794433594,
          19.7944278717041,
          19.7944278717041,
          82.33350372314453,
          50.072792053222656,
          -67.95429992675781,
          -123.64571380615234,
          33.585479736328125,
          -69.98827362060547,
          -39.365108489990234,
          33.534271240234375,
          19.7944278717041,
          -20.126789093017578,
          -11.794939041137695,
          -32.69508743286133,
          12.808816909790039,
          -76.4793930053711,
          19.7944278717041,
          160.55760192871094,
          153.18484497070312,
          -231.4457244873047,
          159.87594604492188,
          93.93041229248047,
          9.379740715026855,
          20.1086368560791,
          5.202983379364014,
          97.85376739501953,
          12.808816909790039,
          19.7944278717041,
          3.8046085834503174,
          9.541837692260742,
          -207.0843505859375,
          -60.90032196044922,
          19.7944278717041,
          -48.71270751953125,
          92.61651611328125,
          120.2738037109375,
          9.299402236938477,
          -119.34927368164062,
          111.87511444091797,
          -87.12614440917969,
          12.808816909790039,
          19.7944278717041,
          12.808816909790039,
          -85.3810806274414,
          19.7944278717041,
          187.06900024414062,
          -80.49730682373047,
          53.66441345214844,
          12.808816909790039,
          19.7944278717041,
          -45.17061996459961,
          19.7944278717041,
          -92.69415283203125,
          19.7944278717041,
          -29.750680923461914,
          -56.55026626586914,
          12.808816909790039,
          27.218183517456055,
          12.808816909790039,
          12.808816909790039,
          119.6268310546875,
          12.808816909790039,
          97.44454956054688,
          12.808816909790039,
          19.7944278717041,
          19.7944278717041,
          12.808816909790039,
          12.808816909790039,
          -91.26655578613281,
          14.290234565734863,
          -166.59727478027344,
          -147.55226135253906,
          88.56922149658203,
          78.088623046875,
          27.218183517456055,
          95.20311737060547,
          19.7944278717041,
          134.7869415283203,
          19.7944278717041,
          53.3106689453125,
          19.7944278717041,
          77.89706420898438,
          8.893505096435547,
          12.808816909790039,
          12.808816909790039,
          19.7944278717041,
          -34.753746032714844,
          12.808816909790039,
          12.808816909790039,
          77.89706420898438,
          19.7944278717041,
          -42.55291748046875,
          -25.224130630493164,
          -41.84004211425781,
          -4.112336158752441,
          36.187015533447266,
          32.21915817260742,
          19.7944278717041,
          19.7944278717041,
          19.7944278717041,
          118.95521545410156,
          -219.96990966796875,
          -155.87017822265625,
          27.218183517456055,
          19.7944278717041,
          -162.5987548828125,
          19.7944278717041,
          125.79863739013672,
          -124.16549682617188,
          12.808816909790039,
          -46.447601318359375,
          -76.56440734863281,
          19.7944278717041,
          19.7944278717041,
          -226.36141967773438,
          -14.460598945617676,
          19.7944278717041,
          19.7944278717041,
          48.047691345214844,
          12.808816909790039,
          -29.29657554626465,
          19.7944278717041,
          19.7944278717041,
          -31.609561920166016,
          42.84517288208008,
          19.7944278717041,
          12.808816909790039,
          -68.11653900146484,
          -21.66768455505371,
          -200.38064575195312,
          63.84519577026367,
          -3.3818981647491455,
          68.02792358398438,
          19.7944278717041,
          59.46806335449219,
          -44.25899124145508,
          19.7944278717041,
          38.47187805175781,
          142.39288330078125,
          -46.195865631103516,
          12.808816909790039,
          19.7944278717041,
          19.7944278717041,
          19.7944278717041,
          19.7944278717041,
          -84.41979217529297,
          -22.498180389404297,
          94.52233123779297,
          -71.20528411865234,
          -91.73002624511719,
          19.7944278717041,
          12.808816909790039,
          12.808816909790039,
          12.808816909790039,
          -34.55158996582031,
          -24.554399490356445,
          19.7944278717041,
          19.7944278717041,
          12.808816909790039,
          81.42143249511719,
          -197.94198608398438,
          19.7944278717041,
          19.7944278717041,
          -23.220964431762695,
          -181.3792266845703,
          126.87784576416016,
          19.7944278717041,
          74.33602905273438,
          -192.084716796875,
          12.808816909790039,
          -24.554399490356445,
          -115.29032897949219,
          -102.60041046142578,
          19.7944278717041,
          -109.6471939086914,
          12.808816909790039,
          19.7944278717041,
          19.7944278717041,
          19.7944278717041,
          -133.89964294433594
         ],
         "xaxis": "x",
         "y": [
          -23.51984214782715,
          -23.330223083496094,
          93.72164154052734,
          38.57796096801758,
          -48.44474411010742,
          38.57796096801758,
          -89.62814331054688,
          -10.922060012817383,
          38.57796096801758,
          38.57796096801758,
          -212.1092987060547,
          -21.31840705871582,
          44.37703323364258,
          -89.7454833984375,
          -48.44474411010742,
          38.57796096801758,
          -76.33136749267578,
          -28.630327224731445,
          28.136058807373047,
          -28.630327224731445,
          -66.12767028808594,
          38.57796096801758,
          132.20774841308594,
          38.57796096801758,
          -116.38126373291016,
          38.57796096801758,
          -76.33136749267578,
          38.57796096801758,
          38.57796096801758,
          -48.44474411010742,
          38.57796096801758,
          38.57796096801758,
          -36.06304931640625,
          -122.21354675292969,
          65.75541687011719,
          -95.32675170898438,
          -190.8195037841797,
          38.57796096801758,
          38.57796096801758,
          -25.716243743896484,
          -115.72254943847656,
          -137.1968231201172,
          -150.41488647460938,
          -180.34771728515625,
          -28.630327224731445,
          -19.909170150756836,
          -48.521236419677734,
          -28.630327224731445,
          38.57796096801758,
          -129.95431518554688,
          6.150697231292725,
          6.150697231292725,
          -28.630327224731445,
          38.57796096801758,
          38.57796096801758,
          6.150697231292725,
          6.150697231292725,
          -173.1927947998047,
          -204.04263305664062,
          -80.17713165283203,
          38.57796096801758,
          -70.73715209960938,
          38.57796096801758,
          31.200401306152344,
          38.57796096801758,
          38.57796096801758,
          69.69107818603516,
          -75.76934051513672,
          -106.35108947753906,
          -34.64592361450195,
          99.2982406616211,
          -53.495792388916016,
          -55.10797882080078,
          33.259132385253906,
          -73.40807342529297,
          -8.78012752532959,
          6.150697231292725,
          -79.06855010986328,
          36.89274978637695,
          2.7864270210266113,
          -167.390869140625,
          6.150697231292725,
          38.57796096801758,
          38.57796096801758,
          -64.83743286132812,
          38.57796096801758,
          -109.59831237792969,
          129.90652465820312,
          32.620567321777344,
          38.57796096801758,
          38.57796096801758,
          38.57796096801758,
          -14.755768775939941,
          136.2568817138672,
          -36.06304931640625,
          38.57796096801758,
          38.57796096801758,
          59.59252166748047,
          38.57796096801758,
          -28.630327224731445,
          6.150697231292725,
          -6.0420613288879395,
          -148.5358123779297,
          6.150697231292725,
          228.25697326660156,
          -39.14115905761719,
          -49.41204071044922,
          38.57796096801758,
          38.57796096801758,
          37.10281753540039,
          38.57796096801758,
          -59.054969787597656,
          179.7056884765625,
          -116.26715087890625,
          170.15872192382812,
          -23.321247100830078,
          1.499365210533142,
          38.57796096801758,
          121.17514038085938,
          103.61861419677734,
          6.150697231292725,
          -173.1927947998047,
          6.150697231292725,
          5.856512546539307,
          -76.3985595703125,
          30.64773178100586,
          30.041288375854492,
          38.57796096801758,
          23.454023361206055,
          38.57796096801758,
          -112.49490356445312,
          38.57796096801758,
          78.683349609375,
          38.57796096801758,
          -173.1927947998047,
          38.57796096801758,
          -28.630327224731445,
          38.57796096801758,
          -237.68353271484375,
          6.150697231292725,
          65.18423461914062,
          -72.97238159179688,
          -112.9410400390625,
          -63.41007614135742,
          -0.2538183033466339,
          38.57796096801758,
          -53.51889419555664,
          -48.22147750854492,
          108.47386932373047,
          -192.7144317626953,
          38.57796096801758,
          -136.1833953857422,
          6.150697231292725,
          2.7864270210266113,
          6.150697231292725,
          -34.73387145996094,
          50.73031997680664,
          -0.8350604176521301,
          38.57796096801758,
          38.57796096801758,
          38.57796096801758,
          38.57796096801758,
          38.57796096801758,
          -41.20893096923828,
          186.41241455078125,
          -182.39959716796875,
          -69.4128646850586,
          38.57796096801758,
          -21.955482482910156,
          38.57796096801758,
          -69.92316436767578,
          38.57796096801758,
          -36.44900131225586,
          42.47671127319336,
          -28.95052719116211,
          -81.47115325927734,
          38.57796096801758,
          38.57796096801758,
          38.57796096801758,
          38.57796096801758,
          38.57796096801758,
          89.6875228881836,
          101.08814239501953,
          38.57796096801758,
          38.57796096801758,
          141.84527587890625,
          -42.65293502807617,
          -30.070213317871094,
          38.57796096801758,
          64.89785766601562,
          38.57796096801758,
          22.960601806640625,
          -84.08170318603516,
          18.875869750976562,
          -50.146671295166016,
          116.1938705444336,
          225.84274291992188,
          7.056897163391113,
          -64.52227783203125,
          -42.3616828918457,
          -25.421388626098633,
          113.69795227050781,
          38.57796096801758,
          17.54123306274414,
          -72.09478759765625,
          -91.52627563476562,
          38.57796096801758,
          164.63076782226562,
          38.57796096801758,
          17.835216522216797,
          -2.7129054069519043,
          146.34144592285156,
          6.150697231292725,
          6.150697231292725,
          -19.808862686157227,
          -8.722941398620605,
          -46.714969635009766,
          38.57796096801758,
          -36.69095993041992,
          38.57796096801758,
          -225.44625854492188,
          7.870020866394043,
          -143.2531280517578,
          -90.48206329345703,
          -21.455944061279297,
          6.150697231292725,
          38.57796096801758,
          -204.6084747314453,
          176.1077423095703,
          50.65945816040039,
          38.57796096801758,
          38.57796096801758,
          195.8390350341797,
          38.57796096801758,
          -55.49176025390625,
          -53.21034240722656,
          -60.95088577270508,
          6.150697231292725,
          38.57796096801758,
          94.36239624023438,
          38.57796096801758,
          5.85844087600708,
          62.894134521484375,
          -74.74057006835938,
          72.85357666015625,
          198.8983917236328,
          38.57796096801758,
          120.37486267089844,
          -19.64290428161621,
          6.150697231292725,
          73.3524398803711,
          -45.65403747558594,
          203.7696990966797,
          6.150697231292725,
          212.9951171875,
          38.57796096801758,
          38.57796096801758,
          109.58045959472656,
          -86.26197052001953,
          38.57796096801758,
          38.57796096801758,
          -67.80084991455078,
          38.57796096801758,
          38.57796096801758,
          38.57796096801758,
          -112.36914825439453,
          -65.8293685913086,
          -204.6084747314453,
          38.57796096801758,
          -162.26661682128906,
          -63.04058837890625,
          45.854454040527344,
          38.57796096801758,
          38.57796096801758,
          38.57796096801758,
          38.57796096801758,
          -51.925418853759766,
          6.150697231292725,
          -32.706424713134766,
          38.57796096801758,
          38.57796096801758,
          38.57796096801758,
          38.57796096801758,
          17.65692901611328,
          -131.81369018554688,
          38.57796096801758,
          116.5462417602539,
          33.07569885253906,
          38.57796096801758,
          -138.38363647460938,
          38.57796096801758,
          38.57796096801758,
          -198.19911193847656,
          -59.539588928222656,
          6.150697231292725,
          -97.96822357177734,
          -88.45679473876953,
          38.57796096801758,
          51.30819320678711,
          6.150697231292725,
          6.150697231292725,
          -71.00218963623047,
          -64.82193756103516,
          -10.21961498260498,
          38.57796096801758,
          38.57796096801758,
          116.25948333740234,
          -95.62025451660156,
          -79.58867645263672,
          6.150697231292725,
          38.57796096801758,
          20.606830596923828,
          -13.705671310424805,
          6.150697231292725,
          6.150697231292725,
          -83.31077575683594,
          -162.5390167236328,
          -38.7833366394043,
          -46.9603385925293,
          92.99149322509766,
          38.57796096801758,
          38.57796096801758,
          16.595849990844727,
          -14.383874893188477,
          -113.09130859375,
          -57.30289077758789,
          -107.44425201416016,
          -108.54012298583984,
          -9.059341430664062,
          -112.33305358886719,
          38.57796096801758,
          -35.72484588623047,
          -95.07552337646484,
          65.82516479492188,
          6.150697231292725,
          -72.00772094726562,
          38.57796096801758,
          -1.9660212993621826,
          13.678139686584473,
          -127.04273223876953,
          -6.993417263031006,
          -111.69677734375,
          -154.22401428222656,
          -134.34730529785156,
          -140.37588500976562,
          -35.37822341918945,
          6.150697231292725,
          38.57796096801758,
          -147.9711151123047,
          -144.26100158691406,
          -65.95809173583984,
          9.770017623901367,
          38.57796096801758,
          -142.49317932128906,
          -119.61287689208984,
          -14.724639892578125,
          120.35433197021484,
          -7.0049357414245605,
          -12.082247734069824,
          -173.1927947998047,
          6.150697231292725,
          38.57796096801758,
          6.150697231292725,
          -240.999755859375,
          38.57796096801758,
          -101.2399673461914,
          57.481719970703125,
          -138.39190673828125,
          6.150697231292725,
          38.57796096801758,
          37.671539306640625,
          38.57796096801758,
          -27.941781997680664,
          38.57796096801758,
          -198.19911193847656,
          47.028099060058594,
          6.150697231292725,
          -204.6084747314453,
          6.150697231292725,
          6.150697231292725,
          19.16009521484375,
          6.150697231292725,
          92.80680847167969,
          6.150697231292725,
          38.57796096801758,
          38.57796096801758,
          6.150697231292725,
          6.150697231292725,
          9.150896072387695,
          -138.45310974121094,
          -84.6957015991211,
          166.8993377685547,
          -14.636161804199219,
          -221.7046356201172,
          -204.6084747314453,
          -17.47265625,
          38.57796096801758,
          -82.31172943115234,
          38.57796096801758,
          -90.37600708007812,
          38.57796096801758,
          -88.57872772216797,
          -106.77531433105469,
          6.150697231292725,
          6.150697231292725,
          38.57796096801758,
          49.74451446533203,
          6.150697231292725,
          6.150697231292725,
          -88.57872772216797,
          38.57796096801758,
          -22.381175994873047,
          -49.239078521728516,
          88.0320053100586,
          -17.27459716796875,
          122.33358764648438,
          -251.9787139892578,
          38.57796096801758,
          38.57796096801758,
          38.57796096801758,
          72.3729476928711,
          30.273988723754883,
          66.56794738769531,
          -204.6084747314453,
          38.57796096801758,
          -158.7357940673828,
          38.57796096801758,
          75.2656021118164,
          21.942832946777344,
          6.150697231292725,
          93.53611755371094,
          -113.0047836303711,
          38.57796096801758,
          38.57796096801758,
          -39.66592788696289,
          121.15290832519531,
          38.57796096801758,
          38.57796096801758,
          -0.9808763265609741,
          6.150697231292725,
          -25.70897674560547,
          38.57796096801758,
          38.57796096801758,
          33.002010345458984,
          98.7856674194336,
          38.57796096801758,
          6.150697231292725,
          8.765985488891602,
          81.31443786621094,
          -26.48727035522461,
          -39.470436096191406,
          -141.48126220703125,
          -45.18482971191406,
          38.57796096801758,
          86.01017761230469,
          5.163311958312988,
          38.57796096801758,
          -65.8857192993164,
          -36.995262145996094,
          -245.34661865234375,
          6.150697231292725,
          38.57796096801758,
          38.57796096801758,
          38.57796096801758,
          38.57796096801758,
          50.65945816040039,
          -115.89364624023438,
          55.179195404052734,
          -121.20339965820312,
          14.66457748413086,
          38.57796096801758,
          6.150697231292725,
          6.150697231292725,
          6.150697231292725,
          175.19725036621094,
          2.7864270210266113,
          38.57796096801758,
          38.57796096801758,
          6.150697231292725,
          79.21964263916016,
          100.58250427246094,
          38.57796096801758,
          38.57796096801758,
          205.32252502441406,
          -53.91950607299805,
          -8.93195915222168,
          38.57796096801758,
          -0.6930779814720154,
          10.493463516235352,
          6.150697231292725,
          2.7864270210266113,
          -9.761981010437012,
          -210.87554931640625,
          38.57796096801758,
          66.95297241210938,
          6.150697231292725,
          38.57796096801758,
          38.57796096801758,
          38.57796096801758,
          -56.856910705566406
         ],
         "yaxis": "y"
        }
       ],
       "layout": {
        "legend": {
         "tracegroupgap": 0
        },
        "template": {
         "data": {
          "bar": [
           {
            "error_x": {
             "color": "#2a3f5f"
            },
            "error_y": {
             "color": "#2a3f5f"
            },
            "marker": {
             "line": {
              "color": "#E5ECF6",
              "width": 0.5
             },
             "pattern": {
              "fillmode": "overlay",
              "size": 10,
              "solidity": 0.2
             }
            },
            "type": "bar"
           }
          ],
          "barpolar": [
           {
            "marker": {
             "line": {
              "color": "#E5ECF6",
              "width": 0.5
             },
             "pattern": {
              "fillmode": "overlay",
              "size": 10,
              "solidity": 0.2
             }
            },
            "type": "barpolar"
           }
          ],
          "carpet": [
           {
            "aaxis": {
             "endlinecolor": "#2a3f5f",
             "gridcolor": "white",
             "linecolor": "white",
             "minorgridcolor": "white",
             "startlinecolor": "#2a3f5f"
            },
            "baxis": {
             "endlinecolor": "#2a3f5f",
             "gridcolor": "white",
             "linecolor": "white",
             "minorgridcolor": "white",
             "startlinecolor": "#2a3f5f"
            },
            "type": "carpet"
           }
          ],
          "choropleth": [
           {
            "colorbar": {
             "outlinewidth": 0,
             "ticks": ""
            },
            "type": "choropleth"
           }
          ],
          "contour": [
           {
            "colorbar": {
             "outlinewidth": 0,
             "ticks": ""
            },
            "colorscale": [
             [
              0,
              "#0d0887"
             ],
             [
              0.1111111111111111,
              "#46039f"
             ],
             [
              0.2222222222222222,
              "#7201a8"
             ],
             [
              0.3333333333333333,
              "#9c179e"
             ],
             [
              0.4444444444444444,
              "#bd3786"
             ],
             [
              0.5555555555555556,
              "#d8576b"
             ],
             [
              0.6666666666666666,
              "#ed7953"
             ],
             [
              0.7777777777777778,
              "#fb9f3a"
             ],
             [
              0.8888888888888888,
              "#fdca26"
             ],
             [
              1,
              "#f0f921"
             ]
            ],
            "type": "contour"
           }
          ],
          "contourcarpet": [
           {
            "colorbar": {
             "outlinewidth": 0,
             "ticks": ""
            },
            "type": "contourcarpet"
           }
          ],
          "heatmap": [
           {
            "colorbar": {
             "outlinewidth": 0,
             "ticks": ""
            },
            "colorscale": [
             [
              0,
              "#0d0887"
             ],
             [
              0.1111111111111111,
              "#46039f"
             ],
             [
              0.2222222222222222,
              "#7201a8"
             ],
             [
              0.3333333333333333,
              "#9c179e"
             ],
             [
              0.4444444444444444,
              "#bd3786"
             ],
             [
              0.5555555555555556,
              "#d8576b"
             ],
             [
              0.6666666666666666,
              "#ed7953"
             ],
             [
              0.7777777777777778,
              "#fb9f3a"
             ],
             [
              0.8888888888888888,
              "#fdca26"
             ],
             [
              1,
              "#f0f921"
             ]
            ],
            "type": "heatmap"
           }
          ],
          "heatmapgl": [
           {
            "colorbar": {
             "outlinewidth": 0,
             "ticks": ""
            },
            "colorscale": [
             [
              0,
              "#0d0887"
             ],
             [
              0.1111111111111111,
              "#46039f"
             ],
             [
              0.2222222222222222,
              "#7201a8"
             ],
             [
              0.3333333333333333,
              "#9c179e"
             ],
             [
              0.4444444444444444,
              "#bd3786"
             ],
             [
              0.5555555555555556,
              "#d8576b"
             ],
             [
              0.6666666666666666,
              "#ed7953"
             ],
             [
              0.7777777777777778,
              "#fb9f3a"
             ],
             [
              0.8888888888888888,
              "#fdca26"
             ],
             [
              1,
              "#f0f921"
             ]
            ],
            "type": "heatmapgl"
           }
          ],
          "histogram": [
           {
            "marker": {
             "pattern": {
              "fillmode": "overlay",
              "size": 10,
              "solidity": 0.2
             }
            },
            "type": "histogram"
           }
          ],
          "histogram2d": [
           {
            "colorbar": {
             "outlinewidth": 0,
             "ticks": ""
            },
            "colorscale": [
             [
              0,
              "#0d0887"
             ],
             [
              0.1111111111111111,
              "#46039f"
             ],
             [
              0.2222222222222222,
              "#7201a8"
             ],
             [
              0.3333333333333333,
              "#9c179e"
             ],
             [
              0.4444444444444444,
              "#bd3786"
             ],
             [
              0.5555555555555556,
              "#d8576b"
             ],
             [
              0.6666666666666666,
              "#ed7953"
             ],
             [
              0.7777777777777778,
              "#fb9f3a"
             ],
             [
              0.8888888888888888,
              "#fdca26"
             ],
             [
              1,
              "#f0f921"
             ]
            ],
            "type": "histogram2d"
           }
          ],
          "histogram2dcontour": [
           {
            "colorbar": {
             "outlinewidth": 0,
             "ticks": ""
            },
            "colorscale": [
             [
              0,
              "#0d0887"
             ],
             [
              0.1111111111111111,
              "#46039f"
             ],
             [
              0.2222222222222222,
              "#7201a8"
             ],
             [
              0.3333333333333333,
              "#9c179e"
             ],
             [
              0.4444444444444444,
              "#bd3786"
             ],
             [
              0.5555555555555556,
              "#d8576b"
             ],
             [
              0.6666666666666666,
              "#ed7953"
             ],
             [
              0.7777777777777778,
              "#fb9f3a"
             ],
             [
              0.8888888888888888,
              "#fdca26"
             ],
             [
              1,
              "#f0f921"
             ]
            ],
            "type": "histogram2dcontour"
           }
          ],
          "mesh3d": [
           {
            "colorbar": {
             "outlinewidth": 0,
             "ticks": ""
            },
            "type": "mesh3d"
           }
          ],
          "parcoords": [
           {
            "line": {
             "colorbar": {
              "outlinewidth": 0,
              "ticks": ""
             }
            },
            "type": "parcoords"
           }
          ],
          "pie": [
           {
            "automargin": true,
            "type": "pie"
           }
          ],
          "scatter": [
           {
            "fillpattern": {
             "fillmode": "overlay",
             "size": 10,
             "solidity": 0.2
            },
            "type": "scatter"
           }
          ],
          "scatter3d": [
           {
            "line": {
             "colorbar": {
              "outlinewidth": 0,
              "ticks": ""
             }
            },
            "marker": {
             "colorbar": {
              "outlinewidth": 0,
              "ticks": ""
             }
            },
            "type": "scatter3d"
           }
          ],
          "scattercarpet": [
           {
            "marker": {
             "colorbar": {
              "outlinewidth": 0,
              "ticks": ""
             }
            },
            "type": "scattercarpet"
           }
          ],
          "scattergeo": [
           {
            "marker": {
             "colorbar": {
              "outlinewidth": 0,
              "ticks": ""
             }
            },
            "type": "scattergeo"
           }
          ],
          "scattergl": [
           {
            "marker": {
             "colorbar": {
              "outlinewidth": 0,
              "ticks": ""
             }
            },
            "type": "scattergl"
           }
          ],
          "scattermapbox": [
           {
            "marker": {
             "colorbar": {
              "outlinewidth": 0,
              "ticks": ""
             }
            },
            "type": "scattermapbox"
           }
          ],
          "scatterpolar": [
           {
            "marker": {
             "colorbar": {
              "outlinewidth": 0,
              "ticks": ""
             }
            },
            "type": "scatterpolar"
           }
          ],
          "scatterpolargl": [
           {
            "marker": {
             "colorbar": {
              "outlinewidth": 0,
              "ticks": ""
             }
            },
            "type": "scatterpolargl"
           }
          ],
          "scatterternary": [
           {
            "marker": {
             "colorbar": {
              "outlinewidth": 0,
              "ticks": ""
             }
            },
            "type": "scatterternary"
           }
          ],
          "surface": [
           {
            "colorbar": {
             "outlinewidth": 0,
             "ticks": ""
            },
            "colorscale": [
             [
              0,
              "#0d0887"
             ],
             [
              0.1111111111111111,
              "#46039f"
             ],
             [
              0.2222222222222222,
              "#7201a8"
             ],
             [
              0.3333333333333333,
              "#9c179e"
             ],
             [
              0.4444444444444444,
              "#bd3786"
             ],
             [
              0.5555555555555556,
              "#d8576b"
             ],
             [
              0.6666666666666666,
              "#ed7953"
             ],
             [
              0.7777777777777778,
              "#fb9f3a"
             ],
             [
              0.8888888888888888,
              "#fdca26"
             ],
             [
              1,
              "#f0f921"
             ]
            ],
            "type": "surface"
           }
          ],
          "table": [
           {
            "cells": {
             "fill": {
              "color": "#EBF0F8"
             },
             "line": {
              "color": "white"
             }
            },
            "header": {
             "fill": {
              "color": "#C8D4E3"
             },
             "line": {
              "color": "white"
             }
            },
            "type": "table"
           }
          ]
         },
         "layout": {
          "annotationdefaults": {
           "arrowcolor": "#2a3f5f",
           "arrowhead": 0,
           "arrowwidth": 1
          },
          "autotypenumbers": "strict",
          "coloraxis": {
           "colorbar": {
            "outlinewidth": 0,
            "ticks": ""
           }
          },
          "colorscale": {
           "diverging": [
            [
             0,
             "#8e0152"
            ],
            [
             0.1,
             "#c51b7d"
            ],
            [
             0.2,
             "#de77ae"
            ],
            [
             0.3,
             "#f1b6da"
            ],
            [
             0.4,
             "#fde0ef"
            ],
            [
             0.5,
             "#f7f7f7"
            ],
            [
             0.6,
             "#e6f5d0"
            ],
            [
             0.7,
             "#b8e186"
            ],
            [
             0.8,
             "#7fbc41"
            ],
            [
             0.9,
             "#4d9221"
            ],
            [
             1,
             "#276419"
            ]
           ],
           "sequential": [
            [
             0,
             "#0d0887"
            ],
            [
             0.1111111111111111,
             "#46039f"
            ],
            [
             0.2222222222222222,
             "#7201a8"
            ],
            [
             0.3333333333333333,
             "#9c179e"
            ],
            [
             0.4444444444444444,
             "#bd3786"
            ],
            [
             0.5555555555555556,
             "#d8576b"
            ],
            [
             0.6666666666666666,
             "#ed7953"
            ],
            [
             0.7777777777777778,
             "#fb9f3a"
            ],
            [
             0.8888888888888888,
             "#fdca26"
            ],
            [
             1,
             "#f0f921"
            ]
           ],
           "sequentialminus": [
            [
             0,
             "#0d0887"
            ],
            [
             0.1111111111111111,
             "#46039f"
            ],
            [
             0.2222222222222222,
             "#7201a8"
            ],
            [
             0.3333333333333333,
             "#9c179e"
            ],
            [
             0.4444444444444444,
             "#bd3786"
            ],
            [
             0.5555555555555556,
             "#d8576b"
            ],
            [
             0.6666666666666666,
             "#ed7953"
            ],
            [
             0.7777777777777778,
             "#fb9f3a"
            ],
            [
             0.8888888888888888,
             "#fdca26"
            ],
            [
             1,
             "#f0f921"
            ]
           ]
          },
          "colorway": [
           "#636efa",
           "#EF553B",
           "#00cc96",
           "#ab63fa",
           "#FFA15A",
           "#19d3f3",
           "#FF6692",
           "#B6E880",
           "#FF97FF",
           "#FECB52"
          ],
          "font": {
           "color": "#2a3f5f"
          },
          "geo": {
           "bgcolor": "white",
           "lakecolor": "white",
           "landcolor": "#E5ECF6",
           "showlakes": true,
           "showland": true,
           "subunitcolor": "white"
          },
          "hoverlabel": {
           "align": "left"
          },
          "hovermode": "closest",
          "mapbox": {
           "style": "light"
          },
          "paper_bgcolor": "white",
          "plot_bgcolor": "#E5ECF6",
          "polar": {
           "angularaxis": {
            "gridcolor": "white",
            "linecolor": "white",
            "ticks": ""
           },
           "bgcolor": "#E5ECF6",
           "radialaxis": {
            "gridcolor": "white",
            "linecolor": "white",
            "ticks": ""
           }
          },
          "scene": {
           "xaxis": {
            "backgroundcolor": "#E5ECF6",
            "gridcolor": "white",
            "gridwidth": 2,
            "linecolor": "white",
            "showbackground": true,
            "ticks": "",
            "zerolinecolor": "white"
           },
           "yaxis": {
            "backgroundcolor": "#E5ECF6",
            "gridcolor": "white",
            "gridwidth": 2,
            "linecolor": "white",
            "showbackground": true,
            "ticks": "",
            "zerolinecolor": "white"
           },
           "zaxis": {
            "backgroundcolor": "#E5ECF6",
            "gridcolor": "white",
            "gridwidth": 2,
            "linecolor": "white",
            "showbackground": true,
            "ticks": "",
            "zerolinecolor": "white"
           }
          },
          "shapedefaults": {
           "line": {
            "color": "#2a3f5f"
           }
          },
          "ternary": {
           "aaxis": {
            "gridcolor": "white",
            "linecolor": "white",
            "ticks": ""
           },
           "baxis": {
            "gridcolor": "white",
            "linecolor": "white",
            "ticks": ""
           },
           "bgcolor": "#E5ECF6",
           "caxis": {
            "gridcolor": "white",
            "linecolor": "white",
            "ticks": ""
           }
          },
          "title": {
           "x": 0.05
          },
          "xaxis": {
           "automargin": true,
           "gridcolor": "white",
           "linecolor": "white",
           "ticks": "",
           "title": {
            "standoff": 15
           },
           "zerolinecolor": "white",
           "zerolinewidth": 2
          },
          "yaxis": {
           "automargin": true,
           "gridcolor": "white",
           "linecolor": "white",
           "ticks": "",
           "title": {
            "standoff": 15
           },
           "zerolinecolor": "white",
           "zerolinewidth": 2
          }
         }
        },
        "title": {
         "text": "t-SNE Clustering of Article Titles"
        },
        "xaxis": {
         "anchor": "y",
         "domain": [
          0,
          1
         ],
         "title": {
          "text": "t-SNE Dimension 1"
         }
        },
        "yaxis": {
         "anchor": "x",
         "domain": [
          0,
          1
         ],
         "title": {
          "text": "t-SNE Dimension 2"
         }
        }
       }
      }
     },
     "metadata": {},
     "output_type": "display_data"
    }
   ],
   "source": [
    "import pandas as pd\n",
    "from sklearn.manifold import TSNE\n",
    "import plotly.express as px\n",
    "\n",
    "# Assuming gkgvf_arr is the DataFrame with vectorized values and article titles as the index\n",
    "# The values are used as input to the t-SNE model, and index rows are the article titles\n",
    "\n",
    "article_titles = gkg.parsed_urls  # Extract titles from the index\n",
    "model_input = gkgvf_arr.values  # Use the values for t-SNE\n",
    "\n",
    "# Step 1: Use t-SNE to reduce dimensions\n",
    "tsne_model = TSNE(n_components=2, perplexity=30, random_state=42, n_iter=1000)\n",
    "tsne_results = tsne_model.fit_transform(model_input)\n",
    "\n",
    "# Step 2: Create a DataFrame for the t-SNE results\n",
    "tsne_df = pd.DataFrame(tsne_results, columns=['TSNE1', 'TSNE2'])\n",
    "tsne_df['Title'] = article_titles  # Add titles from the index\n",
    "\n",
    "# Step 3: Plot with Plotly to add hover functionality\n",
    "fig = px.scatter(\n",
    "    tsne_df,\n",
    "    x='TSNE1',\n",
    "    y='TSNE2',\n",
    "    hover_name='Title',  # This will show the title when hovering\n",
    "    title=\"t-SNE Clustering of Article Titles\",\n",
    "    labels={'TSNE1': 't-SNE Dimension 1', 'TSNE2': 't-SNE Dimension 2'}\n",
    ")\n",
    "\n",
    "# Display the plot\n",
    "fig.show()\n"
   ]
  },
  {
   "cell_type": "code",
   "execution_count": null,
   "metadata": {},
   "outputs": [],
   "source": []
  }
 ],
 "metadata": {
  "kernelspec": {
   "display_name": "base",
   "language": "python",
   "name": "python3"
  },
  "language_info": {
   "codemirror_mode": {
    "name": "ipython",
    "version": 3
   },
   "file_extension": ".py",
   "mimetype": "text/x-python",
   "name": "python",
   "nbconvert_exporter": "python",
   "pygments_lexer": "ipython3",
   "version": "3.12.7"
  }
 },
 "nbformat": 4,
 "nbformat_minor": 2
}
