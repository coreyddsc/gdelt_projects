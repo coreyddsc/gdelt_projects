{
 "cells": [
  {
   "cell_type": "code",
   "execution_count": 1,
   "id": "83165b8f",
   "metadata": {},
   "outputs": [
    {
     "name": "stdout",
     "output_type": "stream",
     "text": [
      "here\n"
     ]
    }
   ],
   "source": [
    "import os\n",
    "import re\n",
    "import pandas as pd\n",
    "import numpy as np\n",
    "import requests\n",
    "from requests.adapters import HTTPAdapter\n",
    "from requests.packages.urllib3.util.retry import Retry\n",
    "import json\n",
    "from datetime import date, datetime, timedelta\n",
    "from bs4 import BeautifulSoup\n",
    "import gdelt # for gdelt searchs\n",
    "from gkg_tools import * # for gkg searchs\n",
    "\n",
    "import nltk\n",
    "from nltk.tokenize import word_tokenize, sent_tokenize\n",
    "\n",
    "\n",
    "from transformers import pipeline, set_seed\n",
    "import torch\n",
    "\n",
    "# GPU Timing (using GPU 1) else -1 for CPU\n",
    "device_id = 1 if torch.cuda.is_available() else -1 "
   ]
  },
  {
   "cell_type": "markdown",
   "id": "db6b8e65",
   "metadata": {},
   "source": [
    "# Get GKG and Test URL"
   ]
  },
  {
   "cell_type": "code",
   "execution_count": 2,
   "id": "52ab622d",
   "metadata": {},
   "outputs": [
    {
     "data": {
      "text/plain": [
       "'https://gamerant.com/one-piece-sun-god-loki-nika-luffy/'"
      ]
     },
     "execution_count": 2,
     "metadata": {},
     "output_type": "execute_result"
    }
   ],
   "source": [
    "gkg = gkg_operator() # create a gkg operator\n",
    "gkg.set_date(['2024 Oct 20', '2024 Oct 21']) # set the date range for the search\n",
    "gkg.get_gkg()\n",
    "persons = ['Eiichiro Oda', 'Shueisha', 'One Piece']\n",
    "OP = gkg.gkg_persons(persons)\n",
    "OP.reset_index(inplace=True)\n",
    "url = OP['documentidentifier'].iloc[0]\n",
    "url\n",
    "\n",
    "# I tried to suppress this warning which occurs when querying from the lambda2 server, didn't work, so I dropped the warning code."
   ]
  },
  {
   "cell_type": "markdown",
   "id": "f7502c2f",
   "metadata": {},
   "source": [
    "# Get URL Article Text"
   ]
  },
  {
   "cell_type": "code",
   "execution_count": 3,
   "id": "baf5b025",
   "metadata": {},
   "outputs": [],
   "source": [
    "headers = {\n",
    "        'User-Agent': 'Mozilla/5.0 (Windows NT 10.0; Win64; x64) AppleWebKit/537.36 (KHTML, like Gecko) Chrome/58.0.3029.110 Safari/537.3'}\n",
    "    \n",
    "session = requests.Session()\n",
    "retry = Retry(connect=2, backoff_factor=0.5)\n",
    "adapter = HTTPAdapter(max_retries=retry)\n",
    "session.mount('http://', adapter)\n",
    "session.mount('https://', adapter)\n",
    "\n",
    "try:\n",
    "    response = session.get(url, headers=headers)\n",
    "    response.raise_for_status()\n",
    "    soup = BeautifulSoup(response.content, 'html.parser')\n",
    "except requests.exceptions.RequestException as e:\n",
    "        print(f\"Error: {e}\")"
   ]
  },
  {
   "cell_type": "markdown",
   "id": "2fab71cb",
   "metadata": {},
   "source": [
    "## Article Title"
   ]
  },
  {
   "cell_type": "code",
   "execution_count": 4,
   "id": "70d971b2",
   "metadata": {},
   "outputs": [
    {
     "data": {
      "text/plain": [
       "'One Piece: Sun God Loki Vs Sun God Nika, Explained'"
      ]
     },
     "execution_count": 4,
     "metadata": {},
     "output_type": "execute_result"
    }
   ],
   "source": [
    "soup.title.string"
   ]
  },
  {
   "cell_type": "markdown",
   "id": "a1939925",
   "metadata": {},
   "source": [
    "## Article Paragraphs"
   ]
  },
  {
   "cell_type": "code",
   "execution_count": 5,
   "id": "fd08f6b3",
   "metadata": {},
   "outputs": [
    {
     "name": "stdout",
     "output_type": "stream",
     "text": [
      "Your changes have been saved  Email is sent Email has already been sent Please verify your email address. You’ve reached your account maximum for followed topics. This article contains spoilers from One Piece's Elbaf Arc. One Piece chapter 1130 proved to be absolutely stunning from start to finish and it is safe to say that this chapter shocked the fans to quite an extent with the reveal of Loki so early into the arc. Truly, few were expecting Loki to be revealed in such fashion in One Piece chapter 1130, and at the same time, even fewer individuals were expecting him to be as important as he has proven to be. Loki is perhaps the most powerful giant. His strength might be on par with a Yonko in One Piece. In this chapter, fans even got what can be considered to be a buildup of sorts towards a fight between Luffy, who is the Sun God Nika, and Loki, who also believes himself to be the Sun God. It looks like there is going to be a clash of Sun Gods after One Piece chapter 1130 and it is certainly going to be one worth watching, provided Loki does break free from his chains. Luffy and Loki met for the very first time in One Piece chapter 1130. This is a meeting that fans have been anticipating since the Elbaf arc began, but few had imagined it to happen so early. As soon as Luffy found his way into the real Elbaf, the story saw him exploring the country. But, while the forest was certainly intriguing enough for Luffy, something that kept bothering him was a very strong presence nearby. This presence was so strong that Luffy's entire body was tingling. This just goes to show how strong Loki truly is. Along with Luffy, both Zoro and Sanji also felt Loki's presence, and at this point, it was clear for the fans to see that Loki was portrayed to be a monster by Oda. I'm the Sun God who will destroy this world, Loki! – Loki Luffy separated from the crew and went to see Loki by himself, which is where the first meeting finally happened. This was a meeting that fans had waited years for, and finally, the Straw Hat pirate, who is now a Yonko, stood in front of Loki, the Disgraced Prince of Elbaf. Finally, fans got a proper look at Loki's character design, and it is safe to say that this has to be one of One Piece's very best that Oda has delivered so far. Loki looks quite like a mixture of Kaido, Doflamingo, and Katakuri, and just the character design itself personifies the strength of the highest tier. Loki looks Like an absolute monster, and fans cannot wait to see him in real combat. As far as his personality goes, he seems quite brash, but at the same time, prideful, which is expected of a warrior from the land of Elbaf. At the same time, Loki also looks incredibly strong and confident in his abilities, given that he referred to himself as the Sun God, and the one who will destroy the world. Naturally, there is more to Loki than meets the eye, and fans will slowly find out more about him with time. The most interesting thing that fans saw in One Piece chapter 1130 related to Loki was the fact that he called himself the Sun God. As fans know, the Sun God is a deity that is respected and worshiped in Elbaf. In the previous chapter, Road portrayed himself as the Sun God as well. Now, Loki believes himself to be the Sun God. This leads one to believe that in the culture of the Elbaf Giants, there might be a prophecy that the Sun God will eventually come back and calm some sort of disaster by destroying the current world order. Do you feel that? I'm getting goosebumps all over my body! – Luffy This might lead many individuals to believe that they are the Sun God and the one responsible for calming the impending disaster. Naturally, fans know that neither of the Giants is actually the Sun God. This is simply down to the fact that the Sun God is actually none other than Luffy, the captain of the Straw Hat Pirates and the protagonist of the series. Luffy has the power of the Hito Hito no Mi, Model: Nika, and he has already liberated many countries, just as the Sun God Nika did in the tales and myths. Obviously, there cannot be two Sun Gods, which is why Loki is heavily misinformed and his idea of being the Sun God is certainly not the right one. Oda just dropped the updated bounties of two legendary pirates. These two characters are more than worthy of such high bounties. For him to declare this to Luffy's face, however, is very interesting. If Loki finds out about Luffy being the Sun God, then, there will clearly be a battle between these two. Luffy, of course, does not care about claiming himself as the Sun God. But Loki might take it as a challenge and would want to fight Luffy, especially because Luffy is so strong. This might lead one to believe that Loki would test his skill against the person called the Sun God, and it will surely be more than just impressive.  The relationship between Loki and Luffy is certainly going to be an interesting one. It is impossible to exactly predict the way it will go. But, at this point in time, it looks like this relationship will start as hostile. But, that doesn't necessarily mean that they will stay hostile throughout the entirety of Elbaf. Right now, Loki is being called the Disgraced Prince. He's openly called problematic and the entirety of Elbaf is essentially against him; he's painted as a villain. And, at least for a significant period of Elbaf, he might play this role. However, when Ragnarok truly does happen and Loki has to prove himself as the Sun God, fans might actually get to see him team up with Luffy against a better or greater foe. This could be the interesting turn in the story that makes Elbaf all the more interesting. For now, however, Loki and Luffy might not get along as well as one would like. Fans might get to see them fight and this battle will likely be interrupted at some point in time. For all that to happen, however, Loki has to be freed first. Perhaps, Luffy will go through the trouble of freeing him, and then, fans might see Loki challenging him to a battle. Of course, these exciting developments could happen over the course of the next few weeks, and fans absolutely cannot wait to see what happens next, when One Piece does return from its long break.  For now, fans need to keep in mind that Loki and Luffy are going to be two important figures in the Elbaf around whom the plot is going to revolve quite a bit, and that they are going to change the shape and the future of this country all together. One Piece is available to read via Viz Media. The series can be read by the fans officially and for free on the Shonen Jump and the Manga Plus app. The release date for the next chapter of One Piece, One Piece 1130, is set to be October 20, 2024.  Your changes have been saved  Email is sent Email has already been sent Please verify your email address. You’ve reached your account maximum for followed topics. We want to hear from you! Share your opinions in the thread below and remember to keep it respectful. Your comment has not been saved This thread is open for discussion. Be the first to post your thoughts.  Sanji still has a lot of room to grow in One Piece. His next genetic mutation in Elbaf will give him a huge power up. Amazon offers an excellent deal on the latest-generation Madden game for the PlayStation 5, available for a limited time at $39.99. Power Rangers fans will not have long to wait for December 10, when a highly-anticipated title launches on all major platforms. Following its long-awaited release for PC, the original Red Dead Redemption is celebrating an incredibly positive launch on the platform. Sony recently unveiled its plan — albeit a controversial one — to make way for GTA 6's release, but Microsoft's silence is cause for concern. Call of Duty: Black Ops 6 has limited sniper options available, but each one offers some distinct qualities that enhance them in specific situations. After nearly a year and a half of silence, Bungie releases a new development update on its upcoming live-service extraction shooter, Marathon.\n"
     ]
    }
   ],
   "source": [
    "paragraphs = soup.find_all('p')\n",
    "store_text = []\n",
    "for p in paragraphs:\n",
    "    # paste the strings into a single string\n",
    "    store_text.append(p.get_text())\n",
    "#     print(p.get_text())\n",
    "\n",
    "store_text = ' '.join(store_text)\n",
    "store_text\n",
    "# remove '\\xa0 \\n\\t'\n",
    "store_text = re.sub(r'\\xa0|\\n|\\t|\\\\', '', store_text)\n",
    "print(store_text)"
   ]
  },
  {
   "cell_type": "code",
   "execution_count": 6,
   "id": "cf734a89",
   "metadata": {},
   "outputs": [
    {
     "data": {
      "text/plain": [
       "8041"
      ]
     },
     "execution_count": 6,
     "metadata": {},
     "output_type": "execute_result"
    }
   ],
   "source": [
    "len(store_text)"
   ]
  },
  {
   "cell_type": "markdown",
   "id": "2e388333",
   "metadata": {},
   "source": [
    "# Get Article Summary"
   ]
  },
  {
   "cell_type": "code",
   "execution_count": 7,
   "id": "3e29c715",
   "metadata": {},
   "outputs": [
    {
     "name": "stderr",
     "output_type": "stream",
     "text": [
      "Asking to truncate to max_length but no maximum length is provided and the model has no predefined maximum length. Default to no truncation.\n"
     ]
    },
    {
     "name": "stdout",
     "output_type": "stream",
     "text": [
      "Loki is perhaps the most powerful giant in ne Piece, and his strength might be on par with a Yonko . Loki believes himself to be the Sun God, and the one who will destroy the world . this leads one to believe that in the culture of the Elbaf Giants, there might be a prophecy that the sun god will eventually come back and calm some sort of disaster . if Loki does break free from his chains, it will certainly be one to watch .- n a n-  nn  aa a- -n-nnnen - ..  -en en-a en aenaenena .en nenen  enaaon enenenononon ifenaon-on aona-on-ena-aaen o en.aaa.aonon, at this will be to the to his power, to ---on, -ona a -- -on- to- ... -a- a, ...a-, . I-s-onon-  .s a... a. ., s- s , \n"
     ]
    }
   ],
   "source": [
    "set_seed(42)\n",
    "# Initialize a summarization pipeline using BART\n",
    "# pipe_summary = pipeline('summarization', model='facebook/bart-large-cnn', device=1, truncation=True)\n",
    "\n",
    "pipe_summary = pipeline('summarization', model='t5-large', device=1, truncation=True)\n",
    "\n",
    "gpt_query = store_text[200:3500] + \"\\nTL;DR:\\n\"\n",
    "gpt_query_cleaned = re.sub(r'[^\\x00-\\x7F]+', ' ', gpt_query)  # Removes non-ASCII characters\n",
    "# Summarize the text\n",
    "output_summary = pipe_summary(gpt_query_cleaned, max_length=500, min_length=300, truncation=True)\n",
    "# output_summary = pipe_summary(store_text, max_length=500, truncation=True)\n",
    "\n",
    "# Print the summary\n",
    "print(output_summary[0]['summary_text'])\n"
   ]
  },
  {
   "cell_type": "markdown",
   "id": "aaac4e36",
   "metadata": {},
   "source": [
    "## Try Chunking the Article"
   ]
  },
  {
   "cell_type": "code",
   "execution_count": 8,
   "id": "6a941900",
   "metadata": {},
   "outputs": [
    {
     "name": "stderr",
     "output_type": "stream",
     "text": [
      "Your max_length is set to 150, but your input_length is only 10. Since this is a summarization task, where outputs shorter than the input are typically wanted, you might consider decreasing max_length manually, e.g. summarizer('...', max_length=5)\n"
     ]
    },
    {
     "name": "stdout",
     "output_type": "stream",
     "text": [
      "this article contains spoilers from one piece's elbaf arc . few were expecting Loki to be revealed in such fashion in one piece chapter 1130 . fans even got what can be considered a buildup of sorts towards a fight between Luffy and the Sun God Nika . ertainly going to be one worth watching, provided Loki does break free from his chains . this is a meeting that fans have been anticipating since the Elbaf arc began . it's also going to show how strong Loki truly is . Loki looks like a mixture of Kaido, doflamingo, and Katakuri . there is more to Loki than meets the eye, and fans will slowly find out more about him with time . the character design itself personifies the strength of the highest tier . pter 1130 related to Loki was the fact that he called himself the sun god . this leads one to believe that in the culture of the Elbaf Giants, there might be a prophecy that the Sun God will eventually come back and calm some sort of disaster . naturally, fans know that neither of the Giants is actually the sun God . instead, it is Luffy, the captain of the Straw Hat Pirates and the protagonist of the series . Loki is heavily misinformed and his idea of being the sun god is certainly not the right one . if Loki finds out about Luffy being the Sun God, then, there will be a battle between these two . the relationship between Loki and Luffy is certainly going to be an interesting one. t in time, it looks like this relationship will start as hostile . but, that doesn't necessarily mean that they will stay hostile throughout the entirety of Elbaf . fans might actually get to see him team up with Luffy against a better or greater foe . fans cannot wait to see what happens next, when one piece returns from its long break . the release date for the next chapter of one piece, one piece 1130, is set for October 20, 2024 . fans can read the manga for free on the Shonen Jump and the Manga Plus app . explore the minimum and recommended system requirements for hzdremaster . upcoming horror title slitterhead has one major mechanic driving its gameplay . discover if the Vault Edition of call of duty: black ops 6 is worth the extra cost . ich edition suits you best. click here to download . ich version is available in english, spanish and german . click on the link below to download the free trial version. if you want to try the trial version, click here .\n"
     ]
    }
   ],
   "source": [
    "max_chunk_length = 1000  # Adjust based on model capacity and token limits\n",
    "chunks = [store_text[i:i + max_chunk_length] for i in range(0, len(store_text), max_chunk_length)]\n",
    "summaries = [pipe_summary(chunk, max_length=150, min_length=50, truncation=True)[0]['summary_text'] for chunk in chunks]\n",
    "\n",
    "# Combine summaries\n",
    "full_summary = \" \".join(summaries)\n",
    "print(full_summary)\n"
   ]
  },
  {
   "cell_type": "markdown",
   "id": "715419c0",
   "metadata": {},
   "source": [
    "## Chunking by Paragraph Structure\n",
    "Chunking the article seems to help get a better summary due to smaller token packets.\n",
    "\n",
    "Perhaps chunking the article paragraphs into their blocked header sections would be useful."
   ]
  },
  {
   "cell_type": "code",
   "execution_count": 9,
   "id": "e5ce0b6d",
   "metadata": {},
   "outputs": [
    {
     "name": "stdout",
     "output_type": "stream",
     "text": [
      "Section: Game Rant\n",
      "\n",
      "Section: One Piece: Sun God Loki Vs Sun God Luffy, Explained\n",
      "Your changes have been saved  Email is sent Email has already been sent Please verify your email address. You’ve reached your account maximum for followed topics.\n",
      "Section: Related\n",
      "This article contains spoilers from One Piece's Elbaf Arc.\n",
      "Section: Key Takeaways\n",
      "One Piecechapter 1130 proved to be absolutely stunning from start to finish and it is safe to say that this chapter shocked the fans to quite an extent withthe reveal of Loki so early into the arc. Truly, few were expecting Loki to be revealed in such fashion inOne Piecechapter 1130, and at the same time, even fewer individuals were expecting him to be as important as he has proven to be. Loki is perhaps the most powerful giant. His strength might be on par with a Yonko in One Piece. In this chapter, fans even got what can be considered to be a buildup of sorts towards a fight between Luffy, who is the Sun God Nika, and Loki, who also believes himself to be the Sun God. It looks like there is going to be a clash of Sun Gods afterOne Piecechapter 1130 and it is certainly going to be one worth watching, provided Loki does break free from his chains.\n",
      "Section: Loki And Luffy's First Meeting In One Piece\n",
      "Luffy and Loki met for the very first time inOne Piecechapter 1130. This is a meeting that fans have been anticipating since the Elbaf arc began, but few had imagined it to happen so early. As soon as Luffy found his way into the real Elbaf, the story saw him exploring the country. But, while the forest was certainly intriguing enough for Luffy, something that kept bothering him was a very strong presence nearby. This presence was so strong that Luffy's entire body was tingling. This just goes to show how strong Loki truly is. Along with Luffy, both Zoro and Sanji also felt Loki's presence, and at this point, it was clear for the fans to see that Loki was portrayed to be a monster by Oda. I'm the Sun God who will destroy this world, Loki! – Loki Luffy separated from the crew and went to see Loki by himself, which is where the first meeting finally happened. This was a meeting that fans had waited years for, and finally, the Straw Hat pirate, who is now a Yonko, stood in front ofLoki, the Disgraced Prince of Elbaf. Finally, fans got a proper look at Loki's character design, and it is safe to say that this has to be one of One Piece's very best that Oda has delivered so far. Loki looks quite like a mixture of Kaido, Doflamingo, and Katakuri, and just the character design itself personifies the strength of the highest tier. Loki looks Like an absolute monster, and fans cannot wait to see him in real combat. As far as his personality goes, he seems quite brash, but at the same time, prideful, which is expected of a warrior from the land of Elbaf. At the same time, Loki also looks incredibly strong and confident in his abilities, given that he referred to himself as the Sun God, and the one who will destroy the world. Naturally, there is more to Loki than meets the eye, and fans will slowly find out more about him with time.\n",
      "Section: Why Loki Will Test His Strength Against Luffy\n",
      "\n",
      "Section: Loki and Luffy Are Set To Clash in One Piece\n",
      "The most interesting thing that fans saw inOne Piecechapter 1130 related to Loki was the fact that he called himself the Sun God. As fans know, the Sun God is a deity that is respected and worshiped in Elbaf. In the previous chapter, Road portrayed himself as the Sun God as well. Now, Loki believes himself to be the Sun God. This leads one to believe that in the culture of the Elbaf Giants, there might be a prophecy that the Sun God will eventually come back and calm some sort of disaster by destroying the current world order. Do you feel that? I'm getting goosebumps all over my body! – Luffy This might lead many individuals to believe that they are the Sun God and the one responsible for calming the impending disaster. Naturally, fans know that neither of the Giants is actually the Sun God. This is simply down to the fact that the Sun God is actually none other than Luffy, the captain of the Straw Hat Pirates and the protagonist of the series. Luffy has the power of the Hito Hito no Mi, Model: Nika, and he has already liberated many countries, just as the Sun God Nika did in the tales and myths. Obviously, there cannot be two Sun Gods, which is why Loki is heavily misinformed and his idea of being the Sun God is certainly not the right one. Oda just dropped the updated bounties of two legendary pirates. These two characters are more than worthy of such high bounties. For him to declare this to Luffy's face, however, is very interesting. If Loki finds out aboutLuffy being the Sun God, then, there will clearly be a battle between these two. Luffy, of course, does not care about claiming himself as the Sun God. But Loki might take it as a challenge and would want to fight Luffy, especially because Luffy is so strong. This might lead one to believe that Loki would test his skill against the person called the Sun God, and it will surely be more than just impressive.\n",
      "Section: Will Loki and Luffy Be Friends Or Enemies?\n",
      "\n",
      "Section: Loki and Luffy Will Start As Enemies\n",
      "The relationship between Loki and Luffy is certainly going to be an interesting one. It is impossible to exactly predict the way it will go. But, at this point in time, it looks like this relationship will start as hostile. But, that doesn't necessarily mean that theywill stay hostile throughout the entirety of Elbaf. Right now, Loki is being called the Disgraced Prince. He's openly called problematic and the entirety of Elbaf is essentially against him; he's painted as a villain. And, at least for a significant period of Elbaf, he might play this role. However, when Ragnarok truly does happen and Loki has to prove himself as the Sun God, fans might actually get to see him team up with Luffy against a better or greater foe. This could be the interesting turn in the story that makes Elbaf all the more interesting. For now, however, Loki and Luffy might not get along as well as one would like. Fans might get to see them fight and this battle will likely be interrupted at some point in time. For all that to happen, however, Loki has to be freed first. Perhaps,Luffy will go through the trouble of freeing him, and then, fans might see Loki challenging him to a battle. Of course, these exciting developments could happen over the course of the next few weeks, and fans absolutely cannot wait to see what happens next, whenOne Piecedoes return from its long break. For now, fans need to keep in mind thatLoki and Luffy are going to be two important figures in the Elbafaround whom the plot is going to revolve quite a bit, and that they are going to change the shape and the future of this country all together. One Piece is available to read via Viz Media. The series can be read by the fans officially and for free on the Shonen Jump and theManga Plusapp. The release date for the next chapter of One Piece, One Piece 1130, is set to be October 20, 2024.  Your changes have been saved  Email is sent Email has already been sent Please verify your email address. You’ve reached your account maximum for followed topics. We want to hear from you! Share your opinions in the thread below and remember to keep it respectful.\n",
      "Section: Will Loki Be Yonko Level?\n",
      "Your comment has not been saved This thread is open for discussion. Be the first to post your thoughts.  Blackbeard is on the hunt for his third and final fruit in One Piece. He is going after a powerful Zoan. The Blade MCU release date delay may disappoint some Marvel fans, but Mahershala Ali's rumored reaction to the setback might surprise them. Explore the minimum and recommended system requirements for Horizon Zero Dawn Remastered. Check if your PC is up for the task. Upcoming horror title Slitterhead has one major mechanic driving its gameplay, but it's how the game uses that mechanic that makes it stand out. Christopher Nolan's next movie added a Marvel actor to its cast, which could have ripple effects on two much-anticipated MCU films. Call of Duty: Black Ops 6 brings back the beloved Perk-a-Colas into Zombies, and the West Virginia town of Liberty Falls holds many to be sampled. Discover if the Vault Edition of Call of Duty: Black Ops 6 is worth the extra cost. Compare content and decide which edition suits you best.\n",
      "Section: Trending Now\n",
      "\n"
     ]
    }
   ],
   "source": [
    "# Parse the document by headers and associated paragraphs\n",
    "header_tags = ['h1', 'h2', 'h3']  # Modify based on structure (e.g., h2 for main sections)\n",
    "sections = {}\n",
    "\n",
    "current_header = None\n",
    "for element in soup.find_all(['h1', 'h2', 'h3', 'p']):  # Include headers and paragraphs\n",
    "    if element.name in header_tags:\n",
    "        # Set the current header as key in sections dict\n",
    "        current_header = element.get_text(strip=True)\n",
    "        sections[current_header] = []  # Initialize list for paragraphs\n",
    "    elif element.name == 'p' and current_header:\n",
    "        # Append paragraph text to the current header section\n",
    "        sections[current_header].append(element.get_text(strip=True))\n",
    "\n",
    "# Clean up and format each section\n",
    "for header, paragraphs in sections.items():\n",
    "    # Join paragraphs and clean unwanted characters\n",
    "    joined_text = ' '.join(paragraphs)\n",
    "    sections[header] = re.sub(r'\\xa0|\\n|\\t|\\\\', '', joined_text)\n",
    "\n",
    "# Example output for one header\n",
    "for header, content in sections.items():\n",
    "    print(f\"Section: {header}\")\n",
    "    print(content)  # Print first 500 chars for each section\n"
   ]
  },
  {
   "cell_type": "code",
   "execution_count": 10,
   "id": "5c8901af",
   "metadata": {},
   "outputs": [
    {
     "name": "stderr",
     "output_type": "stream",
     "text": [
      "Asking to truncate to max_length but no maximum length is provided and the model has no predefined maximum length. Default to no truncation.\n",
      "Your max_length is set to 150, but your input_length is only 33. Since this is a summarization task, where outputs shorter than the input are typically wanted, you might consider decreasing max_length manually, e.g. summarizer('...', max_length=16)\n",
      "Your max_length is set to 150, but your input_length is only 20. Since this is a summarization task, where outputs shorter than the input are typically wanted, you might consider decreasing max_length manually, e.g. summarizer('...', max_length=10)\n"
     ]
    },
    {
     "name": "stdout",
     "output_type": "stream",
     "text": [
      "Section: One Piece: Sun God Loki Vs Sun God Luffy, Explained\n",
      "your changes have been saved Email is sent Email has already been sent Please verify your email address . you’ve reached your account maximum for followed topics . if you haven’t already, please create a new topic .\n",
      "Section: Related\n",
      "this article contains spoilers from one piece's elbaf arc . a new episode of one piece will be released on july 14th . the first episode of the series will be aired on june 14th, 2014 .\n",
      "Section: Key Takeaways\n",
      "Loki is perhaps the most powerful giant in one piece . his strength might be on par with a Yonko . fans even got what can be considered a buildup of sorts towards a fight between Luffy and Loki .\n",
      "Section: Loki And Luffy's First Meeting In One Piece\n",
      "Loki and Luffy meet for the very first time in one piece chapter 1130 . this is a meeting that fans have been anticipating since the Elbaf arc began . Loki looks quite like a mixture of Kaido, doflamingo, and Katakuri .\n",
      "Section: Loki and Luffy Are Set To Clash in One Piece\n",
      "the sun god is a deity that is respected and worshiped in Elbaf . if Loki finds out about Luffy being the Sun God, then, there will be a battle . this might lead one to believe that Loki would test his skill against Luffy .\n",
      "Section: Loki and Luffy Will Start As Enemies\n",
      "the relationship between Loki and Luffy is going to be an interesting one . it looks like they will start as hostile, but that doesn't necessarily mean that they will stay hostile . the release date for the next chapter of One Piece, One Piece 1130, is set for October 20, 2024 .\n",
      "Section: Will Loki Be Yonko Level?\n",
      "explore the minimum and recommended system requirements for Horizon zero dawn remastered . discover if the Vault Edition of call of duty: black ops 6 is worth the extra cost . the Blade MCU release date delay may disappoint some Marvel fans .\n"
     ]
    }
   ],
   "source": [
    "header_tags = ['h1', 'h2', 'h3']  # Headers to define sections\n",
    "sections = {}\n",
    "\n",
    "# Initialize summarization pipeline\n",
    "set_seed(42)\n",
    "pipe_summary = pipeline('summarization', model='t5-large', device=1)\n",
    "\n",
    "current_header = None\n",
    "for element in soup.find_all(['h1', 'h2', 'h3', 'p']):\n",
    "    if element.name in header_tags:\n",
    "        current_header = element.get_text(strip=True)\n",
    "        sections[current_header] = []  # Create list for paragraphs\n",
    "    elif element.name == 'p' and current_header:\n",
    "        # Append paragraph text to the current header section\n",
    "        sections[current_header].append(element.get_text(strip=True))\n",
    "\n",
    "# Summarize content for each header section\n",
    "summarized_sections = {}\n",
    "for header, paragraphs in sections.items():\n",
    "    if paragraphs:  # Skip headers with no content\n",
    "        joined_text = ' '.join(paragraphs)\n",
    "        clean_text = re.sub(r'\\xa0|\\n|\\t|\\\\', '', joined_text)\n",
    "        \n",
    "        # Summarize the clean text for this header\n",
    "        summary = pipe_summary(clean_text, max_length=150, min_length=50, truncation=True)\n",
    "        \n",
    "        # Store summary with header\n",
    "        summarized_sections[header] = summary[0]['summary_text']\n",
    "\n",
    "# Display summarized content by section\n",
    "for header, summary in summarized_sections.items():\n",
    "    print(f\"Section: {header}\")\n",
    "    print(summary)\n"
   ]
  },
  {
   "cell_type": "markdown",
   "id": "c1f9aca4",
   "metadata": {},
   "source": [
    "Some paragraphs from sections are less than the maxlength output, so we need to make the max_length a function of the current paragraph, instead of fixed at `max_length=150`. The `min_length` has to be less than the input string or it is not a summary."
   ]
  }
 ],
 "metadata": {
  "kernelspec": {
   "display_name": "base",
   "language": "python",
   "name": "python3"
  },
  "language_info": {
   "codemirror_mode": {
    "name": "ipython",
    "version": 3
   },
   "file_extension": ".py",
   "mimetype": "text/x-python",
   "name": "python",
   "nbconvert_exporter": "python",
   "pygments_lexer": "ipython3",
   "version": "3.11.4"
  }
 },
 "nbformat": 4,
 "nbformat_minor": 5
}
