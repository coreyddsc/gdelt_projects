{
 "cells": [
  {
   "cell_type": "code",
   "execution_count": 90,
   "metadata": {},
   "outputs": [],
   "source": [
    "import gdelt # for gdelt searchs\n",
    "from gkg_tools import * # for gkg searchs\n",
    "# %run \"../gkg_tools.py\" # using magic command run to access the script from the parent directory\n",
    "\n",
    "\n",
    "import nltk\n",
    "from nltk.tokenize import word_tokenize, sent_tokenize\n",
    "\n",
    "\n",
    "from transformers import pipeline, set_seed\n",
    "import torch\n",
    "\n",
    "# # GPU Timing (using GPU 1) else -1 for CPU\n",
    "# device_id = 1 if torch.cuda.is_available() else -1 "
   ]
  },
  {
   "cell_type": "markdown",
   "metadata": {},
   "source": [
    "# Revised GKG Data Query\n",
    "- When using `gkg.get_gkg()` the input can be a stored gkg table for the parameter `data=dataframe_name`.\n",
    "- This avoids the possibility of storing two active gkg tables.\n",
    "- `coverage=true` only applies to queries from the gdelt database."
   ]
  },
  {
   "cell_type": "markdown",
   "metadata": {},
   "source": [
    "## Using a gdelt query"
   ]
  },
  {
   "cell_type": "code",
   "execution_count": 91,
   "metadata": {},
   "outputs": [],
   "source": [
    "gkg = gkg_operator() # create a gkg operator\n"
   ]
  },
  {
   "cell_type": "code",
   "execution_count": 92,
   "metadata": {},
   "outputs": [],
   "source": [
    "gkg.set_date(['2024 Oct 20', '2024 Oct 21']) # set the date range for the search\n",
    "gkg.get_gkg(coverage=True)\n"
   ]
  },
  {
   "cell_type": "code",
   "execution_count": 117,
   "metadata": {},
   "outputs": [
    {
     "name": "stdout",
     "output_type": "stream",
     "text": [
      "<class 'pandas.core.frame.DataFrame'>\n",
      "Int64Index: 7 entries, 0 to 6\n",
      "Data columns (total 28 columns):\n",
      " #   Column                      Non-Null Count  Dtype  \n",
      "---  ------                      --------------  -----  \n",
      " 0   index                       7 non-null      int64  \n",
      " 1   gkgrecordid                 7 non-null      object \n",
      " 2   date                        7 non-null      int64  \n",
      " 3   sourcecollectionidentifier  7 non-null      int64  \n",
      " 4   sourcecommonname            7 non-null      object \n",
      " 5   documentidentifier          7 non-null      object \n",
      " 6   counts                      0 non-null      float64\n",
      " 7   v2counts                    0 non-null      float64\n",
      " 8   themes                      7 non-null      object \n",
      " 9   v2themes                    7 non-null      object \n",
      " 10  locations                   4 non-null      object \n",
      " 11  v2locations                 4 non-null      object \n",
      " 12  persons                     7 non-null      object \n",
      " 13  v2persons                   7 non-null      object \n",
      " 14  organizations               7 non-null      object \n",
      " 15  v2organizations             7 non-null      object \n",
      " 16  v2tone                      7 non-null      object \n",
      " 17  dates                       3 non-null      object \n",
      " 18  gcam                        7 non-null      object \n",
      " 19  sharingimage                7 non-null      object \n",
      " 20  relatedimages               7 non-null      object \n",
      " 21  socialimageembeds           0 non-null      float64\n",
      " 22  socialvideoembeds           7 non-null      object \n",
      " 23  quotations                  0 non-null      object \n",
      " 24  allnames                    7 non-null      object \n",
      " 25  amounts                     6 non-null      object \n",
      " 26  translationinfo             0 non-null      float64\n",
      " 27  extras                      7 non-null      object \n",
      "dtypes: float64(4), int64(3), object(21)\n",
      "memory usage: 1.6+ KB\n"
     ]
    }
   ],
   "source": [
    "# # persons = ['Eiichiro Oda', 'Shueisha', 'One Piece']\n",
    "src_name = ['gamerant.com','screenrant.com']\n",
    "rant = gkg.gkg_query[gkg.gkg_query['sourcecommonname'].isin(src_name)]\n",
    "# rant.info()\n",
    "# search rant themes for the regex pattern MANGA, count entries\n",
    "manga = rant[rant['themes'].str.contains('MANGA') == True]\n",
    "manga.info()\n",
    "# OP = gkg.gkg_persons(persons)\n",
    "# OP.reset_index(inplace=True)\n",
    "# store OP in a csv file\n",
    "# OP.to_csv('OP.csv', index=False)\n",
    "# OP = pd.read_csv('OP.csv')"
   ]
  },
  {
   "cell_type": "markdown",
   "metadata": {},
   "source": [
    "## Using a saved table"
   ]
  },
  {
   "cell_type": "code",
   "execution_count": 109,
   "metadata": {},
   "outputs": [
    {
     "data": {
      "text/html": [
       "<div>\n",
       "<style scoped>\n",
       "    .dataframe tbody tr th:only-of-type {\n",
       "        vertical-align: middle;\n",
       "    }\n",
       "\n",
       "    .dataframe tbody tr th {\n",
       "        vertical-align: top;\n",
       "    }\n",
       "\n",
       "    .dataframe thead th {\n",
       "        text-align: right;\n",
       "    }\n",
       "</style>\n",
       "<table border=\"1\" class=\"dataframe\">\n",
       "  <thead>\n",
       "    <tr style=\"text-align: right;\">\n",
       "      <th></th>\n",
       "      <th>index</th>\n",
       "      <th>gkgrecordid</th>\n",
       "      <th>date</th>\n",
       "      <th>sourcecollectionidentifier</th>\n",
       "      <th>sourcecommonname</th>\n",
       "      <th>documentidentifier</th>\n",
       "      <th>counts</th>\n",
       "      <th>v2counts</th>\n",
       "      <th>themes</th>\n",
       "      <th>v2themes</th>\n",
       "      <th>...</th>\n",
       "      <th>gcam</th>\n",
       "      <th>sharingimage</th>\n",
       "      <th>relatedimages</th>\n",
       "      <th>socialimageembeds</th>\n",
       "      <th>socialvideoembeds</th>\n",
       "      <th>quotations</th>\n",
       "      <th>allnames</th>\n",
       "      <th>amounts</th>\n",
       "      <th>translationinfo</th>\n",
       "      <th>extras</th>\n",
       "    </tr>\n",
       "  </thead>\n",
       "  <tbody>\n",
       "    <tr>\n",
       "      <th>0</th>\n",
       "      <td>5370</td>\n",
       "      <td>20241020014500-92</td>\n",
       "      <td>20241020014500</td>\n",
       "      <td>1</td>\n",
       "      <td>gamerant.com</td>\n",
       "      <td>https://gamerant.com/one-piece-sun-god-loki-ni...</td>\n",
       "      <td>NaN</td>\n",
       "      <td>NaN</td>\n",
       "      <td>MANMADE_DISASTER_IMPLIED;ARMEDCONFLICT;UNGP_FO...</td>\n",
       "      <td>WB_678_DIGITAL_GOVERNMENT,6929;WB_694_BROADCAS...</td>\n",
       "      <td>...</td>\n",
       "      <td>wc:1216,c1.1:1,c1.3:1,c12.1:153,c12.10:154,c12...</td>\n",
       "      <td>https://static0.gamerantimages.com/wordpress/w...</td>\n",
       "      <td>https://static0.gamerantimages.com/wordpress/w...</td>\n",
       "      <td>NaN</td>\n",
       "      <td>https://youtube.com/channel/UCkZjsmAQnXfS-_5lw...</td>\n",
       "      <td>NaN</td>\n",
       "      <td>Sun God,230;One Piece,613;Sun God Nika,985;Sun...</td>\n",
       "      <td>2,Sun Gods,146;2,Sun Gods,3619;2,legendary pir...</td>\n",
       "      <td>NaN</td>\n",
       "      <td>&lt;PAGE_LINKS&gt;https://gamerant.com/one-piece-elb...</td>\n",
       "    </tr>\n",
       "    <tr>\n",
       "      <th>1</th>\n",
       "      <td>67774</td>\n",
       "      <td>20241020214500-270</td>\n",
       "      <td>20241020214500</td>\n",
       "      <td>1</td>\n",
       "      <td>gamerant.com</td>\n",
       "      <td>https://gamerant.com/one-piece-oda-announces-t...</td>\n",
       "      <td>NaN</td>\n",
       "      <td>NaN</td>\n",
       "      <td>TAX_WORLDLANGUAGES;TAX_WORLDLANGUAGES_MANGA;TA...</td>\n",
       "      <td>UNGP_FORESTS_RIVERS_OCEANS,4031;UNGP_FORESTS_R...</td>\n",
       "      <td>...</td>\n",
       "      <td>wc:1199,c12.1:102,c12.10:134,c12.12:41,c12.13:...</td>\n",
       "      <td>https://static0.gamerantimages.com/wordpress/w...</td>\n",
       "      <td>https://static0.gamerantimages.com/wordpress/w...</td>\n",
       "      <td>NaN</td>\n",
       "      <td>https://youtube.com/channel/UCkZjsmAQnXfS-_5lw...</td>\n",
       "      <td>NaN</td>\n",
       "      <td>One Piece,59;Live Action,86;Elbaf Arc,176;One ...</td>\n",
       "      <td>2,projects during One Piece,26;10,Q A session,...</td>\n",
       "      <td>NaN</td>\n",
       "      <td>&lt;PAGE_LINKS&gt;https://gamerant.com/one-piece-elb...</td>\n",
       "    </tr>\n",
       "  </tbody>\n",
       "</table>\n",
       "<p>2 rows × 28 columns</p>\n",
       "</div>"
      ],
      "text/plain": [
       "   index         gkgrecordid            date  sourcecollectionidentifier  \\\n",
       "0   5370   20241020014500-92  20241020014500                           1   \n",
       "1  67774  20241020214500-270  20241020214500                           1   \n",
       "\n",
       "  sourcecommonname                                 documentidentifier  counts  \\\n",
       "0     gamerant.com  https://gamerant.com/one-piece-sun-god-loki-ni...     NaN   \n",
       "1     gamerant.com  https://gamerant.com/one-piece-oda-announces-t...     NaN   \n",
       "\n",
       "   v2counts                                             themes  \\\n",
       "0       NaN  MANMADE_DISASTER_IMPLIED;ARMEDCONFLICT;UNGP_FO...   \n",
       "1       NaN  TAX_WORLDLANGUAGES;TAX_WORLDLANGUAGES_MANGA;TA...   \n",
       "\n",
       "                                            v2themes  ...  \\\n",
       "0  WB_678_DIGITAL_GOVERNMENT,6929;WB_694_BROADCAS...  ...   \n",
       "1  UNGP_FORESTS_RIVERS_OCEANS,4031;UNGP_FORESTS_R...  ...   \n",
       "\n",
       "                                                gcam  \\\n",
       "0  wc:1216,c1.1:1,c1.3:1,c12.1:153,c12.10:154,c12...   \n",
       "1  wc:1199,c12.1:102,c12.10:134,c12.12:41,c12.13:...   \n",
       "\n",
       "                                        sharingimage  \\\n",
       "0  https://static0.gamerantimages.com/wordpress/w...   \n",
       "1  https://static0.gamerantimages.com/wordpress/w...   \n",
       "\n",
       "                                       relatedimages socialimageembeds  \\\n",
       "0  https://static0.gamerantimages.com/wordpress/w...               NaN   \n",
       "1  https://static0.gamerantimages.com/wordpress/w...               NaN   \n",
       "\n",
       "                                   socialvideoembeds quotations  \\\n",
       "0  https://youtube.com/channel/UCkZjsmAQnXfS-_5lw...        NaN   \n",
       "1  https://youtube.com/channel/UCkZjsmAQnXfS-_5lw...        NaN   \n",
       "\n",
       "                                            allnames  \\\n",
       "0  Sun God,230;One Piece,613;Sun God Nika,985;Sun...   \n",
       "1  One Piece,59;Live Action,86;Elbaf Arc,176;One ...   \n",
       "\n",
       "                                             amounts translationinfo  \\\n",
       "0  2,Sun Gods,146;2,Sun Gods,3619;2,legendary pir...             NaN   \n",
       "1  2,projects during One Piece,26;10,Q A session,...             NaN   \n",
       "\n",
       "                                              extras  \n",
       "0  <PAGE_LINKS>https://gamerant.com/one-piece-elb...  \n",
       "1  <PAGE_LINKS>https://gamerant.com/one-piece-elb...  \n",
       "\n",
       "[2 rows x 28 columns]"
      ]
     },
     "execution_count": 109,
     "metadata": {},
     "output_type": "execute_result"
    }
   ],
   "source": [
    "OP = pd.read_csv('OP.csv') # We could alternatively use the subset of the queried data in the last section.\n",
    "# gkg.get_gkg(data=OP) # stores in gkg.gkg_query as a dataframe\n",
    "# there is an indexing mismatch somewhere, the data needs the index reset\n",
    "# gkg.get_gkg(data=rant.iloc[:500]) # stores in gkg.gkg_query as a dataframe\n",
    "gkg.get_gkg(data=manga)\n",
    "gkg.gkg_query.head(2)"
   ]
  },
  {
   "cell_type": "code",
   "execution_count": 95,
   "metadata": {},
   "outputs": [],
   "source": [
    "gkg.parse_urls() # parse urls in the gkg_query"
   ]
  },
  {
   "cell_type": "code",
   "execution_count": 118,
   "metadata": {},
   "outputs": [
    {
     "data": {
      "text/html": [
       "<div>\n",
       "<style scoped>\n",
       "    .dataframe tbody tr th:only-of-type {\n",
       "        vertical-align: middle;\n",
       "    }\n",
       "\n",
       "    .dataframe tbody tr th {\n",
       "        vertical-align: top;\n",
       "    }\n",
       "\n",
       "    .dataframe thead th {\n",
       "        text-align: right;\n",
       "    }\n",
       "</style>\n",
       "<table border=\"1\" class=\"dataframe\">\n",
       "  <thead>\n",
       "    <tr style=\"text-align: right;\">\n",
       "      <th></th>\n",
       "      <th>index</th>\n",
       "      <th>persons_0</th>\n",
       "    </tr>\n",
       "  </thead>\n",
       "  <tbody>\n",
       "    <tr>\n",
       "      <th>0</th>\n",
       "      <td>0</td>\n",
       "      <td>eiichiro oda</td>\n",
       "    </tr>\n",
       "    <tr>\n",
       "      <th>1</th>\n",
       "      <td>1</td>\n",
       "      <td>eiichiro oda</td>\n",
       "    </tr>\n",
       "    <tr>\n",
       "      <th>2</th>\n",
       "      <td>2</td>\n",
       "      <td>eiichiro oda</td>\n",
       "    </tr>\n",
       "    <tr>\n",
       "      <th>3</th>\n",
       "      <td>2</td>\n",
       "      <td>king harald</td>\n",
       "    </tr>\n",
       "    <tr>\n",
       "      <th>4</th>\n",
       "      <td>3</td>\n",
       "      <td>eiichiro oda</td>\n",
       "    </tr>\n",
       "    <tr>\n",
       "      <th>5</th>\n",
       "      <td>4</td>\n",
       "      <td>queen oito</td>\n",
       "    </tr>\n",
       "    <tr>\n",
       "      <th>6</th>\n",
       "      <td>4</td>\n",
       "      <td>zhang lei</td>\n",
       "    </tr>\n",
       "    <tr>\n",
       "      <th>7</th>\n",
       "      <td>4</td>\n",
       "      <td>eiichiro oda</td>\n",
       "    </tr>\n",
       "    <tr>\n",
       "      <th>8</th>\n",
       "      <td>4</td>\n",
       "      <td>hunter x hunter</td>\n",
       "    </tr>\n",
       "    <tr>\n",
       "      <th>9</th>\n",
       "      <td>4</td>\n",
       "      <td>isaac netero</td>\n",
       "    </tr>\n",
       "    <tr>\n",
       "      <th>10</th>\n",
       "      <td>5</td>\n",
       "      <td>eiichiro oda</td>\n",
       "    </tr>\n",
       "    <tr>\n",
       "      <th>11</th>\n",
       "      <td>6</td>\n",
       "      <td>eiichiro oda</td>\n",
       "    </tr>\n",
       "  </tbody>\n",
       "</table>\n",
       "</div>"
      ],
      "text/plain": [
       "    index        persons_0\n",
       "0       0     eiichiro oda\n",
       "1       1     eiichiro oda\n",
       "2       2     eiichiro oda\n",
       "3       2      king harald\n",
       "4       3     eiichiro oda\n",
       "5       4       queen oito\n",
       "6       4        zhang lei\n",
       "7       4     eiichiro oda\n",
       "8       4  hunter x hunter\n",
       "9       4     isaac netero\n",
       "10      5     eiichiro oda\n",
       "11      6     eiichiro oda"
      ]
     },
     "execution_count": 118,
     "metadata": {},
     "output_type": "execute_result"
    }
   ],
   "source": [
    "# gkg.parse_gkg_field('amounts')\n",
    "gkg.parse_gkg_field('persons')\n",
    "# gkg.parse_gkg_field('v2persons')\n",
    "# gkg.parse_gkg_field('themes')\n",
    "# gkg.parse_gkg_field('v2tone')"
   ]
  },
  {
   "cell_type": "code",
   "execution_count": 111,
   "metadata": {},
   "outputs": [
    {
     "data": {
      "text/plain": [
       "['Eiichiro Oda',\n",
       " 'Hunter X Hunter',\n",
       " 'Isaac Netero',\n",
       " 'King Harald',\n",
       " 'Queen Oito',\n",
       " 'Hunter X Hunter',\n",
       " 'Isaac Netero',\n",
       " 'King Harald',\n",
       " 'Queen Oito',\n",
       " 'Zhang Lei']"
      ]
     },
     "execution_count": 111,
     "metadata": {},
     "output_type": "execute_result"
    }
   ],
   "source": [
    "gkg.tokenize_field(col_idx=1) # when calling this function, the tokenized field is given by col_idx input parameter\n",
    "gkg.field_tokens[:5] + gkg.field_tokens[-5:]"
   ]
  },
  {
   "cell_type": "code",
   "execution_count": 112,
   "metadata": {},
   "outputs": [
    {
     "data": {
      "text/html": [
       "<div>\n",
       "<style scoped>\n",
       "    .dataframe tbody tr th:only-of-type {\n",
       "        vertical-align: middle;\n",
       "    }\n",
       "\n",
       "    .dataframe tbody tr th {\n",
       "        vertical-align: top;\n",
       "    }\n",
       "\n",
       "    .dataframe thead th {\n",
       "        text-align: right;\n",
       "    }\n",
       "</style>\n",
       "<table border=\"1\" class=\"dataframe\">\n",
       "  <thead>\n",
       "    <tr style=\"text-align: right;\">\n",
       "      <th></th>\n",
       "      <th>eiichiro oda</th>\n",
       "      <th>hunter x hunter</th>\n",
       "      <th>isaac netero</th>\n",
       "      <th>king harald</th>\n",
       "      <th>queen oito</th>\n",
       "      <th>zhang lei</th>\n",
       "    </tr>\n",
       "  </thead>\n",
       "  <tbody>\n",
       "    <tr>\n",
       "      <th>0</th>\n",
       "      <td>1.0</td>\n",
       "      <td>0.0</td>\n",
       "      <td>0.0</td>\n",
       "      <td>0.0</td>\n",
       "      <td>0.0</td>\n",
       "      <td>0.0</td>\n",
       "    </tr>\n",
       "    <tr>\n",
       "      <th>1</th>\n",
       "      <td>1.0</td>\n",
       "      <td>0.0</td>\n",
       "      <td>0.0</td>\n",
       "      <td>0.0</td>\n",
       "      <td>0.0</td>\n",
       "      <td>0.0</td>\n",
       "    </tr>\n",
       "  </tbody>\n",
       "</table>\n",
       "</div>"
      ],
      "text/plain": [
       "   eiichiro oda  hunter x hunter  isaac netero  king harald  queen oito  \\\n",
       "0           1.0              0.0           0.0          0.0         0.0   \n",
       "1           1.0              0.0           0.0          0.0         0.0   \n",
       "\n",
       "   zhang lei  \n",
       "0        0.0  \n",
       "1        0.0  "
      ]
     },
     "execution_count": 112,
     "metadata": {},
     "output_type": "execute_result"
    }
   ],
   "source": [
    "gkg.vectorize_field()\n",
    "# gkg.vectorized_df.columns = gkg.tokenize_field(col_idx=2) # resets columns to uncleaned field names\n",
    "gkg.vectorized_df.head(2)"
   ]
  },
  {
   "cell_type": "code",
   "execution_count": 113,
   "metadata": {},
   "outputs": [
    {
     "data": {
      "text/plain": [
       "['one piece sun god loki nika luffy',\n",
       " 'one piece oda announces two major projects during manga break',\n",
       " 'one piece 1131 spoilers release date leaks',\n",
       " 'one piece chapter 1130 oda finally introduces loki',\n",
       " 'hunter x hunter 404 spoilers release date leaks']"
      ]
     },
     "execution_count": 113,
     "metadata": {},
     "output_type": "execute_result"
    }
   ],
   "source": [
    "gkg.parsed_urls[:5]"
   ]
  },
  {
   "cell_type": "code",
   "execution_count": 114,
   "metadata": {},
   "outputs": [
    {
     "data": {
      "text/html": [
       "<div>\n",
       "<style scoped>\n",
       "    .dataframe tbody tr th:only-of-type {\n",
       "        vertical-align: middle;\n",
       "    }\n",
       "\n",
       "    .dataframe tbody tr th {\n",
       "        vertical-align: top;\n",
       "    }\n",
       "\n",
       "    .dataframe thead th {\n",
       "        text-align: right;\n",
       "    }\n",
       "</style>\n",
       "<table border=\"1\" class=\"dataframe\">\n",
       "  <thead>\n",
       "    <tr style=\"text-align: right;\">\n",
       "      <th></th>\n",
       "      <th>eiichiro oda</th>\n",
       "      <th>hunter x hunter</th>\n",
       "      <th>isaac netero</th>\n",
       "      <th>king harald</th>\n",
       "      <th>queen oito</th>\n",
       "      <th>zhang lei</th>\n",
       "    </tr>\n",
       "  </thead>\n",
       "  <tbody>\n",
       "    <tr>\n",
       "      <th>one piece sun god loki nika luffy</th>\n",
       "      <td>1.0</td>\n",
       "      <td>0.0</td>\n",
       "      <td>0.0</td>\n",
       "      <td>0.0</td>\n",
       "      <td>0.0</td>\n",
       "      <td>0.0</td>\n",
       "    </tr>\n",
       "    <tr>\n",
       "      <th>one piece oda announces two major projects during manga break</th>\n",
       "      <td>1.0</td>\n",
       "      <td>0.0</td>\n",
       "      <td>0.0</td>\n",
       "      <td>0.0</td>\n",
       "      <td>0.0</td>\n",
       "      <td>0.0</td>\n",
       "    </tr>\n",
       "  </tbody>\n",
       "</table>\n",
       "</div>"
      ],
      "text/plain": [
       "                                                    eiichiro oda  \\\n",
       "one piece sun god loki nika luffy                            1.0   \n",
       "one piece oda announces two major projects duri...           1.0   \n",
       "\n",
       "                                                    hunter x hunter  \\\n",
       "one piece sun god loki nika luffy                               0.0   \n",
       "one piece oda announces two major projects duri...              0.0   \n",
       "\n",
       "                                                    isaac netero  king harald  \\\n",
       "one piece sun god loki nika luffy                            0.0          0.0   \n",
       "one piece oda announces two major projects duri...           0.0          0.0   \n",
       "\n",
       "                                                    queen oito  zhang lei  \n",
       "one piece sun god loki nika luffy                          0.0        0.0  \n",
       "one piece oda announces two major projects duri...         0.0        0.0  "
      ]
     },
     "execution_count": 114,
     "metadata": {},
     "output_type": "execute_result"
    }
   ],
   "source": [
    "gkgvf = gkg.vectorized_df.copy()\n",
    "# rename rows with urls\n",
    "gkgvf.index = gkg.parsed_urls\n",
    "gkgvf.head(2)\n"
   ]
  },
  {
   "cell_type": "code",
   "execution_count": 115,
   "metadata": {},
   "outputs": [
    {
     "data": {
      "text/plain": [
       "eiichiro oda       100.000000\n",
       "hunter x hunter     14.285714\n",
       "isaac netero        14.285714\n",
       "king harald         14.285714\n",
       "queen oito          14.285714\n",
       "zhang lei           14.285714\n",
       "dtype: float64"
      ]
     },
     "execution_count": 115,
     "metadata": {},
     "output_type": "execute_result"
    }
   ],
   "source": [
    "# get percent of non-zero float values in the vectorized dataframe\n",
    "non_zero = gkgvf.astype(bool).sum(axis=0)\n",
    "non_zero = non_zero[non_zero > 0]\n",
    "non_zero = non_zero / gkgvf.shape[0]*100\n",
    "non_zero.sort_values(ascending=False, inplace=True)\n",
    "non_zero[:10]"
   ]
  },
  {
   "cell_type": "code",
   "execution_count": 116,
   "metadata": {},
   "outputs": [
    {
     "data": {
      "text/plain": [
       "hunter x hunter    11.0\n",
       "eiichiro oda        7.0\n",
       "zhang lei           3.0\n",
       "queen oito          2.0\n",
       "isaac netero        1.0\n",
       "dtype: float64"
      ]
     },
     "execution_count": 116,
     "metadata": {},
     "output_type": "execute_result"
    }
   ],
   "source": [
    "gkg.vectorized_df.sum(axis=0).sort_values(ascending=False).head(5)"
   ]
  },
  {
   "cell_type": "code",
   "execution_count": 103,
   "metadata": {},
   "outputs": [
    {
     "name": "stdout",
     "output_type": "stream",
     "text": [
      "0\n",
      "Title: One Piece: Sun God Loki Vs Sun God Nika, Explained\n",
      "Length of Header List: 11\n",
      "First Header: Game Rant\n",
      "Last Header: Trending Now\n",
      "Length of Paragraph List: 18\n",
      "First Paragraph: This article contains spoilers from One Piece's Elbaf Arc.\n",
      "Last Paragraph: One Piece is available to read via Viz Media. The series can be read by the fans officially and for free on the Shonen Jump and theManga Plusapp. The release date for the next chapter of One Piece, One Piece 1130, is set to be October 20, 2024.\n",
      "\n",
      "\n",
      "1\n",
      "Title: One Piece Just Demonstrated The True Beauty of Oda's Writing Through Its Most Unexpected Character\n",
      "Length of Header List: 8\n",
      "First Header: Screen Rant\n",
      "Last Header: Trending Now\n",
      "Length of Paragraph List: 14\n",
      "First Paragraph: Despite occasional complaints about its pacing,One Pieceis often agreed to be one of the most well-written shōnen manga, not only in terms of its storytelling, but also its world-building, well-rounded characters, complex themes, and backstories. That said, one unexpected character best encapsulates thebeauty of Eiichiro Oda's writing, and it isn't one fans would expect.\n",
      "Last Paragraph: Created by Eiichiro Oda, One Piece is a multimedia franchise that began as a manga series and follows the adventures of the Straw Hat Pirates as led by Monkey D. Luffy. Luffy, an enthusiastic pirate with a thirst for adventure, is afflicted by a mysterious curse that gives him various powers he uses to protect himself and his friends. The manga eventually gave way to the anime series, with the two being some of history's longest-running anime and manga series. Along with over fifty video games made over the years, the series entered the live-action world with Netflix's 2023 adaptation.\n",
      "\n",
      "\n",
      "2\n",
      "Title: One Piece's New Villain Is the Most Intimidating One in Years\n",
      "Length of Header List: 8\n",
      "First Header: Screen Rant\n",
      "Last Header: Trending Now\n",
      "Length of Paragraph List: 8\n",
      "First Paragraph: Warning: SPOILERS for One Piece chapter #1130One Piece's chapter #1130, continues the Straw Hats' newest adventure and confirms that the crew is indeed on the land of the giants,Elbaph. After their bizarre adventure through the mysterious land that the fake Sun God created, Luffy and others explore the land of the giants. Following his instinct, the captain of the Straw Hats strays off the path and stumbles upon an unsettling discovery: a mysterious giant tied by massive chains.\n",
      "Last Paragraph: Created by Eiichiro Oda, One Piece is a multimedia franchise that began as a manga series and follows the adventures of the Straw Hat Pirates as led by Monkey D. Luffy. Luffy, an enthusiastic pirate with a thirst for adventure, is afflicted by a mysterious curse that gives him various powers he uses to protect himself and his friends. The manga eventually gave way to the anime series, with the two being some of history's longest-running anime and manga series. Along with over fifty video games made over the years, the series entered the live-action world with Netflix's 2023 adaptation.\n",
      "\n",
      "\n",
      "3\n",
      "Title: One Piece: Fan Letter May Be the Anime's Best Episode Ever - ComicBook.com\n",
      "No text bounds set for this URL: https://comicbook.com/anime/news/one-piece-fan-letter-anime-watch/\n",
      "Length of Header List: 17\n",
      "First Header: One Piece: Fan Letter May Be the Anime’s Best Episode Ever\n",
      "Last Header: \n",
      "\n",
      "\t\tAfter Years of Waiting, Bleach Just Brought Back Its Best Arrancar\t\n",
      "\n",
      "Length of Paragraph List: 12\n",
      "First Paragraph: One Piece: Fan Letteris live and marks one of the anime’s greatest episodes of all time.\n",
      "Last Paragraph: By signing up, you confirm that you have read and agree to theTerms of Useand acknowledge ourPrivacy Policy.\n",
      "\n",
      "\n",
      "4\n",
      "Title: One Piece: Oda Announces Two Major Projects During The Manga Break\n",
      "Length of Header List: 11\n",
      "First Header: Game Rant\n",
      "Last Header: Trending Now\n",
      "Length of Paragraph List: 18\n",
      "First Paragraph: This article contains spoilers from One Piece's Elbaf Arc.\n",
      "Last Paragraph: One Piece is available to read via Viz Media. The series can be read by the fans officially and for free on the Shonen Jump and theManga Plusapp. The release date for the next chapter of One Piece, One Piece 1131, is set to be November 11, 2024.\n",
      "\n",
      "\n"
     ]
    }
   ],
   "source": [
    "gkg.get_all_soup(limit_output=5,verbose=True)\n",
    "# gkg.get_all_soup(limit_output='all')"
   ]
  },
  {
   "cell_type": "code",
   "execution_count": 104,
   "metadata": {},
   "outputs": [
    {
     "data": {
      "text/html": [
       "<div>\n",
       "<style scoped>\n",
       "    .dataframe tbody tr th:only-of-type {\n",
       "        vertical-align: middle;\n",
       "    }\n",
       "\n",
       "    .dataframe tbody tr th {\n",
       "        vertical-align: top;\n",
       "    }\n",
       "\n",
       "    .dataframe thead th {\n",
       "        text-align: right;\n",
       "    }\n",
       "</style>\n",
       "<table border=\"1\" class=\"dataframe\">\n",
       "  <thead>\n",
       "    <tr style=\"text-align: right;\">\n",
       "      <th></th>\n",
       "      <th>URL</th>\n",
       "      <th>Parsed URL</th>\n",
       "      <th>Headers</th>\n",
       "      <th>Paragraphs</th>\n",
       "    </tr>\n",
       "  </thead>\n",
       "  <tbody>\n",
       "    <tr>\n",
       "      <th>0</th>\n",
       "      <td>https://gamerant.com/one-piece-sun-god-loki-ni...</td>\n",
       "      <td>one piece sun god loki nika luffy</td>\n",
       "      <td>[Game Rant, One Piece: Sun God Loki Vs Sun God...</td>\n",
       "      <td>[This article contains spoilers from One Piece...</td>\n",
       "    </tr>\n",
       "    <tr>\n",
       "      <th>1</th>\n",
       "      <td>https://screenrant.com/one-piece-unexpected-ch...</td>\n",
       "      <td>one piece unexpected character buggy beauty of...</td>\n",
       "      <td>[Screen Rant, One Piece Just Demonstrated The ...</td>\n",
       "      <td>[Despite occasional complaints about its pacin...</td>\n",
       "    </tr>\n",
       "    <tr>\n",
       "      <th>2</th>\n",
       "      <td>https://screenrant.com/one-piece-1130-loki-vil...</td>\n",
       "      <td>one piece 1130 loki villain intimidating elbaph</td>\n",
       "      <td>[Screen Rant, One Piece's New Villain Is the M...</td>\n",
       "      <td>[Warning: SPOILERS for One Piece chapter #1130...</td>\n",
       "    </tr>\n",
       "    <tr>\n",
       "      <th>3</th>\n",
       "      <td>https://comicbook.com/anime/news/one-piece-fan...</td>\n",
       "      <td>one piece fan letter anime watch</td>\n",
       "      <td>[One Piece: Fan Letter May Be the Anime’s Best...</td>\n",
       "      <td>[One Piece: Fan Letteris live and marks one of...</td>\n",
       "    </tr>\n",
       "    <tr>\n",
       "      <th>4</th>\n",
       "      <td>https://gamerant.com/one-piece-oda-announces-t...</td>\n",
       "      <td>one piece oda announces two major projects dur...</td>\n",
       "      <td>[Game Rant, One Piece: Oda Announces Two Major...</td>\n",
       "      <td>[This article contains spoilers from One Piece...</td>\n",
       "    </tr>\n",
       "  </tbody>\n",
       "</table>\n",
       "</div>"
      ],
      "text/plain": [
       "                                                 URL  \\\n",
       "0  https://gamerant.com/one-piece-sun-god-loki-ni...   \n",
       "1  https://screenrant.com/one-piece-unexpected-ch...   \n",
       "2  https://screenrant.com/one-piece-1130-loki-vil...   \n",
       "3  https://comicbook.com/anime/news/one-piece-fan...   \n",
       "4  https://gamerant.com/one-piece-oda-announces-t...   \n",
       "\n",
       "                                          Parsed URL  \\\n",
       "0                  one piece sun god loki nika luffy   \n",
       "1  one piece unexpected character buggy beauty of...   \n",
       "2    one piece 1130 loki villain intimidating elbaph   \n",
       "3                   one piece fan letter anime watch   \n",
       "4  one piece oda announces two major projects dur...   \n",
       "\n",
       "                                             Headers  \\\n",
       "0  [Game Rant, One Piece: Sun God Loki Vs Sun God...   \n",
       "1  [Screen Rant, One Piece Just Demonstrated The ...   \n",
       "2  [Screen Rant, One Piece's New Villain Is the M...   \n",
       "3  [One Piece: Fan Letter May Be the Anime’s Best...   \n",
       "4  [Game Rant, One Piece: Oda Announces Two Major...   \n",
       "\n",
       "                                          Paragraphs  \n",
       "0  [This article contains spoilers from One Piece...  \n",
       "1  [Despite occasional complaints about its pacin...  \n",
       "2  [Warning: SPOILERS for One Piece chapter #1130...  \n",
       "3  [One Piece: Fan Letteris live and marks one of...  \n",
       "4  [This article contains spoilers from One Piece...  "
      ]
     },
     "execution_count": 104,
     "metadata": {},
     "output_type": "execute_result"
    }
   ],
   "source": [
    "asd = gkg.all_soup_data\n",
    "asd\n",
    "# gkg.all_soup_data['Paragraphs'][0]"
   ]
  },
  {
   "cell_type": "code",
   "execution_count": 105,
   "metadata": {},
   "outputs": [
    {
     "data": {
      "text/plain": [
       "[\"This article contains spoilers from One Piece's Elbaf Arc.\",\n",
       " 'One Piecechapter 1130 proved to be absolutely stunning from start to finish and it is safe to say that this chapter shocked the fans to quite an extent withthe reveal of Loki so early into the arc. Truly, few were expecting Loki to be revealed in such fashion inOne Piecechapter 1130, and at the same time, even fewer individuals were expecting him to be as important as he has proven to be.',\n",
       " 'Loki is perhaps the most powerful giant. His strength might be on par with a Yonko in One Piece.']"
      ]
     },
     "execution_count": 105,
     "metadata": {},
     "output_type": "execute_result"
    }
   ],
   "source": [
    "asd['Paragraphs'][0][:3]"
   ]
  },
  {
   "cell_type": "code",
   "execution_count": 106,
   "metadata": {},
   "outputs": [
    {
     "name": "stdout",
     "output_type": "stream",
     "text": [
      "Paragraph 1: This article contains spoilers from One Piece's Elbaf Arc.\n",
      "Paragraph 2: One Piecechapter 1130 proved to be absolutely stunning from start to finish and it is safe to say that this chapter shocked the fans to quite an extent withthe reveal of Loki so early into the arc. Truly, few were expecting Loki to be revealed in such fashion inOne Piecechapter 1130, and at the same time, even fewer individuals were expecting him to be as important as he has proven to be.\n",
      "Paragraph 3: Loki is perhaps the most powerful giant. His strength might be on par with a Yonko in One Piece.\n",
      "Paragraph 4: In this chapter, fans even got what can be considered to be a buildup of sorts towards a fight between Luffy, who is the Sun God Nika, and Loki, who also believes himself to be the Sun God. It looks like there is going to be a clash of Sun Gods afterOne Piecechapter 1130 and it is certainly going to be one worth watching, provided Loki does break free from his chains.\n",
      "Paragraph 5: Luffy and Loki met for the very first time inOne Piecechapter 1130. This is a meeting that fans have been anticipating since the Elbaf arc began, but few had imagined it to happen so early. As soon as Luffy found his way into the real Elbaf, the story saw him exploring the country. But, while the forest was certainly intriguing enough for Luffy, something that kept bothering him was a very strong presence nearby. This presence was so strong that Luffy's entire body was tingling. This just goes to show how strong Loki truly is. Along with Luffy, both Zoro and Sanji also felt Loki's presence, and at this point, it was clear for the fans to see that Loki was portrayed to be a monster by Oda.\n",
      "Paragraph 6: I'm the Sun God who will destroy this world, Loki! – Loki\n",
      "Paragraph 7: Luffy separated from the crew and went to see Loki by himself, which is where the first meeting finally happened. This was a meeting that fans had waited years for, and finally, the Straw Hat pirate, who is now a Yonko, stood in front ofLoki, the Disgraced Prince of Elbaf. Finally, fans got a proper look at Loki's character design, and it is safe to say that this has to be one of One Piece's very best that Oda has delivered so far. Loki looks quite like a mixture of Kaido, Doflamingo, and Katakuri, and just the character design itself personifies the strength of the highest tier. Loki looks Like an absolute monster, and fans cannot wait to see him in real combat.\n",
      "Paragraph 8: As far as his personality goes, he seems quite brash, but at the same time, prideful, which is expected of a warrior from the land of Elbaf. At the same time, Loki also looks incredibly strong and confident in his abilities, given that he referred to himself as the Sun God, and the one who will destroy the world. Naturally, there is more to Loki than meets the eye, and fans will slowly find out more about him with time.\n",
      "Paragraph 9: The most interesting thing that fans saw inOne Piecechapter 1130 related to Loki was the fact that he called himself the Sun God. As fans know, the Sun God is a deity that is respected and worshiped in Elbaf. In the previous chapter, Road portrayed himself as the Sun God as well. Now, Loki believes himself to be the Sun God. This leads one to believe that in the culture of the Elbaf Giants, there might be a prophecy that the Sun God will eventually come back and calm some sort of disaster by destroying the current world order.\n",
      "Paragraph 10: Do you feel that? I'm getting goosebumps all over my body! – Luffy\n",
      "Paragraph 11: This might lead many individuals to believe that they are the Sun God and the one responsible for calming the impending disaster. Naturally, fans know that neither of the Giants is actually the Sun God. This is simply down to the fact that the Sun God is actually none other than Luffy, the captain of the Straw Hat Pirates and the protagonist of the series. Luffy has the power of the Hito Hito no Mi, Model: Nika, and he has already liberated many countries, just as the Sun God Nika did in the tales and myths. Obviously, there cannot be two Sun Gods, which is why Loki is heavily misinformed and his idea of being the Sun God is certainly not the right one.\n",
      "Paragraph 12: Oda just dropped the updated bounties of two legendary pirates. These two characters are more than worthy of such high bounties.\n",
      "Paragraph 13: For him to declare this to Luffy's face, however, is very interesting. If Loki finds out aboutLuffy being the Sun God, then, there will clearly be a battle between these two. Luffy, of course, does not care about claiming himself as the Sun God. But Loki might take it as a challenge and would want to fight Luffy, especially because Luffy is so strong. This might lead one to believe that Loki would test his skill against the person called the Sun God, and it will surely be more than just impressive.\n",
      "Paragraph 14: The relationship between Loki and Luffy is certainly going to be an interesting one. It is impossible to exactly predict the way it will go. But, at this point in time, it looks like this relationship will start as hostile. But, that doesn't necessarily mean that theywill stay hostile throughout the entirety of Elbaf. Right now, Loki is being called the Disgraced Prince. He's openly called problematic and the entirety of Elbaf is essentially against him; he's painted as a villain. And, at least for a significant period of Elbaf, he might play this role.\n",
      "Paragraph 15: However, when Ragnarok truly does happen and Loki has to prove himself as the Sun God, fans might actually get to see him team up with Luffy against a better or greater foe. This could be the interesting turn in the story that makes Elbaf all the more interesting. For now, however, Loki and Luffy might not get along as well as one would like. Fans might get to see them fight and this battle will likely be interrupted at some point in time.\n",
      "Paragraph 16: For all that to happen, however, Loki has to be freed first. Perhaps,Luffy will go through the trouble of freeing him, and then, fans might see Loki challenging him to a battle. Of course, these exciting developments could happen over the course of the next few weeks, and fans absolutely cannot wait to see what happens next, whenOne Piecedoes return from its long break.\n",
      "Paragraph 17: For now, fans need to keep in mind thatLoki and Luffy are going to be two important figures in the Elbafaround whom the plot is going to revolve quite a bit, and that they are going to change the shape and the future of this country all together.\n",
      "Paragraph 18: One Piece is available to read via Viz Media. The series can be read by the fans officially and for free on the Shonen Jump and theManga Plusapp. The release date for the next chapter of One Piece, One Piece 1130, is set to be October 20, 2024.\n"
     ]
    }
   ],
   "source": [
    "for item in asd['Paragraphs'][0]:\n",
    "    idx = asd['Paragraphs'][0].index(item) + 1\n",
    "    print(f'Paragraph {idx}: {item}')"
   ]
  }
 ],
 "metadata": {
  "kernelspec": {
   "display_name": "base",
   "language": "python",
   "name": "python3"
  },
  "language_info": {
   "codemirror_mode": {
    "name": "ipython",
    "version": 3
   },
   "file_extension": ".py",
   "mimetype": "text/x-python",
   "name": "python",
   "nbconvert_exporter": "python",
   "pygments_lexer": "ipython3",
   "version": "3.11.4"
  }
 },
 "nbformat": 4,
 "nbformat_minor": 2
}
