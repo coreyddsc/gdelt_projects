{
 "cells": [
  {
   "cell_type": "code",
   "execution_count": 1,
   "metadata": {},
   "outputs": [
    {
     "name": "stdout",
     "output_type": "stream",
     "text": [
      "here\n"
     ]
    }
   ],
   "source": [
    "import gdelt # for gdelt searchs\n",
    "from gkg_tools import * # for gkg searchs\n",
    "# %run \"../gkg_tools.py\" # using magic command run to access the script from the parent directory\n",
    "\n",
    "\n",
    "import nltk\n",
    "from nltk.tokenize import word_tokenize, sent_tokenize\n",
    "\n",
    "\n",
    "from transformers import pipeline, set_seed\n",
    "import torch\n",
    "\n",
    "# # GPU Timing (using GPU 1) else -1 for CPU\n",
    "# device_id = 1 if torch.cuda.is_available() else -1 "
   ]
  },
  {
   "cell_type": "markdown",
   "metadata": {},
   "source": [
    "# Revised GKG Data Query\n",
    "- When using `gkg.get_gkg()` the input can be a stored gkg table for the parameter `data=dataframe_name`.\n",
    "- This avoids the possibility of storing two active gkg tables.\n",
    "- `coverage=true` only applies to queries from the gdelt database."
   ]
  },
  {
   "cell_type": "markdown",
   "metadata": {},
   "source": [
    "## Using a saved query"
   ]
  },
  {
   "cell_type": "code",
   "execution_count": 4,
   "metadata": {},
   "outputs": [
    {
     "data": {
      "text/plain": [
       "(355, 27)"
      ]
     },
     "execution_count": 4,
     "metadata": {},
     "output_type": "execute_result"
    }
   ],
   "source": [
    "gkg = gkg_operator() # create a gkg operator\n",
    "# OP = pd.read_csv('OP.csv')\n",
    "manga = pd.read_csv('manga.csv')\n",
    "gkg.get_gkg(data=manga) # stores in gkg.gkg_query as a dataframe\n",
    "# gkg.get_gkg(data=OP) # stores in gkg.gkg_query as a dataframe\n",
    "gkg.gkg_query.shape"
   ]
  },
  {
   "cell_type": "code",
   "execution_count": 5,
   "metadata": {},
   "outputs": [],
   "source": [
    "gkg.parse_urls() # parse urls in the gkg_query"
   ]
  },
  {
   "cell_type": "code",
   "execution_count": 6,
   "metadata": {},
   "outputs": [
    {
     "data": {
      "text/html": [
       "<div>\n",
       "<style scoped>\n",
       "    .dataframe tbody tr th:only-of-type {\n",
       "        vertical-align: middle;\n",
       "    }\n",
       "\n",
       "    .dataframe tbody tr th {\n",
       "        vertical-align: top;\n",
       "    }\n",
       "\n",
       "    .dataframe thead th {\n",
       "        text-align: right;\n",
       "    }\n",
       "</style>\n",
       "<table border=\"1\" class=\"dataframe\">\n",
       "  <thead>\n",
       "    <tr style=\"text-align: right;\">\n",
       "      <th></th>\n",
       "      <th>index</th>\n",
       "      <th>v2persons_0</th>\n",
       "      <th>v2persons_1</th>\n",
       "    </tr>\n",
       "  </thead>\n",
       "  <tbody>\n",
       "    <tr>\n",
       "      <th>0</th>\n",
       "      <td>0</td>\n",
       "      <td>Yokinobu Tatsu</td>\n",
       "      <td>394</td>\n",
       "    </tr>\n",
       "    <tr>\n",
       "      <th>1</th>\n",
       "      <td>1</td>\n",
       "      <td>Eiichiro Oda</td>\n",
       "      <td>7202</td>\n",
       "    </tr>\n",
       "    <tr>\n",
       "      <th>2</th>\n",
       "      <td>2</td>\n",
       "      <td>Hideo Kojima</td>\n",
       "      <td>181</td>\n",
       "    </tr>\n",
       "    <tr>\n",
       "      <th>3</th>\n",
       "      <td>2</td>\n",
       "      <td>Hideo Kojima</td>\n",
       "      <td>1123</td>\n",
       "    </tr>\n",
       "    <tr>\n",
       "      <th>4</th>\n",
       "      <td>2</td>\n",
       "      <td>Hideo Kojima</td>\n",
       "      <td>1492</td>\n",
       "    </tr>\n",
       "    <tr>\n",
       "      <th>...</th>\n",
       "      <td>...</td>\n",
       "      <td>...</td>\n",
       "      <td>...</td>\n",
       "    </tr>\n",
       "    <tr>\n",
       "      <th>2889</th>\n",
       "      <td>353</td>\n",
       "      <td>Kaori Maeda</td>\n",
       "      <td>4210</td>\n",
       "    </tr>\n",
       "    <tr>\n",
       "      <th>2890</th>\n",
       "      <td>353</td>\n",
       "      <td>Miyu Tomita</td>\n",
       "      <td>4224</td>\n",
       "    </tr>\n",
       "    <tr>\n",
       "      <th>2891</th>\n",
       "      <td>354</td>\n",
       "      <td>King Harald</td>\n",
       "      <td>1524</td>\n",
       "    </tr>\n",
       "    <tr>\n",
       "      <th>2892</th>\n",
       "      <td>354</td>\n",
       "      <td>Nico Robin</td>\n",
       "      <td>6086</td>\n",
       "    </tr>\n",
       "    <tr>\n",
       "      <th>2893</th>\n",
       "      <td>354</td>\n",
       "      <td>Eiichiro Oda</td>\n",
       "      <td>7352</td>\n",
       "    </tr>\n",
       "  </tbody>\n",
       "</table>\n",
       "<p>2894 rows × 3 columns</p>\n",
       "</div>"
      ],
      "text/plain": [
       "      index     v2persons_0 v2persons_1\n",
       "0         0  Yokinobu Tatsu         394\n",
       "1         1    Eiichiro Oda        7202\n",
       "2         2    Hideo Kojima         181\n",
       "3         2    Hideo Kojima        1123\n",
       "4         2    Hideo Kojima        1492\n",
       "...     ...             ...         ...\n",
       "2889    353     Kaori Maeda        4210\n",
       "2890    353     Miyu Tomita        4224\n",
       "2891    354     King Harald        1524\n",
       "2892    354      Nico Robin        6086\n",
       "2893    354    Eiichiro Oda        7352\n",
       "\n",
       "[2894 rows x 3 columns]"
      ]
     },
     "execution_count": 6,
     "metadata": {},
     "output_type": "execute_result"
    }
   ],
   "source": [
    "# gkg.parse_gkg_field('amounts')\n",
    "# gkg.parse_gkg_field('persons')\n",
    "gkg.parse_gkg_field('v2persons')\n",
    "# gkg.parse_gkg_field('themes')\n",
    "# gkg.parse_gkg_field('v2tone')"
   ]
  },
  {
   "cell_type": "code",
   "execution_count": 7,
   "metadata": {},
   "outputs": [
    {
     "data": {
      "text/plain": [
       "['Aaron Dismuke Fullmetal',\n",
       " 'Aaron Schimberg',\n",
       " 'Abare Hanagumi',\n",
       " 'Abby Trott',\n",
       " 'Abhilash Dominic',\n",
       " 'Zeno Robinson',\n",
       " 'Zhang Chulan',\n",
       " 'Zhenhua Gu',\n",
       " 'Zuzazazazaza Rainbow',\n",
       " 'Zyuden Sentai Kyoryuger']"
      ]
     },
     "execution_count": 7,
     "metadata": {},
     "output_type": "execute_result"
    }
   ],
   "source": [
    "gkg.tokenize_field(col_idx=1) # when calling this function, the tokenized field is given by col_idx input parameter\n",
    "gkg.field_tokens[:5] + gkg.field_tokens[-5:]"
   ]
  },
  {
   "cell_type": "markdown",
   "metadata": {},
   "source": [
    "## Vectorize Field from GKG\n",
    "The vectorizer currently keeps a simple count of the field items associated with a given document to the list off all unique field items in the currently set `gkg.gkg_query`. The document row will get a 1 if the item is present, and 0 if missing for a given document.\n",
    "\n",
    "Note that in the gkg v2 fields such as `v2persons` a name is recorded multiple times if it was observed in multiple positions within the document. We could weight our document vectors for entries which occur more often. For instance, suppose a writer is mentioned with reference to a work but the article is primarily about a character within the work. Summing the number of occurences would give more weight to the character and also provide more context about the deeper content of the article.\n",
    "\n",
    "### Placeholder Weighting Mechanism:\n",
    "The function `np.log1p(token_count)` applies a logarithmic scaling to each token count. Specifically, `log1p(x)` calculates $log(1 + x)$, which is often used to scale counts in a way that reduces the impact of large values (e.g., frequent tokens) while retaining the order of magnitude.\n",
    "\n",
    "### Logarithmic Scaling as Weighting:\n",
    "Logarithmic scaling is a common approach to handle count data because it \"dampens\" high counts, preventing them from disproportionately influencing results.\n",
    "\n",
    "For instance, if a token appears 100 times in a document, `np.log1p(100)` scales it down to a lower value (around 4.615), which can be more manageable and informative than the raw count. This scaling is especially helpful when comparing frequencies across tokens or documents with varied token counts."
   ]
  },
  {
   "cell_type": "code",
   "execution_count": 8,
   "metadata": {},
   "outputs": [
    {
     "name": "stderr",
     "output_type": "stream",
     "text": [
      "/home/cld1465/notebooks/gdelt/gkg_tools.py:167: FutureWarning: DataFrame.applymap has been deprecated. Use DataFrame.map instead.\n",
      "  aligned_tokens = aligned_tokens.applymap(get_weight)  # Apply weighting function to each token count\n"
     ]
    },
    {
     "data": {
      "text/html": [
       "<div>\n",
       "<style scoped>\n",
       "    .dataframe tbody tr th:only-of-type {\n",
       "        vertical-align: middle;\n",
       "    }\n",
       "\n",
       "    .dataframe tbody tr th {\n",
       "        vertical-align: top;\n",
       "    }\n",
       "\n",
       "    .dataframe thead th {\n",
       "        text-align: right;\n",
       "    }\n",
       "</style>\n",
       "<table border=\"1\" class=\"dataframe\">\n",
       "  <thead>\n",
       "    <tr style=\"text-align: right;\">\n",
       "      <th></th>\n",
       "      <th>aaron dismuke fullmetal</th>\n",
       "      <th>aaron schimberg</th>\n",
       "      <th>abare hanagumi</th>\n",
       "      <th>abby trott</th>\n",
       "      <th>abhilash dominic</th>\n",
       "      <th>abu dhabi</th>\n",
       "      <th>adam gibbs</th>\n",
       "      <th>adam lovell</th>\n",
       "      <th>adam mcarthur</th>\n",
       "      <th>adam pearson</th>\n",
       "      <th>...</th>\n",
       "      <th>yuzuru shimazaki ginga tetsudo</th>\n",
       "      <th>zach aguilar</th>\n",
       "      <th>zaraki kenpachi</th>\n",
       "      <th>zeeshan khan</th>\n",
       "      <th>zenitsu agatsuma</th>\n",
       "      <th>zeno robinson</th>\n",
       "      <th>zhang chulan</th>\n",
       "      <th>zhenhua gu</th>\n",
       "      <th>zuzazazazaza rainbow</th>\n",
       "      <th>zyuden sentai kyoryuger</th>\n",
       "    </tr>\n",
       "  </thead>\n",
       "  <tbody>\n",
       "    <tr>\n",
       "      <th>0</th>\n",
       "      <td>0.0</td>\n",
       "      <td>0.0</td>\n",
       "      <td>0.0</td>\n",
       "      <td>0.0</td>\n",
       "      <td>0.0</td>\n",
       "      <td>0.0</td>\n",
       "      <td>0.0</td>\n",
       "      <td>0.0</td>\n",
       "      <td>0.0</td>\n",
       "      <td>0.0</td>\n",
       "      <td>...</td>\n",
       "      <td>0.0</td>\n",
       "      <td>0.0</td>\n",
       "      <td>0.0</td>\n",
       "      <td>0.0</td>\n",
       "      <td>0.0</td>\n",
       "      <td>0.0</td>\n",
       "      <td>0.0</td>\n",
       "      <td>0.0</td>\n",
       "      <td>0.0</td>\n",
       "      <td>0.0</td>\n",
       "    </tr>\n",
       "    <tr>\n",
       "      <th>1</th>\n",
       "      <td>0.0</td>\n",
       "      <td>0.0</td>\n",
       "      <td>0.0</td>\n",
       "      <td>0.0</td>\n",
       "      <td>0.0</td>\n",
       "      <td>0.0</td>\n",
       "      <td>0.0</td>\n",
       "      <td>0.0</td>\n",
       "      <td>0.0</td>\n",
       "      <td>0.0</td>\n",
       "      <td>...</td>\n",
       "      <td>0.0</td>\n",
       "      <td>0.0</td>\n",
       "      <td>0.0</td>\n",
       "      <td>0.0</td>\n",
       "      <td>0.0</td>\n",
       "      <td>0.0</td>\n",
       "      <td>0.0</td>\n",
       "      <td>0.0</td>\n",
       "      <td>0.0</td>\n",
       "      <td>0.0</td>\n",
       "    </tr>\n",
       "  </tbody>\n",
       "</table>\n",
       "<p>2 rows × 1571 columns</p>\n",
       "</div>"
      ],
      "text/plain": [
       "   aaron dismuke fullmetal  aaron schimberg  abare hanagumi  abby trott  \\\n",
       "0                      0.0              0.0             0.0         0.0   \n",
       "1                      0.0              0.0             0.0         0.0   \n",
       "\n",
       "   abhilash dominic  abu dhabi  adam gibbs  adam lovell  adam mcarthur  \\\n",
       "0               0.0        0.0         0.0          0.0            0.0   \n",
       "1               0.0        0.0         0.0          0.0            0.0   \n",
       "\n",
       "   adam pearson  ...  yuzuru shimazaki ginga tetsudo  zach aguilar  \\\n",
       "0           0.0  ...                             0.0           0.0   \n",
       "1           0.0  ...                             0.0           0.0   \n",
       "\n",
       "   zaraki kenpachi  zeeshan khan  zenitsu agatsuma  zeno robinson  \\\n",
       "0              0.0           0.0               0.0            0.0   \n",
       "1              0.0           0.0               0.0            0.0   \n",
       "\n",
       "   zhang chulan  zhenhua gu  zuzazazazaza rainbow  zyuden sentai kyoryuger  \n",
       "0           0.0         0.0                   0.0                      0.0  \n",
       "1           0.0         0.0                   0.0                      0.0  \n",
       "\n",
       "[2 rows x 1571 columns]"
      ]
     },
     "execution_count": 8,
     "metadata": {},
     "output_type": "execute_result"
    }
   ],
   "source": [
    "# gkg.vectorize_field() # default weighting is 'uniform'\n",
    "gkg.vectorize_field(weight='weighted') # logaritmic weighting\n",
    "# gkg.vectorized_df.columns = gkg.tokenize_field(col_idx=2) # resets columns to uncleaned field names\n",
    "gkg.vectorized_df.head(2)\n",
    "# print(gkg.vectorized_df.shape)"
   ]
  },
  {
   "cell_type": "code",
   "execution_count": 9,
   "metadata": {},
   "outputs": [
    {
     "name": "stdout",
     "output_type": "stream",
     "text": [
      "Top 10 Tokens by Non-Zero Percentage\n",
      "                Non-Zero Percentage\n",
      "eiichiro oda               8.732394\n",
      "akira toriyama             5.352113\n",
      "saka mikami                3.943662\n",
      "cocoa fujiwara             3.661972\n",
      "ayane sakura               3.380282\n",
      "kaito ishikawa             3.098592\n",
      "izuku midoriya             2.816901\n",
      "kazuya nakai               2.816901\n",
      "nana mizuki                2.253521\n",
      "momo ayase                 2.253521\n",
      "\n",
      "Top 10 Tokens by Mean Weighted Value\n",
      "                      Mean Weighted Value\n",
      "anura kumara                     3.871201\n",
      "zeno robinson                    3.806662\n",
      "yuji kaku                        3.135494\n",
      "mateus manhanini                 3.135494\n",
      "yuji kaku creees lee             2.564949\n",
      "scott snyder                     2.302585\n",
      "nick dragotta                    2.197225\n",
      "azami kurotani                   2.197225\n",
      "julie chung                      2.079442\n",
      "trina nishimura                  2.063567\n"
     ]
    }
   ],
   "source": [
    "### Get Vectorized Field Stats\n",
    "# gkg.get_fields_stats() # get the stats for the vectorized field\n",
    "gkg.get_fields_stats(weight='weighted') # get the stats for the vectorized field"
   ]
  },
  {
   "cell_type": "code",
   "execution_count": 16,
   "metadata": {},
   "outputs": [
    {
     "data": {
      "text/plain": [
       "eiichiro oda      25.188865\n",
       "akira toriyama    20.795544\n",
       "cocoa fujiwara    14.281960\n",
       "saka mikami        9.704061\n",
       "ayane sakura       8.317766\n",
       "dtype: float64"
      ]
     },
     "execution_count": 16,
     "metadata": {},
     "output_type": "execute_result"
    }
   ],
   "source": [
    "gkg.vectorized_df.sum(axis=0).sort_values(ascending=False).head(5)"
   ]
  },
  {
   "cell_type": "code",
   "execution_count": 11,
   "metadata": {},
   "outputs": [
    {
     "data": {
      "text/plain": [
       "2.0794415416798357"
      ]
     },
     "execution_count": 11,
     "metadata": {},
     "output_type": "execute_result"
    }
   ],
   "source": [
    "# get column eiichiro oda with non-zero values\n",
    "eiichiro = gkg.vectorized_df['eiichiro oda'][gkg.vectorized_df['eiichiro oda'] > 0]\n",
    "eiichiro.max()"
   ]
  },
  {
   "cell_type": "code",
   "execution_count": 12,
   "metadata": {},
   "outputs": [
    {
     "data": {
      "text/plain": [
       "['dan da dan first chapters free 2000507810',\n",
       " 'one piece oda reveals legendary god elbaf',\n",
       " 'dandadan anime hideo kojima',\n",
       " 'my hero academia season 7 finale',\n",
       " 'uzumaki anime sound']"
      ]
     },
     "execution_count": 12,
     "metadata": {},
     "output_type": "execute_result"
    }
   ],
   "source": [
    "gkg.parsed_urls[:5]"
   ]
  },
  {
   "cell_type": "code",
   "execution_count": 13,
   "metadata": {},
   "outputs": [
    {
     "data": {
      "text/html": [
       "<div>\n",
       "<style scoped>\n",
       "    .dataframe tbody tr th:only-of-type {\n",
       "        vertical-align: middle;\n",
       "    }\n",
       "\n",
       "    .dataframe tbody tr th {\n",
       "        vertical-align: top;\n",
       "    }\n",
       "\n",
       "    .dataframe thead th {\n",
       "        text-align: right;\n",
       "    }\n",
       "</style>\n",
       "<table border=\"1\" class=\"dataframe\">\n",
       "  <thead>\n",
       "    <tr style=\"text-align: right;\">\n",
       "      <th></th>\n",
       "      <th>aaron dismuke fullmetal</th>\n",
       "      <th>aaron schimberg</th>\n",
       "      <th>abare hanagumi</th>\n",
       "      <th>abby trott</th>\n",
       "      <th>abhilash dominic</th>\n",
       "      <th>abu dhabi</th>\n",
       "      <th>adam gibbs</th>\n",
       "      <th>adam lovell</th>\n",
       "      <th>adam mcarthur</th>\n",
       "      <th>adam pearson</th>\n",
       "      <th>...</th>\n",
       "      <th>yuzuru shimazaki ginga tetsudo</th>\n",
       "      <th>zach aguilar</th>\n",
       "      <th>zaraki kenpachi</th>\n",
       "      <th>zeeshan khan</th>\n",
       "      <th>zenitsu agatsuma</th>\n",
       "      <th>zeno robinson</th>\n",
       "      <th>zhang chulan</th>\n",
       "      <th>zhenhua gu</th>\n",
       "      <th>zuzazazazaza rainbow</th>\n",
       "      <th>zyuden sentai kyoryuger</th>\n",
       "    </tr>\n",
       "  </thead>\n",
       "  <tbody>\n",
       "    <tr>\n",
       "      <th>dan da dan first chapters free 2000507810</th>\n",
       "      <td>0.0</td>\n",
       "      <td>0.0</td>\n",
       "      <td>0.0</td>\n",
       "      <td>0.0</td>\n",
       "      <td>0.0</td>\n",
       "      <td>0.0</td>\n",
       "      <td>0.0</td>\n",
       "      <td>0.0</td>\n",
       "      <td>0.0</td>\n",
       "      <td>0.0</td>\n",
       "      <td>...</td>\n",
       "      <td>0.0</td>\n",
       "      <td>0.0</td>\n",
       "      <td>0.0</td>\n",
       "      <td>0.0</td>\n",
       "      <td>0.0</td>\n",
       "      <td>0.0</td>\n",
       "      <td>0.0</td>\n",
       "      <td>0.0</td>\n",
       "      <td>0.0</td>\n",
       "      <td>0.0</td>\n",
       "    </tr>\n",
       "    <tr>\n",
       "      <th>one piece oda reveals legendary god elbaf</th>\n",
       "      <td>0.0</td>\n",
       "      <td>0.0</td>\n",
       "      <td>0.0</td>\n",
       "      <td>0.0</td>\n",
       "      <td>0.0</td>\n",
       "      <td>0.0</td>\n",
       "      <td>0.0</td>\n",
       "      <td>0.0</td>\n",
       "      <td>0.0</td>\n",
       "      <td>0.0</td>\n",
       "      <td>...</td>\n",
       "      <td>0.0</td>\n",
       "      <td>0.0</td>\n",
       "      <td>0.0</td>\n",
       "      <td>0.0</td>\n",
       "      <td>0.0</td>\n",
       "      <td>0.0</td>\n",
       "      <td>0.0</td>\n",
       "      <td>0.0</td>\n",
       "      <td>0.0</td>\n",
       "      <td>0.0</td>\n",
       "    </tr>\n",
       "  </tbody>\n",
       "</table>\n",
       "<p>2 rows × 1571 columns</p>\n",
       "</div>"
      ],
      "text/plain": [
       "                                           aaron dismuke fullmetal  \\\n",
       "dan da dan first chapters free 2000507810                      0.0   \n",
       "one piece oda reveals legendary god elbaf                      0.0   \n",
       "\n",
       "                                           aaron schimberg  abare hanagumi  \\\n",
       "dan da dan first chapters free 2000507810              0.0             0.0   \n",
       "one piece oda reveals legendary god elbaf              0.0             0.0   \n",
       "\n",
       "                                           abby trott  abhilash dominic  \\\n",
       "dan da dan first chapters free 2000507810         0.0               0.0   \n",
       "one piece oda reveals legendary god elbaf         0.0               0.0   \n",
       "\n",
       "                                           abu dhabi  adam gibbs  adam lovell  \\\n",
       "dan da dan first chapters free 2000507810        0.0         0.0          0.0   \n",
       "one piece oda reveals legendary god elbaf        0.0         0.0          0.0   \n",
       "\n",
       "                                           adam mcarthur  adam pearson  ...  \\\n",
       "dan da dan first chapters free 2000507810            0.0           0.0  ...   \n",
       "one piece oda reveals legendary god elbaf            0.0           0.0  ...   \n",
       "\n",
       "                                           yuzuru shimazaki ginga tetsudo  \\\n",
       "dan da dan first chapters free 2000507810                             0.0   \n",
       "one piece oda reveals legendary god elbaf                             0.0   \n",
       "\n",
       "                                           zach aguilar  zaraki kenpachi  \\\n",
       "dan da dan first chapters free 2000507810           0.0              0.0   \n",
       "one piece oda reveals legendary god elbaf           0.0              0.0   \n",
       "\n",
       "                                           zeeshan khan  zenitsu agatsuma  \\\n",
       "dan da dan first chapters free 2000507810           0.0               0.0   \n",
       "one piece oda reveals legendary god elbaf           0.0               0.0   \n",
       "\n",
       "                                           zeno robinson  zhang chulan  \\\n",
       "dan da dan first chapters free 2000507810            0.0           0.0   \n",
       "one piece oda reveals legendary god elbaf            0.0           0.0   \n",
       "\n",
       "                                           zhenhua gu  zuzazazazaza rainbow  \\\n",
       "dan da dan first chapters free 2000507810         0.0                   0.0   \n",
       "one piece oda reveals legendary god elbaf         0.0                   0.0   \n",
       "\n",
       "                                           zyuden sentai kyoryuger  \n",
       "dan da dan first chapters free 2000507810                      0.0  \n",
       "one piece oda reveals legendary god elbaf                      0.0  \n",
       "\n",
       "[2 rows x 1571 columns]"
      ]
     },
     "execution_count": 13,
     "metadata": {},
     "output_type": "execute_result"
    }
   ],
   "source": [
    "gkgvf = gkg.vectorized_df.copy()\n",
    "# rename rows with urls\n",
    "gkgvf.index = gkg.parsed_urls\n",
    "gkgvf.head(2)\n"
   ]
  },
  {
   "cell_type": "code",
   "execution_count": null,
   "metadata": {},
   "outputs": [
    {
     "name": "stdout",
     "output_type": "stream",
     "text": [
      "No text bounds set for this URL: https://gizmodo.com/dan-da-dan-first-chapters-free-2000507810\n",
      "No text bounds set for this URL: https://comicbook.com/anime/news/dandadan-anime-hideo-kojima/\n",
      "No text bounds set for this URL: https://comicbook.com/anime/news/my-hero-academia-season-7-finale/\n",
      "No text bounds set for this URL: https://collider.com/uzumaki-anime-sound/\n",
      "No text bounds set for this URL: https://movieweb.com/best-animated-series-based-on-mythology/\n",
      "Error: 403 Client Error: Forbidden for url: https://www.fandompost.com/2024/10/05/yen-press-schedules-1st-april-showers-bring-may-flowers-manga-print-digital-releases-from-roku-sakura/\n",
      "No text bounds set for this URL: https://www.fandompost.com/2024/10/05/yen-press-schedules-1st-april-showers-bring-may-flowers-manga-print-digital-releases-from-roku-sakura/\n",
      "Error: 403 Client Error: Forbidden for url: https://www.fandompost.com/2024/10/05/i-may-be-a-guild-receptionist-anime-debuts-jade-scrade-character-trailer/\n",
      "No text bounds set for this URL: https://www.fandompost.com/2024/10/05/i-may-be-a-guild-receptionist-anime-debuts-jade-scrade-character-trailer/\n",
      "No text bounds set for this URL: https://www.pinkvilla.com/entertainment/anime/my-hero-academia-season-7-finale-makers-share-first-look-all-we-know-so-far-1352217\n",
      "No text bounds set for this URL: https://www.animenewsnetwork.com/news/2024-10-06/mission-yozakura-family-anime-gets-2nd-season/.216398\n",
      "No text bounds set for this URL: https://www.animenewsnetwork.com/news/2024-10-06/vampire-knight-memories-manga-ends-in-11th-volume/.216384\n",
      "No text bounds set for this URL: https://theeagleonline.com.ng/nigeria-begins-crude-oil-products-sale-in-naira/\n",
      "No text bounds set for this URL: https://bleedingcool.com/comics/the-19-panel-page-in-absolute-batman-1-minor-spoilers/\n",
      "No text bounds set for this URL: https://www.thehindu.com/entertainment/movies/the-elusive-samurai-series-review-breathtaking-period-anime-feels-like-a-subversive-successor-to-shogun/article68724426.ece\n",
      "Error: 403 Client Error: Forbidden for url: https://www.channelstv.com/2024/10/06/nigeria-officially-commences-crude-oil-sale-in-naira/\n",
      "No text bounds set for this URL: https://www.channelstv.com/2024/10/06/nigeria-officially-commences-crude-oil-sale-in-naira/\n",
      "No text bounds set for this URL: https://www.pulse.ng/news/local/nigeria-commences-crude-oil-sales-in-naira-to-dangote-other-refineries/bg4cdel\n",
      "No text bounds set for this URL: https://www.dailystar.co.uk/news/world-news/inside-worlds-first-maid-dental-33830422\n",
      "Error: 403 Client Error: Forbidden for url: https://www.fandompost.com/2024/10/06/final-volume-spotlight-adachi-to-shimamura-manga/\n",
      "No text bounds set for this URL: https://www.fandompost.com/2024/10/06/final-volume-spotlight-adachi-to-shimamura-manga/\n",
      "No text bounds set for this URL: https://www.radiotimes.com/tv/fantasy/anime/oshi-no-ko-season-3-confirmed-newsupdate/\n",
      "No text bounds set for this URL: https://leadership.ng/fg-begins-crude-for-naira-sales-scheme-edun/\n",
      "No text bounds set for this URL: https://www.animenewsnetwork.com/bbs/phpBB2/viewtopic.php?t=3202489\n",
      "No text bounds set for this URL: https://www.animenewsnetwork.com/bbs/phpBB2/viewtopic.php?t=3202491\n",
      "No text bounds set for this URL: https://www.animenewsnetwork.com/bbs/phpBB2/viewtopic.php?t=3202490\n",
      "No text bounds set for this URL: https://scroll.in/article/1074072/sunday-book-pick-spring-garden-is-a-sobering-novel-about-what-uninspiring-buildings-do-to-a-city\n",
      "No text bounds set for this URL: https://leadership.ng/fg-begins-crude-for-naira-transactions/\n",
      "No text bounds set for this URL: https://www.destructoid.com/longtime-one-piece-voice-actor-replaced-due-to-health-concerns/\n",
      "No text bounds set for this URL: https://www.destructoid.com/oshi-no-ko-season-3-is-confirmed/\n",
      "Error: 403 Client Error: Forbidden for url: https://www.fandompost.com/2024/10/06/garandou-no-garakuta-tachi-manga-by-kuwana-teiri-itami-announced/\n",
      "No text bounds set for this URL: https://www.fandompost.com/2024/10/06/garandou-no-garakuta-tachi-manga-by-kuwana-teiri-itami-announced/\n",
      "Error: 403 Client Error: Forbidden for url: https://www.fandompost.com/2024/10/06/mission-yozakura-family-tv-anime-getting-2nd-season/\n",
      "No text bounds set for this URL: https://www.fandompost.com/2024/10/06/mission-yozakura-family-tv-anime-getting-2nd-season/\n",
      "Error: 403 Client Error: Forbidden for url: https://www.fandompost.com/2024/10/06/yakuza-fiance-raise-wa-tanin-ga-ii-tv-anime-previews-1st-episode/\n",
      "No text bounds set for this URL: https://www.fandompost.com/2024/10/06/yakuza-fiance-raise-wa-tanin-ga-ii-tv-anime-previews-1st-episode/\n",
      "Error: 403 Client Error: Forbidden for url: https://www.fandompost.com/2024/10/06/dandadan-episode-01-anime-review/\n",
      "No text bounds set for this URL: https://www.fandompost.com/2024/10/06/dandadan-episode-01-anime-review/\n",
      "Error: 403 Client Error: Forbidden for url: https://www.fandompost.com/2024/10/06/manga-plus-adds-bodyguards-for-everyone-one-shot-manga-by-tatsuya-tanimoto/\n",
      "No text bounds set for this URL: https://www.fandompost.com/2024/10/06/manga-plus-adds-bodyguards-for-everyone-one-shot-manga-by-tatsuya-tanimoto/\n",
      "No text bounds set for this URL: https://tribuneonlineng.com/week-brief-tinubu-not-thinking-of-2027-rivers-lg-poll-atikus-rotational-presidency-other-top-news/\n",
      "No text bounds set for this URL: https://www.pinkvilla.com/entertainment/anime/jujutsu-kaisen-my-hero-academia-and-call-of-the-night-manga-ending-ranked-for-2024-1352301\n",
      "No text bounds set for this URL: https://www.animenewsnetwork.com/bbs/phpBB2/viewtopic.php?t=3202495\n",
      "No text bounds set for this URL: https://www.animenewsnetwork.com/press-release/2024-10-06/tokyo-indie-games-summit-opens-indie-game-applications-for-march-2025-kichijoji-event/.216405\n",
      "No text bounds set for this URL: https://www.animenewsnetwork.com/news/2024-10-06/sakamoto-days-manga-goes-on-1-issue-break-due-to-author-health/.216393\n",
      "No text bounds set for this URL: https://www.animenewsnetwork.com/preview-guide/2024/fall/tsumasho/.215493\n",
      "No text bounds set for this URL: https://www.animenewsnetwork.com/news/2024-10-06/the-elusive-samurai-anime-gets-2nd-season/.216392\n",
      "No text bounds set for this URL: https://www.animenewsnetwork.com/bbs/phpBB2/viewtopic.php?t=3202497\n",
      "No text bounds set for this URL: https://www.firstshowing.net/2024/official-trailer-for-live-action-cells-at-work-action-film-from-japan/\n",
      "Error: 403 Client Error: Forbidden for url: https://www.fandompost.com/2024/10/06/toho-reveals-2nd-my-hero-academia-7th-anime-season-dvd-bd-limited-edition-release-artwork/\n",
      "No text bounds set for this URL: https://www.fandompost.com/2024/10/06/toho-reveals-2nd-my-hero-academia-7th-anime-season-dvd-bd-limited-edition-release-artwork/\n",
      "Error: 403 Client Error: Forbidden for url: https://www.fandompost.com/2024/10/06/the-weekly-anime-manga-discussion-post-for-week-of-october-5th-2024/\n",
      "No text bounds set for this URL: https://www.fandompost.com/2024/10/06/the-weekly-anime-manga-discussion-post-for-week-of-october-5th-2024/\n",
      "Error: 403 Client Error: Forbidden for url: https://www.fandompost.com/2024/10/06/you-are-ms-servant-episode-01-anime-review/\n",
      "No text bounds set for this URL: https://www.fandompost.com/2024/10/06/you-are-ms-servant-episode-01-anime-review/\n",
      "No text bounds set for this URL: https://deadline.com/print-article/1236108706/\n",
      "No text bounds set for this URL: https://hyperallergic.com/955834/pioneer-works-reopens-with-shows-on-memory-and-monuments/\n",
      "No text bounds set for this URL: https://deadline.com/2024/10/indie-film-box-office-sam-and-colby-saturday-night-the-substance-1236108706/\n",
      "No text bounds set for this URL: https://www.krcrtv.com/news/local/good-news-rescue-mission-marks-60-years-at-17th-annual-harvest-of-hope-event\n",
      "No text bounds set for this URL: https://comicbook.com/anime/news/abura-dragon-ball-daima-explained/\n",
      "No text bounds set for this URL: https://comicbook.com/anime/news/dragon-ball-daima-demon-realm-dragon-balls-origin/\n",
      "No text bounds set for this URL: https://bleedingcool.com/tv/my-hero-academia-final-season-set-for-2025-teaser-released/\n",
      "Error: 403 Client Error: Forbidden for url: https://www.fandompost.com/2024/10/12/frontier-works-schedules-mysterious-joker-blu-ray-anime-complete-box-set/\n",
      "No text bounds set for this URL: https://www.fandompost.com/2024/10/12/frontier-works-schedules-mysterious-joker-blu-ray-anime-complete-box-set/\n",
      "No text bounds set for this URL: https://comicbook.com/anime/news/one-piece-fan-letter-anime-trailer/\n"
     ]
    },
    {
     "name": "stdout",
     "output_type": "stream",
     "text": [
      "No text bounds set for this URL: https://www.animenewsnetwork.com/bbs/phpBB2/viewtopic.php?t=3202688\n",
      "No text bounds set for this URL: https://www.animenewsnetwork.com/bbs/phpBB2/viewtopic.php?t=3202689\n",
      "No text bounds set for this URL: https://comicbook.com/anime/news/my-hero-academia-anime/\n",
      "No text bounds set for this URL: https://www.animenewsnetwork.com/bbs/phpBB2/viewtopic.php?t=3202687\n",
      "No text bounds set for this URL: https://www.animenewsnetwork.com/news/2024-10-12/live-action-wingman-series-reveals-3-more-cast-members-new-trailer/.216673\n",
      "No text bounds set for this URL: https://www.animenewsnetwork.com/news/2024-10-13/gto-series-gets-new-uchiyamada-spinoff-manga/.216682\n",
      "No text bounds set for this URL: https://www.animenewsnetwork.com/bbs/phpBB2/viewtopic.php?t=3202686\n",
      "No text bounds set for this URL: https://www.tomsguide.com/entertainment/streaming/netflixs-new-ranma-1-2-reboot-brings-back-this-beloved-gender-swapping-classic-anime\n",
      "No text bounds set for this URL: https://www.animenewsnetwork.com/news/2024-10-10/medaka-kuroiwa-is-impervious-to-my-charms-reveals-new-cast-hinaki-yano-anime-january-debut-in-4th-/.216573\n",
      "No text bounds set for this URL: https://www.animenewsnetwork.com/news/2024-10-13/crunchyroll-to-stream-medaka-kuroiwa-is-impervious-to-my-charms-toilet-bound-hanako-kun-2nd-season-/.216687\n",
      "No text bounds set for this URL: https://www.animenewsnetwork.com/news/2024-10-13/soborou-why-the-hell-are-you-here-teacher-manga-ends-on-october-21/.216690\n",
      "No text bounds set for this URL: https://www.premiumtimesng.com/news/more-news/744654-makarfis-son-dies-in-auto-crash-pdp-bot-mourn.html\n",
      "Error: 403 Client Error: Forbidden for url: https://www.fandompost.com/2024/10/13/snake-girl-snake-girl-snake-girl-check-out-this-good-bye-dragon-life-anime-clip/\n",
      "No text bounds set for this URL: https://www.fandompost.com/2024/10/13/snake-girl-snake-girl-snake-girl-check-out-this-good-bye-dragon-life-anime-clip/\n",
      "Error: 403 Client Error: Forbidden for url: https://www.fandompost.com/2024/10/13/wicked-spot-manga-by-sal-jiang-launches/\n",
      "No text bounds set for this URL: https://www.fandompost.com/2024/10/13/wicked-spot-manga-by-sal-jiang-launches/\n",
      "No text bounds set for this URL: https://www.albawaba.com/entertainment/one-piece-anime-go-long-break-1589196\n",
      "No text bounds set for this URL: https://www.nationalaccordnewspaper.com/pdp-bot-console-makarfi-over-sons-death/\n",
      "No text bounds set for this URL: https://www.animenewsnetwork.com/bbs/phpBB2/viewtopic.php?t=3202694\n",
      "No text bounds set for this URL: https://www.animenewsnetwork.com/bbs/phpBB2/viewtopic.php?t=3202696\n",
      "No text bounds set for this URL: https://www.animenewsnetwork.com/bbs/phpBB2/viewtopic.php?t=3202695\n",
      "No text bounds set for this URL: https://www.animenewsnetwork.com/bbs/phpBB2/viewtopic.php?t=3202693\n",
      "No text bounds set for this URL: https://www.hindustantimes.com/entertainment/anime/one-piece-anime-on-hiatus-till-2025-amid-classic-era-revival-with-new-dragon-ball-bleach-series-101728824608908.html\n",
      "No text bounds set for this URL: https://www.animenewsnetwork.com/bbs/phpBB2/viewtopic.php?t=3202692\n",
      "No text bounds set for this URL: https://www.animenewsnetwork.com/news/2024-10-13/one-piece-anime-egghead-arc-resumes-next-april/.216689\n",
      "Error: 403 Client Error: Forbidden for url: https://www.fandompost.com/2024/10/13/spring-storm-and-monster-manga-by-miyuki-mitsubachi-gets-upcoming-hana-to-yume-cover/\n",
      "No text bounds set for this URL: https://www.fandompost.com/2024/10/13/spring-storm-and-monster-manga-by-miyuki-mitsubachi-gets-upcoming-hana-to-yume-cover/\n",
      "No text bounds set for this URL: https://comicbook.com/anime/news/one-piece-anime-major-hiatus/\n"
     ]
    }
   ],
   "source": [
    "gkg.get_all_soup(limit_output=5,verbose=True)\n",
    "# gkg.get_all_soup(limit_output='all')"
   ]
  },
  {
   "cell_type": "code",
   "execution_count": null,
   "metadata": {},
   "outputs": [],
   "source": [
    "asd = gkg.all_soup_data\n",
    "asd.info()\n",
    "# gkg.all_soup_data['Paragraphs'][0]"
   ]
  },
  {
   "cell_type": "code",
   "execution_count": null,
   "metadata": {},
   "outputs": [],
   "source": [
    "asd.to_csv('manga_soup.csv')"
   ]
  },
  {
   "cell_type": "code",
   "execution_count": 16,
   "metadata": {},
   "outputs": [
    {
     "data": {
      "text/plain": [
       "[\"This article contains spoilers from One Piece's Elbaf Arc.\",\n",
       " 'One Piecechapter 1130 proved to be absolutely stunning from start to finish and it is safe to say that this chapter shocked the fans to quite an extent withthe reveal of Loki so early into the arc. Truly, few were expecting Loki to be revealed in such fashion inOne Piecechapter 1130, and at the same time, even fewer individuals were expecting him to be as important as he has proven to be.',\n",
       " 'Loki is perhaps the most powerful giant. His strength might be on par with a Yonko in One Piece.']"
      ]
     },
     "execution_count": 16,
     "metadata": {},
     "output_type": "execute_result"
    }
   ],
   "source": [
    "asd['Paragraphs'][0][:3]"
   ]
  },
  {
   "cell_type": "code",
   "execution_count": 17,
   "metadata": {},
   "outputs": [
    {
     "name": "stdout",
     "output_type": "stream",
     "text": [
      "Paragraph 1: This article contains spoilers from One Piece's Elbaf Arc.\n",
      "Paragraph 2: One Piecechapter 1130 proved to be absolutely stunning from start to finish and it is safe to say that this chapter shocked the fans to quite an extent withthe reveal of Loki so early into the arc. Truly, few were expecting Loki to be revealed in such fashion inOne Piecechapter 1130, and at the same time, even fewer individuals were expecting him to be as important as he has proven to be.\n",
      "Paragraph 3: Loki is perhaps the most powerful giant. His strength might be on par with a Yonko in One Piece.\n",
      "Paragraph 4: In this chapter, fans even got what can be considered to be a buildup of sorts towards a fight between Luffy, who is the Sun God Nika, and Loki, who also believes himself to be the Sun God. It looks like there is going to be a clash of Sun Gods afterOne Piecechapter 1130 and it is certainly going to be one worth watching, provided Loki does break free from his chains.\n",
      "Paragraph 5: Luffy and Loki met for the very first time inOne Piecechapter 1130. This is a meeting that fans have been anticipating since the Elbaf arc began, but few had imagined it to happen so early. As soon as Luffy found his way into the real Elbaf, the story saw him exploring the country. But, while the forest was certainly intriguing enough for Luffy, something that kept bothering him was a very strong presence nearby. This presence was so strong that Luffy's entire body was tingling. This just goes to show how strong Loki truly is. Along with Luffy, both Zoro and Sanji also felt Loki's presence, and at this point, it was clear for the fans to see that Loki was portrayed to be a monster by Oda.\n",
      "Paragraph 6: I'm the Sun God who will destroy this world, Loki! – Loki\n",
      "Paragraph 7: Luffy separated from the crew and went to see Loki by himself, which is where the first meeting finally happened. This was a meeting that fans had waited years for, and finally, the Straw Hat pirate, who is now a Yonko, stood in front ofLoki, the Disgraced Prince of Elbaf. Finally, fans got a proper look at Loki's character design, and it is safe to say that this has to be one of One Piece's very best that Oda has delivered so far. Loki looks quite like a mixture of Kaido, Doflamingo, and Katakuri, and just the character design itself personifies the strength of the highest tier. Loki looks Like an absolute monster, and fans cannot wait to see him in real combat.\n",
      "Paragraph 8: As far as his personality goes, he seems quite brash, but at the same time, prideful, which is expected of a warrior from the land of Elbaf. At the same time, Loki also looks incredibly strong and confident in his abilities, given that he referred to himself as the Sun God, and the one who will destroy the world. Naturally, there is more to Loki than meets the eye, and fans will slowly find out more about him with time.\n",
      "Paragraph 9: The most interesting thing that fans saw inOne Piecechapter 1130 related to Loki was the fact that he called himself the Sun God. As fans know, the Sun God is a deity that is respected and worshiped in Elbaf. In the previous chapter, Road portrayed himself as the Sun God as well. Now, Loki believes himself to be the Sun God. This leads one to believe that in the culture of the Elbaf Giants, there might be a prophecy that the Sun God will eventually come back and calm some sort of disaster by destroying the current world order.\n",
      "Paragraph 10: Do you feel that? I'm getting goosebumps all over my body! – Luffy\n",
      "Paragraph 11: This might lead many individuals to believe that they are the Sun God and the one responsible for calming the impending disaster. Naturally, fans know that neither of the Giants is actually the Sun God. This is simply down to the fact that the Sun God is actually none other than Luffy, the captain of the Straw Hat Pirates and the protagonist of the series. Luffy has the power of the Hito Hito no Mi, Model: Nika, and he has already liberated many countries, just as the Sun God Nika did in the tales and myths. Obviously, there cannot be two Sun Gods, which is why Loki is heavily misinformed and his idea of being the Sun God is certainly not the right one.\n",
      "Paragraph 12: Oda just dropped the updated bounties of two legendary pirates. These two characters are more than worthy of such high bounties.\n",
      "Paragraph 13: For him to declare this to Luffy's face, however, is very interesting. If Loki finds out aboutLuffy being the Sun God, then, there will clearly be a battle between these two. Luffy, of course, does not care about claiming himself as the Sun God. But Loki might take it as a challenge and would want to fight Luffy, especially because Luffy is so strong. This might lead one to believe that Loki would test his skill against the person called the Sun God, and it will surely be more than just impressive.\n",
      "Paragraph 14: The relationship between Loki and Luffy is certainly going to be an interesting one. It is impossible to exactly predict the way it will go. But, at this point in time, it looks like this relationship will start as hostile. But, that doesn't necessarily mean that theywill stay hostile throughout the entirety of Elbaf. Right now, Loki is being called the Disgraced Prince. He's openly called problematic and the entirety of Elbaf is essentially against him; he's painted as a villain. And, at least for a significant period of Elbaf, he might play this role.\n",
      "Paragraph 15: However, when Ragnarok truly does happen and Loki has to prove himself as the Sun God, fans might actually get to see him team up with Luffy against a better or greater foe. This could be the interesting turn in the story that makes Elbaf all the more interesting. For now, however, Loki and Luffy might not get along as well as one would like. Fans might get to see them fight and this battle will likely be interrupted at some point in time.\n",
      "Paragraph 16: For all that to happen, however, Loki has to be freed first. Perhaps,Luffy will go through the trouble of freeing him, and then, fans might see Loki challenging him to a battle. Of course, these exciting developments could happen over the course of the next few weeks, and fans absolutely cannot wait to see what happens next, whenOne Piecedoes return from its long break.\n",
      "Paragraph 17: For now, fans need to keep in mind thatLoki and Luffy are going to be two important figures in the Elbafaround whom the plot is going to revolve quite a bit, and that they are going to change the shape and the future of this country all together.\n",
      "Paragraph 18: One Piece is available to read via Viz Media. The series can be read by the fans officially and for free on the Shonen Jump and theManga Plusapp. The release date for the next chapter of One Piece, One Piece 1130, is set to be October 20, 2024.\n"
     ]
    }
   ],
   "source": [
    "for item in asd['Paragraphs'][0]:\n",
    "    idx = asd['Paragraphs'][0].index(item) + 1\n",
    "    print(f'Paragraph {idx}: {item}')"
   ]
  }
 ],
 "metadata": {
  "kernelspec": {
   "display_name": "base",
   "language": "python",
   "name": "python3"
  },
  "language_info": {
   "codemirror_mode": {
    "name": "ipython",
    "version": 3
   },
   "file_extension": ".py",
   "mimetype": "text/x-python",
   "name": "python",
   "nbconvert_exporter": "python",
   "pygments_lexer": "ipython3",
   "version": "3.12.7"
  }
 },
 "nbformat": 4,
 "nbformat_minor": 2
}
