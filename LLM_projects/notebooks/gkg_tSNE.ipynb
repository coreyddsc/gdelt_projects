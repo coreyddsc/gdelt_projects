{
 "cells": [
  {
   "cell_type": "code",
   "execution_count": 1,
   "metadata": {},
   "outputs": [
    {
     "name": "stdout",
     "output_type": "stream",
     "text": [
      "here\n"
     ]
    }
   ],
   "source": [
    "import gdelt # for gdelt searchs\n",
    "from gkg_tools import * # for gkg searchs\n",
    "# %run \"../gkg_tools.py\" # using magic command run to access the script from the parent directory\n",
    "\n",
    "import pandas as pd\n",
    "from sklearn.feature_extraction.text import TfidfVectorizer\n",
    "from sklearn.manifold import TSNE\n",
    "import matplotlib.pyplot as plt\n",
    "import seaborn as sns\n",
    "\n",
    "\n",
    "import nltk\n",
    "from nltk.tokenize import word_tokenize, sent_tokenize\n",
    "\n",
    "\n",
    "from transformers import pipeline, set_seed\n",
    "import torch\n",
    "\n",
    "# # GPU Timing (using GPU 1) else -1 for CPU\n",
    "device_id = 1 if torch.cuda.is_available() else -1 "
   ]
  },
  {
   "cell_type": "code",
   "execution_count": 2,
   "metadata": {},
   "outputs": [
    {
     "data": {
      "text/plain": [
       "(258, 38)"
      ]
     },
     "execution_count": 2,
     "metadata": {},
     "output_type": "execute_result"
    }
   ],
   "source": [
    "gkg = gkg_operator() # create a gkg operator\n",
    "manga = pd.read_csv('manga_soup_labeled.csv')\n",
    "manga = manga[manga['sourcecommonname'].map(manga['sourcecommonname'].value_counts()) > 5]\n",
    "# manga = manga.iloc[:,1:]\n",
    "gkg.get_gkg(data=manga) # stores in gkg.gkg_query as a dataframe\n",
    "gkg.parse_urls()\n",
    "# gkg.get_gkg(data=OP) # stores in gkg.gkg_query as a dataframe\n",
    "gkg.gkg_query.shape\n"
   ]
  },
  {
   "cell_type": "code",
   "execution_count": 3,
   "metadata": {},
   "outputs": [],
   "source": [
    "# import concurrent.futures\n",
    "# from concurrent.futures import TimeoutError\n",
    "# import pandas as pd\n",
    "# import numpy as np\n",
    "\n",
    "# # List to hold results for each URL\n",
    "# results = []\n",
    "\n",
    "# # Define the maximum time allowed per item\n",
    "# timeout = 10\n",
    "\n",
    "# # Iterate over each URL and fetch titles with a timeout\n",
    "# with concurrent.futures.ThreadPoolExecutor() as executor:\n",
    "#     for url in gkg.urls:\n",
    "#         # Submit the title-fetching task to the executor\n",
    "#         future = executor.submit(gkg.get_title, url, verbose=True)\n",
    "#         try:\n",
    "#             # Wait for the result with a timeout\n",
    "#             title = future.result(timeout=timeout)\n",
    "#             print(gkg.urls.index(url))\n",
    "#             results.append({\"url\": url, \"title\": title})\n",
    "#         except TimeoutError:\n",
    "#             print(f\"Timeout for URL {url}, moving to next item.\")\n",
    "#             # Append URL with a NaN title if it times out\n",
    "#             results.append({\"url\": url, \"title\": np.nan})\n",
    "\n",
    "# # Convert the results list to a DataFrame\n",
    "# df = pd.DataFrame(results)\n",
    "\n",
    "# print(df)\n"
   ]
  },
  {
   "cell_type": "code",
   "execution_count": 4,
   "metadata": {},
   "outputs": [],
   "source": [
    "# # merge df left onto manga by url\n",
    "# merged = pd.merge(manga, df[['url', 'title']], left_on='documentidentifier', right_on='url', how='inner').drop(columns='url')\n",
    "# merged.to_csv('manga_soup.csv')"
   ]
  },
  {
   "cell_type": "code",
   "execution_count": 5,
   "metadata": {},
   "outputs": [
    {
     "name": "stdout",
     "output_type": "stream",
     "text": [
      "No text bounds set for this URL: https://comicbook.com/anime/news/dandadan-anime-hideo-kojima/\n",
      "No text bounds set for this URL: https://comicbook.com/anime/news/my-hero-academia-season-7-finale/\n"
     ]
    }
   ],
   "source": [
    "gkg.get_all_soup(limit_output=5) # get the soup for all the urls in the dataframe\n",
    "# gkg.get_all_soup(limit_output='all')"
   ]
  },
  {
   "cell_type": "code",
   "execution_count": 6,
   "metadata": {},
   "outputs": [
    {
     "data": {
      "text/html": [
       "<div>\n",
       "<style scoped>\n",
       "    .dataframe tbody tr th:only-of-type {\n",
       "        vertical-align: middle;\n",
       "    }\n",
       "\n",
       "    .dataframe tbody tr th {\n",
       "        vertical-align: top;\n",
       "    }\n",
       "\n",
       "    .dataframe thead th {\n",
       "        text-align: right;\n",
       "    }\n",
       "</style>\n",
       "<table border=\"1\" class=\"dataframe\">\n",
       "  <thead>\n",
       "    <tr style=\"text-align: right;\">\n",
       "      <th></th>\n",
       "      <th>URL</th>\n",
       "      <th>Parsed URL</th>\n",
       "      <th>Titles</th>\n",
       "      <th>Headers</th>\n",
       "      <th>Paragraphs</th>\n",
       "    </tr>\n",
       "  </thead>\n",
       "  <tbody>\n",
       "    <tr>\n",
       "      <th>0</th>\n",
       "      <td>https://gamerant.com/one-piece-oda-reveals-leg...</td>\n",
       "      <td>one piece oda reveals legendary god elbaf</td>\n",
       "      <td>One Piece: Oda Reveals A Legendary God From Elbaf</td>\n",
       "      <td>[Game Rant, One Piece: Oda Reveals A Legendary...</td>\n",
       "      <td>[This article contains spoilers from One Piece...</td>\n",
       "    </tr>\n",
       "    <tr>\n",
       "      <th>1</th>\n",
       "      <td>https://comicbook.com/anime/news/dandadan-anim...</td>\n",
       "      <td>dandadan anime hideo kojima</td>\n",
       "      <td>Dandadan Premiere Earns Stamp of Approval From...</td>\n",
       "      <td>[Dandadan Premiere Earns Stamp of Approval Fro...</td>\n",
       "      <td>[Hideo Kojima has shared his praise for Dandad...</td>\n",
       "    </tr>\n",
       "    <tr>\n",
       "      <th>2</th>\n",
       "      <td>https://comicbook.com/anime/news/my-hero-acade...</td>\n",
       "      <td>my hero academia season 7 finale</td>\n",
       "      <td>My Hero Academia Season 7 Shares First Look at...</td>\n",
       "      <td>[My Hero Academia Season 7 Shares First Look a...</td>\n",
       "      <td>[My Hero Academia has shared the first look at...</td>\n",
       "    </tr>\n",
       "    <tr>\n",
       "      <th>3</th>\n",
       "      <td>https://screenrant.com/spy-x-family-hints-jeev...</td>\n",
       "      <td>spy x family hints jeeves related damian easy ...</td>\n",
       "      <td>Spy x Family Has Been Dropping Hints That A Ke...</td>\n",
       "      <td>[Screen Rant, Spy x Family Has Been Dropping H...</td>\n",
       "      <td>[Spy x Familyfeatures a cast of fascinating an...</td>\n",
       "    </tr>\n",
       "    <tr>\n",
       "      <th>4</th>\n",
       "      <td>https://gamerant.com/best-dongua-watch/</td>\n",
       "      <td>best dongua watch</td>\n",
       "      <td>Best Dongua To Watch</td>\n",
       "      <td>[Game Rant, 10 Best Dongua To Watch, Ranked, 1...</td>\n",
       "      <td>[Murim donghua adaptationis a genre that focus...</td>\n",
       "    </tr>\n",
       "  </tbody>\n",
       "</table>\n",
       "</div>"
      ],
      "text/plain": [
       "                                                 URL  \\\n",
       "0  https://gamerant.com/one-piece-oda-reveals-leg...   \n",
       "1  https://comicbook.com/anime/news/dandadan-anim...   \n",
       "2  https://comicbook.com/anime/news/my-hero-acade...   \n",
       "3  https://screenrant.com/spy-x-family-hints-jeev...   \n",
       "4            https://gamerant.com/best-dongua-watch/   \n",
       "\n",
       "                                          Parsed URL  \\\n",
       "0          one piece oda reveals legendary god elbaf   \n",
       "1                        dandadan anime hideo kojima   \n",
       "2                   my hero academia season 7 finale   \n",
       "3  spy x family hints jeeves related damian easy ...   \n",
       "4                                  best dongua watch   \n",
       "\n",
       "                                              Titles  \\\n",
       "0  One Piece: Oda Reveals A Legendary God From Elbaf   \n",
       "1  Dandadan Premiere Earns Stamp of Approval From...   \n",
       "2  My Hero Academia Season 7 Shares First Look at...   \n",
       "3  Spy x Family Has Been Dropping Hints That A Ke...   \n",
       "4                               Best Dongua To Watch   \n",
       "\n",
       "                                             Headers  \\\n",
       "0  [Game Rant, One Piece: Oda Reveals A Legendary...   \n",
       "1  [Dandadan Premiere Earns Stamp of Approval Fro...   \n",
       "2  [My Hero Academia Season 7 Shares First Look a...   \n",
       "3  [Screen Rant, Spy x Family Has Been Dropping H...   \n",
       "4  [Game Rant, 10 Best Dongua To Watch, Ranked, 1...   \n",
       "\n",
       "                                          Paragraphs  \n",
       "0  [This article contains spoilers from One Piece...  \n",
       "1  [Hideo Kojima has shared his praise for Dandad...  \n",
       "2  [My Hero Academia has shared the first look at...  \n",
       "3  [Spy x Familyfeatures a cast of fascinating an...  \n",
       "4  [Murim donghua adaptationis a genre that focus...  "
      ]
     },
     "execution_count": 6,
     "metadata": {},
     "output_type": "execute_result"
    }
   ],
   "source": [
    "gkg.all_soup_data"
   ]
  },
  {
   "cell_type": "code",
   "execution_count": 7,
   "metadata": {},
   "outputs": [],
   "source": [
    "# titles = gkg.all_soup_data['Titles'].tolist()\n",
    "titles = gkg.gkg_query['title'].tolist()\n",
    "# titles = gkg.parsed_urls"
   ]
  },
  {
   "cell_type": "code",
   "execution_count": 8,
   "metadata": {},
   "outputs": [
    {
     "data": {
      "text/html": [
       "<div>\n",
       "<style scoped>\n",
       "    .dataframe tbody tr th:only-of-type {\n",
       "        vertical-align: middle;\n",
       "    }\n",
       "\n",
       "    .dataframe tbody tr th {\n",
       "        vertical-align: top;\n",
       "    }\n",
       "\n",
       "    .dataframe thead th {\n",
       "        text-align: right;\n",
       "    }\n",
       "</style>\n",
       "<table border=\"1\" class=\"dataframe\">\n",
       "  <thead>\n",
       "    <tr style=\"text-align: right;\">\n",
       "      <th></th>\n",
       "      <th>10</th>\n",
       "      <th>100</th>\n",
       "      <th>1121</th>\n",
       "      <th>1128</th>\n",
       "      <th>1131</th>\n",
       "      <th>1132</th>\n",
       "      <th>11th</th>\n",
       "      <th>14</th>\n",
       "      <th>15</th>\n",
       "      <th>19</th>\n",
       "      <th>...</th>\n",
       "      <th>yokai</th>\n",
       "      <th>yoriichi</th>\n",
       "      <th>yoshinaga</th>\n",
       "      <th>young</th>\n",
       "      <th>yozakura</th>\n",
       "      <th>yuki</th>\n",
       "      <th>zeno</th>\n",
       "      <th>zone</th>\n",
       "      <th>zoro</th>\n",
       "      <th>ōgaki</th>\n",
       "    </tr>\n",
       "  </thead>\n",
       "  <tbody>\n",
       "    <tr>\n",
       "      <th>0</th>\n",
       "      <td>0.0</td>\n",
       "      <td>0.0</td>\n",
       "      <td>0.0</td>\n",
       "      <td>0.0</td>\n",
       "      <td>0.0</td>\n",
       "      <td>0.00000</td>\n",
       "      <td>0.0</td>\n",
       "      <td>0.0</td>\n",
       "      <td>0.0</td>\n",
       "      <td>0.0</td>\n",
       "      <td>...</td>\n",
       "      <td>0.0</td>\n",
       "      <td>0.0</td>\n",
       "      <td>0.0</td>\n",
       "      <td>0.0</td>\n",
       "      <td>0.0</td>\n",
       "      <td>0.0</td>\n",
       "      <td>0.0</td>\n",
       "      <td>0.0</td>\n",
       "      <td>0.0</td>\n",
       "      <td>0.0</td>\n",
       "    </tr>\n",
       "    <tr>\n",
       "      <th>1</th>\n",
       "      <td>0.0</td>\n",
       "      <td>0.0</td>\n",
       "      <td>0.0</td>\n",
       "      <td>0.0</td>\n",
       "      <td>0.0</td>\n",
       "      <td>0.00000</td>\n",
       "      <td>0.0</td>\n",
       "      <td>0.0</td>\n",
       "      <td>0.0</td>\n",
       "      <td>0.0</td>\n",
       "      <td>...</td>\n",
       "      <td>0.0</td>\n",
       "      <td>0.0</td>\n",
       "      <td>0.0</td>\n",
       "      <td>0.0</td>\n",
       "      <td>0.0</td>\n",
       "      <td>0.0</td>\n",
       "      <td>0.0</td>\n",
       "      <td>0.0</td>\n",
       "      <td>0.0</td>\n",
       "      <td>0.0</td>\n",
       "    </tr>\n",
       "    <tr>\n",
       "      <th>2</th>\n",
       "      <td>0.0</td>\n",
       "      <td>0.0</td>\n",
       "      <td>0.0</td>\n",
       "      <td>0.0</td>\n",
       "      <td>0.0</td>\n",
       "      <td>0.00000</td>\n",
       "      <td>0.0</td>\n",
       "      <td>0.0</td>\n",
       "      <td>0.0</td>\n",
       "      <td>0.0</td>\n",
       "      <td>...</td>\n",
       "      <td>0.0</td>\n",
       "      <td>0.0</td>\n",
       "      <td>0.0</td>\n",
       "      <td>0.0</td>\n",
       "      <td>0.0</td>\n",
       "      <td>0.0</td>\n",
       "      <td>0.0</td>\n",
       "      <td>0.0</td>\n",
       "      <td>0.0</td>\n",
       "      <td>0.0</td>\n",
       "    </tr>\n",
       "    <tr>\n",
       "      <th>3</th>\n",
       "      <td>0.0</td>\n",
       "      <td>0.0</td>\n",
       "      <td>0.0</td>\n",
       "      <td>0.0</td>\n",
       "      <td>0.0</td>\n",
       "      <td>0.00000</td>\n",
       "      <td>0.0</td>\n",
       "      <td>0.0</td>\n",
       "      <td>0.0</td>\n",
       "      <td>0.0</td>\n",
       "      <td>...</td>\n",
       "      <td>0.0</td>\n",
       "      <td>0.0</td>\n",
       "      <td>0.0</td>\n",
       "      <td>0.0</td>\n",
       "      <td>0.0</td>\n",
       "      <td>0.0</td>\n",
       "      <td>0.0</td>\n",
       "      <td>0.0</td>\n",
       "      <td>0.0</td>\n",
       "      <td>0.0</td>\n",
       "    </tr>\n",
       "    <tr>\n",
       "      <th>4</th>\n",
       "      <td>0.0</td>\n",
       "      <td>0.0</td>\n",
       "      <td>0.0</td>\n",
       "      <td>0.0</td>\n",
       "      <td>0.0</td>\n",
       "      <td>0.00000</td>\n",
       "      <td>0.0</td>\n",
       "      <td>0.0</td>\n",
       "      <td>0.0</td>\n",
       "      <td>0.0</td>\n",
       "      <td>...</td>\n",
       "      <td>0.0</td>\n",
       "      <td>0.0</td>\n",
       "      <td>0.0</td>\n",
       "      <td>0.0</td>\n",
       "      <td>0.0</td>\n",
       "      <td>0.0</td>\n",
       "      <td>0.0</td>\n",
       "      <td>0.0</td>\n",
       "      <td>0.0</td>\n",
       "      <td>0.0</td>\n",
       "    </tr>\n",
       "    <tr>\n",
       "      <th>...</th>\n",
       "      <td>...</td>\n",
       "      <td>...</td>\n",
       "      <td>...</td>\n",
       "      <td>...</td>\n",
       "      <td>...</td>\n",
       "      <td>...</td>\n",
       "      <td>...</td>\n",
       "      <td>...</td>\n",
       "      <td>...</td>\n",
       "      <td>...</td>\n",
       "      <td>...</td>\n",
       "      <td>...</td>\n",
       "      <td>...</td>\n",
       "      <td>...</td>\n",
       "      <td>...</td>\n",
       "      <td>...</td>\n",
       "      <td>...</td>\n",
       "      <td>...</td>\n",
       "      <td>...</td>\n",
       "      <td>...</td>\n",
       "      <td>...</td>\n",
       "    </tr>\n",
       "    <tr>\n",
       "      <th>253</th>\n",
       "      <td>0.0</td>\n",
       "      <td>0.0</td>\n",
       "      <td>0.0</td>\n",
       "      <td>0.0</td>\n",
       "      <td>0.0</td>\n",
       "      <td>0.00000</td>\n",
       "      <td>0.0</td>\n",
       "      <td>0.0</td>\n",
       "      <td>0.0</td>\n",
       "      <td>0.0</td>\n",
       "      <td>...</td>\n",
       "      <td>0.0</td>\n",
       "      <td>0.0</td>\n",
       "      <td>0.0</td>\n",
       "      <td>0.0</td>\n",
       "      <td>0.0</td>\n",
       "      <td>0.0</td>\n",
       "      <td>0.0</td>\n",
       "      <td>0.0</td>\n",
       "      <td>0.0</td>\n",
       "      <td>0.0</td>\n",
       "    </tr>\n",
       "    <tr>\n",
       "      <th>254</th>\n",
       "      <td>0.0</td>\n",
       "      <td>0.0</td>\n",
       "      <td>0.0</td>\n",
       "      <td>0.0</td>\n",
       "      <td>0.0</td>\n",
       "      <td>0.00000</td>\n",
       "      <td>0.0</td>\n",
       "      <td>0.0</td>\n",
       "      <td>0.0</td>\n",
       "      <td>0.0</td>\n",
       "      <td>...</td>\n",
       "      <td>0.0</td>\n",
       "      <td>0.0</td>\n",
       "      <td>0.0</td>\n",
       "      <td>0.0</td>\n",
       "      <td>0.0</td>\n",
       "      <td>0.0</td>\n",
       "      <td>0.0</td>\n",
       "      <td>0.0</td>\n",
       "      <td>0.0</td>\n",
       "      <td>0.0</td>\n",
       "    </tr>\n",
       "    <tr>\n",
       "      <th>255</th>\n",
       "      <td>0.0</td>\n",
       "      <td>0.0</td>\n",
       "      <td>0.0</td>\n",
       "      <td>0.0</td>\n",
       "      <td>0.0</td>\n",
       "      <td>0.00000</td>\n",
       "      <td>0.0</td>\n",
       "      <td>0.0</td>\n",
       "      <td>0.0</td>\n",
       "      <td>0.0</td>\n",
       "      <td>...</td>\n",
       "      <td>0.0</td>\n",
       "      <td>0.0</td>\n",
       "      <td>0.0</td>\n",
       "      <td>0.0</td>\n",
       "      <td>0.0</td>\n",
       "      <td>0.0</td>\n",
       "      <td>0.0</td>\n",
       "      <td>0.0</td>\n",
       "      <td>0.0</td>\n",
       "      <td>0.0</td>\n",
       "    </tr>\n",
       "    <tr>\n",
       "      <th>256</th>\n",
       "      <td>0.0</td>\n",
       "      <td>0.0</td>\n",
       "      <td>0.0</td>\n",
       "      <td>0.0</td>\n",
       "      <td>0.0</td>\n",
       "      <td>0.00000</td>\n",
       "      <td>0.0</td>\n",
       "      <td>0.0</td>\n",
       "      <td>0.0</td>\n",
       "      <td>0.0</td>\n",
       "      <td>...</td>\n",
       "      <td>0.0</td>\n",
       "      <td>0.0</td>\n",
       "      <td>0.0</td>\n",
       "      <td>0.0</td>\n",
       "      <td>0.0</td>\n",
       "      <td>0.0</td>\n",
       "      <td>0.0</td>\n",
       "      <td>0.0</td>\n",
       "      <td>0.0</td>\n",
       "      <td>0.0</td>\n",
       "    </tr>\n",
       "    <tr>\n",
       "      <th>257</th>\n",
       "      <td>0.0</td>\n",
       "      <td>0.0</td>\n",
       "      <td>0.0</td>\n",
       "      <td>0.0</td>\n",
       "      <td>0.0</td>\n",
       "      <td>0.35813</td>\n",
       "      <td>0.0</td>\n",
       "      <td>0.0</td>\n",
       "      <td>0.0</td>\n",
       "      <td>0.0</td>\n",
       "      <td>...</td>\n",
       "      <td>0.0</td>\n",
       "      <td>0.0</td>\n",
       "      <td>0.0</td>\n",
       "      <td>0.0</td>\n",
       "      <td>0.0</td>\n",
       "      <td>0.0</td>\n",
       "      <td>0.0</td>\n",
       "      <td>0.0</td>\n",
       "      <td>0.0</td>\n",
       "      <td>0.0</td>\n",
       "    </tr>\n",
       "  </tbody>\n",
       "</table>\n",
       "<p>258 rows × 785 columns</p>\n",
       "</div>"
      ],
      "text/plain": [
       "      10  100  1121  1128  1131     1132  11th   14   15   19  ...  yokai  \\\n",
       "0    0.0  0.0   0.0   0.0   0.0  0.00000   0.0  0.0  0.0  0.0  ...    0.0   \n",
       "1    0.0  0.0   0.0   0.0   0.0  0.00000   0.0  0.0  0.0  0.0  ...    0.0   \n",
       "2    0.0  0.0   0.0   0.0   0.0  0.00000   0.0  0.0  0.0  0.0  ...    0.0   \n",
       "3    0.0  0.0   0.0   0.0   0.0  0.00000   0.0  0.0  0.0  0.0  ...    0.0   \n",
       "4    0.0  0.0   0.0   0.0   0.0  0.00000   0.0  0.0  0.0  0.0  ...    0.0   \n",
       "..   ...  ...   ...   ...   ...      ...   ...  ...  ...  ...  ...    ...   \n",
       "253  0.0  0.0   0.0   0.0   0.0  0.00000   0.0  0.0  0.0  0.0  ...    0.0   \n",
       "254  0.0  0.0   0.0   0.0   0.0  0.00000   0.0  0.0  0.0  0.0  ...    0.0   \n",
       "255  0.0  0.0   0.0   0.0   0.0  0.00000   0.0  0.0  0.0  0.0  ...    0.0   \n",
       "256  0.0  0.0   0.0   0.0   0.0  0.00000   0.0  0.0  0.0  0.0  ...    0.0   \n",
       "257  0.0  0.0   0.0   0.0   0.0  0.35813   0.0  0.0  0.0  0.0  ...    0.0   \n",
       "\n",
       "     yoriichi  yoshinaga  young  yozakura  yuki  zeno  zone  zoro  ōgaki  \n",
       "0         0.0        0.0    0.0       0.0   0.0   0.0   0.0   0.0    0.0  \n",
       "1         0.0        0.0    0.0       0.0   0.0   0.0   0.0   0.0    0.0  \n",
       "2         0.0        0.0    0.0       0.0   0.0   0.0   0.0   0.0    0.0  \n",
       "3         0.0        0.0    0.0       0.0   0.0   0.0   0.0   0.0    0.0  \n",
       "4         0.0        0.0    0.0       0.0   0.0   0.0   0.0   0.0    0.0  \n",
       "..        ...        ...    ...       ...   ...   ...   ...   ...    ...  \n",
       "253       0.0        0.0    0.0       0.0   0.0   0.0   0.0   0.0    0.0  \n",
       "254       0.0        0.0    0.0       0.0   0.0   0.0   0.0   0.0    0.0  \n",
       "255       0.0        0.0    0.0       0.0   0.0   0.0   0.0   0.0    0.0  \n",
       "256       0.0        0.0    0.0       0.0   0.0   0.0   0.0   0.0    0.0  \n",
       "257       0.0        0.0    0.0       0.0   0.0   0.0   0.0   0.0    0.0  \n",
       "\n",
       "[258 rows x 785 columns]"
      ]
     },
     "execution_count": 8,
     "metadata": {},
     "output_type": "execute_result"
    }
   ],
   "source": [
    "tv = TfidfVectorizer(stop_words='english')\n",
    "f = tv.fit_transform(titles)\n",
    "tva = pd.DataFrame(f.toarray(),columns=tv.get_feature_names_out())\n",
    "tva"
   ]
  },
  {
   "cell_type": "code",
   "execution_count": 9,
   "metadata": {},
   "outputs": [
    {
     "data": {
      "text/plain": [
       "news       18.232378\n",
       "anime      17.476427\n",
       "piece      10.086910\n",
       "network     9.902907\n",
       "best        8.947961\n",
       "new         6.569507\n",
       "manga       6.359001\n",
       "hero        6.328673\n",
       "forum       6.243988\n",
       "dragon      6.101926\n",
       "dtype: float64"
      ]
     },
     "execution_count": 9,
     "metadata": {},
     "output_type": "execute_result"
    }
   ],
   "source": [
    "# Sort in ascending order\n",
    "sorted_sum = tva.sum(axis=0).sort_values(ascending=False)\n",
    "sorted_sum[:10]"
   ]
  },
  {
   "cell_type": "markdown",
   "metadata": {},
   "source": [
    "## Representing article titles using t-SNE\n",
    "\n",
    "### Using TFidf Vectorizer"
   ]
  },
  {
   "cell_type": "markdown",
   "metadata": {},
   "source": [
    "### Using `v2persons` Field with GKG Tools Vectorizer"
   ]
  },
  {
   "cell_type": "code",
   "execution_count": 10,
   "metadata": {},
   "outputs": [
    {
     "data": {
      "text/html": [
       "<div>\n",
       "<style scoped>\n",
       "    .dataframe tbody tr th:only-of-type {\n",
       "        vertical-align: middle;\n",
       "    }\n",
       "\n",
       "    .dataframe tbody tr th {\n",
       "        vertical-align: top;\n",
       "    }\n",
       "\n",
       "    .dataframe thead th {\n",
       "        text-align: right;\n",
       "    }\n",
       "</style>\n",
       "<table border=\"1\" class=\"dataframe\">\n",
       "  <thead>\n",
       "    <tr style=\"text-align: right;\">\n",
       "      <th></th>\n",
       "      <th>index</th>\n",
       "      <th>allnames_0</th>\n",
       "      <th>allnames_1</th>\n",
       "    </tr>\n",
       "  </thead>\n",
       "  <tbody>\n",
       "    <tr>\n",
       "      <th>0</th>\n",
       "      <td>0</td>\n",
       "      <td>Sun God Nika</td>\n",
       "      <td>47</td>\n",
       "    </tr>\n",
       "    <tr>\n",
       "      <th>1</th>\n",
       "      <td>0</td>\n",
       "      <td>Sun God</td>\n",
       "      <td>133</td>\n",
       "    </tr>\n",
       "    <tr>\n",
       "      <th>2</th>\n",
       "      <td>0</td>\n",
       "      <td>Elbaf Arc</td>\n",
       "      <td>351</td>\n",
       "    </tr>\n",
       "    <tr>\n",
       "      <th>3</th>\n",
       "      <td>0</td>\n",
       "      <td>One Piece</td>\n",
       "      <td>700</td>\n",
       "    </tr>\n",
       "    <tr>\n",
       "      <th>4</th>\n",
       "      <td>0</td>\n",
       "      <td>Sun God</td>\n",
       "      <td>918</td>\n",
       "    </tr>\n",
       "    <tr>\n",
       "      <th>...</th>\n",
       "      <td>...</td>\n",
       "      <td>...</td>\n",
       "      <td>...</td>\n",
       "    </tr>\n",
       "    <tr>\n",
       "      <th>5423</th>\n",
       "      <td>257</td>\n",
       "      <td>One Piece</td>\n",
       "      <td>7244</td>\n",
       "    </tr>\n",
       "    <tr>\n",
       "      <th>5424</th>\n",
       "      <td>257</td>\n",
       "      <td>Shonen Jump</td>\n",
       "      <td>7394</td>\n",
       "    </tr>\n",
       "    <tr>\n",
       "      <th>5425</th>\n",
       "      <td>257</td>\n",
       "      <td>Manga Plus</td>\n",
       "      <td>7413</td>\n",
       "    </tr>\n",
       "    <tr>\n",
       "      <th>5426</th>\n",
       "      <td>257</td>\n",
       "      <td>One Piece</td>\n",
       "      <td>7471</td>\n",
       "    </tr>\n",
       "    <tr>\n",
       "      <th>5427</th>\n",
       "      <td>257</td>\n",
       "      <td>One Piece</td>\n",
       "      <td>7486</td>\n",
       "    </tr>\n",
       "  </tbody>\n",
       "</table>\n",
       "<p>5428 rows × 3 columns</p>\n",
       "</div>"
      ],
      "text/plain": [
       "      index    allnames_0 allnames_1\n",
       "0         0  Sun God Nika         47\n",
       "1         0       Sun God        133\n",
       "2         0     Elbaf Arc        351\n",
       "3         0     One Piece        700\n",
       "4         0       Sun God        918\n",
       "...     ...           ...        ...\n",
       "5423    257     One Piece       7244\n",
       "5424    257   Shonen Jump       7394\n",
       "5425    257    Manga Plus       7413\n",
       "5426    257     One Piece       7471\n",
       "5427    257     One Piece       7486\n",
       "\n",
       "[5428 rows x 3 columns]"
      ]
     },
     "execution_count": 10,
     "metadata": {},
     "output_type": "execute_result"
    }
   ],
   "source": [
    "# gkg.parse_gkg_field('v2persons')\n",
    "# gkg.parse_gkg_field('persons')\n",
    "gkg.parse_gkg_field('allnames')\n",
    "# gkg.parse_gkg_field('organizations')\n",
    "# gkg.parse_gkg_field('v2themes')\n",
    "# gkg.parse_gkg_field('amounts')\n",
    "# gkg.parse_gkg_field('v2tone')"
   ]
  },
  {
   "cell_type": "code",
   "execution_count": 11,
   "metadata": {},
   "outputs": [
    {
     "name": "stderr",
     "output_type": "stream",
     "text": [
      "c:\\Users\\Corey Dearing\\Desktop\\gdelt\\LLM_projects\\gkg_tools.py:140: FutureWarning: errors='ignore' is deprecated and will raise in a future version. Use to_numeric without passing `errors` and catch exceptions explicitly instead\n",
      "  df = df.apply(pd.to_numeric, errors='ignore')\n",
      "c:\\Users\\Corey Dearing\\Desktop\\gdelt\\LLM_projects\\gkg_tools.py:167: FutureWarning: DataFrame.applymap has been deprecated. Use DataFrame.map instead.\n",
      "  aligned_tokens = aligned_tokens.applymap(get_weight)  # Apply weighting function to each token count\n"
     ]
    },
    {
     "data": {
      "text/plain": [
       "array([[0., 0., 0., ..., 0., 0., 0.],\n",
       "       [0., 0., 0., ..., 0., 0., 0.],\n",
       "       [0., 0., 0., ..., 0., 0., 0.],\n",
       "       ...,\n",
       "       [0., 0., 0., ..., 0., 0., 0.],\n",
       "       [0., 0., 0., ..., 0., 0., 0.],\n",
       "       [0., 0., 0., ..., 0., 0., 0.]])"
      ]
     },
     "execution_count": 11,
     "metadata": {},
     "output_type": "execute_result"
    }
   ],
   "source": [
    "gkg.vectorize_field(weight='weighted')\n",
    "gkgvf_arr = gkg.vectorized_df.copy()\n",
    "gkgvf_arr.values"
   ]
  },
  {
   "cell_type": "code",
   "execution_count": 12,
   "metadata": {},
   "outputs": [
    {
     "name": "stderr",
     "output_type": "stream",
     "text": [
      "c:\\ProgramData\\anaconda3\\Lib\\site-packages\\sklearn\\manifold\\_t_sne.py:1162: FutureWarning: 'n_iter' was renamed to 'max_iter' in version 1.5 and will be removed in 1.7.\n",
      "  warnings.warn(\n"
     ]
    },
    {
     "data": {
      "image/png": "[encoded data removed]",
      "text/plain": [
       "<Figure size 1000x700 with 1 Axes>"
      ]
     },
     "metadata": {},
     "output_type": "display_data"
    }
   ],
   "source": [
    "# titles: List of article titles\n",
    "# tfidf_matrix: TF-IDF matrix used as input for t-SNE\n",
    "# labels: List of labels for each article\n",
    "labels = gkg.gkg_query['label']\n",
    "# Step 2: Use t-SNE to reduce dimensions\n",
    "tsne_model = TSNE(n_components=2, perplexity=30, random_state=42, n_iter=1000)\n",
    "# tsne_results = tsne_model.fit_transform(tfidf_matrix.toarray())\n",
    "tsne_results = tsne_model.fit_transform(gkgvf_arr.values)\n",
    "\n",
    "# Step 3: Create a DataFrame for the t-SNE results\n",
    "tsne_df = pd.DataFrame(tsne_results, columns=['TSNE1', 'TSNE2'])\n",
    "tsne_df['Title'] = titles  # Optionally add titles as a label\n",
    "tsne_df['Label'] = labels  # Add labels as a new column\n",
    "\n",
    "# Step 4: Visualize with seaborn, using 'Label' as the hue to color by labels\n",
    "plt.figure(figsize=(10, 7))\n",
    "sns.scatterplot(x='TSNE1', y='TSNE2', hue='Label', data=tsne_df, s=50)\n",
    "plt.title(\"t-SNE Clustering of Article Titles by GKG Persons Field (Weighted)\")\n",
    "plt.xlabel(\"t-SNE Dimension 1\")\n",
    "plt.ylabel(\"t-SNE Dimension 2\")\n",
    "plt.legend(title='Zero-Shot Labels', bbox_to_anchor=(1.05, 1), loc='upper left')\n",
    "plt.show()\n"
   ]
  },
  {
   "cell_type": "code",
   "execution_count": 13,
   "metadata": {},
   "outputs": [
    {
     "name": "stderr",
     "output_type": "stream",
     "text": [
      "c:\\ProgramData\\anaconda3\\Lib\\site-packages\\sklearn\\manifold\\_t_sne.py:1162: FutureWarning: 'n_iter' was renamed to 'max_iter' in version 1.5 and will be removed in 1.7.\n",
      "  warnings.warn(\n"
     ]
    },
    {
     "data": {
      "application/vnd.plotly.v1+json": {
       "config": {
        "plotlyServerURL": "https://plot.ly"
       },
       "data": [
        {
         "hovertemplate": "<b>%{hovertext}</b><br><br>t-SNE Dimension 1=%{x}<br>t-SNE Dimension 2=%{y}<extra></extra>",
         "hovertext": [
          "One Piece: Oda Reveals A Legendary God From Elbaf",
          "Dandadan Premiere Earns Stamp of Approval From Hideo Kojima - ComicBook.com",
          "My Hero Academia Season 7 Shares First Look at Finale - ComicBook.com",
          "Spy x Family Has Been Dropping Hints That A Key Character Is Related To Damian, But It's Easy To Miss",
          "Best Dongua To Watch",
          "Best Dongua To Watch",
          "Best Dongua To Watch",
          "Mission: Yozakura Family Anime Gets 2nd Season - News - Anime News Network",
          "Vampire Knight: Memories Manga Ends in 11th Volume - News - Anime News Network",
          "The 19-Panel Page In Absolute Batman #1 (Minor Spoilers)",
          "The 19-Panel Page In Absolute Batman #1 (Minor Spoilers)",
          "\"Nah, I'd Win\": Jujutsu Kaisen's Finale Revealed the True Meaning of Gojo's Most Famous Words",
          "NEWS: Vampire Knight: Memories Manga Ends in 11th Volume - Forum - Anime News Network",
          "NEWS: Fairy Tail: 100 Years Quest Anime Casts Nana Mizuki - Forum - Anime News Network",
          "NEWS: Oshi no Ko Anime Gets 3rd Season, Reveals More Cast [1/2] - Forum - Anime News Network",
          "Dragon Ball Super Was A Great Anime... But Its Return Will Be The Best Dragon Ball's Been Since the End Of Z",
          "Legendary Evangelion Director Will Return With the Remake of an Iconic Sci-Fi Anime",
          "Shonen Jump's Biggest Anime of the Summer Is Already Confirmed For a New Season",
          "Shonen Jump's Biggest Anime of the Summer Is Already Confirmed For a New Season",
          "Shonen Jump's Biggest Anime of the Summer Is Already Confirmed For a New Season",
          "Shonen Jump's Biggest Anime of the Summer Is Already Confirmed For a New Season",
          "Shonen Jump's Biggest Anime of the Summer Is Already Confirmed For a New Season",
          "Shonen Jump's Biggest Anime of the Summer Is Already Confirmed For a New Season",
          "Dandadan: Acrobatic Silky's Power and Abilities, Explained",
          "BLEACH: Who is Kazui Kurosaki? ",
          "Hunter X Hunter's Biggest Plot Twist Yet Makes One Character The Main Antagonist",
          "REVIEW: Dungeon People Anime Series Review - Forum - Anime News Network",
          "Tokyo Indie Games Summit Opens Indie Game Applications for March 2025 Kichijoji Event - Anime News Network",
          "JoJo's Bizarre Adventure: Who's the Strongest Joestar?",
          "Sakamoto Days Manga Goes on 1-Issue Break Due to Author's Health - News - Anime News Network",
          "TsumaSho - The Fall 2024 Anime Preview Guide - Anime News Network",
          "The Elusive Samurai Anime Gets 2nd Season - News - Anime News Network",
          "NEWS: The Elusive Samurai Anime Gets 2nd Season [1/2] - Forum - Anime News Network",
          "My Hero Academia: A Smile Worth Saving",
          "One Piece Chapter 1128: The Sun God Makes An Appearance",
          "One Piece Chapter 1128: The Sun God Makes An Appearance",
          "One Piece Chapter 1128: The Sun God Makes An Appearance",
          "One Piece Chapter 1128: The Sun God Makes An Appearance",
          "Oshi no Ko Season 3 Officially Announced",
          "Naruto's Entire Uchiha Family Tree, Explained",
          "Who Is Abura? Dragon Ball's Ancient Demon King Explained - ComicBook.com",
          "Dragon Ball Just Revealed the Secret Twist Behind the Dragon Balls - ComicBook.com",
          "One Piece: Oda Reveals Sanji's Improved Mastery Over Ifrit Jambe",
          "My Hero Academia Final Season Set for 2025; Teaser Released",
          "My Hero Academia Final Season Set for 2025; Teaser Released",
          "One Piece Fan Letter Anime Shares First Look Trailer - ComicBook.com",
          "NEWS: Rumiko Takahashi's Manga Top 230 Million Copies in Circulation Worldwide - Forum - Anime News Network",
          "INTEREST: Anime World Offers Condolences After Voice Actor Nobuyo Oyama's Passing, Part I - Forum - Anime News Network",
          "My Hero Academia Season 7 Really Saved the Anime - ComicBook.com",
          "NEWS: Live-Action Wingman Series Reveals 3 More Cast Members, New Trailer - Forum - Anime News Network",
          "Live-Action Wingman Series Reveals 3 More Cast Members, New Trailer - News - Anime News Network",
          "GTO Series Gets New Uchiyamada Spinoff Manga - News - Anime News Network",
          "NEWS: Sonic Wings/Aero Fighters Shooting Game Franchise Develops 1st New Game in 26 Years - Forum - Anime News Network",
          "Medaka Kuroiwa is Impervious to My Charms Reveals New Cast Hinaki Yano, Anime's January Debut in 4th Character Video (Updated) - News - Anime News Network",
          "Crunchyroll to Stream Medaka Kuroiwa is Impervious to My Charms, Toilet-Bound Hanako-kun 2nd Season, More in January - News - Anime News Network",
          "Soborou's 'Why the Hell are You Here, Teacher!?' Manga Ends on October 21 - News - Anime News Network",
          "Soborou's 'Why the Hell are You Here, Teacher!?' Manga Ends on October 21 - News - Anime News Network",
          "Soborou's 'Why the Hell are You Here, Teacher!?' Manga Ends on October 21 - News - Anime News Network",
          "One Piece Fans Get Devastating News With Anime Hiatus Announcement",
          "Hotly Anticipated Shonen Jump Anime Has One Of The Most Exciting Anime Romances In Years, & It's Not Close",
          "NEWS: Macross 7 Anime Gets New Audio Drama Launching on Wednesday - Forum - Anime News Network",
          "NEWS: Wind Breaker Season 2 Reveals Game, More Cast & Staff, April Debut in Videos - Forum - Anime News Network",
          "NEWS: GTO Series Gets New Uchiyamada Spinoff Manga - Forum - Anime News Network",
          "NEWS: Soborou's 'Why the Hell are You Here, Teacher!?' Manga Ends on October 21 - Forum - Anime News Network",
          "NEWS: Lockdown Zone: Level X 'Light Anime' Gets 2nd Season - Forum - Anime News Network",
          "One Piece Anime's Egghead Arc Resumes Next April - News - Anime News Network",
          "The Real Reason That One-Punch Man S-Class Hero Changed His Name Is Actually Hilarious, But Western Fans Missed It",
          "The Real Reason That One-Punch Man S-Class Hero Changed His Name Is Actually Hilarious, But Western Fans Missed It",
          "One Piece Anime Announces Historic Hiatus - ComicBook.com",
          "The Best Japanese Martial Arts Movies",
          "Incredible Isekai Puts The Best Twist On The Evil Overlord Trope The Genre Has Seen In Years",
          "Incredible Isekai Puts The Best Twist On The Evil Overlord Trope The Genre Has Seen In Years",
          "Incredible Isekai Puts The Best Twist On The Evil Overlord Trope The Genre Has Seen In Years",
          "Incredible Isekai Puts The Best Twist On The Evil Overlord Trope The Genre Has Seen In Years",
          "Incredible Isekai Puts The Best Twist On The Evil Overlord Trope The Genre Has Seen In Years",
          "Jujutsu Kaisen's Cursed Energy Explained: Why All Sorcerers Are In Japan & Why It Makes The Series Revolutionary",
          "Akira Toriyama's Swan Song Dragon Ball Daima Has Arrived",
          "JoJo's Bizarre Adventure Jotaro Cosplay Is Nothing Short Of Jaw Dropping In Incredible Shoot",
          "My Hero Academia: How Has Shirakumo's Death Affected Aizawa?",
          "10 Smartest JoJo’s Bizarre Adventure Characters",
          "JoJo's Bizarre Adventure Summary, Trailer, Cast, and More",
          "Toei Animation Provides Major One Piece Update Detailing Series Hiatus, Special Content - Anime News Network",
          "Boruto: Two Blue Vortex's Strongest Power Has An Unexpected Effect That Could Change The Series",
          "NEWS: Crunchyroll to Stream Medaka Kuroiwa is Impervious to My Charms, Toilet-Bound Hanako-kun 2nd S - Forum - Anime News Network",
          "Red Cat Ramen Anime Series Review - Review - Anime News Network",
          "Dandadan: Turbo Granny's Powers and Abilities, Explained",
          "Dandadan: Turbo Granny's Powers and Abilities, Explained",
          "Dandadan: Turbo Granny's Powers and Abilities, Explained",
          "Dandadan: Turbo Granny's Powers and Abilities, Explained",
          "My Hero Academia's Weakest Hero Is Actually Responsible For Defeating All for One",
          "One Piece Episode 1121 Reveals Garp's Outrageous Bounty",
          "One Piece Episode 1121 Reveals Garp's Outrageous Bounty",
          "One Piece Episode 1121 Reveals Garp's Outrageous Bounty",
          "The Next One Piece Episode Will Reveal The Winner Of Garp Vs. Kuzan",
          "Dan Da Dan: Okarun’s Turbo Granny Powers Explained",
          "One Piece: Why Zoro Could Open His Left Eye In Elbaf",
          "One Piece Anime To Go On Break Till 2025",
          "Jujutsu Kaisen's Gojo Vs. Demon Slayer's Yoriichi: Which Hero Truly Embodies The Concept Of Strongest Better?",
          "One Piece Fan Letter: 25th Anniversary Anime Work Set for Netflix",
          "One Piece: Oda Reveals The Real Identity Of Elbaf's Sun God",
          "REVIEW: Red Cat Ramen Anime Series Review - Forum - Anime News Network",
          "One Piece Orders Special Anime Remake for Fish-Man Island Arc - ComicBook.com",
          "Dragon Ball's Demon Realm Is Bigger Than Ever Expected - ComicBook.com",
          "Rooster Fighter Anime Announces Cast Members - News - Anime News Network",
          "Rooster Fighter Anime Announces Cast Members - News - Anime News Network",
          "Rooster Fighter Anime Announces Cast Members - News - Anime News Network",
          "Rooster Fighter Anime Announces Cast Members - News - Anime News Network",
          "Dragon Ball's Stephanie Naldony Breaks Silence on Returning to Goku After Nearly 15 Years - ComicBook.com",
          "Dan Da Dan Episode #4 Release Date & Time",
          "Dr. Stone Science Future Trailer Teases the Final Season's Debut: Watch -",
          "Dragon Ball Daima Is Ready to Put Some Respect on Gohan's Name - ComicBook.com",
          "Dragon Ball Daima Honors Late Creator Akira Toriyama With New Easter Egg: Watch - ComicBook.com",
          "One Piece: Sun God Loki Vs Sun God Nika, Explained",
          "Uzumaki's Azami Kurotani Comes To Life In Terrifying New Cosplay",
          "Uzumaki's Azami Kurotani Comes To Life In Terrifying New Cosplay",
          "Pirates Who Are Animals In One Piece:",
          "Viz Media Releases Akira Himekawa's Kamudo Manga Simultaneously in English - News - Anime News Network",
          "Hideaki Anno Reflects on Space Battleship Yamato Before Launching New Anime - Interest - Anime News Network",
          "Dragon Ball Daima Reunites Goku With One of His Strongest Weapons",
          "Yen Press Adds 3 Manga, Announces Release of Collector's Edition of Spice & Wolf Manga - News - Anime News Network",
          "Galaxy Express 999 Another Story: Ultimate Journey Manga Resumes After 2 Years - News - Anime News Network",
          "My Hero Academia's Trina Nishimura, Zeno Robinson, and Jessie Grelle Interview",
          "Fights That Are Better In The Bleach Anime",
          "Fights That Are Better In The Bleach Anime",
          "Dragon Ball DAIMA Introduces A Big Shenron Retcon That Changes His Relationship With Goku Forever",
          "Dragon Ball DAIMA Introduces A Big Shenron Retcon That Changes His Relationship With Goku Forever",
          "The Too-Perfect Saint: Tossed Aside by My Fiancé and Sold To Another Kingdom Novels Get 2025 TV Anime - News - Anime News Network",
          "NEWS: Goblin Slayer Author Kumo Kagyu's Blade & Bastard Light Novels Get Anime [1/2] - Forum - Anime News Network",
          "Goblin Slayer Author Kumo Kagyu's Blade & Bastard Light Novels Get Anime - News - Anime News Network",
          "Kujira Tokiwa's The Holy Grail of Eris Light Novels Gets Anime - News - Anime News Network",
          "I'm the Evil Lord of an Intergalactic Empire! Light Novels Get TV Anime Next April - News - Anime News Network",
          "BLEACH: The Structure of the Realms, Explained",
          "Incredible New My Hero Academia Deku & Bakugo Cosplay Is Nothing Short Of Staggering",
          "This Villainess Manhwa Was One of the Best of the Genre Until It Ruined Its Story",
          "This Villainess Manhwa Was One of the Best of the Genre Until It Ruined Its Story",
          "This Villainess Manhwa Was One of the Best of the Genre Until It Ruined Its Story",
          "This Villainess Manhwa Was One of the Best of the Genre Until It Ruined Its Story",
          "This Villainess Manhwa Was One of the Best of the Genre Until It Ruined Its Story",
          "This Villainess Manhwa Was One of the Best of the Genre Until It Ruined Its Story",
          "This Villainess Manhwa Was One of the Best of the Genre Until It Ruined Its Story",
          "One Piece: Fan Letter May Be the Anime's Best Episode Ever - ComicBook.com",
          "A Huge Twist in Jujutsu Kaisen's Ending Was Foreshadowed All the Way Back in the First Movie",
          "The Beginning After the End, a Top Webtoon, Is Getting an Anime",
          "The Beginning After the End, a Top Webtoon, Is Getting an Anime",
          "One Piece Manga Takes 2-Week Break So Creator Can Do Research - News - Anime News Network",
          "Kodansha to Publish Young Magazine USA Special Issue in August 2025 - News - Anime News Network",
          "Attack on Titan: Gabi’s Journey from Hated to Understood",
          "Dragon Ball Daima's Massive Namekian Revelation Was Foreshadowed Years In Advanced ",
          "Dandadan: Who are the Serpoians?",
          "New Jujutsu Kaisen Gojo Cosplay Brings Shonen's Most Iconic Mentor To Life With Anime-Accurate Look",
          "New Jujutsu Kaisen Gojo Cosplay Brings Shonen's Most Iconic Mentor To Life With Anime-Accurate Look",
          "One Piece: Oda Announces Two Major Projects During The Manga Break",
          "Naruto's Last Battle Is Actually a Genius Callback to Kishimoto's Original Idea for the Manga",
          "The Beginning After the End: Web Comic Gets Anime Adapt in 2025",
          "One Piece 1131: What To Expect From The Chapter",
          "One Piece Clip Shares First Look at Fish-Man Island Remake",
          "Dragon Ball Daima's Worst Wish Isn't Bad for Everybody",
          "Dan Da Dan Anime Makes A Small Change That Is A Big Improvement Over One Early Fight",
          "One Piece: Zoro's Post-Elbaf Power, Explained",
          "INTEREST: Magic: The Gathering Teases Final Fantasy Set - Forum - Anime News Network",
          "INTEREST: Magic: The Gathering Teases Final Fantasy Set - Forum - Anime News Network",
          "Bleach: Thousand-Year Blood War Just Gave Uryu a Brand-New Form",
          "Bleach: Thousand-Year Blood War Just Gave Uryu a Brand-New Form",
          "INTEREST: Venom Collaborates Again With Birth of Kitaro, Brave Bang Bravern! - Forum - Anime News Network",
          "NEWS: Kazuma Kawamura, Yuki Tanaka Perform Themes for I Left My A-Rank Party TV Anime - Forum - Anime News Network",
          "NEWS: Crazy Food Truck Manga Creator Rokurou Ōgaki Launches New Manga on November 1 - Forum - Anime News Network",
          "NEWS: Japan's Video Game Rankings, October 14-20 [2024-10-26] - Forum - Anime News Network",
          "Jujutsu Kaisen Doesn't Need a Sequel Anytime Soon",
          "Dragon Ball Z’s Second-Strongest Villain Is Still Alive in Super, But Most Fans Missed It",
          "Phases of the Moon Knight #3 Preview: Avatar Eclipse Alert",
          "\"Thanks To My Master\" - Boruto: Two Blue Vortex Continues One Of The Franchise's Best And Most Important Themes",
          "NEWS: Crunchyroll States it is Investigating Situation After Voice Actor Claims Company Opened His M [1/4] - Forum - Anime News Network",
          "NEWS: Idolm@ster Cinderella Girls U149 Manga Ends on November 9 - Forum - Anime News Network",
          "NEWS: Toshinori Sogabe's Yankee JK Kuzuhana-chan Gets Spinoff Manga - Forum - Anime News Network",
          "Dan Da Dan Officially Confirms It's Jujutsu Kaisen's True Successor By Revisiting The Hit Shonen's Big Theme",
          "NEWS: Report: Japan's Online Video Industry to Grow to 45% of Total Screen Revenue by 2029 - Forum - Anime News Network",
          "NEWS: Report: Japan's Online Video Industry to Grow to 45% of Total Screen Revenue by 2029 - Forum - Anime News Network",
          "NEWS: Report: Japan's Online Video Industry to Grow to 45% of Total Screen Revenue by 2029 - Forum - Anime News Network",
          "Even As A Non-Horror Fan, There's One Horrific Anime I Think Is An Absolute Masterpiece",
          "My Hero Academia: What In the World Happened to Izuku's Dad? - ComicBook.com",
          "My Hero Academia: What In the World Happened to Izuku's Dad? - ComicBook.com",
          "Demon Slayer: What if Muzan Had Never Killed the Kamado Family?",
          "Cute Venom x Anime Collaboration Art Drops Just in Time for the Movie Release",
          "Every Naruto Form Ranked From Weakest To Strongest",
          "10 Most Hateable Anime Characters Of All Time, Ranked",
          "Maki Minami's 'Hisureba, Hana' Manga Ends in December - News - Anime News Network",
          "Ayuko, Fumi Yoshinaga, More Launch New Manga in Cocohana Magazine - News - Anime News Network",
          "NEWS: Guilty Gear Strive Game Streams DLC Character Trailer for Queen Dizzy - Forum - Anime News Network",
          "NEWS: Ayuko, Fumi Yoshinaga, More Launch New Manga in Cocohana Magazine - Forum - Anime News Network",
          "NEWS: MAGES. Unveils Steins;Gate Re:Boot Game Slated for 2025 [1/2] - Forum - Anime News Network",
          "NEWS: Cute High Earth Defense Club Eternal Love! Anime Film Reveals More Returning Cast, Theme Song, - Forum - Anime News Network",
          "NEWS: Cute High Earth Defense Club Eternal Love! Anime Film Reveals More Returning Cast, Theme Song, - Forum - Anime News Network",
          "Attack On Titan's Controversial Time Skip Is Secretly Genius for One Reason I Can't Stop Thinking About",
          "One Piece: Why Luffy Will Destroy The World, Explained",
          "Ultraman: Rising Director Divulges Details About the Film's Sequel",
          "Who Are the World's Wealthiest Manga Creators?",
          "Ranma 1/2 E01: Here's Ranma & E02: I Hate Men Honor Original: Review",
          "10 Best Fruits Basket Fan Ships That Never Came True",
          "10 Best Fruits Basket Fan Ships That Never Came True",
          "One Piece: Why Loki Must Have A Logia Type Devil Fruit",
          "Fruits Basket's Famous Love Triangle Was Actually More Complicated Than Fans Think Because Of One Overlooked Character",
          "Fruits Basket's Famous Love Triangle Was Actually More Complicated Than Fans Think Because Of One Overlooked Character",
          "Fruits Basket's Famous Love Triangle Was Actually More Complicated Than Fans Think Because Of One Overlooked Character",
          "Fruits Basket's Famous Love Triangle Was Actually More Complicated Than Fans Think Because Of One Overlooked Character",
          "Fruits Basket's Famous Love Triangle Was Actually More Complicated Than Fans Think Because Of One Overlooked Character",
          "Fruits Basket's Famous Love Triangle Was Actually More Complicated Than Fans Think Because Of One Overlooked Character",
          "Bleach: Uryuu Receives One of the Best Anime Additions Yet",
          "Fall's Best Anime Shows Are Dominating Netflix Ratings",
          "Fall's Best Anime Shows Are Dominating Netflix Ratings",
          "Fall's Best Anime Shows Are Dominating Netflix Ratings",
          "Fall's Best Anime Shows Are Dominating Netflix Ratings",
          "Fall's Best Anime Shows Are Dominating Netflix Ratings",
          "10 Best Single Season Romance Anime",
          "Bleach: Uryuu's Vollstandig, Explained",
          "One Of The Best Romance Anime Of All Time Is An Underrated Masterpiece, But There's One Thing Holding It Back From Being Huge",
          "Who Is That Cat In Dan Da Dan's Opening & Closing? The Series' Mysterious Yokai Mascot Explained",
          "One Piece: Why Rocks D. Xebec May Be the Series' Most Important Character",
          "Attack on Titan: The Last Attack Will A New Post-Credit Scene",
          "My Hero Academia You’re Next Is Just One Big Homage",
          "My Hero Academia You’re Next Is Just One Big Homage",
          "One Piece's Creator Confirms The True Nature Of Luffy's Gear 5 Power, & It's So Much More Bizarre Than Fans Thought",
          "Kaiju No. 8's Kafka Springs to Life In Impressive New Cosplay",
          "Dragon Ball Daima Confirms It's a Love Letter To Akira Toriyama and GT With a Subtle Homage",
          "Latest Vivre Card Confirms One Major Detail About Koby's Haki",
          "My Hero Academia Still Has One Dangling Plot Thread After The Finale That Was A Major Missed Opportunity",
          "10 Jujutsu Kaisen Characters That Deserve Their Own Spin-Off",
          "After Years of Waiting, Bleach Just Brought Back Its Best Arrancar",
          "One Piece: Oda Reveals New Cross Guild Bounties",
          "Dragon Ball Daima’s First Real Fight Is a Major Change for the Franchise for One Subtle, Yet Huge, Reason",
          "Dragon Ball Daima’s First Real Fight Is a Major Change for the Franchise for One Subtle, Yet Huge, Reason",
          "Dragon Ball Daima’s First Real Fight Is a Major Change for the Franchise for One Subtle, Yet Huge, Reason",
          "One Piece: Loki's Connection To Shanks, Explained",
          "Sorry Chainsaw Man & Spy x Family, But 2022’s Most Important Anime Was A Sleeper Hit No One Expected To Get As Big As It Did",
          "One Piece: Oda Plans For A Major Reunion In Elbaf",
          "One Piece 1132: What To Expect From The Chapter",
          "One Piece 1132: What To Expect From The Chapter",
          "One Piece 1132: What To Expect From The Chapter",
          "One Piece 1132: What To Expect From The Chapter",
          "One Piece 1132: What To Expect From The Chapter",
          "10 Best Thorfinn Quotes In Vinland Saga That Prove Just How Deep The Series Is",
          "The Best Manga With Ghost Protagonists",
          "The Best Manga With Ghost Protagonists",
          "Solo Leveling's Sequel Highlights a MAJOR Problem in the Manhwa Industry",
          "Dragon Ball Daima Has A Prime Opportunity To Connect To Super's Next Big Frieza Saga Through A Powerful Forgotten Artifact",
          "Boruto: Two Blue Vortex Has Been Dropping Hints That One Major Character Has Been Living A Lie The Whole Time",
          "The Apothecary Diaries’ Successor Is a Beautiful New Manga That Gives Greek Mythology a Shojo Twist",
          "New Oshi no Ko Novel Announced ",
          "Deku Might Be My Hero Academia's Main Character, But The Series' True Hero Is Another Character",
          "Deku Might Be My Hero Academia's Main Character, But The Series' True Hero Is Another Character",
          "Deku Might Be My Hero Academia's Main Character, But The Series' True Hero Is Another Character",
          "If You Love Netflix's Sweet Home, You Need to Check Out the Terrifying Manwha That Inspired It",
          "Dragon Ball Daima’s Fights Are a Huge Change for the Franchise, & I for One, Am Absolutely Loving It",
          "Dragon Ball Daima’s Fights Are a Huge Change for the Franchise, & I for One, Am Absolutely Loving It",
          "Dragon Ball Daima’s Fights Are a Huge Change for the Franchise, & I for One, Am Absolutely Loving It",
          "Dragon Ball Daima’s Fights Are a Huge Change for the Franchise, & I for One, Am Absolutely Loving It",
          "Dragon Ball DAIMA is Fast Losing Steam",
          "Dan Da Dan's Unique Trait is the Real Reason The Fall's Biggest Anime Will SuvriveMuch  Longer Than Other Shonen",
          "One Piece Chapter 1132: Loki And Luffy Strike A Deal"
         ],
         "legendgroup": "",
         "marker": {
          "color": "#636efa",
          "symbol": "circle"
         },
         "mode": "markers",
         "name": "",
         "orientation": "v",
         "showlegend": false,
         "type": "scatter",
         "x": [
          33.066898345947266,
          2.6609995365142822,
          -77.7089614868164,
          -15.245353698730469,
          -16.056190490722656,
          20.4346866607666,
          -61.987491607666016,
          12.199703216552734,
          17.92098045349121,
          54.18672180175781,
          -39.61838150024414,
          -15.07430648803711,
          1.913278341293335,
          1.913278341293335,
          1.913278341293335,
          79.52957916259766,
          -147.3806610107422,
          -47.223297119140625,
          9.799639701843262,
          -2.927445888519287,
          -29.516254425048828,
          39.57764434814453,
          -3.211873769760132,
          -79.34272766113281,
          5.39031457901001,
          -25.89865493774414,
          -22.34629249572754,
          1.913278341293335,
          -23.05486488342285,
          -36.71694564819336,
          -2.4252376556396484,
          -16.306049346923828,
          1.913278341293335,
          -68.0123519897461,
          23.737558364868164,
          -46.71709060668945,
          -54.36848068237305,
          -45.03653335571289,
          17.66640281677246,
          -8.187769889831543,
          133.1359405517578,
          127.59320831298828,
          88.67650604248047,
          -94.61162567138672,
          101.07807922363281,
          83.51738739013672,
          -100.70446014404297,
          -108.38086700439453,
          -86.2147445678711,
          -115.142822265625,
          -59.122703552246094,
          -10.363533020019531,
          -104.2680892944336,
          -115.142822265625,
          -89.31836700439453,
          -14.215113639831543,
          -64.5328369140625,
          7.718404769897461,
          74.13856506347656,
          40.46059036254883,
          -115.142822265625,
          -115.142822265625,
          -115.142822265625,
          -115.142822265625,
          -115.142822265625,
          97.5313720703125,
          -35.18902587890625,
          -21.58415985107422,
          108.8929443359375,
          -10.532912254333496,
          -58.06538391113281,
          -16.818819046020508,
          -3.9836952686309814,
          -79.8821029663086,
          -80.41603088378906,
          -23.225004196166992,
          109.11866760253906,
          -37.99201965332031,
          -109.00978088378906,
          -45.1617317199707,
          -29.29789161682129,
          -115.142822265625,
          -73.05313873291016,
          -115.36475372314453,
          18.398826599121094,
          -91.60261535644531,
          -54.36848068237305,
          -88.98483276367188,
          81.83597564697266,
          -77.50491333007812,
          45.06890106201172,
          -41.689144134521484,
          30.885419845581055,
          41.56709671020508,
          39.82160186767578,
          79.30508422851562,
          79.10385131835938,
          24.038532257080078,
          -64.57353973388672,
          28.830778121948242,
          -126.68169403076172,
          78.73600769042969,
          130.38491821289062,
          28.59168243408203,
          46.852638244628906,
          31.996501922607422,
          0.6990100145339966,
          111.91802978515625,
          47.66957473754883,
          -74.84910583496094,
          93.54279327392578,
          122.17282104492188,
          38.90836715698242,
          45.458255767822266,
          20.4346866607666,
          95.37329864501953,
          -38.892601013183594,
          -146.18019104003906,
          143.5620574951172,
          44.211360931396484,
          -48.324214935302734,
          -66.89407348632812,
          -117.40835571289062,
          5.5949907302856445,
          142.86590576171875,
          -41.689144134521484,
          33.79001998901367,
          -59.42608642578125,
          32.68697738647461,
          -64.65217590332031,
          -49.63811492919922,
          -128.42279052734375,
          -78.629150390625,
          73.07380676269531,
          -41.689144134521484,
          -3.211873769760132,
          -52.10478973388672,
          -28.012561798095703,
          40.6708984375,
          -52.87820816040039,
          91.7347412109375,
          -15.04487133026123,
          -129.69932556152344,
          -54.36848068237305,
          88.00151824951172,
          17.241003036499023,
          60.937015533447266,
          110.386474609375,
          -0.06243305653333664,
          -11.6084566116333,
          41.04317855834961,
          50.888980865478516,
          -95.29320526123047,
          -135.9724578857422,
          38.783077239990234,
          80.48392486572266,
          143.95729064941406,
          57.4499397277832,
          70.04907989501953,
          -18.705615997314453,
          52.774436950683594,
          -111.34855651855469,
          -38.455284118652344,
          -18.705615997314453,
          -18.705615997314453,
          -18.705615997314453,
          -18.705615997314453,
          24.705026626586914,
          103.45695495605469,
          -64.38766479492188,
          -74.98075866699219,
          -18.705615997314453,
          -18.705615997314453,
          -18.705615997314453,
          56.862449645996094,
          -18.705615997314453,
          -34.2197265625,
          -8.307286262512207,
          -3.8576972484588623,
          -90.65669250488281,
          -46.98912811279297,
          17.66640281677246,
          84.48429870605469,
          -31.971073150634766,
          -90.69477844238281,
          -18.705615997314453,
          21.990257263183594,
          -18.705615997314453,
          -18.705615997314453,
          -18.705615997314453,
          -18.705615997314453,
          -54.36848068237305,
          2.9903368949890137,
          66.46060180664062,
          -24.542964935302734,
          27.87836456298828,
          7.910876274108887,
          -37.521690368652344,
          2.7635421752929688,
          31.58778953552246,
          -33.9398193359375,
          7.718404769897461,
          7.718404769897461,
          63.0189094543457,
          39.06442642211914,
          9.332159996032715,
          -118.45116424560547,
          94.80493927001953,
          1.8195080757141113,
          7.718404769897461,
          -14.132734298706055,
          69.24755096435547,
          -55.89917755126953,
          -109.02057647705078,
          54.628543853759766,
          48.82095718383789,
          62.41407012939453,
          39.81454849243164,
          -94.20746612548828,
          21.73857879638672,
          93.50465393066406,
          -3.9836952686309814,
          122.99089813232422,
          42.3560905456543,
          -105.6783218383789,
          -4.455319404602051,
          -121.81644439697266,
          40.6867561340332,
          132.56784057617188,
          -31.971073150634766,
          -54.36848068237305,
          63.13380813598633,
          -96.42550659179688,
          69.62992095947266,
          65.74172973632812,
          -94.53070831298828,
          -18.148597717285156,
          -71.35077667236328,
          7.718404769897461,
          34.31097412109375,
          64.66753387451172,
          50.36027145385742,
          23.748151779174805,
          87.42185974121094,
          -85.79717254638672,
          55.14783477783203,
          17.960926055908203,
          -76.29814910888672,
          -30.00135612487793,
          59.188602447509766,
          10.214986801147461,
          126.68675994873047,
          -3.9836952686309814,
          -64.93255615234375,
          -8.307286262512207,
          118.49211883544922,
          48.8233757019043,
          72.13449096679688
         ],
         "xaxis": "x",
         "y": [
          -116.73978424072266,
          83.71417236328125,
          124.9219970703125,
          -45.47698974609375,
          -77.19723510742188,
          -4.803442478179932,
          47.00629425048828,
          53.744354248046875,
          20.3243465423584,
          0.5102346539497375,
          -36.43724060058594,
          133.4696044921875,
          43.00553512573242,
          43.00553512573242,
          43.00553512573242,
          43.8975944519043,
          22.008243560791016,
          79.07989501953125,
          -12.332404136657715,
          57.303810119628906,
          -48.99460220336914,
          72.40507507324219,
          13.114579200744629,
          9.744507789611816,
          101.7139892578125,
          -90.73250579833984,
          36.72201919555664,
          43.00553512573242,
          60.920230865478516,
          41.58161926269531,
          2.5286800861358643,
          47.43003463745117,
          43.00553512573242,
          127.30606842041016,
          -122.90702056884766,
          -50.831180572509766,
          -86.00411224365234,
          21.604734420776367,
          -35.2973518371582,
          -103.14898681640625,
          26.29778289794922,
          12.26833724975586,
          -93.60594940185547,
          104.15119934082031,
          -13.61881160736084,
          88.77365112304688,
          -97.64019012451172,
          -108.17798614501953,
          125.05462646484375,
          -95.8329086303711,
          -9.278058052062988,
          71.26353454589844,
          -86.13121032714844,
          -95.8329086303711,
          52.40216827392578,
          89.5345458984375,
          62.198970794677734,
          5.732062339782715,
          -66.61365509033203,
          113.54747009277344,
          -95.8329086303711,
          -95.8329086303711,
          -95.8329086303711,
          -95.8329086303711,
          -95.8329086303711,
          -58.146854400634766,
          -63.741424560546875,
          24.757633209228516,
          -84.8602294921875,
          -32.09476852416992,
          27.94363784790039,
          -62.573265075683594,
          -16.89418601989746,
          45.48552322387695,
          60.036705017089844,
          135.82081604003906,
          59.66339111328125,
          57.6020622253418,
          77.30084228515625,
          62.353458404541016,
          53.173316955566406,
          -95.8329086303711,
          26.686542510986328,
          -81.29364013671875,
          35.70390319824219,
          5.659988880157471,
          -86.00411224365234,
          -59.071407318115234,
          -16.288188934326172,
          103.35350799560547,
          -68.14207458496094,
          -6.332657814025879,
          -26.423320770263672,
          -60.622859954833984,
          136.0660400390625,
          -95.08610534667969,
          -62.70594024658203,
          96.14336395263672,
          -23.38945770263672,
          -128.32664489746094,
          -87.76505279541016,
          -50.090660095214844,
          19.995214462280273,
          29.609777450561523,
          89.39334869384766,
          -13.986982345581055,
          -5.078627586364746,
          24.18645477294922,
          144.32803344726562,
          -36.456119537353516,
          35.197540283203125,
          30.640945434570312,
          -119.91815185546875,
          -28.572402954101562,
          -4.803442478179932,
          -109.43612670898438,
          10.075878143310547,
          28.832643508911133,
          22.57069969177246,
          13.086159706115723,
          -23.225269317626953,
          97.2557373046875,
          11.866474151611328,
          -27.343584060668945,
          38.211456298828125,
          -6.332657814025879,
          1.7804160118103027,
          13.487129211425781,
          16.582763671875,
          5.752939224243164,
          36.65105438232422,
          -7.941022872924805,
          94.23118591308594,
          23.891878128051758,
          -6.332657814025879,
          13.114579200744629,
          6.784679889678955,
          76.84574890136719,
          23.3579158782959,
          -125.26966857910156,
          -73.63417053222656,
          140.2970428466797,
          -38.658870697021484,
          -86.00411224365234,
          -56.5557975769043,
          -19.293317794799805,
          13.609461784362793,
          37.31047058105469,
          -39.58653259277344,
          114.3050308227539,
          -4.230323791503906,
          -95.7985610961914,
          -15.990992546081543,
          -37.67048263549805,
          -104.59327697753906,
          -74.38460540771484,
          13.587477684020996,
          141.17941284179688,
          -91.35779571533203,
          0.05316669121384621,
          -47.101417541503906,
          2.0636117458343506,
          -130.54742431640625,
          0.05316669121384621,
          0.05316669121384621,
          0.05316669121384621,
          0.05316669121384621,
          62.416194915771484,
          67.843994140625,
          -53.1276741027832,
          -8.677721977233887,
          0.05316669121384621,
          0.05316669121384621,
          0.05316669121384621,
          131.40736389160156,
          0.05316669121384621,
          29.298564910888672,
          28.25181007385254,
          -53.897274017333984,
          93.06983184814453,
          -126.92869567871094,
          -35.2973518371582,
          7.427751064300537,
          -21.48429298400879,
          26.140390396118164,
          0.05316669121384621,
          78.70191955566406,
          0.05316669121384621,
          0.05316669121384621,
          0.05316669121384621,
          0.05316669121384621,
          -86.00411224365234,
          -86.08086395263672,
          -58.60246276855469,
          -34.82204055786133,
          45.14055252075195,
          69.00782775878906,
          105.14556884765625,
          19.74873924255371,
          -98.13754272460938,
          96.46825408935547,
          5.732062339782715,
          5.732062339782715,
          75.1015396118164,
          54.51585388183594,
          27.533611297607422,
          41.105247497558594,
          45.80135726928711,
          -67.88648986816406,
          5.732062339782715,
          17.523672103881836,
          -2.694643497467041,
          -37.05330276489258,
          37.5910530090332,
          59.32678985595703,
          135.97694396972656,
          -72.79643249511719,
          -152.6787109375,
          83.97508239746094,
          9.601530075073242,
          -43.596588134765625,
          -16.89418601989746,
          38.27702713012695,
          38.80356979370117,
          98.60160827636719,
          140.60537719726562,
          -1.504534363746643,
          -76.28790283203125,
          51.35109329223633,
          -21.48429298400879,
          -86.00411224365234,
          -38.65817642211914,
          -34.76348114013672,
          -104.96300506591797,
          -121.58821868896484,
          -56.67161178588867,
          -21.66176414489746,
          52.41754913330078,
          5.732062339782715,
          -41.663822174072266,
          -20.8304443359375,
          -14.848949432373047,
          -55.325469970703125,
          56.204734802246094,
          -16.2037410736084,
          28.658571243286133,
          -72.7752685546875,
          85.07637786865234,
          17.38939666748047,
          43.67715072631836,
          -50.404232025146484,
          63.99322509765625,
          -16.89418601989746,
          -79.48628997802734,
          28.25181007385254,
          56.741615295410156,
          126.3634033203125,
          -117.71613311767578
         ],
         "yaxis": "y"
        }
       ],
       "layout": {
        "legend": {
         "tracegroupgap": 0
        },
        "template": {
         "data": {
          "bar": [
           {
            "error_x": {
             "color": "#2a3f5f"
            },
            "error_y": {
             "color": "#2a3f5f"
            },
            "marker": {
             "line": {
              "color": "#E5ECF6",
              "width": 0.5
             },
             "pattern": {
              "fillmode": "overlay",
              "size": 10,
              "solidity": 0.2
             }
            },
            "type": "bar"
           }
          ],
          "barpolar": [
           {
            "marker": {
             "line": {
              "color": "#E5ECF6",
              "width": 0.5
             },
             "pattern": {
              "fillmode": "overlay",
              "size": 10,
              "solidity": 0.2
             }
            },
            "type": "barpolar"
           }
          ],
          "carpet": [
           {
            "aaxis": {
             "endlinecolor": "#2a3f5f",
             "gridcolor": "white",
             "linecolor": "white",
             "minorgridcolor": "white",
             "startlinecolor": "#2a3f5f"
            },
            "baxis": {
             "endlinecolor": "#2a3f5f",
             "gridcolor": "white",
             "linecolor": "white",
             "minorgridcolor": "white",
             "startlinecolor": "#2a3f5f"
            },
            "type": "carpet"
           }
          ],
          "choropleth": [
           {
            "colorbar": {
             "outlinewidth": 0,
             "ticks": ""
            },
            "type": "choropleth"
           }
          ],
          "contour": [
           {
            "colorbar": {
             "outlinewidth": 0,
             "ticks": ""
            },
            "colorscale": [
             [
              0,
              "#0d0887"
             ],
             [
              0.1111111111111111,
              "#46039f"
             ],
             [
              0.2222222222222222,
              "#7201a8"
             ],
             [
              0.3333333333333333,
              "#9c179e"
             ],
             [
              0.4444444444444444,
              "#bd3786"
             ],
             [
              0.5555555555555556,
              "#d8576b"
             ],
             [
              0.6666666666666666,
              "#ed7953"
             ],
             [
              0.7777777777777778,
              "#fb9f3a"
             ],
             [
              0.8888888888888888,
              "#fdca26"
             ],
             [
              1,
              "#f0f921"
             ]
            ],
            "type": "contour"
           }
          ],
          "contourcarpet": [
           {
            "colorbar": {
             "outlinewidth": 0,
             "ticks": ""
            },
            "type": "contourcarpet"
           }
          ],
          "heatmap": [
           {
            "colorbar": {
             "outlinewidth": 0,
             "ticks": ""
            },
            "colorscale": [
             [
              0,
              "#0d0887"
             ],
             [
              0.1111111111111111,
              "#46039f"
             ],
             [
              0.2222222222222222,
              "#7201a8"
             ],
             [
              0.3333333333333333,
              "#9c179e"
             ],
             [
              0.4444444444444444,
              "#bd3786"
             ],
             [
              0.5555555555555556,
              "#d8576b"
             ],
             [
              0.6666666666666666,
              "#ed7953"
             ],
             [
              0.7777777777777778,
              "#fb9f3a"
             ],
             [
              0.8888888888888888,
              "#fdca26"
             ],
             [
              1,
              "#f0f921"
             ]
            ],
            "type": "heatmap"
           }
          ],
          "heatmapgl": [
           {
            "colorbar": {
             "outlinewidth": 0,
             "ticks": ""
            },
            "colorscale": [
             [
              0,
              "#0d0887"
             ],
             [
              0.1111111111111111,
              "#46039f"
             ],
             [
              0.2222222222222222,
              "#7201a8"
             ],
             [
              0.3333333333333333,
              "#9c179e"
             ],
             [
              0.4444444444444444,
              "#bd3786"
             ],
             [
              0.5555555555555556,
              "#d8576b"
             ],
             [
              0.6666666666666666,
              "#ed7953"
             ],
             [
              0.7777777777777778,
              "#fb9f3a"
             ],
             [
              0.8888888888888888,
              "#fdca26"
             ],
             [
              1,
              "#f0f921"
             ]
            ],
            "type": "heatmapgl"
           }
          ],
          "histogram": [
           {
            "marker": {
             "pattern": {
              "fillmode": "overlay",
              "size": 10,
              "solidity": 0.2
             }
            },
            "type": "histogram"
           }
          ],
          "histogram2d": [
           {
            "colorbar": {
             "outlinewidth": 0,
             "ticks": ""
            },
            "colorscale": [
             [
              0,
              "#0d0887"
             ],
             [
              0.1111111111111111,
              "#46039f"
             ],
             [
              0.2222222222222222,
              "#7201a8"
             ],
             [
              0.3333333333333333,
              "#9c179e"
             ],
             [
              0.4444444444444444,
              "#bd3786"
             ],
             [
              0.5555555555555556,
              "#d8576b"
             ],
             [
              0.6666666666666666,
              "#ed7953"
             ],
             [
              0.7777777777777778,
              "#fb9f3a"
             ],
             [
              0.8888888888888888,
              "#fdca26"
             ],
             [
              1,
              "#f0f921"
             ]
            ],
            "type": "histogram2d"
           }
          ],
          "histogram2dcontour": [
           {
            "colorbar": {
             "outlinewidth": 0,
             "ticks": ""
            },
            "colorscale": [
             [
              0,
              "#0d0887"
             ],
             [
              0.1111111111111111,
              "#46039f"
             ],
             [
              0.2222222222222222,
              "#7201a8"
             ],
             [
              0.3333333333333333,
              "#9c179e"
             ],
             [
              0.4444444444444444,
              "#bd3786"
             ],
             [
              0.5555555555555556,
              "#d8576b"
             ],
             [
              0.6666666666666666,
              "#ed7953"
             ],
             [
              0.7777777777777778,
              "#fb9f3a"
             ],
             [
              0.8888888888888888,
              "#fdca26"
             ],
             [
              1,
              "#f0f921"
             ]
            ],
            "type": "histogram2dcontour"
           }
          ],
          "mesh3d": [
           {
            "colorbar": {
             "outlinewidth": 0,
             "ticks": ""
            },
            "type": "mesh3d"
           }
          ],
          "parcoords": [
           {
            "line": {
             "colorbar": {
              "outlinewidth": 0,
              "ticks": ""
             }
            },
            "type": "parcoords"
           }
          ],
          "pie": [
           {
            "automargin": true,
            "type": "pie"
           }
          ],
          "scatter": [
           {
            "fillpattern": {
             "fillmode": "overlay",
             "size": 10,
             "solidity": 0.2
            },
            "type": "scatter"
           }
          ],
          "scatter3d": [
           {
            "line": {
             "colorbar": {
              "outlinewidth": 0,
              "ticks": ""
             }
            },
            "marker": {
             "colorbar": {
              "outlinewidth": 0,
              "ticks": ""
             }
            },
            "type": "scatter3d"
           }
          ],
          "scattercarpet": [
           {
            "marker": {
             "colorbar": {
              "outlinewidth": 0,
              "ticks": ""
             }
            },
            "type": "scattercarpet"
           }
          ],
          "scattergeo": [
           {
            "marker": {
             "colorbar": {
              "outlinewidth": 0,
              "ticks": ""
             }
            },
            "type": "scattergeo"
           }
          ],
          "scattergl": [
           {
            "marker": {
             "colorbar": {
              "outlinewidth": 0,
              "ticks": ""
             }
            },
            "type": "scattergl"
           }
          ],
          "scattermapbox": [
           {
            "marker": {
             "colorbar": {
              "outlinewidth": 0,
              "ticks": ""
             }
            },
            "type": "scattermapbox"
           }
          ],
          "scatterpolar": [
           {
            "marker": {
             "colorbar": {
              "outlinewidth": 0,
              "ticks": ""
             }
            },
            "type": "scatterpolar"
           }
          ],
          "scatterpolargl": [
           {
            "marker": {
             "colorbar": {
              "outlinewidth": 0,
              "ticks": ""
             }
            },
            "type": "scatterpolargl"
           }
          ],
          "scatterternary": [
           {
            "marker": {
             "colorbar": {
              "outlinewidth": 0,
              "ticks": ""
             }
            },
            "type": "scatterternary"
           }
          ],
          "surface": [
           {
            "colorbar": {
             "outlinewidth": 0,
             "ticks": ""
            },
            "colorscale": [
             [
              0,
              "#0d0887"
             ],
             [
              0.1111111111111111,
              "#46039f"
             ],
             [
              0.2222222222222222,
              "#7201a8"
             ],
             [
              0.3333333333333333,
              "#9c179e"
             ],
             [
              0.4444444444444444,
              "#bd3786"
             ],
             [
              0.5555555555555556,
              "#d8576b"
             ],
             [
              0.6666666666666666,
              "#ed7953"
             ],
             [
              0.7777777777777778,
              "#fb9f3a"
             ],
             [
              0.8888888888888888,
              "#fdca26"
             ],
             [
              1,
              "#f0f921"
             ]
            ],
            "type": "surface"
           }
          ],
          "table": [
           {
            "cells": {
             "fill": {
              "color": "#EBF0F8"
             },
             "line": {
              "color": "white"
             }
            },
            "header": {
             "fill": {
              "color": "#C8D4E3"
             },
             "line": {
              "color": "white"
             }
            },
            "type": "table"
           }
          ]
         },
         "layout": {
          "annotationdefaults": {
           "arrowcolor": "#2a3f5f",
           "arrowhead": 0,
           "arrowwidth": 1
          },
          "autotypenumbers": "strict",
          "coloraxis": {
           "colorbar": {
            "outlinewidth": 0,
            "ticks": ""
           }
          },
          "colorscale": {
           "diverging": [
            [
             0,
             "#8e0152"
            ],
            [
             0.1,
             "#c51b7d"
            ],
            [
             0.2,
             "#de77ae"
            ],
            [
             0.3,
             "#f1b6da"
            ],
            [
             0.4,
             "#fde0ef"
            ],
            [
             0.5,
             "#f7f7f7"
            ],
            [
             0.6,
             "#e6f5d0"
            ],
            [
             0.7,
             "#b8e186"
            ],
            [
             0.8,
             "#7fbc41"
            ],
            [
             0.9,
             "#4d9221"
            ],
            [
             1,
             "#276419"
            ]
           ],
           "sequential": [
            [
             0,
             "#0d0887"
            ],
            [
             0.1111111111111111,
             "#46039f"
            ],
            [
             0.2222222222222222,
             "#7201a8"
            ],
            [
             0.3333333333333333,
             "#9c179e"
            ],
            [
             0.4444444444444444,
             "#bd3786"
            ],
            [
             0.5555555555555556,
             "#d8576b"
            ],
            [
             0.6666666666666666,
             "#ed7953"
            ],
            [
             0.7777777777777778,
             "#fb9f3a"
            ],
            [
             0.8888888888888888,
             "#fdca26"
            ],
            [
             1,
             "#f0f921"
            ]
           ],
           "sequentialminus": [
            [
             0,
             "#0d0887"
            ],
            [
             0.1111111111111111,
             "#46039f"
            ],
            [
             0.2222222222222222,
             "#7201a8"
            ],
            [
             0.3333333333333333,
             "#9c179e"
            ],
            [
             0.4444444444444444,
             "#bd3786"
            ],
            [
             0.5555555555555556,
             "#d8576b"
            ],
            [
             0.6666666666666666,
             "#ed7953"
            ],
            [
             0.7777777777777778,
             "#fb9f3a"
            ],
            [
             0.8888888888888888,
             "#fdca26"
            ],
            [
             1,
             "#f0f921"
            ]
           ]
          },
          "colorway": [
           "#636efa",
           "#EF553B",
           "#00cc96",
           "#ab63fa",
           "#FFA15A",
           "#19d3f3",
           "#FF6692",
           "#B6E880",
           "#FF97FF",
           "#FECB52"
          ],
          "font": {
           "color": "#2a3f5f"
          },
          "geo": {
           "bgcolor": "white",
           "lakecolor": "white",
           "landcolor": "#E5ECF6",
           "showlakes": true,
           "showland": true,
           "subunitcolor": "white"
          },
          "hoverlabel": {
           "align": "left"
          },
          "hovermode": "closest",
          "mapbox": {
           "style": "light"
          },
          "paper_bgcolor": "white",
          "plot_bgcolor": "#E5ECF6",
          "polar": {
           "angularaxis": {
            "gridcolor": "white",
            "linecolor": "white",
            "ticks": ""
           },
           "bgcolor": "#E5ECF6",
           "radialaxis": {
            "gridcolor": "white",
            "linecolor": "white",
            "ticks": ""
           }
          },
          "scene": {
           "xaxis": {
            "backgroundcolor": "#E5ECF6",
            "gridcolor": "white",
            "gridwidth": 2,
            "linecolor": "white",
            "showbackground": true,
            "ticks": "",
            "zerolinecolor": "white"
           },
           "yaxis": {
            "backgroundcolor": "#E5ECF6",
            "gridcolor": "white",
            "gridwidth": 2,
            "linecolor": "white",
            "showbackground": true,
            "ticks": "",
            "zerolinecolor": "white"
           },
           "zaxis": {
            "backgroundcolor": "#E5ECF6",
            "gridcolor": "white",
            "gridwidth": 2,
            "linecolor": "white",
            "showbackground": true,
            "ticks": "",
            "zerolinecolor": "white"
           }
          },
          "shapedefaults": {
           "line": {
            "color": "#2a3f5f"
           }
          },
          "ternary": {
           "aaxis": {
            "gridcolor": "white",
            "linecolor": "white",
            "ticks": ""
           },
           "baxis": {
            "gridcolor": "white",
            "linecolor": "white",
            "ticks": ""
           },
           "bgcolor": "#E5ECF6",
           "caxis": {
            "gridcolor": "white",
            "linecolor": "white",
            "ticks": ""
           }
          },
          "title": {
           "x": 0.05
          },
          "xaxis": {
           "automargin": true,
           "gridcolor": "white",
           "linecolor": "white",
           "ticks": "",
           "title": {
            "standoff": 15
           },
           "zerolinecolor": "white",
           "zerolinewidth": 2
          },
          "yaxis": {
           "automargin": true,
           "gridcolor": "white",
           "linecolor": "white",
           "ticks": "",
           "title": {
            "standoff": 15
           },
           "zerolinecolor": "white",
           "zerolinewidth": 2
          }
         }
        },
        "title": {
         "text": "t-SNE Clustering of Article Titles"
        },
        "xaxis": {
         "anchor": "y",
         "domain": [
          0,
          1
         ],
         "title": {
          "text": "t-SNE Dimension 1"
         }
        },
        "yaxis": {
         "anchor": "x",
         "domain": [
          0,
          1
         ],
         "title": {
          "text": "t-SNE Dimension 2"
         }
        }
       }
      }
     },
     "metadata": {},
     "output_type": "display_data"
    }
   ],
   "source": [
    "import pandas as pd\n",
    "from sklearn.manifold import TSNE\n",
    "import plotly.express as px\n",
    "\n",
    "# Assuming gkgvf_arr is the DataFrame with vectorized values and article titles as the index\n",
    "# The values are used as input to the t-SNE model, and index rows are the article titles\n",
    "\n",
    "# article_titles = gkg.parsed_urls  # Extract titles from the index\n",
    "model_input = gkgvf_arr.values  # Use the values for t-SNE\n",
    "article_titles = titles  # Extract titles from the index\n",
    "# model_input = tfidf_matrix.toarray()  # Use the values for t-SNE\n",
    "labels = gkg.gkg_query['label']\n",
    "\n",
    "# Step 1: Use t-SNE to reduce dimensions\n",
    "tsne_model = TSNE(n_components=2, perplexity=30, random_state=42, n_iter=1000)\n",
    "tsne_results = tsne_model.fit_transform(model_input)\n",
    "\n",
    "# Step 2: Create a DataFrame for the t-SNE results\n",
    "tsne_df = pd.DataFrame(tsne_results, columns=['TSNE1', 'TSNE2'])\n",
    "tsne_df['Title'] = article_titles  # Add titles from the index\n",
    "\n",
    "# Step 3: Plot with Plotly to add hover functionality\n",
    "fig = px.scatter(\n",
    "    tsne_df,\n",
    "    x='TSNE1',\n",
    "    y='TSNE2',\n",
    "    hover_name='Title',  # This will show the title when hovering\n",
    "    title=\"t-SNE Clustering of Article Titles\",\n",
    "    labels={'TSNE1': 't-SNE Dimension 1', 'TSNE2': 't-SNE Dimension 2'}\n",
    ")\n",
    "\n",
    "# Display the plot\n",
    "fig.show()\n"
   ]
  },
  {
   "cell_type": "code",
   "execution_count": 14,
   "metadata": {},
   "outputs": [
    {
     "name": "stderr",
     "output_type": "stream",
     "text": [
      "c:\\ProgramData\\anaconda3\\Lib\\site-packages\\sklearn\\manifold\\_t_sne.py:1162: FutureWarning:\n",
      "\n",
      "'n_iter' was renamed to 'max_iter' in version 1.5 and will be removed in 1.7.\n",
      "\n"
     ]
    },
    {
     "data": {
      "application/vnd.plotly.v1+json": {
       "config": {
        "plotlyServerURL": "https://plot.ly"
       },
       "data": [
        {
         "hovertemplate": "<b>%{hovertext}</b><br><br>Label=ONE PIECE<br>t-SNE Dimension 1=%{x}<br>t-SNE Dimension 2=%{y}<extra></extra>",
         "hovertext": [
          "One Piece: Oda Reveals A Legendary God From Elbaf",
          "Sakamoto Days Manga Goes on 1-Issue Break Due to Author's Health - News - Anime News Network",
          "One Piece Chapter 1128: The Sun God Makes An Appearance",
          "One Piece Chapter 1128: The Sun God Makes An Appearance",
          "One Piece Chapter 1128: The Sun God Makes An Appearance",
          "One Piece Chapter 1128: The Sun God Makes An Appearance",
          "One Piece: Oda Reveals Sanji's Improved Mastery Over Ifrit Jambe",
          "One Piece Fan Letter Anime Shares First Look Trailer - ComicBook.com",
          "INTEREST: Anime World Offers Condolences After Voice Actor Nobuyo Oyama's Passing, Part I - Forum - Anime News Network",
          "One Piece Fans Get Devastating News With Anime Hiatus Announcement",
          "One Piece Anime's Egghead Arc Resumes Next April - News - Anime News Network",
          "One Piece Anime Announces Historic Hiatus - ComicBook.com",
          "Toei Animation Provides Major One Piece Update Detailing Series Hiatus, Special Content - Anime News Network",
          "One Piece Episode 1121 Reveals Garp's Outrageous Bounty",
          "One Piece Episode 1121 Reveals Garp's Outrageous Bounty",
          "One Piece Episode 1121 Reveals Garp's Outrageous Bounty",
          "The Next One Piece Episode Will Reveal The Winner Of Garp Vs. Kuzan",
          "One Piece: Why Zoro Could Open His Left Eye In Elbaf",
          "One Piece Anime To Go On Break Till 2025",
          "One Piece Fan Letter: 25th Anniversary Anime Work Set for Netflix",
          "One Piece: Oda Reveals The Real Identity Of Elbaf's Sun God",
          "One Piece Orders Special Anime Remake for Fish-Man Island Arc - ComicBook.com",
          "One Piece: Sun God Loki Vs Sun God Nika, Explained",
          "Pirates Who Are Animals In One Piece:",
          "Galaxy Express 999 Another Story: Ultimate Journey Manga Resumes After 2 Years - News - Anime News Network",
          "NEWS: Goblin Slayer Author Kumo Kagyu's Blade & Bastard Light Novels Get Anime [1/2] - Forum - Anime News Network",
          "One Piece: Fan Letter May Be the Anime's Best Episode Ever - ComicBook.com",
          "One Piece Manga Takes 2-Week Break So Creator Can Do Research - News - Anime News Network",
          "One Piece: Oda Announces Two Major Projects During The Manga Break",
          "One Piece 1131: What To Expect From The Chapter",
          "One Piece Clip Shares First Look at Fish-Man Island Remake",
          "One Piece: Zoro's Post-Elbaf Power, Explained",
          "Jujutsu Kaisen Doesn't Need a Sequel Anytime Soon",
          "Even As A Non-Horror Fan, There's One Horrific Anime I Think Is An Absolute Masterpiece",
          "One Piece: Why Luffy Will Destroy The World, Explained",
          "One Piece: Why Loki Must Have A Logia Type Devil Fruit",
          "10 Best Single Season Romance Anime",
          "One Piece: Why Rocks D. Xebec May Be the Series' Most Important Character",
          "My Hero Academia You’re Next Is Just One Big Homage",
          "My Hero Academia You’re Next Is Just One Big Homage",
          "One Piece's Creator Confirms The True Nature Of Luffy's Gear 5 Power, & It's So Much More Bizarre Than Fans Thought",
          "One Piece: Oda Reveals New Cross Guild Bounties",
          "One Piece: Loki's Connection To Shanks, Explained",
          "One Piece: Oda Plans For A Major Reunion In Elbaf",
          "One Piece 1132: What To Expect From The Chapter",
          "One Piece 1132: What To Expect From The Chapter",
          "One Piece 1132: What To Expect From The Chapter",
          "One Piece 1132: What To Expect From The Chapter",
          "One Piece 1132: What To Expect From The Chapter",
          "One Piece Chapter 1132: Loki And Luffy Strike A Deal"
         ],
         "legendgroup": "ONE PIECE",
         "marker": {
          "color": "#636efa",
          "symbol": "circle"
         },
         "mode": "markers",
         "name": "ONE PIECE",
         "orientation": "v",
         "showlegend": true,
         "type": "scatter",
         "x": [
          33.066898345947266,
          -36.71694564819336,
          23.737558364868164,
          -46.71709060668945,
          -54.36848068237305,
          -45.03653335571289,
          88.67650604248047,
          83.51738739013672,
          -108.38086700439453,
          74.13856506347656,
          97.5313720703125,
          108.8929443359375,
          -115.142822265625,
          45.06890106201172,
          -41.689144134521484,
          30.885419845581055,
          41.56709671020508,
          79.30508422851562,
          79.10385131835938,
          -64.57353973388672,
          28.830778121948242,
          78.73600769042969,
          38.90836715698242,
          95.37329864501953,
          -48.324214935302734,
          -59.42608642578125,
          91.7347412109375,
          88.00151824951172,
          50.888980865478516,
          38.783077239990234,
          80.48392486572266,
          70.04907989501953,
          24.705026626586914,
          -3.8576972484588623,
          66.46060180664062,
          31.58778953552246,
          -55.89917755126953,
          62.41407012939453,
          -94.20746612548828,
          21.73857879638672,
          93.50465393066406,
          40.6867561340332,
          63.13380813598633,
          69.62992095947266,
          65.74172973632812,
          -94.53070831298828,
          -18.148597717285156,
          -71.35077667236328,
          7.718404769897461,
          72.13449096679688
         ],
         "xaxis": "x",
         "y": [
          -116.73978424072266,
          41.58161926269531,
          -122.90702056884766,
          -50.831180572509766,
          -86.00411224365234,
          21.604734420776367,
          -93.60594940185547,
          88.77365112304688,
          -108.17798614501953,
          -66.61365509033203,
          -58.146854400634766,
          -84.8602294921875,
          -95.8329086303711,
          -68.14207458496094,
          -6.332657814025879,
          -26.423320770263672,
          -60.622859954833984,
          -95.08610534667969,
          -62.70594024658203,
          -23.38945770263672,
          -128.32664489746094,
          -50.090660095214844,
          -119.91815185546875,
          -109.43612670898438,
          -23.225269317626953,
          13.487129211425781,
          -73.63417053222656,
          -56.5557975769043,
          -95.7985610961914,
          -104.59327697753906,
          -74.38460540771484,
          -91.35779571533203,
          62.416194915771484,
          -53.897274017333984,
          -58.60246276855469,
          -98.13754272460938,
          -37.05330276489258,
          -72.79643249511719,
          83.97508239746094,
          9.601530075073242,
          -43.596588134765625,
          -76.28790283203125,
          -38.65817642211914,
          -104.96300506591797,
          -121.58821868896484,
          -56.67161178588867,
          -21.66176414489746,
          52.41754913330078,
          5.732062339782715,
          -117.71613311767578
         ],
         "yaxis": "y"
        },
        {
         "hovertemplate": "<b>%{hovertext}</b><br><br>Label=DAN DA DAN<br>t-SNE Dimension 1=%{x}<br>t-SNE Dimension 2=%{y}<extra></extra>",
         "hovertext": [
          "Dandadan Premiere Earns Stamp of Approval From Hideo Kojima - ComicBook.com",
          "Dandadan: Acrobatic Silky's Power and Abilities, Explained",
          "Dandadan: Turbo Granny's Powers and Abilities, Explained",
          "Dandadan: Turbo Granny's Powers and Abilities, Explained",
          "Dandadan: Turbo Granny's Powers and Abilities, Explained",
          "Dandadan: Turbo Granny's Powers and Abilities, Explained",
          "Dan Da Dan: Okarun’s Turbo Granny Powers Explained",
          "Dan Da Dan Episode #4 Release Date & Time",
          "Dandadan: Who are the Serpoians?",
          "Dan Da Dan Anime Makes A Small Change That Is A Big Improvement Over One Early Fight",
          "Dan Da Dan Officially Confirms It's Jujutsu Kaisen's True Successor By Revisiting The Hit Shonen's Big Theme",
          "Who Is That Cat In Dan Da Dan's Opening & Closing? The Series' Mysterious Yokai Mascot Explained",
          "Dan Da Dan's Unique Trait is the Real Reason The Fall's Biggest Anime Will SuvriveMuch  Longer Than Other Shonen"
         ],
         "legendgroup": "DAN DA DAN",
         "marker": {
          "color": "#EF553B",
          "symbol": "circle"
         },
         "mode": "markers",
         "name": "DAN DA DAN",
         "orientation": "v",
         "showlegend": true,
         "type": "scatter",
         "x": [
          2.6609995365142822,
          -79.34272766113281,
          -91.60261535644531,
          -54.36848068237305,
          -88.98483276367188,
          81.83597564697266,
          39.82160186767578,
          47.66957473754883,
          -0.06243305653333664,
          57.4499397277832,
          56.862449645996094,
          48.82095718383789,
          48.8233757019043
         ],
         "xaxis": "x",
         "y": [
          83.71417236328125,
          9.744507789611816,
          5.659988880157471,
          -86.00411224365234,
          -59.071407318115234,
          -16.288188934326172,
          136.0660400390625,
          144.32803344726562,
          -39.58653259277344,
          141.17941284179688,
          131.40736389160156,
          135.97694396972656,
          126.3634033203125
         ],
         "yaxis": "y"
        },
        {
         "hovertemplate": "<b>%{hovertext}</b><br><br>Label=HERO ACADEMIA<br>t-SNE Dimension 1=%{x}<br>t-SNE Dimension 2=%{y}<extra></extra>",
         "hovertext": [
          "My Hero Academia Season 7 Shares First Look at Finale - ComicBook.com",
          "My Hero Academia: A Smile Worth Saving",
          "My Hero Academia Final Season Set for 2025; Teaser Released",
          "My Hero Academia Final Season Set for 2025; Teaser Released",
          "My Hero Academia Season 7 Really Saved the Anime - ComicBook.com",
          "My Hero Academia: How Has Shirakumo's Death Affected Aizawa?",
          "My Hero Academia's Weakest Hero Is Actually Responsible For Defeating All for One",
          "My Hero Academia's Trina Nishimura, Zeno Robinson, and Jessie Grelle Interview",
          "Incredible New My Hero Academia Deku & Bakugo Cosplay Is Nothing Short Of Staggering",
          "My Hero Academia: What In the World Happened to Izuku's Dad? - ComicBook.com",
          "My Hero Academia: What In the World Happened to Izuku's Dad? - ComicBook.com",
          "My Hero Academia Still Has One Dangling Plot Thread After The Finale That Was A Major Missed Opportunity",
          "Deku Might Be My Hero Academia's Main Character, But The Series' True Hero Is Another Character",
          "Deku Might Be My Hero Academia's Main Character, But The Series' True Hero Is Another Character",
          "Deku Might Be My Hero Academia's Main Character, But The Series' True Hero Is Another Character"
         ],
         "legendgroup": "HERO ACADEMIA",
         "marker": {
          "color": "#00cc96",
          "symbol": "circle"
         },
         "mode": "markers",
         "name": "HERO ACADEMIA",
         "orientation": "v",
         "showlegend": true,
         "type": "scatter",
         "x": [
          -77.7089614868164,
          -68.0123519897461,
          -94.61162567138672,
          101.07807922363281,
          -86.2147445678711,
          -109.00978088378906,
          -77.50491333007812,
          -66.89407348632812,
          -78.629150390625,
          -90.65669250488281,
          -46.98912811279297,
          -105.6783218383789,
          -76.29814910888672,
          -30.00135612487793,
          59.188602447509766
         ],
         "xaxis": "x",
         "y": [
          124.9219970703125,
          127.30606842041016,
          104.15119934082031,
          -13.61881160736084,
          125.05462646484375,
          77.30084228515625,
          103.35350799560547,
          97.2557373046875,
          94.23118591308594,
          93.06983184814453,
          -126.92869567871094,
          98.60160827636719,
          85.07637786865234,
          17.38939666748047,
          43.67715072631836
         ],
         "yaxis": "y"
        },
        {
         "hovertemplate": "<b>%{hovertext}</b><br><br>Label=NO MATCH<br>t-SNE Dimension 1=%{x}<br>t-SNE Dimension 2=%{y}<extra></extra>",
         "hovertext": [
          "Spy x Family Has Been Dropping Hints That A Key Character Is Related To Damian, But It's Easy To Miss",
          "Best Dongua To Watch",
          "Best Dongua To Watch",
          "Best Dongua To Watch",
          "Mission: Yozakura Family Anime Gets 2nd Season - News - Anime News Network",
          "Vampire Knight: Memories Manga Ends in 11th Volume - News - Anime News Network",
          "The 19-Panel Page In Absolute Batman #1 (Minor Spoilers)",
          "The 19-Panel Page In Absolute Batman #1 (Minor Spoilers)",
          "\"Nah, I'd Win\": Jujutsu Kaisen's Finale Revealed the True Meaning of Gojo's Most Famous Words",
          "NEWS: Vampire Knight: Memories Manga Ends in 11th Volume - Forum - Anime News Network",
          "NEWS: Oshi no Ko Anime Gets 3rd Season, Reveals More Cast [1/2] - Forum - Anime News Network",
          "Legendary Evangelion Director Will Return With the Remake of an Iconic Sci-Fi Anime",
          "Shonen Jump's Biggest Anime of the Summer Is Already Confirmed For a New Season",
          "Shonen Jump's Biggest Anime of the Summer Is Already Confirmed For a New Season",
          "Shonen Jump's Biggest Anime of the Summer Is Already Confirmed For a New Season",
          "Shonen Jump's Biggest Anime of the Summer Is Already Confirmed For a New Season",
          "Shonen Jump's Biggest Anime of the Summer Is Already Confirmed For a New Season",
          "Shonen Jump's Biggest Anime of the Summer Is Already Confirmed For a New Season",
          "BLEACH: Who is Kazui Kurosaki? ",
          "Hunter X Hunter's Biggest Plot Twist Yet Makes One Character The Main Antagonist",
          "REVIEW: Dungeon People Anime Series Review - Forum - Anime News Network",
          "Tokyo Indie Games Summit Opens Indie Game Applications for March 2025 Kichijoji Event - Anime News Network",
          "JoJo's Bizarre Adventure: Who's the Strongest Joestar?",
          "TsumaSho - The Fall 2024 Anime Preview Guide - Anime News Network",
          "The Elusive Samurai Anime Gets 2nd Season - News - Anime News Network",
          "NEWS: The Elusive Samurai Anime Gets 2nd Season [1/2] - Forum - Anime News Network",
          "Oshi no Ko Season 3 Officially Announced",
          "Who Is Abura? Dragon Ball's Ancient Demon King Explained - ComicBook.com",
          "NEWS: Rumiko Takahashi's Manga Top 230 Million Copies in Circulation Worldwide - Forum - Anime News Network",
          "NEWS: Live-Action Wingman Series Reveals 3 More Cast Members, New Trailer - Forum - Anime News Network",
          "Live-Action Wingman Series Reveals 3 More Cast Members, New Trailer - News - Anime News Network",
          "GTO Series Gets New Uchiyamada Spinoff Manga - News - Anime News Network",
          "NEWS: Sonic Wings/Aero Fighters Shooting Game Franchise Develops 1st New Game in 26 Years - Forum - Anime News Network",
          "Medaka Kuroiwa is Impervious to My Charms Reveals New Cast Hinaki Yano, Anime's January Debut in 4th Character Video (Updated) - News - Anime News Network",
          "Crunchyroll to Stream Medaka Kuroiwa is Impervious to My Charms, Toilet-Bound Hanako-kun 2nd Season, More in January - News - Anime News Network",
          "Soborou's 'Why the Hell are You Here, Teacher!?' Manga Ends on October 21 - News - Anime News Network",
          "Soborou's 'Why the Hell are You Here, Teacher!?' Manga Ends on October 21 - News - Anime News Network",
          "Soborou's 'Why the Hell are You Here, Teacher!?' Manga Ends on October 21 - News - Anime News Network",
          "Hotly Anticipated Shonen Jump Anime Has One Of The Most Exciting Anime Romances In Years, & It's Not Close",
          "NEWS: Macross 7 Anime Gets New Audio Drama Launching on Wednesday - Forum - Anime News Network",
          "NEWS: Wind Breaker Season 2 Reveals Game, More Cast & Staff, April Debut in Videos - Forum - Anime News Network",
          "NEWS: GTO Series Gets New Uchiyamada Spinoff Manga - Forum - Anime News Network",
          "NEWS: Soborou's 'Why the Hell are You Here, Teacher!?' Manga Ends on October 21 - Forum - Anime News Network",
          "NEWS: Lockdown Zone: Level X 'Light Anime' Gets 2nd Season - Forum - Anime News Network",
          "The Real Reason That One-Punch Man S-Class Hero Changed His Name Is Actually Hilarious, But Western Fans Missed It",
          "The Real Reason That One-Punch Man S-Class Hero Changed His Name Is Actually Hilarious, But Western Fans Missed It",
          "The Best Japanese Martial Arts Movies",
          "Incredible Isekai Puts The Best Twist On The Evil Overlord Trope The Genre Has Seen In Years",
          "Incredible Isekai Puts The Best Twist On The Evil Overlord Trope The Genre Has Seen In Years",
          "Incredible Isekai Puts The Best Twist On The Evil Overlord Trope The Genre Has Seen In Years",
          "Incredible Isekai Puts The Best Twist On The Evil Overlord Trope The Genre Has Seen In Years",
          "Incredible Isekai Puts The Best Twist On The Evil Overlord Trope The Genre Has Seen In Years",
          "Jujutsu Kaisen's Cursed Energy Explained: Why All Sorcerers Are In Japan & Why It Makes The Series Revolutionary",
          "JoJo's Bizarre Adventure Jotaro Cosplay Is Nothing Short Of Jaw Dropping In Incredible Shoot",
          "10 Smartest JoJo’s Bizarre Adventure Characters",
          "JoJo's Bizarre Adventure Summary, Trailer, Cast, and More",
          "Boruto: Two Blue Vortex's Strongest Power Has An Unexpected Effect That Could Change The Series",
          "NEWS: Crunchyroll to Stream Medaka Kuroiwa is Impervious to My Charms, Toilet-Bound Hanako-kun 2nd S - Forum - Anime News Network",
          "Red Cat Ramen Anime Series Review - Review - Anime News Network",
          "Jujutsu Kaisen's Gojo Vs. Demon Slayer's Yoriichi: Which Hero Truly Embodies The Concept Of Strongest Better?",
          "REVIEW: Red Cat Ramen Anime Series Review - Forum - Anime News Network",
          "Rooster Fighter Anime Announces Cast Members - News - Anime News Network",
          "Rooster Fighter Anime Announces Cast Members - News - Anime News Network",
          "Rooster Fighter Anime Announces Cast Members - News - Anime News Network",
          "Rooster Fighter Anime Announces Cast Members - News - Anime News Network",
          "Dr. Stone Science Future Trailer Teases the Final Season's Debut: Watch -",
          "Dragon Ball Daima Is Ready to Put Some Respect on Gohan's Name - ComicBook.com",
          "Dragon Ball Daima Honors Late Creator Akira Toriyama With New Easter Egg: Watch - ComicBook.com",
          "Uzumaki's Azami Kurotani Comes To Life In Terrifying New Cosplay",
          "Uzumaki's Azami Kurotani Comes To Life In Terrifying New Cosplay",
          "Viz Media Releases Akira Himekawa's Kamudo Manga Simultaneously in English - News - Anime News Network",
          "Hideaki Anno Reflects on Space Battleship Yamato Before Launching New Anime - Interest - Anime News Network",
          "Dragon Ball Daima Reunites Goku With One of His Strongest Weapons",
          "Yen Press Adds 3 Manga, Announces Release of Collector's Edition of Spice & Wolf Manga - News - Anime News Network",
          "Fights That Are Better In The Bleach Anime",
          "Fights That Are Better In The Bleach Anime",
          "The Too-Perfect Saint: Tossed Aside by My Fiancé and Sold To Another Kingdom Novels Get 2025 TV Anime - News - Anime News Network",
          "Goblin Slayer Author Kumo Kagyu's Blade & Bastard Light Novels Get Anime - News - Anime News Network",
          "Kujira Tokiwa's The Holy Grail of Eris Light Novels Gets Anime - News - Anime News Network",
          "I'm the Evil Lord of an Intergalactic Empire! Light Novels Get TV Anime Next April - News - Anime News Network",
          "BLEACH: The Structure of the Realms, Explained",
          "This Villainess Manhwa Was One of the Best of the Genre Until It Ruined Its Story",
          "This Villainess Manhwa Was One of the Best of the Genre Until It Ruined Its Story",
          "This Villainess Manhwa Was One of the Best of the Genre Until It Ruined Its Story",
          "This Villainess Manhwa Was One of the Best of the Genre Until It Ruined Its Story",
          "This Villainess Manhwa Was One of the Best of the Genre Until It Ruined Its Story",
          "This Villainess Manhwa Was One of the Best of the Genre Until It Ruined Its Story",
          "This Villainess Manhwa Was One of the Best of the Genre Until It Ruined Its Story",
          "A Huge Twist in Jujutsu Kaisen's Ending Was Foreshadowed All the Way Back in the First Movie",
          "The Beginning After the End, a Top Webtoon, Is Getting an Anime",
          "The Beginning After the End, a Top Webtoon, Is Getting an Anime",
          "Kodansha to Publish Young Magazine USA Special Issue in August 2025 - News - Anime News Network",
          "New Jujutsu Kaisen Gojo Cosplay Brings Shonen's Most Iconic Mentor To Life With Anime-Accurate Look",
          "New Jujutsu Kaisen Gojo Cosplay Brings Shonen's Most Iconic Mentor To Life With Anime-Accurate Look",
          "The Beginning After the End: Web Comic Gets Anime Adapt in 2025",
          "INTEREST: Magic: The Gathering Teases Final Fantasy Set - Forum - Anime News Network",
          "INTEREST: Magic: The Gathering Teases Final Fantasy Set - Forum - Anime News Network",
          "Bleach: Thousand-Year Blood War Just Gave Uryu a Brand-New Form",
          "Bleach: Thousand-Year Blood War Just Gave Uryu a Brand-New Form",
          "INTEREST: Venom Collaborates Again With Birth of Kitaro, Brave Bang Bravern! - Forum - Anime News Network",
          "NEWS: Kazuma Kawamura, Yuki Tanaka Perform Themes for I Left My A-Rank Party TV Anime - Forum - Anime News Network",
          "NEWS: Crazy Food Truck Manga Creator Rokurou Ōgaki Launches New Manga on November 1 - Forum - Anime News Network",
          "NEWS: Japan's Video Game Rankings, October 14-20 [2024-10-26] - Forum - Anime News Network",
          "Phases of the Moon Knight #3 Preview: Avatar Eclipse Alert",
          "\"Thanks To My Master\" - Boruto: Two Blue Vortex Continues One Of The Franchise's Best And Most Important Themes",
          "NEWS: Crunchyroll States it is Investigating Situation After Voice Actor Claims Company Opened His M [1/4] - Forum - Anime News Network",
          "NEWS: Toshinori Sogabe's Yankee JK Kuzuhana-chan Gets Spinoff Manga - Forum - Anime News Network",
          "NEWS: Report: Japan's Online Video Industry to Grow to 45% of Total Screen Revenue by 2029 - Forum - Anime News Network",
          "NEWS: Report: Japan's Online Video Industry to Grow to 45% of Total Screen Revenue by 2029 - Forum - Anime News Network",
          "NEWS: Report: Japan's Online Video Industry to Grow to 45% of Total Screen Revenue by 2029 - Forum - Anime News Network",
          "Demon Slayer: What if Muzan Had Never Killed the Kamado Family?",
          "Cute Venom x Anime Collaboration Art Drops Just in Time for the Movie Release",
          "10 Most Hateable Anime Characters Of All Time, Ranked",
          "Maki Minami's 'Hisureba, Hana' Manga Ends in December - News - Anime News Network",
          "Ayuko, Fumi Yoshinaga, More Launch New Manga in Cocohana Magazine - News - Anime News Network",
          "NEWS: Guilty Gear Strive Game Streams DLC Character Trailer for Queen Dizzy - Forum - Anime News Network",
          "NEWS: Ayuko, Fumi Yoshinaga, More Launch New Manga in Cocohana Magazine - Forum - Anime News Network",
          "NEWS: MAGES. Unveils Steins;Gate Re:Boot Game Slated for 2025 [1/2] - Forum - Anime News Network",
          "NEWS: Cute High Earth Defense Club Eternal Love! Anime Film Reveals More Returning Cast, Theme Song, - Forum - Anime News Network",
          "NEWS: Cute High Earth Defense Club Eternal Love! Anime Film Reveals More Returning Cast, Theme Song, - Forum - Anime News Network",
          "Ultraman: Rising Director Divulges Details About the Film's Sequel",
          "Who Are the World's Wealthiest Manga Creators?",
          "Ranma 1/2 E01: Here's Ranma & E02: I Hate Men Honor Original: Review",
          "Bleach: Uryuu Receives One of the Best Anime Additions Yet",
          "Fall's Best Anime Shows Are Dominating Netflix Ratings",
          "Fall's Best Anime Shows Are Dominating Netflix Ratings",
          "Fall's Best Anime Shows Are Dominating Netflix Ratings",
          "Fall's Best Anime Shows Are Dominating Netflix Ratings",
          "Fall's Best Anime Shows Are Dominating Netflix Ratings",
          "Bleach: Uryuu's Vollstandig, Explained",
          "One Of The Best Romance Anime Of All Time Is An Underrated Masterpiece, But There's One Thing Holding It Back From Being Huge",
          "Kaiju No. 8's Kafka Springs to Life In Impressive New Cosplay",
          "Dragon Ball Daima Confirms It's a Love Letter To Akira Toriyama and GT With a Subtle Homage",
          "Latest Vivre Card Confirms One Major Detail About Koby's Haki",
          "10 Jujutsu Kaisen Characters That Deserve Their Own Spin-Off",
          "After Years of Waiting, Bleach Just Brought Back Its Best Arrancar",
          "Sorry Chainsaw Man & Spy x Family, But 2022’s Most Important Anime Was A Sleeper Hit No One Expected To Get As Big As It Did",
          "10 Best Thorfinn Quotes In Vinland Saga That Prove Just How Deep The Series Is",
          "The Best Manga With Ghost Protagonists",
          "The Best Manga With Ghost Protagonists",
          "Solo Leveling's Sequel Highlights a MAJOR Problem in the Manhwa Industry",
          "Dragon Ball Daima Has A Prime Opportunity To Connect To Super's Next Big Frieza Saga Through A Powerful Forgotten Artifact",
          "Boruto: Two Blue Vortex Has Been Dropping Hints That One Major Character Has Been Living A Lie The Whole Time",
          "The Apothecary Diaries’ Successor Is a Beautiful New Manga That Gives Greek Mythology a Shojo Twist",
          "New Oshi no Ko Novel Announced ",
          "If You Love Netflix's Sweet Home, You Need to Check Out the Terrifying Manwha That Inspired It"
         ],
         "legendgroup": "NO MATCH",
         "marker": {
          "color": "#ab63fa",
          "symbol": "circle"
         },
         "mode": "markers",
         "name": "NO MATCH",
         "orientation": "v",
         "showlegend": true,
         "type": "scatter",
         "x": [
          -15.245353698730469,
          -16.056190490722656,
          20.4346866607666,
          -61.987491607666016,
          12.199703216552734,
          17.92098045349121,
          54.18672180175781,
          -39.61838150024414,
          -15.07430648803711,
          1.913278341293335,
          1.913278341293335,
          -147.3806610107422,
          -47.223297119140625,
          9.799639701843262,
          -2.927445888519287,
          -29.516254425048828,
          39.57764434814453,
          -3.211873769760132,
          5.39031457901001,
          -25.89865493774414,
          -22.34629249572754,
          1.913278341293335,
          -23.05486488342285,
          -2.4252376556396484,
          -16.306049346923828,
          1.913278341293335,
          17.66640281677246,
          133.1359405517578,
          -100.70446014404297,
          -115.142822265625,
          -59.122703552246094,
          -10.363533020019531,
          -104.2680892944336,
          -115.142822265625,
          -89.31836700439453,
          -14.215113639831543,
          -64.5328369140625,
          7.718404769897461,
          40.46059036254883,
          -115.142822265625,
          -115.142822265625,
          -115.142822265625,
          -115.142822265625,
          -115.142822265625,
          -35.18902587890625,
          -21.58415985107422,
          -10.532912254333496,
          -58.06538391113281,
          -16.818819046020508,
          -3.9836952686309814,
          -79.8821029663086,
          -80.41603088378906,
          -23.225004196166992,
          -37.99201965332031,
          -45.1617317199707,
          -29.29789161682129,
          -73.05313873291016,
          -115.36475372314453,
          18.398826599121094,
          24.038532257080078,
          -126.68169403076172,
          28.59168243408203,
          46.852638244628906,
          31.996501922607422,
          0.6990100145339966,
          -74.84910583496094,
          93.54279327392578,
          122.17282104492188,
          45.458255767822266,
          20.4346866607666,
          -38.892601013183594,
          -146.18019104003906,
          143.5620574951172,
          44.211360931396484,
          -117.40835571289062,
          5.5949907302856445,
          33.79001998901367,
          32.68697738647461,
          -64.65217590332031,
          -49.63811492919922,
          -128.42279052734375,
          73.07380676269531,
          -41.689144134521484,
          -3.211873769760132,
          -52.10478973388672,
          -28.012561798095703,
          40.6708984375,
          -52.87820816040039,
          -15.04487133026123,
          -129.69932556152344,
          -54.36848068237305,
          17.241003036499023,
          -11.6084566116333,
          41.04317855834961,
          -135.9724578857422,
          -18.705615997314453,
          52.774436950683594,
          -111.34855651855469,
          -38.455284118652344,
          -18.705615997314453,
          -18.705615997314453,
          -18.705615997314453,
          -18.705615997314453,
          -64.38766479492188,
          -74.98075866699219,
          -18.705615997314453,
          -18.705615997314453,
          -18.705615997314453,
          -34.2197265625,
          -8.307286262512207,
          17.66640281677246,
          84.48429870605469,
          -90.69477844238281,
          -18.705615997314453,
          21.990257263183594,
          -18.705615997314453,
          -18.705615997314453,
          -18.705615997314453,
          -18.705615997314453,
          -54.36848068237305,
          -24.542964935302734,
          27.87836456298828,
          7.910876274108887,
          -118.45116424560547,
          94.80493927001953,
          1.8195080757141113,
          7.718404769897461,
          -14.132734298706055,
          69.24755096435547,
          -109.02057647705078,
          54.628543853759766,
          -3.9836952686309814,
          122.99089813232422,
          42.3560905456543,
          -4.455319404602051,
          -121.81644439697266,
          -96.42550659179688,
          34.31097412109375,
          64.66753387451172,
          50.36027145385742,
          23.748151779174805,
          87.42185974121094,
          -85.79717254638672,
          55.14783477783203,
          17.960926055908203,
          10.214986801147461
         ],
         "xaxis": "x",
         "y": [
          -45.47698974609375,
          -77.19723510742188,
          -4.803442478179932,
          47.00629425048828,
          53.744354248046875,
          20.3243465423584,
          0.5102346539497375,
          -36.43724060058594,
          133.4696044921875,
          43.00553512573242,
          43.00553512573242,
          22.008243560791016,
          79.07989501953125,
          -12.332404136657715,
          57.303810119628906,
          -48.99460220336914,
          72.40507507324219,
          13.114579200744629,
          101.7139892578125,
          -90.73250579833984,
          36.72201919555664,
          43.00553512573242,
          60.920230865478516,
          2.5286800861358643,
          47.43003463745117,
          43.00553512573242,
          -35.2973518371582,
          26.29778289794922,
          -97.64019012451172,
          -95.8329086303711,
          -9.278058052062988,
          71.26353454589844,
          -86.13121032714844,
          -95.8329086303711,
          52.40216827392578,
          89.5345458984375,
          62.198970794677734,
          5.732062339782715,
          113.54747009277344,
          -95.8329086303711,
          -95.8329086303711,
          -95.8329086303711,
          -95.8329086303711,
          -95.8329086303711,
          -63.741424560546875,
          24.757633209228516,
          -32.09476852416992,
          27.94363784790039,
          -62.573265075683594,
          -16.89418601989746,
          45.48552322387695,
          60.036705017089844,
          135.82081604003906,
          57.6020622253418,
          62.353458404541016,
          53.173316955566406,
          26.686542510986328,
          -81.29364013671875,
          35.70390319824219,
          96.14336395263672,
          -87.76505279541016,
          29.609777450561523,
          89.39334869384766,
          -13.986982345581055,
          -5.078627586364746,
          -36.456119537353516,
          35.197540283203125,
          30.640945434570312,
          -28.572402954101562,
          -4.803442478179932,
          10.075878143310547,
          28.832643508911133,
          22.57069969177246,
          13.086159706115723,
          11.866474151611328,
          -27.343584060668945,
          1.7804160118103027,
          16.582763671875,
          5.752939224243164,
          36.65105438232422,
          -7.941022872924805,
          23.891878128051758,
          -6.332657814025879,
          13.114579200744629,
          6.784679889678955,
          76.84574890136719,
          23.3579158782959,
          -125.26966857910156,
          140.2970428466797,
          -38.658870697021484,
          -86.00411224365234,
          -19.293317794799805,
          114.3050308227539,
          -4.230323791503906,
          -37.67048263549805,
          0.05316669121384621,
          -47.101417541503906,
          2.0636117458343506,
          -130.54742431640625,
          0.05316669121384621,
          0.05316669121384621,
          0.05316669121384621,
          0.05316669121384621,
          -53.1276741027832,
          -8.677721977233887,
          0.05316669121384621,
          0.05316669121384621,
          0.05316669121384621,
          29.298564910888672,
          28.25181007385254,
          -35.2973518371582,
          7.427751064300537,
          26.140390396118164,
          0.05316669121384621,
          78.70191955566406,
          0.05316669121384621,
          0.05316669121384621,
          0.05316669121384621,
          0.05316669121384621,
          -86.00411224365234,
          -34.82204055786133,
          45.14055252075195,
          69.00782775878906,
          41.105247497558594,
          45.80135726928711,
          -67.88648986816406,
          5.732062339782715,
          17.523672103881836,
          -2.694643497467041,
          37.5910530090332,
          59.32678985595703,
          -16.89418601989746,
          38.27702713012695,
          38.80356979370117,
          140.60537719726562,
          -1.504534363746643,
          -34.76348114013672,
          -41.663822174072266,
          -20.8304443359375,
          -14.848949432373047,
          -55.325469970703125,
          56.204734802246094,
          -16.2037410736084,
          28.658571243286133,
          -72.7752685546875,
          -50.404232025146484
         ],
         "yaxis": "y"
        },
        {
         "hovertemplate": "<b>%{hovertext}</b><br><br>Label=FAIRY TALE<br>t-SNE Dimension 1=%{x}<br>t-SNE Dimension 2=%{y}<extra></extra>",
         "hovertext": [
          "NEWS: Fairy Tail: 100 Years Quest Anime Casts Nana Mizuki - Forum - Anime News Network",
          "NEWS: Idolm@ster Cinderella Girls U149 Manga Ends on November 9 - Forum - Anime News Network"
         ],
         "legendgroup": "FAIRY TALE",
         "marker": {
          "color": "#FFA15A",
          "symbol": "circle"
         },
         "mode": "markers",
         "name": "FAIRY TALE",
         "orientation": "v",
         "showlegend": true,
         "type": "scatter",
         "x": [
          1.913278341293335,
          -18.705615997314453
         ],
         "xaxis": "x",
         "y": [
          43.00553512573242,
          0.05316669121384621
         ],
         "yaxis": "y"
        },
        {
         "hovertemplate": "<b>%{hovertext}</b><br><br>Label=DRAGON BALL<br>t-SNE Dimension 1=%{x}<br>t-SNE Dimension 2=%{y}<extra></extra>",
         "hovertext": [
          "Dragon Ball Super Was A Great Anime... But Its Return Will Be The Best Dragon Ball's Been Since the End Of Z",
          "Dragon Ball Just Revealed the Secret Twist Behind the Dragon Balls - ComicBook.com",
          "Akira Toriyama's Swan Song Dragon Ball Daima Has Arrived",
          "Dragon Ball's Demon Realm Is Bigger Than Ever Expected - ComicBook.com",
          "Dragon Ball's Stephanie Naldony Breaks Silence on Returning to Goku After Nearly 15 Years - ComicBook.com",
          "Dragon Ball DAIMA Introduces A Big Shenron Retcon That Changes His Relationship With Goku Forever",
          "Dragon Ball DAIMA Introduces A Big Shenron Retcon That Changes His Relationship With Goku Forever",
          "Dragon Ball Daima's Massive Namekian Revelation Was Foreshadowed Years In Advanced ",
          "Dragon Ball Daima's Worst Wish Isn't Bad for Everybody",
          "Dragon Ball Z’s Second-Strongest Villain Is Still Alive in Super, But Most Fans Missed It",
          "Dragon Ball Daima’s First Real Fight Is a Major Change for the Franchise for One Subtle, Yet Huge, Reason",
          "Dragon Ball Daima’s First Real Fight Is a Major Change for the Franchise for One Subtle, Yet Huge, Reason",
          "Dragon Ball Daima’s First Real Fight Is a Major Change for the Franchise for One Subtle, Yet Huge, Reason",
          "Dragon Ball Daima’s Fights Are a Huge Change for the Franchise, & I for One, Am Absolutely Loving It",
          "Dragon Ball Daima’s Fights Are a Huge Change for the Franchise, & I for One, Am Absolutely Loving It",
          "Dragon Ball Daima’s Fights Are a Huge Change for the Franchise, & I for One, Am Absolutely Loving It",
          "Dragon Ball Daima’s Fights Are a Huge Change for the Franchise, & I for One, Am Absolutely Loving It",
          "Dragon Ball DAIMA is Fast Losing Steam"
         ],
         "legendgroup": "DRAGON BALL",
         "marker": {
          "color": "#19d3f3",
          "symbol": "circle"
         },
         "mode": "markers",
         "name": "DRAGON BALL",
         "orientation": "v",
         "showlegend": true,
         "type": "scatter",
         "x": [
          79.52957916259766,
          127.59320831298828,
          109.11866760253906,
          130.38491821289062,
          111.91802978515625,
          142.86590576171875,
          -41.689144134521484,
          110.386474609375,
          143.95729064941406,
          103.45695495605469,
          132.56784057617188,
          -31.971073150634766,
          -54.36848068237305,
          126.68675994873047,
          -3.9836952686309814,
          -64.93255615234375,
          -8.307286262512207,
          118.49211883544922
         ],
         "xaxis": "x",
         "y": [
          43.8975944519043,
          12.26833724975586,
          59.66339111328125,
          19.995214462280273,
          24.18645477294922,
          38.211456298828125,
          -6.332657814025879,
          37.31047058105469,
          13.587477684020996,
          67.843994140625,
          51.35109329223633,
          -21.48429298400879,
          -86.00411224365234,
          63.99322509765625,
          -16.89418601989746,
          -79.48628997802734,
          28.25181007385254,
          56.741615295410156
         ],
         "yaxis": "y"
        },
        {
         "hovertemplate": "<b>%{hovertext}</b><br><br>Label=NARUTO<br>t-SNE Dimension 1=%{x}<br>t-SNE Dimension 2=%{y}<extra></extra>",
         "hovertext": [
          "Naruto's Entire Uchiha Family Tree, Explained",
          "Naruto's Last Battle Is Actually a Genius Callback to Kishimoto's Original Idea for the Manga",
          "Every Naruto Form Ranked From Weakest To Strongest"
         ],
         "legendgroup": "NARUTO",
         "marker": {
          "color": "#FF6692",
          "symbol": "circle"
         },
         "mode": "markers",
         "name": "NARUTO",
         "orientation": "v",
         "showlegend": true,
         "type": "scatter",
         "x": [
          -8.187769889831543,
          -95.29320526123047,
          -31.971073150634766
         ],
         "xaxis": "x",
         "y": [
          -103.14898681640625,
          -15.990992546081543,
          -21.48429298400879
         ],
         "yaxis": "y"
        },
        {
         "hovertemplate": "<b>%{hovertext}</b><br><br>Label=ATTACK ON TITAN<br>t-SNE Dimension 1=%{x}<br>t-SNE Dimension 2=%{y}<extra></extra>",
         "hovertext": [
          "Attack on Titan: Gabi’s Journey from Hated to Understood",
          "Attack On Titan's Controversial Time Skip Is Secretly Genius for One Reason I Can't Stop Thinking About",
          "Attack on Titan: The Last Attack Will A New Post-Credit Scene"
         ],
         "legendgroup": "ATTACK ON TITAN",
         "marker": {
          "color": "#B6E880",
          "symbol": "circle"
         },
         "mode": "markers",
         "name": "ATTACK ON TITAN",
         "orientation": "v",
         "showlegend": true,
         "type": "scatter",
         "x": [
          60.937015533447266,
          2.9903368949890137,
          39.81454849243164
         ],
         "xaxis": "x",
         "y": [
          13.609461784362793,
          -86.08086395263672,
          -152.6787109375
         ],
         "yaxis": "y"
        },
        {
         "hovertemplate": "<b>%{hovertext}</b><br><br>Label=FRUITS BASKET<br>t-SNE Dimension 1=%{x}<br>t-SNE Dimension 2=%{y}<extra></extra>",
         "hovertext": [
          "10 Best Fruits Basket Fan Ships That Never Came True",
          "10 Best Fruits Basket Fan Ships That Never Came True",
          "Fruits Basket's Famous Love Triangle Was Actually More Complicated Than Fans Think Because Of One Overlooked Character",
          "Fruits Basket's Famous Love Triangle Was Actually More Complicated Than Fans Think Because Of One Overlooked Character",
          "Fruits Basket's Famous Love Triangle Was Actually More Complicated Than Fans Think Because Of One Overlooked Character",
          "Fruits Basket's Famous Love Triangle Was Actually More Complicated Than Fans Think Because Of One Overlooked Character",
          "Fruits Basket's Famous Love Triangle Was Actually More Complicated Than Fans Think Because Of One Overlooked Character",
          "Fruits Basket's Famous Love Triangle Was Actually More Complicated Than Fans Think Because Of One Overlooked Character"
         ],
         "legendgroup": "FRUITS BASKET",
         "marker": {
          "color": "#FF97FF",
          "symbol": "circle"
         },
         "mode": "markers",
         "name": "FRUITS BASKET",
         "orientation": "v",
         "showlegend": true,
         "type": "scatter",
         "x": [
          -37.521690368652344,
          2.7635421752929688,
          -33.9398193359375,
          7.718404769897461,
          7.718404769897461,
          63.0189094543457,
          39.06442642211914,
          9.332159996032715
         ],
         "xaxis": "x",
         "y": [
          105.14556884765625,
          19.74873924255371,
          96.46825408935547,
          5.732062339782715,
          5.732062339782715,
          75.1015396118164,
          54.51585388183594,
          27.533611297607422
         ],
         "yaxis": "y"
        }
       ],
       "layout": {
        "legend": {
         "title": {
          "text": "Label"
         },
         "tracegroupgap": 0
        },
        "template": {
         "data": {
          "bar": [
           {
            "error_x": {
             "color": "#2a3f5f"
            },
            "error_y": {
             "color": "#2a3f5f"
            },
            "marker": {
             "line": {
              "color": "#E5ECF6",
              "width": 0.5
             },
             "pattern": {
              "fillmode": "overlay",
              "size": 10,
              "solidity": 0.2
             }
            },
            "type": "bar"
           }
          ],
          "barpolar": [
           {
            "marker": {
             "line": {
              "color": "#E5ECF6",
              "width": 0.5
             },
             "pattern": {
              "fillmode": "overlay",
              "size": 10,
              "solidity": 0.2
             }
            },
            "type": "barpolar"
           }
          ],
          "carpet": [
           {
            "aaxis": {
             "endlinecolor": "#2a3f5f",
             "gridcolor": "white",
             "linecolor": "white",
             "minorgridcolor": "white",
             "startlinecolor": "#2a3f5f"
            },
            "baxis": {
             "endlinecolor": "#2a3f5f",
             "gridcolor": "white",
             "linecolor": "white",
             "minorgridcolor": "white",
             "startlinecolor": "#2a3f5f"
            },
            "type": "carpet"
           }
          ],
          "choropleth": [
           {
            "colorbar": {
             "outlinewidth": 0,
             "ticks": ""
            },
            "type": "choropleth"
           }
          ],
          "contour": [
           {
            "colorbar": {
             "outlinewidth": 0,
             "ticks": ""
            },
            "colorscale": [
             [
              0,
              "#0d0887"
             ],
             [
              0.1111111111111111,
              "#46039f"
             ],
             [
              0.2222222222222222,
              "#7201a8"
             ],
             [
              0.3333333333333333,
              "#9c179e"
             ],
             [
              0.4444444444444444,
              "#bd3786"
             ],
             [
              0.5555555555555556,
              "#d8576b"
             ],
             [
              0.6666666666666666,
              "#ed7953"
             ],
             [
              0.7777777777777778,
              "#fb9f3a"
             ],
             [
              0.8888888888888888,
              "#fdca26"
             ],
             [
              1,
              "#f0f921"
             ]
            ],
            "type": "contour"
           }
          ],
          "contourcarpet": [
           {
            "colorbar": {
             "outlinewidth": 0,
             "ticks": ""
            },
            "type": "contourcarpet"
           }
          ],
          "heatmap": [
           {
            "colorbar": {
             "outlinewidth": 0,
             "ticks": ""
            },
            "colorscale": [
             [
              0,
              "#0d0887"
             ],
             [
              0.1111111111111111,
              "#46039f"
             ],
             [
              0.2222222222222222,
              "#7201a8"
             ],
             [
              0.3333333333333333,
              "#9c179e"
             ],
             [
              0.4444444444444444,
              "#bd3786"
             ],
             [
              0.5555555555555556,
              "#d8576b"
             ],
             [
              0.6666666666666666,
              "#ed7953"
             ],
             [
              0.7777777777777778,
              "#fb9f3a"
             ],
             [
              0.8888888888888888,
              "#fdca26"
             ],
             [
              1,
              "#f0f921"
             ]
            ],
            "type": "heatmap"
           }
          ],
          "heatmapgl": [
           {
            "colorbar": {
             "outlinewidth": 0,
             "ticks": ""
            },
            "colorscale": [
             [
              0,
              "#0d0887"
             ],
             [
              0.1111111111111111,
              "#46039f"
             ],
             [
              0.2222222222222222,
              "#7201a8"
             ],
             [
              0.3333333333333333,
              "#9c179e"
             ],
             [
              0.4444444444444444,
              "#bd3786"
             ],
             [
              0.5555555555555556,
              "#d8576b"
             ],
             [
              0.6666666666666666,
              "#ed7953"
             ],
             [
              0.7777777777777778,
              "#fb9f3a"
             ],
             [
              0.8888888888888888,
              "#fdca26"
             ],
             [
              1,
              "#f0f921"
             ]
            ],
            "type": "heatmapgl"
           }
          ],
          "histogram": [
           {
            "marker": {
             "pattern": {
              "fillmode": "overlay",
              "size": 10,
              "solidity": 0.2
             }
            },
            "type": "histogram"
           }
          ],
          "histogram2d": [
           {
            "colorbar": {
             "outlinewidth": 0,
             "ticks": ""
            },
            "colorscale": [
             [
              0,
              "#0d0887"
             ],
             [
              0.1111111111111111,
              "#46039f"
             ],
             [
              0.2222222222222222,
              "#7201a8"
             ],
             [
              0.3333333333333333,
              "#9c179e"
             ],
             [
              0.4444444444444444,
              "#bd3786"
             ],
             [
              0.5555555555555556,
              "#d8576b"
             ],
             [
              0.6666666666666666,
              "#ed7953"
             ],
             [
              0.7777777777777778,
              "#fb9f3a"
             ],
             [
              0.8888888888888888,
              "#fdca26"
             ],
             [
              1,
              "#f0f921"
             ]
            ],
            "type": "histogram2d"
           }
          ],
          "histogram2dcontour": [
           {
            "colorbar": {
             "outlinewidth": 0,
             "ticks": ""
            },
            "colorscale": [
             [
              0,
              "#0d0887"
             ],
             [
              0.1111111111111111,
              "#46039f"
             ],
             [
              0.2222222222222222,
              "#7201a8"
             ],
             [
              0.3333333333333333,
              "#9c179e"
             ],
             [
              0.4444444444444444,
              "#bd3786"
             ],
             [
              0.5555555555555556,
              "#d8576b"
             ],
             [
              0.6666666666666666,
              "#ed7953"
             ],
             [
              0.7777777777777778,
              "#fb9f3a"
             ],
             [
              0.8888888888888888,
              "#fdca26"
             ],
             [
              1,
              "#f0f921"
             ]
            ],
            "type": "histogram2dcontour"
           }
          ],
          "mesh3d": [
           {
            "colorbar": {
             "outlinewidth": 0,
             "ticks": ""
            },
            "type": "mesh3d"
           }
          ],
          "parcoords": [
           {
            "line": {
             "colorbar": {
              "outlinewidth": 0,
              "ticks": ""
             }
            },
            "type": "parcoords"
           }
          ],
          "pie": [
           {
            "automargin": true,
            "type": "pie"
           }
          ],
          "scatter": [
           {
            "fillpattern": {
             "fillmode": "overlay",
             "size": 10,
             "solidity": 0.2
            },
            "type": "scatter"
           }
          ],
          "scatter3d": [
           {
            "line": {
             "colorbar": {
              "outlinewidth": 0,
              "ticks": ""
             }
            },
            "marker": {
             "colorbar": {
              "outlinewidth": 0,
              "ticks": ""
             }
            },
            "type": "scatter3d"
           }
          ],
          "scattercarpet": [
           {
            "marker": {
             "colorbar": {
              "outlinewidth": 0,
              "ticks": ""
             }
            },
            "type": "scattercarpet"
           }
          ],
          "scattergeo": [
           {
            "marker": {
             "colorbar": {
              "outlinewidth": 0,
              "ticks": ""
             }
            },
            "type": "scattergeo"
           }
          ],
          "scattergl": [
           {
            "marker": {
             "colorbar": {
              "outlinewidth": 0,
              "ticks": ""
             }
            },
            "type": "scattergl"
           }
          ],
          "scattermapbox": [
           {
            "marker": {
             "colorbar": {
              "outlinewidth": 0,
              "ticks": ""
             }
            },
            "type": "scattermapbox"
           }
          ],
          "scatterpolar": [
           {
            "marker": {
             "colorbar": {
              "outlinewidth": 0,
              "ticks": ""
             }
            },
            "type": "scatterpolar"
           }
          ],
          "scatterpolargl": [
           {
            "marker": {
             "colorbar": {
              "outlinewidth": 0,
              "ticks": ""
             }
            },
            "type": "scatterpolargl"
           }
          ],
          "scatterternary": [
           {
            "marker": {
             "colorbar": {
              "outlinewidth": 0,
              "ticks": ""
             }
            },
            "type": "scatterternary"
           }
          ],
          "surface": [
           {
            "colorbar": {
             "outlinewidth": 0,
             "ticks": ""
            },
            "colorscale": [
             [
              0,
              "#0d0887"
             ],
             [
              0.1111111111111111,
              "#46039f"
             ],
             [
              0.2222222222222222,
              "#7201a8"
             ],
             [
              0.3333333333333333,
              "#9c179e"
             ],
             [
              0.4444444444444444,
              "#bd3786"
             ],
             [
              0.5555555555555556,
              "#d8576b"
             ],
             [
              0.6666666666666666,
              "#ed7953"
             ],
             [
              0.7777777777777778,
              "#fb9f3a"
             ],
             [
              0.8888888888888888,
              "#fdca26"
             ],
             [
              1,
              "#f0f921"
             ]
            ],
            "type": "surface"
           }
          ],
          "table": [
           {
            "cells": {
             "fill": {
              "color": "#EBF0F8"
             },
             "line": {
              "color": "white"
             }
            },
            "header": {
             "fill": {
              "color": "#C8D4E3"
             },
             "line": {
              "color": "white"
             }
            },
            "type": "table"
           }
          ]
         },
         "layout": {
          "annotationdefaults": {
           "arrowcolor": "#2a3f5f",
           "arrowhead": 0,
           "arrowwidth": 1
          },
          "autotypenumbers": "strict",
          "coloraxis": {
           "colorbar": {
            "outlinewidth": 0,
            "ticks": ""
           }
          },
          "colorscale": {
           "diverging": [
            [
             0,
             "#8e0152"
            ],
            [
             0.1,
             "#c51b7d"
            ],
            [
             0.2,
             "#de77ae"
            ],
            [
             0.3,
             "#f1b6da"
            ],
            [
             0.4,
             "#fde0ef"
            ],
            [
             0.5,
             "#f7f7f7"
            ],
            [
             0.6,
             "#e6f5d0"
            ],
            [
             0.7,
             "#b8e186"
            ],
            [
             0.8,
             "#7fbc41"
            ],
            [
             0.9,
             "#4d9221"
            ],
            [
             1,
             "#276419"
            ]
           ],
           "sequential": [
            [
             0,
             "#0d0887"
            ],
            [
             0.1111111111111111,
             "#46039f"
            ],
            [
             0.2222222222222222,
             "#7201a8"
            ],
            [
             0.3333333333333333,
             "#9c179e"
            ],
            [
             0.4444444444444444,
             "#bd3786"
            ],
            [
             0.5555555555555556,
             "#d8576b"
            ],
            [
             0.6666666666666666,
             "#ed7953"
            ],
            [
             0.7777777777777778,
             "#fb9f3a"
            ],
            [
             0.8888888888888888,
             "#fdca26"
            ],
            [
             1,
             "#f0f921"
            ]
           ],
           "sequentialminus": [
            [
             0,
             "#0d0887"
            ],
            [
             0.1111111111111111,
             "#46039f"
            ],
            [
             0.2222222222222222,
             "#7201a8"
            ],
            [
             0.3333333333333333,
             "#9c179e"
            ],
            [
             0.4444444444444444,
             "#bd3786"
            ],
            [
             0.5555555555555556,
             "#d8576b"
            ],
            [
             0.6666666666666666,
             "#ed7953"
            ],
            [
             0.7777777777777778,
             "#fb9f3a"
            ],
            [
             0.8888888888888888,
             "#fdca26"
            ],
            [
             1,
             "#f0f921"
            ]
           ]
          },
          "colorway": [
           "#636efa",
           "#EF553B",
           "#00cc96",
           "#ab63fa",
           "#FFA15A",
           "#19d3f3",
           "#FF6692",
           "#B6E880",
           "#FF97FF",
           "#FECB52"
          ],
          "font": {
           "color": "#2a3f5f"
          },
          "geo": {
           "bgcolor": "white",
           "lakecolor": "white",
           "landcolor": "#E5ECF6",
           "showlakes": true,
           "showland": true,
           "subunitcolor": "white"
          },
          "hoverlabel": {
           "align": "left"
          },
          "hovermode": "closest",
          "mapbox": {
           "style": "light"
          },
          "paper_bgcolor": "white",
          "plot_bgcolor": "#E5ECF6",
          "polar": {
           "angularaxis": {
            "gridcolor": "white",
            "linecolor": "white",
            "ticks": ""
           },
           "bgcolor": "#E5ECF6",
           "radialaxis": {
            "gridcolor": "white",
            "linecolor": "white",
            "ticks": ""
           }
          },
          "scene": {
           "xaxis": {
            "backgroundcolor": "#E5ECF6",
            "gridcolor": "white",
            "gridwidth": 2,
            "linecolor": "white",
            "showbackground": true,
            "ticks": "",
            "zerolinecolor": "white"
           },
           "yaxis": {
            "backgroundcolor": "#E5ECF6",
            "gridcolor": "white",
            "gridwidth": 2,
            "linecolor": "white",
            "showbackground": true,
            "ticks": "",
            "zerolinecolor": "white"
           },
           "zaxis": {
            "backgroundcolor": "#E5ECF6",
            "gridcolor": "white",
            "gridwidth": 2,
            "linecolor": "white",
            "showbackground": true,
            "ticks": "",
            "zerolinecolor": "white"
           }
          },
          "shapedefaults": {
           "line": {
            "color": "#2a3f5f"
           }
          },
          "ternary": {
           "aaxis": {
            "gridcolor": "white",
            "linecolor": "white",
            "ticks": ""
           },
           "baxis": {
            "gridcolor": "white",
            "linecolor": "white",
            "ticks": ""
           },
           "bgcolor": "#E5ECF6",
           "caxis": {
            "gridcolor": "white",
            "linecolor": "white",
            "ticks": ""
           }
          },
          "title": {
           "x": 0.05
          },
          "xaxis": {
           "automargin": true,
           "gridcolor": "white",
           "linecolor": "white",
           "ticks": "",
           "title": {
            "standoff": 15
           },
           "zerolinecolor": "white",
           "zerolinewidth": 2
          },
          "yaxis": {
           "automargin": true,
           "gridcolor": "white",
           "linecolor": "white",
           "ticks": "",
           "title": {
            "standoff": 15
           },
           "zerolinecolor": "white",
           "zerolinewidth": 2
          }
         }
        },
        "title": {
         "text": "t-SNE Clustering of Article Titles by Label"
        },
        "xaxis": {
         "anchor": "y",
         "domain": [
          0,
          1
         ],
         "title": {
          "text": "t-SNE Dimension 1"
         }
        },
        "yaxis": {
         "anchor": "x",
         "domain": [
          0,
          1
         ],
         "title": {
          "text": "t-SNE Dimension 2"
         }
        }
       }
      }
     },
     "metadata": {},
     "output_type": "display_data"
    }
   ],
   "source": [
    "import pandas as pd\n",
    "from sklearn.manifold import TSNE\n",
    "import plotly.express as px\n",
    "\n",
    "# Assuming `article_titles`, `model_input`, and `labels` are already defined\n",
    "# article_titles: List of article titles\n",
    "# model_input: Matrix of TF-IDF values for t-SNE\n",
    "# labels: Corresponding labels for each article\n",
    "\n",
    "# Step 1: Use t-SNE to reduce dimensions\n",
    "tsne_model = TSNE(n_components=2, perplexity=30, random_state=42, n_iter=1000)\n",
    "tsne_results = tsne_model.fit_transform(model_input)\n",
    "\n",
    "# Step 2: Create a DataFrame for the t-SNE results\n",
    "tsne_df = pd.DataFrame(tsne_results, columns=['TSNE1', 'TSNE2'])\n",
    "tsne_df['Title'] = article_titles  # Add titles to the DataFrame\n",
    "tsne_df['Label'] = labels  # Add labels to the DataFrame\n",
    "\n",
    "# Step 3: Plot with Plotly, coloring by 'Label'\n",
    "fig = px.scatter(\n",
    "    tsne_df,\n",
    "    x='TSNE1',\n",
    "    y='TSNE2',\n",
    "    color='Label',           # Use labels to color points\n",
    "    hover_name='Title',       # Show article title on hover\n",
    "    title=\"t-SNE Clustering of Article Titles by Label\",\n",
    "    labels={'TSNE1': 't-SNE Dimension 1', 'TSNE2': 't-SNE Dimension 2'}\n",
    ")\n",
    "\n",
    "# Display the plot\n",
    "fig.show()\n"
   ]
  },
  {
   "cell_type": "code",
   "execution_count": null,
   "metadata": {},
   "outputs": [],
   "source": []
  }
 ],
 "metadata": {
  "kernelspec": {
   "display_name": "base",
   "language": "python",
   "name": "python3"
  },
  "language_info": {
   "codemirror_mode": {
    "name": "ipython",
    "version": 3
   },
   "file_extension": ".py",
   "mimetype": "text/x-python",
   "name": "python",
   "nbconvert_exporter": "python",
   "pygments_lexer": "ipython3",
   "version": "3.12.7"
  }
 },
 "nbformat": 4,
 "nbformat_minor": 2
}
