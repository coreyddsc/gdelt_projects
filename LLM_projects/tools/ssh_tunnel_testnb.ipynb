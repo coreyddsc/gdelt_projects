{
 "cells": [
  {
   "cell_type": "code",
   "execution_count": 1,
   "metadata": {},
   "outputs": [
    {
     "name": "stderr",
     "output_type": "stream",
     "text": [
      "c:\\ProgramData\\anaconda3\\Lib\\site-packages\\paramiko\\pkey.py:82: CryptographyDeprecationWarning: TripleDES has been moved to cryptography.hazmat.decrepit.ciphers.algorithms.TripleDES and will be removed from this module in 48.0.0.\n",
      "  \"cipher\": algorithms.TripleDES,\n",
      "c:\\ProgramData\\anaconda3\\Lib\\site-packages\\paramiko\\transport.py:219: CryptographyDeprecationWarning: Blowfish has been moved to cryptography.hazmat.decrepit.ciphers.algorithms.Blowfish and will be removed from this module in 45.0.0.\n",
      "  \"class\": algorithms.Blowfish,\n",
      "c:\\ProgramData\\anaconda3\\Lib\\site-packages\\paramiko\\transport.py:243: CryptographyDeprecationWarning: TripleDES has been moved to cryptography.hazmat.decrepit.ciphers.algorithms.TripleDES and will be removed from this module in 48.0.0.\n",
      "  \"class\": algorithms.TripleDES,\n"
     ]
    }
   ],
   "source": [
    "from ssh_tunnel import *"
   ]
  },
  {
   "cell_type": "code",
   "execution_count": 2,
   "metadata": {},
   "outputs": [],
   "source": [
    "# Provide your SSH credentials\n",
    "HOSTNAME = \"lambda2.uncw.edu\"  # Replace with your remote host\n",
    "USERNAME = \"cld1465\"            # Replace with your SSH username\n",
    "PASSWORD = getpass.getpass(\"Enter your password: \")\n"
   ]
  },
  {
   "cell_type": "code",
   "execution_count": 3,
   "metadata": {},
   "outputs": [
    {
     "name": "stdout",
     "output_type": "stream",
     "text": [
      "Connected to lambda2.uncw.edu\n"
     ]
    }
   ],
   "source": [
    "# Create an instance of SSHConnection and connect\n",
    "ssh_conn = SSHConnection(HOSTNAME, USERNAME, PASSWORD)\n",
    "ssh_conn.connect()"
   ]
  },
  {
   "cell_type": "code",
   "execution_count": 4,
   "metadata": {},
   "outputs": [
    {
     "name": "stdout",
     "output_type": "stream",
     "text": [
      "Fri Nov 29 19:47:11 2024       \n",
      "+---------------------------------------------------------------------------------------+\n",
      "| NVIDIA-SMI 535.161.07             Driver Version: 535.161.07   CUDA Version: 12.2     |\n",
      "|-----------------------------------------+----------------------+----------------------+\n",
      "| GPU  Name                 Persistence-M | Bus-Id        Disp.A | Volatile Uncorr. ECC |\n",
      "| Fan  Temp   Perf          Pwr:Usage/Cap |         Memory-Usage | GPU-Util  Compute M. |\n",
      "|                                         |                      |               MIG M. |\n",
      "|=========================================+======================+======================|\n",
      "|   0  NVIDIA RTX A6000               On  | 00000000:2E:00.0 Off |                  Off |\n",
      "| 30%   31C    P8              29W / 300W |  17062MiB / 49140MiB |      0%      Default |\n",
      "|                                         |                      |                  N/A |\n",
      "+-----------------------------------------+----------------------+----------------------+\n",
      "|   1  NVIDIA RTX A6000               On  | 00000000:41:00.0 Off |                  Off |\n",
      "| 30%   35C    P8              30W / 300W |     13MiB / 49140MiB |      0%      Default |\n",
      "|                                         |                      |                  N/A |\n",
      "+-----------------------------------------+----------------------+----------------------+\n",
      "                                                                                         \n",
      "+---------------------------------------------------------------------------------------+\n",
      "| Processes:                                                                            |\n",
      "|  GPU   GI   CI        PID   Type   Process name                            GPU Memory |\n",
      "|        ID   ID                                                             Usage      |\n",
      "|=======================================================================================|\n",
      "|    0   N/A  N/A      2162      G   /usr/lib/xorg/Xorg                            4MiB |\n",
      "|    0   N/A  N/A     34515      C   /opt/conda/bin/python3.10                 17046MiB |\n",
      "|    1   N/A  N/A      2162      G   /usr/lib/xorg/Xorg                            4MiB |\n",
      "+---------------------------------------------------------------------------------------+\n",
      "\n"
     ]
    }
   ],
   "source": [
    "# You can now run commands on the remote server, for example:\n",
    "output = ssh_conn.execute_command(\"nvidia-smi\")\n",
    "print(output)"
   ]
  },
  {
   "cell_type": "code",
   "execution_count": 5,
   "metadata": {},
   "outputs": [
    {
     "name": "stdout",
     "output_type": "stream",
     "text": [
      "total 248004\n",
      "-rw-rw-r--  1 cld1465 cld1465     55481 Nov 22 13:31 JobsDash.zip\n",
      "drwxrwxr-x  3 cld1465 cld1465      4096 Oct 24 12:58 nltk_data\n",
      "drwxrwxr-x  7 cld1465 cld1465      4096 Nov 28 18:27 notebooks\n",
      "drwxrwxrwx 13 cld1465 cld1465      4096 Nov 18 09:31 ResumeCV\n",
      "-rw-rw-r--  1 cld1465 cld1465 253867025 Nov 20 09:16 ResumeCV.zip\n",
      "drwxrwxr-x  3 cld1465 cld1465      4096 Nov 29 19:33 scripts\n",
      "drwx------  3 cld1465 cld1465      4096 Oct 15 10:49 snap\n",
      "drwxrwxr-x  2 cld1465 cld1465      4096 Nov 10 18:12 zips\n",
      "\n"
     ]
    }
   ],
   "source": [
    "# You can now run commands on the remote server, for example:\n",
    "\n",
    "output = ssh_conn.execute_command(\"ls -l\")\n",
    "print(output)\n",
    "\n",
    "# command = \"/opt/anaconda3/bin/python3 /home/cld1465/scripts/summarize_script.py\"\n",
    "# output = ssh_conn.execute_command(command)\n",
    "# print(output)\n"
   ]
  },
  {
   "cell_type": "code",
   "execution_count": 6,
   "metadata": {},
   "outputs": [
    {
     "name": "stdout",
     "output_type": "stream",
     "text": [
      "Error: Asking to truncate to max_length but no maximum length is provided and the model has no predefined maximum length. Default to no truncation.\n",
      "\n",
      "/opt/anaconda3/bin/python3\n",
      "{\"summary\": \"Elbaf is an arc that fans have been waiting for, and it could potentially be even bigger . fans do not know if Loki is actually a god or if he is even called a God . a new character was introduced with the title of Sun God in one piece chapter 1128 . this character is going to play an incredibly exciting role in the future ofOne Piece, says cnn's tom hanks .\"}\n",
      "\n"
     ]
    }
   ],
   "source": [
    "import shlex\n",
    "input_text = [\"This article contains spoilers from One Piece's Elbaf Arc.One Piecehas markeda brilliant start to the Elbaf Arc, and fans are incredibly excited to see what direction Oda takes in this story arc. Elbaf is an arc that fans I've been waiting ages for. In fact, it is an arc that was set up in the story before even Wano was hinted at, and in many ways, this arc could potentially be even bigger. This might just be the biggest Arc inOne Piece, which means that Oda will introduce some of the most important characters here, and have others who have already been introduced in the story, such as Shanks, play a very important role.Of course, when it comes to the newly introduced characters, those from Elbaf are likely to be inspired by Norse mythology. Fans know for a fact that the Elbaf takes root deep in Norse mythology, and the many gods that fans know exist, such as Loki, will make an appearance in this story arc at some point. Recently, Oda introduced one such God to the fans, and this sets up even better things to come in the future ofOne Piece. While Elbaf has many godly inspired characters, such as Loki, none of them have actually been confirmed to be gods. Loki is simply a giant that exists in Elbaf, and he is a prince of the Kingdom. Fans do not know if Loki actually holds a godly position or is even called a God. That depends on what Oda wants to do with the story, and how he will describe the culture of Elbaf to be. Perhaps, in the Land of Elbaf, people hold important positions with the title of God, similar to Skypiea. Perhaps that is not the case, and Loki, among other Giants who are inspired by Gods, is simply a normal Giants with a lot of power. Fans do not know much about that yet. We must report this incident to the Sun God immediately! But, there is an exception. In Elbaf, there is a certain God that is worshiped by all.This is the Sun God, also known as Nika.Fans know that the tale of the Sun God Nika actually stems from the land of Elbaf, as was confirmed in the Egghead Island Arc by Vegapunk himself. Fans know for a fact that the tales of the Sun God Nika from Elbaf precede even Joy Boy, who existed 800 years ago in theOne Pieceworld. Nika existed as a legend from Elbaf, and whether this God was real or not is something that no one really knows. What fans know for a fact is that Elbaf worships Nika as a true God, and so far, this particular person is the only God that fans know exists in the land. The East Blue 5, Luffy, Zoro, Nami, Usopp, and Sanji have a huge role to play in One Piece's Elbaf. Right now, fans know that the title of Sun God belongs to none other than Luffy. He ate the Gomu Gomu no Mi, and with it, gained the powers of Nika. However, recently, a new character was introduced with the title of Sun God. This character was seen in the fake Elbaf that the Straw Hat Pirates found themselves in. This character was recently revealed in One Piece chapter 1128, and it is safe to say that they are going to play an incredibly exciting role in the future of One Piece. Of course, the legitimacy of the Sun God title that this character holds is still up for debate. Given that Luffy is the Sun God, it is highly likely that this person is actually not a Sun God at all and just pretends to be the Sun God, just as they seem to love to be the ruler of a world that they create themselves.\"]\n",
    "# Safely escape the text to avoid breaking the shell command\n",
    "escaped_text = shlex.quote(input_text[0])  # This will ensure that the text is safely quoted\n",
    "\n",
    "# Create the command to execute the Python script remotely, passing the input via stdin\n",
    "command = f\"echo {escaped_text} | /opt/anaconda3/bin/python3 scripts/summarize_script.py\"\n",
    "\n",
    "output = ssh_conn.execute_command(command)\n",
    "print(output)"
   ]
  },
  {
   "cell_type": "code",
   "execution_count": 7,
   "metadata": {},
   "outputs": [
    {
     "name": "stdout",
     "output_type": "stream",
     "text": [
      "SSH connection closed.\n"
     ]
    }
   ],
   "source": [
    "# After you're done, you can close the connection\n",
    "ssh_conn.close()"
   ]
  },
  {
   "cell_type": "code",
   "execution_count": 14,
   "metadata": {},
   "outputs": [
    {
     "name": "stdout",
     "output_type": "stream",
     "text": [
      "This article contains spoilers from One Piece's Elbaf Arc . One pieces marked brilliant start to the Elbaf Arc . . .\n"
     ]
    }
   ],
   "source": [
    "import re\n",
    "from spellchecker import SpellChecker\n",
    "\n",
    "# Input text\n",
    "text = \"\"\"This article contains spoilers from One Piece's Elbaf Arc.One Piecehas markeda brilliant start to the Elbaf Arc...\"\"\"  \n",
    "\n",
    "# Initialize the spell checker\n",
    "spell = SpellChecker()\n",
    "\n",
    "# List of known exceptions that should not be corrected\n",
    "exceptions = {'One', 'Piece', 'Elbaf', 'Arc', 'Nika', 'Luffy', 'Zoro', 'Nami', 'Usopp', 'Sanji'}\n",
    "\n",
    "# Function to handle punctuation and fix joined words\n",
    "def fix_joined_words(text):\n",
    "    # Step 1: Ensure space after period if no space exists\n",
    "    text = re.sub(r'(?<=\\.)\\s*(?=[a-zA-Z])', ' ', text)\n",
    "\n",
    "    # Step 2: Split the text into words and punctuation\n",
    "    words = re.findall(r\"[\\w']+|[.,!?;]\", text)  # Regex to match words and punctuation\n",
    "\n",
    "    corrected_words = []\n",
    "\n",
    "    for word in words:\n",
    "        # Step 3: Check if the word is in the exceptions list (case-sensitive)\n",
    "        if word in exceptions:\n",
    "            corrected_words.append(word)\n",
    "        else:\n",
    "            # Step 4: Apply spell checking only to the word part, preserve punctuation\n",
    "            if word.isalpha():  # Only check alphabetic words (ignore punctuation)\n",
    "                corrected_word = spell.correction(word)\n",
    "                # If no correction found, keep the original word\n",
    "                if corrected_word is None:\n",
    "                    corrected_word = word\n",
    "                corrected_words.append(corrected_word)\n",
    "            else:\n",
    "                # If the word is punctuation (not alphabetic), just append it\n",
    "                corrected_words.append(word)\n",
    "    \n",
    "    # Step 5: Join words back together with proper space handling\n",
    "    # Here we ensure that we don't collapse spaces unnecessarily\n",
    "    cleaned_text = ' '.join(corrected_words).strip()\n",
    "\n",
    "    # Step 6: Special handling for cases like \"OnePiece\" or \"ElbafArc\" to keep them intact\n",
    "    for exc in exceptions:\n",
    "        cleaned_text = re.sub(rf'(?<=\\w){exc}(?=\\w)', exc, cleaned_text)\n",
    "\n",
    "    return cleaned_text\n",
    "\n",
    "# Fixing the text\n",
    "cleaned_text = fix_joined_words(text)\n",
    "\n",
    "print(cleaned_text)\n"
   ]
  },
  {
   "cell_type": "code",
   "execution_count": 18,
   "metadata": {},
   "outputs": [
    {
     "name": "stdout",
     "output_type": "stream",
     "text": [
      "['This', 'article', 'contains', 'spoilers', 'from', 'One', 'Piece', \"'s\", 'Elbaf', 'Arc', '.', 'One', 'Piecehas', 'markeda', 'brilliant', 'start', '.']\n"
     ]
    }
   ],
   "source": [
    "import re\n",
    "import spacy\n",
    "\n",
    "# Load the spaCy model\n",
    "nlp = spacy.load(\"en_core_web_sm\")\n",
    "\n",
    "# Input text\n",
    "text = \"This article contains spoilers from One Piece's Elbaf Arc.One Piecehas markeda brilliant start.\"\n",
    "\n",
    "# Step 1: Add spaces between words that are not recognized\n",
    "# Use regular expressions to identify common word boundaries (e.g., after periods or other punctuation)\n",
    "text = re.sub(r'(?<=\\w)(?=[A-Z])', r' ', text)  # Add space before uppercase letters\n",
    "\n",
    "# Step 2: Tokenize with spaCy\n",
    "doc = nlp(text)\n",
    "\n",
    "# Print tokens\n",
    "tokens = [token.text for token in doc]\n",
    "print(tokens)\n",
    "\n"
   ]
  },
  {
   "cell_type": "code",
   "execution_count": 20,
   "metadata": {},
   "outputs": [
    {
     "name": "stdout",
     "output_type": "stream",
     "text": [
      "['This', 'article', 'contains', 'spoilers', 'from', 'One', \"Piece's\", 'Elbaf', 'Arc.One', 'Piecehas', 'markeda', 'brilliant', 'start.']\n"
     ]
    }
   ],
   "source": [
    "import spacy\n",
    "from spacy.tokens import Doc\n",
    "from spacy.tokenizer import Tokenizer\n",
    "\n",
    "# Load the SpaCy model\n",
    "nlp = spacy.load(\"en_core_web_sm\")\n",
    "\n",
    "# Custom tokenizer function\n",
    "def custom_tokenizer(nlp):\n",
    "    # Create a custom tokenizer\n",
    "    infix_re = re.compile(r'(?<=\\w)(?=[A-Z])')  # Define custom rules (similar to regex above)\n",
    "    return Tokenizer(nlp.vocab, rules=nlp.Defaults.tokenizer_exceptions, infix_finditer=infix_re.finditer)\n",
    "\n",
    "# Apply custom tokenizer\n",
    "nlp.tokenizer = custom_tokenizer(nlp)\n",
    "\n",
    "# Input text\n",
    "text = \"This article contains spoilers from One Piece's Elbaf Arc.One Piecehas markeda brilliant start.\"\n",
    "\n",
    "# Tokenize with the custom tokenizer\n",
    "doc = nlp(text)\n",
    "\n",
    "# Print tokens\n",
    "tokens = [token.text for token in doc]\n",
    "print(tokens)\n"
   ]
  },
  {
   "cell_type": "code",
   "execution_count": 19,
   "metadata": {},
   "outputs": [
    {
     "name": "stdout",
     "output_type": "stream",
     "text": [
      "This article contains spoilers from One Piece's Elbaf arcane pieces marked brilliant start to the Elbaf Arc...\n"
     ]
    }
   ],
   "source": [
    "from spellchecker import SpellChecker\n",
    "\n",
    "# Input text\n",
    "text = \"\"\"This article contains spoilers from One Piece's Elbaf Arc.One Piecehas markeda brilliant start to the Elbaf Arc...\"\"\"  \n",
    "\n",
    "# Initialize the spell checker\n",
    "spell = SpellChecker()\n",
    "\n",
    "# List of known exceptions that should not be corrected\n",
    "exceptions = {'One', 'Piece', 'Elbaf', 'Arc', 'Nika', 'Luffy', 'Zoro', 'Nami', 'Usopp', 'Sanji'}\n",
    "\n",
    "# Function to clean and fix joined words\n",
    "def fix_joined_words(text):\n",
    "    # Split the text into words\n",
    "    words = text.split()\n",
    "\n",
    "    corrected_words = []\n",
    "\n",
    "    for word in words:\n",
    "        # Check if the word is in the exceptions list (case-sensitive)\n",
    "        if word in exceptions:\n",
    "            corrected_words.append(word)\n",
    "        else:\n",
    "            # Get the most likely correction\n",
    "            corrected_word = spell.correction(word)\n",
    "\n",
    "            # If the word is unrecognized, keep the original word\n",
    "            if corrected_word is None:\n",
    "                corrected_word = word\n",
    "\n",
    "            # Append the corrected word\n",
    "            corrected_words.append(corrected_word)\n",
    "    \n",
    "    return ' '.join(corrected_words)\n",
    "\n",
    "# Fixing the text\n",
    "cleaned_text = fix_joined_words(text)\n",
    "\n",
    "print(cleaned_text)\n"
   ]
  },
  {
   "cell_type": "code",
   "execution_count": 12,
   "metadata": {},
   "outputs": [
    {
     "ename": "ModuleNotFoundError",
     "evalue": "No module named 'hunspell'",
     "output_type": "error",
     "traceback": [
      "\u001b[1;31m---------------------------------------------------------------------------\u001b[0m",
      "\u001b[1;31mModuleNotFoundError\u001b[0m                       Traceback (most recent call last)",
      "Cell \u001b[1;32mIn[12], line 1\u001b[0m\n\u001b[1;32m----> 1\u001b[0m \u001b[38;5;28;01mimport\u001b[39;00m \u001b[38;5;21;01mhunspell\u001b[39;00m\n\u001b[0;32m      3\u001b[0m \u001b[38;5;66;03m# Initialize Hunspell\u001b[39;00m\n\u001b[0;32m      4\u001b[0m h \u001b[38;5;241m=\u001b[39m hunspell\u001b[38;5;241m.\u001b[39mHunSpell(\u001b[38;5;124m'\u001b[39m\u001b[38;5;124m/path/to/dictionary.dic\u001b[39m\u001b[38;5;124m'\u001b[39m, \u001b[38;5;124m'\u001b[39m\u001b[38;5;124m/path/to/dictionary.aff\u001b[39m\u001b[38;5;124m'\u001b[39m)\n",
      "\u001b[1;31mModuleNotFoundError\u001b[0m: No module named 'hunspell'"
     ]
    }
   ],
   "source": [
    "import hunspell\n",
    "\n",
    "# Initialize Hunspell\n",
    "h = hunspell.HunSpell('/path/to/dictionary.dic', '/path/to/dictionary.aff')\n",
    "\n",
    "text = \"\"\"This article contains spoilers from One Piece's Elbaf Arc.One Piecehas markeda brilliant start to the Elbaf Arc...\"\"\"\n",
    "\n",
    "# Function to check and correct text\n",
    "def correct_with_hunspell(text):\n",
    "    words = text.split()\n",
    "    corrected_text = []\n",
    "\n",
    "    for word in words:\n",
    "        if not h.spell(word):  # If word is misspelled\n",
    "            suggestions = h.suggest(word)\n",
    "            if suggestions:\n",
    "                corrected_text.append(suggestions[0])  # Add the first suggestion\n",
    "            else:\n",
    "                corrected_text.append(word)  # No suggestion, add the original word\n",
    "        else:\n",
    "            corrected_text.append(word)  # Word is correct\n",
    "\n",
    "    return ' '.join(corrected_text)\n",
    "\n",
    "# Correct the text\n",
    "cleaned_text = correct_with_hunspell(text)\n",
    "print(cleaned_text)\n"
   ]
  }
 ],
 "metadata": {
  "kernelspec": {
   "display_name": "base",
   "language": "python",
   "name": "python3"
  },
  "language_info": {
   "codemirror_mode": {
    "name": "ipython",
    "version": 3
   },
   "file_extension": ".py",
   "mimetype": "text/x-python",
   "name": "python",
   "nbconvert_exporter": "python",
   "pygments_lexer": "ipython3",
   "version": "3.12.7"
  }
 },
 "nbformat": 4,
 "nbformat_minor": 2
}
