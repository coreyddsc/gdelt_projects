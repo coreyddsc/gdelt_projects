{
 "cells": [
  {
   "cell_type": "code",
   "execution_count": 1,
   "metadata": {},
   "outputs": [
    {
     "name": "stdout",
     "output_type": "stream",
     "text": [
      "here\n"
     ]
    }
   ],
   "source": [
    "import os\n",
    "import re\n",
    "import pandas as pd\n",
    "import numpy as np\n",
    "import requests\n",
    "from requests.adapters import HTTPAdapter\n",
    "from requests.packages.urllib3.util.retry import Retry\n",
    "import json\n",
    "from datetime import date, datetime, timedelta\n",
    "from bs4 import BeautifulSoup\n",
    "import gdelt # for gdelt searchs\n",
    "from gkg_tools import * # for gkg searchs\n",
    "\n",
    "import warnings\n",
    "\n",
    "with warnings.catch_warnings():\n",
    "    warnings.filterwarnings(\"ignore\", category=UserWarning, module=\"gdelt.parallel\")\n",
    "    # The code that triggers warnings\n"
   ]
  },
  {
   "cell_type": "code",
   "execution_count": 2,
   "metadata": {},
   "outputs": [],
   "source": [
    "\n",
    "# GDELT GKG Operator\n",
    "class gkg_operator:\n",
    "    def __init__(self):\n",
    "        self.gdv2 = gdelt.gdelt(version=2) # Instantiate the GDELT object for searches\n",
    "        self.current_date = date.today().strftime('%Y %b %d')\n",
    "        self.search_date = [self.current_date]\n",
    "\n",
    "    def set_date(self, date):\n",
    "        \"\"\"\n",
    "        date format: 'YYYY MM DD', ex. '2021 Jan 01'\n",
    "        \"\"\"\n",
    "        if isinstance(date, str):\n",
    "            self.search_date = [date]\n",
    "        elif isinstance(date, list):\n",
    "            self.search_date = date\n",
    "        else:\n",
    "            print('Invalid date input. Please input a string or list of strings in the format \"YYYY MM DD\"')\n",
    "\n",
    "    def get_gkg(self):\n",
    "        self.gkg_query = self.gdv2.Search(date=self.search_date, table='gkg', normcols = True, coverage=True)\n",
    "\n",
    "\n",
    "    def gkg_persons(self, persons):\n",
    "        df = self.gkg_query.copy()\n",
    "        df.dropna(subset=['v2persons'], inplace=True)\n",
    "        if isinstance(persons, list):\n",
    "            # format to regex or expression\n",
    "            persons = '|'.join(persons)\n",
    "        \n",
    "        df = df[df['v2persons'].str.contains(persons, case=False)]\n",
    "        return df"
   ]
  },
  {
   "cell_type": "code",
   "execution_count": 3,
   "metadata": {},
   "outputs": [
    {
     "data": {
      "text/plain": [
       "'2024 Oct 24'"
      ]
     },
     "execution_count": 3,
     "metadata": {},
     "output_type": "execute_result"
    }
   ],
   "source": [
    "gkg = gkg_operator() # create a gkg operator\n",
    "gkg.current_date"
   ]
  },
  {
   "cell_type": "code",
   "execution_count": 4,
   "metadata": {},
   "outputs": [
    {
     "data": {
      "text/plain": [
       "['2024 Oct 20', '2024 Oct 21']"
      ]
     },
     "execution_count": 4,
     "metadata": {},
     "output_type": "execute_result"
    }
   ],
   "source": [
    "gkg.set_date(['2024 Oct 20', '2024 Oct 21']) # set the date range for the search\n",
    "gkg.search_date"
   ]
  },
  {
   "cell_type": "code",
   "execution_count": 5,
   "metadata": {},
   "outputs": [],
   "source": [
    "gkg.get_gkg()"
   ]
  },
  {
   "cell_type": "code",
   "execution_count": 6,
   "metadata": {},
   "outputs": [
    {
     "name": "stdout",
     "output_type": "stream",
     "text": [
      "<class 'pandas.core.frame.DataFrame'>\n",
      "RangeIndex: 216026 entries, 0 to 216025\n",
      "Data columns (total 27 columns):\n",
      " #   Column                      Non-Null Count   Dtype  \n",
      "---  ------                      --------------   -----  \n",
      " 0   gkgrecordid                 216026 non-null  object \n",
      " 1   date                        216026 non-null  int64  \n",
      " 2   sourcecollectionidentifier  216026 non-null  int64  \n",
      " 3   sourcecommonname            216026 non-null  object \n",
      " 4   documentidentifier          216026 non-null  object \n",
      " 5   counts                      25501 non-null   object \n",
      " 6   v2counts                    25501 non-null   object \n",
      " 7   themes                      192134 non-null  object \n",
      " 8   v2themes                    192134 non-null  object \n",
      " 9   locations                   162017 non-null  object \n",
      " 10  v2locations                 161808 non-null  object \n",
      " 11  persons                     168206 non-null  object \n",
      " 12  v2persons                   166261 non-null  object \n",
      " 13  organizations               156207 non-null  object \n",
      " 14  v2organizations             149668 non-null  object \n",
      " 15  v2tone                      216026 non-null  object \n",
      " 16  dates                       78714 non-null   object \n",
      " 17  gcam                        216026 non-null  object \n",
      " 18  sharingimage                184966 non-null  object \n",
      " 19  relatedimages               26353 non-null   object \n",
      " 20  socialimageembeds           19684 non-null   object \n",
      " 21  socialvideoembeds           104617 non-null  object \n",
      " 22  quotations                  49213 non-null   object \n",
      " 23  allnames                    204453 non-null  object \n",
      " 24  amounts                     161309 non-null  object \n",
      " 25  translationinfo             0 non-null       float64\n",
      " 26  extras                      216026 non-null  object \n",
      "dtypes: float64(1), int64(2), object(24)\n",
      "memory usage: 44.5+ MB\n"
     ]
    }
   ],
   "source": [
    "gkg.gkg_query.info()"
   ]
  },
  {
   "cell_type": "code",
   "execution_count": 7,
   "metadata": {},
   "outputs": [
    {
     "data": {
      "text/html": [
       "<div>\n",
       "<style scoped>\n",
       "    .dataframe tbody tr th:only-of-type {\n",
       "        vertical-align: middle;\n",
       "    }\n",
       "\n",
       "    .dataframe tbody tr th {\n",
       "        vertical-align: top;\n",
       "    }\n",
       "\n",
       "    .dataframe thead th {\n",
       "        text-align: right;\n",
       "    }\n",
       "</style>\n",
       "<table border=\"1\" class=\"dataframe\">\n",
       "  <thead>\n",
       "    <tr style=\"text-align: right;\">\n",
       "      <th></th>\n",
       "      <th>gkgrecordid</th>\n",
       "      <th>date</th>\n",
       "      <th>sourcecollectionidentifier</th>\n",
       "      <th>sourcecommonname</th>\n",
       "      <th>documentidentifier</th>\n",
       "      <th>counts</th>\n",
       "      <th>v2counts</th>\n",
       "      <th>themes</th>\n",
       "      <th>v2themes</th>\n",
       "      <th>locations</th>\n",
       "      <th>...</th>\n",
       "      <th>gcam</th>\n",
       "      <th>sharingimage</th>\n",
       "      <th>relatedimages</th>\n",
       "      <th>socialimageembeds</th>\n",
       "      <th>socialvideoembeds</th>\n",
       "      <th>quotations</th>\n",
       "      <th>allnames</th>\n",
       "      <th>amounts</th>\n",
       "      <th>translationinfo</th>\n",
       "      <th>extras</th>\n",
       "    </tr>\n",
       "  </thead>\n",
       "  <tbody>\n",
       "    <tr>\n",
       "      <th>0</th>\n",
       "      <td>20241020000000-0</td>\n",
       "      <td>20241020000000</td>\n",
       "      <td>1</td>\n",
       "      <td>bostonherald.com</td>\n",
       "      <td>https://www.bostonherald.com/2024/10/19/kamala...</td>\n",
       "      <td>NaN</td>\n",
       "      <td>NaN</td>\n",
       "      <td>RURAL;USPEC_POLITICS_GENERAL1;EPU_POLICY;EPU_P...</td>\n",
       "      <td>USPEC_POLITICS_GENERAL1,218;EPU_POLICY_CONGRES...</td>\n",
       "      <td>2#Maine, United States#US#USME#44.6074#-69.397...</td>\n",
       "      <td>...</td>\n",
       "      <td>wc:48,c12.10:5,c12.13:4,c12.14:1,c12.8:4,c12.9...</td>\n",
       "      <td>https://www.bostonherald.com/wp-content/upload...</td>\n",
       "      <td>NaN</td>\n",
       "      <td>NaN</td>\n",
       "      <td>NaN</td>\n",
       "      <td>NaN</td>\n",
       "      <td>NaN</td>\n",
       "      <td>NaN</td>\n",
       "      <td>NaN</td>\n",
       "      <td>&lt;PAGE_LINKS&gt;https://checkout.bostonherald.com/...</td>\n",
       "    </tr>\n",
       "    <tr>\n",
       "      <th>1</th>\n",
       "      <td>20241020000000-1</td>\n",
       "      <td>20241020000000</td>\n",
       "      <td>1</td>\n",
       "      <td>cbsnews.com</td>\n",
       "      <td>https://www.cbsnews.com/boston/news/volleyball...</td>\n",
       "      <td>NaN</td>\n",
       "      <td>NaN</td>\n",
       "      <td>EDUCATION;</td>\n",
       "      <td>EDUCATION,35;EDUCATION,93;EDUCATION,385;EDUCAT...</td>\n",
       "      <td>1#Angola#AO#AO#-12.5#18.5#AO;1#Portugal#PO#PO#...</td>\n",
       "      <td>...</td>\n",
       "      <td>wc:502,c12.1:57,c12.10:44,c12.12:11,c12.13:14,...</td>\n",
       "      <td>https://assets1.cbsnewsstatic.com/hub/i/r/2024...</td>\n",
       "      <td>NaN</td>\n",
       "      <td>NaN</td>\n",
       "      <td>https://youtube.com/CBSBoston/;</td>\n",
       "      <td>NaN</td>\n",
       "      <td>Newton South High School,30;Newton South High ...</td>\n",
       "      <td>NaN</td>\n",
       "      <td>NaN</td>\n",
       "      <td>&lt;PAGE_ALTURL_AMP&gt;https://www.cbsnews.com/amp/b...</td>\n",
       "    </tr>\n",
       "    <tr>\n",
       "      <th>2</th>\n",
       "      <td>20241020000000-2</td>\n",
       "      <td>20241020000000</td>\n",
       "      <td>1</td>\n",
       "      <td>legallyindia.com</td>\n",
       "      <td>https://www.legallyindia.com/convos/topic/4006...</td>\n",
       "      <td>NaN</td>\n",
       "      <td>NaN</td>\n",
       "      <td>TRIAL;TAX_FNCACT;TAX_FNCACT_LAWYERS;LEGISLATIO...</td>\n",
       "      <td>TAX_FNCACT_MODERATORS,998;TRIAL,76;TAX_FNCACT_...</td>\n",
       "      <td>NaN</td>\n",
       "      <td>...</td>\n",
       "      <td>wc:169,c12.1:26,c12.10:24,c12.12:5,c12.13:10,c...</td>\n",
       "      <td>NaN</td>\n",
       "      <td>NaN</td>\n",
       "      <td>NaN</td>\n",
       "      <td>NaN</td>\n",
       "      <td>NaN</td>\n",
       "      <td>NaN</td>\n",
       "      <td>NaN</td>\n",
       "      <td>NaN</td>\n",
       "      <td>&lt;PAGE_LINKS&gt;https://www.legallyindia.com/convo...</td>\n",
       "    </tr>\n",
       "    <tr>\n",
       "      <th>3</th>\n",
       "      <td>20241020000000-3</td>\n",
       "      <td>20241020000000</td>\n",
       "      <td>1</td>\n",
       "      <td>kgw.com</td>\n",
       "      <td>https://www.kgw.com/article/news/nation-world/...</td>\n",
       "      <td>NaN</td>\n",
       "      <td>NaN</td>\n",
       "      <td>TAX_DISEASE;TAX_DISEASE_LISTERIA;TAX_FNCACT;TA...</td>\n",
       "      <td>TAX_FOODSTAPLES_MEAT,1532;GENERAL_HEALTH,655;G...</td>\n",
       "      <td>3#Washington, Washington, United States#US#USD...</td>\n",
       "      <td>...</td>\n",
       "      <td>wc:339,c12.1:13,c12.10:42,c12.12:21,c12.13:10,...</td>\n",
       "      <td>https://media.kgw.com/assets/CCT/images/d78ac3...</td>\n",
       "      <td>NaN</td>\n",
       "      <td>NaN</td>\n",
       "      <td>NaN</td>\n",
       "      <td>NaN</td>\n",
       "      <td>House Foods,447;Great Value,835;Food Lion,905;...</td>\n",
       "      <td>500,types of frozen waffles,101;100,of frozen ...</td>\n",
       "      <td>NaN</td>\n",
       "      <td>&lt;PAGE_LINKS&gt;https://www.cdc.gov/listeria/about...</td>\n",
       "    </tr>\n",
       "    <tr>\n",
       "      <th>4</th>\n",
       "      <td>20241020000000-4</td>\n",
       "      <td>20241020000000</td>\n",
       "      <td>1</td>\n",
       "      <td>delphosherald.com</td>\n",
       "      <td>https://www.delphosherald.com/news/state_natio...</td>\n",
       "      <td>NaN</td>\n",
       "      <td>NaN</td>\n",
       "      <td>TAX_ETHNICITY;TAX_ETHNICITY_AMERICANS;EDUCATIO...</td>\n",
       "      <td>TAX_FNCACT_STUDENTS,455;ELECTION,203;EDUCATION...</td>\n",
       "      <td>2#California, United States#US#USCA#36.17#-119...</td>\n",
       "      <td>...</td>\n",
       "      <td>wc:119,c1.3:1,c12.1:6,c12.10:4,c12.12:2,c12.13...</td>\n",
       "      <td>https://bloximages.chicago2.vip.townnews.com/d...</td>\n",
       "      <td>NaN</td>\n",
       "      <td>NaN</td>\n",
       "      <td>https://youtube.com/channel/UC05lbn0KutzwDoSX6...</td>\n",
       "      <td>797|115||%96J H2?E E@ 36 : ?G@=G65 : ? E96 : C...</td>\n",
       "      <td>Center Square,21</td>\n",
       "      <td>200,likely voters,160;2,=@E @7 &gt;6DD28,878;</td>\n",
       "      <td>NaN</td>\n",
       "      <td>&lt;PAGE_AUTHORS&gt;Brendan Clarey | The Center Squa...</td>\n",
       "    </tr>\n",
       "  </tbody>\n",
       "</table>\n",
       "<p>5 rows × 27 columns</p>\n",
       "</div>"
      ],
      "text/plain": [
       "        gkgrecordid            date  sourcecollectionidentifier  \\\n",
       "0  20241020000000-0  20241020000000                           1   \n",
       "1  20241020000000-1  20241020000000                           1   \n",
       "2  20241020000000-2  20241020000000                           1   \n",
       "3  20241020000000-3  20241020000000                           1   \n",
       "4  20241020000000-4  20241020000000                           1   \n",
       "\n",
       "    sourcecommonname                                 documentidentifier  \\\n",
       "0   bostonherald.com  https://www.bostonherald.com/2024/10/19/kamala...   \n",
       "1        cbsnews.com  https://www.cbsnews.com/boston/news/volleyball...   \n",
       "2   legallyindia.com  https://www.legallyindia.com/convos/topic/4006...   \n",
       "3            kgw.com  https://www.kgw.com/article/news/nation-world/...   \n",
       "4  delphosherald.com  https://www.delphosherald.com/news/state_natio...   \n",
       "\n",
       "  counts v2counts                                             themes  \\\n",
       "0    NaN      NaN  RURAL;USPEC_POLITICS_GENERAL1;EPU_POLICY;EPU_P...   \n",
       "1    NaN      NaN                                         EDUCATION;   \n",
       "2    NaN      NaN  TRIAL;TAX_FNCACT;TAX_FNCACT_LAWYERS;LEGISLATIO...   \n",
       "3    NaN      NaN  TAX_DISEASE;TAX_DISEASE_LISTERIA;TAX_FNCACT;TA...   \n",
       "4    NaN      NaN  TAX_ETHNICITY;TAX_ETHNICITY_AMERICANS;EDUCATIO...   \n",
       "\n",
       "                                            v2themes  \\\n",
       "0  USPEC_POLITICS_GENERAL1,218;EPU_POLICY_CONGRES...   \n",
       "1  EDUCATION,35;EDUCATION,93;EDUCATION,385;EDUCAT...   \n",
       "2  TAX_FNCACT_MODERATORS,998;TRIAL,76;TAX_FNCACT_...   \n",
       "3  TAX_FOODSTAPLES_MEAT,1532;GENERAL_HEALTH,655;G...   \n",
       "4  TAX_FNCACT_STUDENTS,455;ELECTION,203;EDUCATION...   \n",
       "\n",
       "                                           locations  ...  \\\n",
       "0  2#Maine, United States#US#USME#44.6074#-69.397...  ...   \n",
       "1  1#Angola#AO#AO#-12.5#18.5#AO;1#Portugal#PO#PO#...  ...   \n",
       "2                                                NaN  ...   \n",
       "3  3#Washington, Washington, United States#US#USD...  ...   \n",
       "4  2#California, United States#US#USCA#36.17#-119...  ...   \n",
       "\n",
       "                                                gcam  \\\n",
       "0  wc:48,c12.10:5,c12.13:4,c12.14:1,c12.8:4,c12.9...   \n",
       "1  wc:502,c12.1:57,c12.10:44,c12.12:11,c12.13:14,...   \n",
       "2  wc:169,c12.1:26,c12.10:24,c12.12:5,c12.13:10,c...   \n",
       "3  wc:339,c12.1:13,c12.10:42,c12.12:21,c12.13:10,...   \n",
       "4  wc:119,c1.3:1,c12.1:6,c12.10:4,c12.12:2,c12.13...   \n",
       "\n",
       "                                        sharingimage relatedimages  \\\n",
       "0  https://www.bostonherald.com/wp-content/upload...           NaN   \n",
       "1  https://assets1.cbsnewsstatic.com/hub/i/r/2024...           NaN   \n",
       "2                                                NaN           NaN   \n",
       "3  https://media.kgw.com/assets/CCT/images/d78ac3...           NaN   \n",
       "4  https://bloximages.chicago2.vip.townnews.com/d...           NaN   \n",
       "\n",
       "  socialimageembeds                                  socialvideoembeds  \\\n",
       "0               NaN                                                NaN   \n",
       "1               NaN                    https://youtube.com/CBSBoston/;   \n",
       "2               NaN                                                NaN   \n",
       "3               NaN                                                NaN   \n",
       "4               NaN  https://youtube.com/channel/UC05lbn0KutzwDoSX6...   \n",
       "\n",
       "                                          quotations  \\\n",
       "0                                                NaN   \n",
       "1                                                NaN   \n",
       "2                                                NaN   \n",
       "3                                                NaN   \n",
       "4  797|115||%96J H2?E E@ 36 : ?G@=G65 : ? E96 : C...   \n",
       "\n",
       "                                            allnames  \\\n",
       "0                                                NaN   \n",
       "1  Newton South High School,30;Newton South High ...   \n",
       "2                                                NaN   \n",
       "3  House Foods,447;Great Value,835;Food Lion,905;...   \n",
       "4                                   Center Square,21   \n",
       "\n",
       "                                             amounts translationinfo  \\\n",
       "0                                                NaN             NaN   \n",
       "1                                                NaN             NaN   \n",
       "2                                                NaN             NaN   \n",
       "3  500,types of frozen waffles,101;100,of frozen ...             NaN   \n",
       "4         200,likely voters,160;2,=@E @7 >6DD28,878;             NaN   \n",
       "\n",
       "                                              extras  \n",
       "0  <PAGE_LINKS>https://checkout.bostonherald.com/...  \n",
       "1  <PAGE_ALTURL_AMP>https://www.cbsnews.com/amp/b...  \n",
       "2  <PAGE_LINKS>https://www.legallyindia.com/convo...  \n",
       "3  <PAGE_LINKS>https://www.cdc.gov/listeria/about...  \n",
       "4  <PAGE_AUTHORS>Brendan Clarey | The Center Squa...  \n",
       "\n",
       "[5 rows x 27 columns]"
      ]
     },
     "execution_count": 7,
     "metadata": {},
     "output_type": "execute_result"
    }
   ],
   "source": [
    "gkg.gkg_query.head()"
   ]
  },
  {
   "cell_type": "code",
   "execution_count": 8,
   "metadata": {},
   "outputs": [
    {
     "name": "stdout",
     "output_type": "stream",
     "text": [
      "<class 'pandas.core.frame.DataFrame'>\n",
      "RangeIndex: 14 entries, 0 to 13\n",
      "Data columns (total 28 columns):\n",
      " #   Column                      Non-Null Count  Dtype  \n",
      "---  ------                      --------------  -----  \n",
      " 0   index                       14 non-null     int64  \n",
      " 1   gkgrecordid                 14 non-null     object \n",
      " 2   date                        14 non-null     int64  \n",
      " 3   sourcecollectionidentifier  14 non-null     int64  \n",
      " 4   sourcecommonname            14 non-null     object \n",
      " 5   documentidentifier          14 non-null     object \n",
      " 6   counts                      0 non-null      object \n",
      " 7   v2counts                    0 non-null      object \n",
      " 8   themes                      12 non-null     object \n",
      " 9   v2themes                    12 non-null     object \n",
      " 10  locations                   4 non-null      object \n",
      " 11  v2locations                 4 non-null      object \n",
      " 12  persons                     14 non-null     object \n",
      " 13  v2persons                   14 non-null     object \n",
      " 14  organizations               14 non-null     object \n",
      " 15  v2organizations             14 non-null     object \n",
      " 16  v2tone                      14 non-null     object \n",
      " 17  dates                       3 non-null      object \n",
      " 18  gcam                        14 non-null     object \n",
      " 19  sharingimage                14 non-null     object \n",
      " 20  relatedimages               9 non-null      object \n",
      " 21  socialimageembeds           0 non-null      object \n",
      " 22  socialvideoembeds           14 non-null     object \n",
      " 23  quotations                  1 non-null      object \n",
      " 24  allnames                    14 non-null     object \n",
      " 25  amounts                     12 non-null     object \n",
      " 26  translationinfo             0 non-null      float64\n",
      " 27  extras                      14 non-null     object \n",
      "dtypes: float64(1), int64(3), object(24)\n",
      "memory usage: 3.2+ KB\n"
     ]
    }
   ],
   "source": [
    "persons = ['Eiichiro Oda', 'Shueisha', 'One Piece']\n",
    "OP = gkg.gkg_persons(persons)\n",
    "OP.reset_index(inplace=True)\n",
    "OP.info()"
   ]
  },
  {
   "cell_type": "code",
   "execution_count": 9,
   "metadata": {
    "scrolled": true
   },
   "outputs": [
    {
     "data": {
      "text/plain": [
       "gamerant.com      7\n",
       "screenrant.com    5\n",
       "comicbook.com     2\n",
       "Name: sourcecommonname, dtype: int64"
      ]
     },
     "execution_count": 9,
     "metadata": {},
     "output_type": "execute_result"
    }
   ],
   "source": [
    "OP['sourcecommonname'].value_counts()"
   ]
  },
  {
   "cell_type": "code",
   "execution_count": 10,
   "metadata": {},
   "outputs": [
    {
     "data": {
      "text/html": [
       "<div>\n",
       "<style scoped>\n",
       "    .dataframe tbody tr th:only-of-type {\n",
       "        vertical-align: middle;\n",
       "    }\n",
       "\n",
       "    .dataframe tbody tr th {\n",
       "        vertical-align: top;\n",
       "    }\n",
       "\n",
       "    .dataframe thead th {\n",
       "        text-align: right;\n",
       "    }\n",
       "</style>\n",
       "<table border=\"1\" class=\"dataframe\">\n",
       "  <thead>\n",
       "    <tr style=\"text-align: right;\">\n",
       "      <th></th>\n",
       "      <th>level_0</th>\n",
       "      <th>index</th>\n",
       "      <th>gkgrecordid</th>\n",
       "      <th>date</th>\n",
       "      <th>sourcecollectionidentifier</th>\n",
       "      <th>sourcecommonname</th>\n",
       "      <th>documentidentifier</th>\n",
       "      <th>counts</th>\n",
       "      <th>v2counts</th>\n",
       "      <th>themes</th>\n",
       "      <th>...</th>\n",
       "      <th>gcam</th>\n",
       "      <th>sharingimage</th>\n",
       "      <th>relatedimages</th>\n",
       "      <th>socialimageembeds</th>\n",
       "      <th>socialvideoembeds</th>\n",
       "      <th>quotations</th>\n",
       "      <th>allnames</th>\n",
       "      <th>amounts</th>\n",
       "      <th>translationinfo</th>\n",
       "      <th>extras</th>\n",
       "    </tr>\n",
       "  </thead>\n",
       "  <tbody>\n",
       "    <tr>\n",
       "      <th>0</th>\n",
       "      <td>0</td>\n",
       "      <td>5370</td>\n",
       "      <td>20241020014500-92</td>\n",
       "      <td>20241020014500</td>\n",
       "      <td>1</td>\n",
       "      <td>gamerant.com</td>\n",
       "      <td>https://gamerant.com/one-piece-sun-god-loki-ni...</td>\n",
       "      <td>NaN</td>\n",
       "      <td>NaN</td>\n",
       "      <td>MANMADE_DISASTER_IMPLIED;ARMEDCONFLICT;UNGP_FO...</td>\n",
       "      <td>...</td>\n",
       "      <td>wc:1216,c1.1:1,c1.3:1,c12.1:153,c12.10:154,c12...</td>\n",
       "      <td>https://static0.gamerantimages.com/wordpress/w...</td>\n",
       "      <td>https://static0.gamerantimages.com/wordpress/w...</td>\n",
       "      <td>NaN</td>\n",
       "      <td>https://youtube.com/channel/UCkZjsmAQnXfS-_5lw...</td>\n",
       "      <td>NaN</td>\n",
       "      <td>Sun God,230;One Piece,613;Sun God Nika,985;Sun...</td>\n",
       "      <td>2,Sun Gods,146;2,Sun Gods,3619;2,legendary pir...</td>\n",
       "      <td>NaN</td>\n",
       "      <td>&lt;PAGE_LINKS&gt;https://gamerant.com/one-piece-elb...</td>\n",
       "    </tr>\n",
       "    <tr>\n",
       "      <th>1</th>\n",
       "      <td>4</td>\n",
       "      <td>67774</td>\n",
       "      <td>20241020214500-270</td>\n",
       "      <td>20241020214500</td>\n",
       "      <td>1</td>\n",
       "      <td>gamerant.com</td>\n",
       "      <td>https://gamerant.com/one-piece-oda-announces-t...</td>\n",
       "      <td>NaN</td>\n",
       "      <td>NaN</td>\n",
       "      <td>TAX_WORLDLANGUAGES;TAX_WORLDLANGUAGES_MANGA;TA...</td>\n",
       "      <td>...</td>\n",
       "      <td>wc:1199,c12.1:102,c12.10:134,c12.12:41,c12.13:...</td>\n",
       "      <td>https://static0.gamerantimages.com/wordpress/w...</td>\n",
       "      <td>https://static0.gamerantimages.com/wordpress/w...</td>\n",
       "      <td>NaN</td>\n",
       "      <td>https://youtube.com/channel/UCkZjsmAQnXfS-_5lw...</td>\n",
       "      <td>NaN</td>\n",
       "      <td>One Piece,59;Live Action,86;Elbaf Arc,176;One ...</td>\n",
       "      <td>2,projects during One Piece,26;10,Q A session,...</td>\n",
       "      <td>NaN</td>\n",
       "      <td>&lt;PAGE_LINKS&gt;https://gamerant.com/one-piece-elb...</td>\n",
       "    </tr>\n",
       "    <tr>\n",
       "      <th>2</th>\n",
       "      <td>5</td>\n",
       "      <td>73373</td>\n",
       "      <td>20241020231500-814</td>\n",
       "      <td>20241020231500</td>\n",
       "      <td>1</td>\n",
       "      <td>gamerant.com</td>\n",
       "      <td>https://gamerant.com/one-piece-1131-spoilers-r...</td>\n",
       "      <td>NaN</td>\n",
       "      <td>NaN</td>\n",
       "      <td>PIRACY;TAX_FNCACT;TAX_FNCACT_PIRATES;ARMEDCONF...</td>\n",
       "      <td>...</td>\n",
       "      <td>wc:1231,c1.2:1,c12.1:165,c12.10:170,c12.12:44,...</td>\n",
       "      <td>https://static0.gamerantimages.com/wordpress/w...</td>\n",
       "      <td>https://static0.gamerantimages.com/wordpress/w...</td>\n",
       "      <td>NaN</td>\n",
       "      <td>https://youtube.com/channel/UCkZjsmAQnXfS-_5lw...</td>\n",
       "      <td>NaN</td>\n",
       "      <td>One Piece,77;Elbaf Arc,275;Straw Hat Pirates,3...</td>\n",
       "      <td>2,legendary warriors,3802;3,weeks for the next...</td>\n",
       "      <td>NaN</td>\n",
       "      <td>&lt;PAGE_LINKS&gt;https://gamerant.com/one-piece-bes...</td>\n",
       "    </tr>\n",
       "    <tr>\n",
       "      <th>3</th>\n",
       "      <td>6</td>\n",
       "      <td>75375</td>\n",
       "      <td>20241021000000-219</td>\n",
       "      <td>20241021000000</td>\n",
       "      <td>1</td>\n",
       "      <td>gamerant.com</td>\n",
       "      <td>https://gamerant.com/one-piece-chapter-1130-od...</td>\n",
       "      <td>NaN</td>\n",
       "      <td>NaN</td>\n",
       "      <td>TAX_FNCACT;TAX_FNCACT_PRINCE;PIRACY;TAX_FNCACT...</td>\n",
       "      <td>...</td>\n",
       "      <td>wc:1313,c1.1:3,c1.4:1,c12.1:111,c12.10:133,c12...</td>\n",
       "      <td>https://static0.gamerantimages.com/wordpress/w...</td>\n",
       "      <td>https://static0.gamerantimages.com/wordpress/w...</td>\n",
       "      <td>NaN</td>\n",
       "      <td>https://youtube.com/channel/UCkZjsmAQnXfS-_5lw...</td>\n",
       "      <td>NaN</td>\n",
       "      <td>Piece Chapter,33;Accursed Prince,77;Straw Hat ...</td>\n",
       "      <td>2,Major Projects During The,532;2,major projec...</td>\n",
       "      <td>NaN</td>\n",
       "      <td>&lt;PAGE_LINKS&gt;https://gamerant.com/one-piece-113...</td>\n",
       "    </tr>\n",
       "    <tr>\n",
       "      <th>4</th>\n",
       "      <td>7</td>\n",
       "      <td>79648</td>\n",
       "      <td>20241021010000-585</td>\n",
       "      <td>20241021010000</td>\n",
       "      <td>1</td>\n",
       "      <td>gamerant.com</td>\n",
       "      <td>https://gamerant.com/hunter-x-hunter-404-spoil...</td>\n",
       "      <td>NaN</td>\n",
       "      <td>NaN</td>\n",
       "      <td>ARMEDCONFLICT;EPU_CATS_NATIONAL_SECURITY;TAX_F...</td>\n",
       "      <td>...</td>\n",
       "      <td>wc:1270,c1.3:1,c12.1:117,c12.10:189,c12.12:62,...</td>\n",
       "      <td>https://static0.gamerantimages.com/wordpress/w...</td>\n",
       "      <td>https://static0.gamerantimages.com/wordpress/w...</td>\n",
       "      <td>NaN</td>\n",
       "      <td>https://youtube.com/channel/UCkZjsmAQnXfS-_5lw...</td>\n",
       "      <td>NaN</td>\n",
       "      <td>Succession War,342;Succession War,565;Longhi N...</td>\n",
       "      <td>404,will be an intense,288;26,degrees #x2026,1...</td>\n",
       "      <td>NaN</td>\n",
       "      <td>&lt;PAGE_LINKS&gt;https://gamerant.com/hunter-x-hunt...</td>\n",
       "    </tr>\n",
       "    <tr>\n",
       "      <th>5</th>\n",
       "      <td>11</td>\n",
       "      <td>202608</td>\n",
       "      <td>20241021220000-973</td>\n",
       "      <td>20241021220000</td>\n",
       "      <td>1</td>\n",
       "      <td>gamerant.com</td>\n",
       "      <td>https://gamerant.com/one-piece-oda-reveals-lok...</td>\n",
       "      <td>NaN</td>\n",
       "      <td>NaN</td>\n",
       "      <td>TAX_FNCACT;TAX_FNCACT_FATHER;ARREST;PIRACY;TAX...</td>\n",
       "      <td>...</td>\n",
       "      <td>wc:1245,c1.1:1,c1.2:2,c1.4:4,c12.1:147,c12.10:...</td>\n",
       "      <td>https://static0.gamerantimages.com/wordpress/w...</td>\n",
       "      <td>https://static0.gamerantimages.com/wordpress/w...</td>\n",
       "      <td>NaN</td>\n",
       "      <td>https://youtube.com/channel/UCkZjsmAQnXfS-_5lw...</td>\n",
       "      <td>NaN</td>\n",
       "      <td>Devil Fruit,90;One Piece,189;One Piece,247;Pie...</td>\n",
       "      <td>NaN</td>\n",
       "      <td>NaN</td>\n",
       "      <td>&lt;PAGE_LINKS&gt;https://gamerant.com/one-piece-cha...</td>\n",
       "    </tr>\n",
       "    <tr>\n",
       "      <th>6</th>\n",
       "      <td>13</td>\n",
       "      <td>208244</td>\n",
       "      <td>20241021224500-1005</td>\n",
       "      <td>20241021224500</td>\n",
       "      <td>1</td>\n",
       "      <td>gamerant.com</td>\n",
       "      <td>https://gamerant.com/one-piece-chapter-1131-de...</td>\n",
       "      <td>NaN</td>\n",
       "      <td>NaN</td>\n",
       "      <td>DELAY;USPEC_UNCERTAINTY1;CRISISLEX_C04_LOGISTI...</td>\n",
       "      <td>...</td>\n",
       "      <td>wc:1112,c12.1:104,c12.10:121,c12.12:30,c12.13:...</td>\n",
       "      <td>https://static0.gamerantimages.com/wordpress/w...</td>\n",
       "      <td>https://static0.gamerantimages.com/wordpress/w...</td>\n",
       "      <td>NaN</td>\n",
       "      <td>https://youtube.com/channel/UCkZjsmAQnXfS-_5lw...</td>\n",
       "      <td>NaN</td>\n",
       "      <td>One Piece Live Action,151;Elbaf Arc,349;One Pi...</td>\n",
       "      <td>2,weeks,42;2,Week Break,1148;2,weeks off One P...</td>\n",
       "      <td>NaN</td>\n",
       "      <td>&lt;PAGE_LINKS&gt;https://gamerant.com/one-piece-cha...</td>\n",
       "    </tr>\n",
       "  </tbody>\n",
       "</table>\n",
       "<p>7 rows × 29 columns</p>\n",
       "</div>"
      ],
      "text/plain": [
       "   level_0   index          gkgrecordid            date  \\\n",
       "0        0    5370    20241020014500-92  20241020014500   \n",
       "1        4   67774   20241020214500-270  20241020214500   \n",
       "2        5   73373   20241020231500-814  20241020231500   \n",
       "3        6   75375   20241021000000-219  20241021000000   \n",
       "4        7   79648   20241021010000-585  20241021010000   \n",
       "5       11  202608   20241021220000-973  20241021220000   \n",
       "6       13  208244  20241021224500-1005  20241021224500   \n",
       "\n",
       "   sourcecollectionidentifier sourcecommonname  \\\n",
       "0                           1     gamerant.com   \n",
       "1                           1     gamerant.com   \n",
       "2                           1     gamerant.com   \n",
       "3                           1     gamerant.com   \n",
       "4                           1     gamerant.com   \n",
       "5                           1     gamerant.com   \n",
       "6                           1     gamerant.com   \n",
       "\n",
       "                                  documentidentifier counts v2counts  \\\n",
       "0  https://gamerant.com/one-piece-sun-god-loki-ni...    NaN      NaN   \n",
       "1  https://gamerant.com/one-piece-oda-announces-t...    NaN      NaN   \n",
       "2  https://gamerant.com/one-piece-1131-spoilers-r...    NaN      NaN   \n",
       "3  https://gamerant.com/one-piece-chapter-1130-od...    NaN      NaN   \n",
       "4  https://gamerant.com/hunter-x-hunter-404-spoil...    NaN      NaN   \n",
       "5  https://gamerant.com/one-piece-oda-reveals-lok...    NaN      NaN   \n",
       "6  https://gamerant.com/one-piece-chapter-1131-de...    NaN      NaN   \n",
       "\n",
       "                                              themes  ...  \\\n",
       "0  MANMADE_DISASTER_IMPLIED;ARMEDCONFLICT;UNGP_FO...  ...   \n",
       "1  TAX_WORLDLANGUAGES;TAX_WORLDLANGUAGES_MANGA;TA...  ...   \n",
       "2  PIRACY;TAX_FNCACT;TAX_FNCACT_PIRATES;ARMEDCONF...  ...   \n",
       "3  TAX_FNCACT;TAX_FNCACT_PRINCE;PIRACY;TAX_FNCACT...  ...   \n",
       "4  ARMEDCONFLICT;EPU_CATS_NATIONAL_SECURITY;TAX_F...  ...   \n",
       "5  TAX_FNCACT;TAX_FNCACT_FATHER;ARREST;PIRACY;TAX...  ...   \n",
       "6  DELAY;USPEC_UNCERTAINTY1;CRISISLEX_C04_LOGISTI...  ...   \n",
       "\n",
       "                                                gcam  \\\n",
       "0  wc:1216,c1.1:1,c1.3:1,c12.1:153,c12.10:154,c12...   \n",
       "1  wc:1199,c12.1:102,c12.10:134,c12.12:41,c12.13:...   \n",
       "2  wc:1231,c1.2:1,c12.1:165,c12.10:170,c12.12:44,...   \n",
       "3  wc:1313,c1.1:3,c1.4:1,c12.1:111,c12.10:133,c12...   \n",
       "4  wc:1270,c1.3:1,c12.1:117,c12.10:189,c12.12:62,...   \n",
       "5  wc:1245,c1.1:1,c1.2:2,c1.4:4,c12.1:147,c12.10:...   \n",
       "6  wc:1112,c12.1:104,c12.10:121,c12.12:30,c12.13:...   \n",
       "\n",
       "                                        sharingimage  \\\n",
       "0  https://static0.gamerantimages.com/wordpress/w...   \n",
       "1  https://static0.gamerantimages.com/wordpress/w...   \n",
       "2  https://static0.gamerantimages.com/wordpress/w...   \n",
       "3  https://static0.gamerantimages.com/wordpress/w...   \n",
       "4  https://static0.gamerantimages.com/wordpress/w...   \n",
       "5  https://static0.gamerantimages.com/wordpress/w...   \n",
       "6  https://static0.gamerantimages.com/wordpress/w...   \n",
       "\n",
       "                                       relatedimages socialimageembeds  \\\n",
       "0  https://static0.gamerantimages.com/wordpress/w...               NaN   \n",
       "1  https://static0.gamerantimages.com/wordpress/w...               NaN   \n",
       "2  https://static0.gamerantimages.com/wordpress/w...               NaN   \n",
       "3  https://static0.gamerantimages.com/wordpress/w...               NaN   \n",
       "4  https://static0.gamerantimages.com/wordpress/w...               NaN   \n",
       "5  https://static0.gamerantimages.com/wordpress/w...               NaN   \n",
       "6  https://static0.gamerantimages.com/wordpress/w...               NaN   \n",
       "\n",
       "                                   socialvideoembeds quotations  \\\n",
       "0  https://youtube.com/channel/UCkZjsmAQnXfS-_5lw...        NaN   \n",
       "1  https://youtube.com/channel/UCkZjsmAQnXfS-_5lw...        NaN   \n",
       "2  https://youtube.com/channel/UCkZjsmAQnXfS-_5lw...        NaN   \n",
       "3  https://youtube.com/channel/UCkZjsmAQnXfS-_5lw...        NaN   \n",
       "4  https://youtube.com/channel/UCkZjsmAQnXfS-_5lw...        NaN   \n",
       "5  https://youtube.com/channel/UCkZjsmAQnXfS-_5lw...        NaN   \n",
       "6  https://youtube.com/channel/UCkZjsmAQnXfS-_5lw...        NaN   \n",
       "\n",
       "                                            allnames  \\\n",
       "0  Sun God,230;One Piece,613;Sun God Nika,985;Sun...   \n",
       "1  One Piece,59;Live Action,86;Elbaf Arc,176;One ...   \n",
       "2  One Piece,77;Elbaf Arc,275;Straw Hat Pirates,3...   \n",
       "3  Piece Chapter,33;Accursed Prince,77;Straw Hat ...   \n",
       "4  Succession War,342;Succession War,565;Longhi N...   \n",
       "5  Devil Fruit,90;One Piece,189;One Piece,247;Pie...   \n",
       "6  One Piece Live Action,151;Elbaf Arc,349;One Pi...   \n",
       "\n",
       "                                             amounts translationinfo  \\\n",
       "0  2,Sun Gods,146;2,Sun Gods,3619;2,legendary pir...             NaN   \n",
       "1  2,projects during One Piece,26;10,Q A session,...             NaN   \n",
       "2  2,legendary warriors,3802;3,weeks for the next...             NaN   \n",
       "3  2,Major Projects During The,532;2,major projec...             NaN   \n",
       "4  404,will be an intense,288;26,degrees #x2026,1...             NaN   \n",
       "5                                                NaN             NaN   \n",
       "6  2,weeks,42;2,Week Break,1148;2,weeks off One P...             NaN   \n",
       "\n",
       "                                              extras  \n",
       "0  <PAGE_LINKS>https://gamerant.com/one-piece-elb...  \n",
       "1  <PAGE_LINKS>https://gamerant.com/one-piece-elb...  \n",
       "2  <PAGE_LINKS>https://gamerant.com/one-piece-bes...  \n",
       "3  <PAGE_LINKS>https://gamerant.com/one-piece-113...  \n",
       "4  <PAGE_LINKS>https://gamerant.com/hunter-x-hunt...  \n",
       "5  <PAGE_LINKS>https://gamerant.com/one-piece-cha...  \n",
       "6  <PAGE_LINKS>https://gamerant.com/one-piece-cha...  \n",
       "\n",
       "[7 rows x 29 columns]"
      ]
     },
     "execution_count": 10,
     "metadata": {},
     "output_type": "execute_result"
    }
   ],
   "source": [
    "OP_gamerant = OP[OP['sourcecommonname'] == 'gamerant.com']\n",
    "OP_gamerant.reset_index()"
   ]
  },
  {
   "cell_type": "code",
   "execution_count": 11,
   "metadata": {},
   "outputs": [
    {
     "data": {
      "text/plain": [
       "'https://screenrant.com/one-piece-unexpected-character-buggy-beauty-of-writing/'"
      ]
     },
     "execution_count": 11,
     "metadata": {},
     "output_type": "execute_result"
    }
   ],
   "source": [
    "url = OP['documentidentifier'].iloc[1]\n",
    "url"
   ]
  },
  {
   "cell_type": "code",
   "execution_count": 12,
   "metadata": {},
   "outputs": [],
   "source": [
    "headers = {\n",
    "        'User-Agent': 'Mozilla/5.0 (Windows NT 10.0; Win64; x64) AppleWebKit/537.36 (KHTML, like Gecko) Chrome/58.0.3029.110 Safari/537.3'}\n",
    "    \n",
    "session = requests.Session()\n",
    "retry = Retry(connect=2, backoff_factor=0.5)\n",
    "adapter = HTTPAdapter(max_retries=retry)\n",
    "session.mount('http://', adapter)\n",
    "session.mount('https://', adapter)\n",
    "\n",
    "try:\n",
    "    response = session.get(url, headers=headers)\n",
    "    response.raise_for_status()\n",
    "    soup = BeautifulSoup(response.content, 'html.parser')\n",
    "except requests.exceptions.RequestException as e:\n",
    "        print(f\"Error: {e}\")"
   ]
  },
  {
   "cell_type": "code",
   "execution_count": 13,
   "metadata": {},
   "outputs": [
    {
     "data": {
      "text/plain": [
       "<title>One Piece Just Demonstrated The True Beauty of Oda's Writing Through Its Most Unexpected Character</title>"
      ]
     },
     "execution_count": 13,
     "metadata": {},
     "output_type": "execute_result"
    }
   ],
   "source": [
    "soup.title"
   ]
  },
  {
   "cell_type": "code",
   "execution_count": 14,
   "metadata": {},
   "outputs": [
    {
     "data": {
      "text/plain": [
       "\"One Piece Just Demonstrated The True Beauty of Oda's Writing Through Its Most Unexpected Character\""
      ]
     },
     "execution_count": 14,
     "metadata": {},
     "output_type": "execute_result"
    }
   ],
   "source": [
    "soup.title.string"
   ]
  },
  {
   "cell_type": "code",
   "execution_count": 15,
   "metadata": {},
   "outputs": [
    {
     "data": {
      "text/plain": [
       "'Screen Rant'"
      ]
     },
     "execution_count": 15,
     "metadata": {},
     "output_type": "execute_result"
    }
   ],
   "source": [
    "# soup.find_all('h1').__getitem__(1).get_text()\n",
    "# this header seems to be the source\n",
    "soup.find_all('h1')[0].get_text()"
   ]
  },
  {
   "cell_type": "markdown",
   "metadata": {},
   "source": [
    "**Game Rant** articles have a common paragraph structure for the head and tail. So far they all contain:\n",
    "`This article contains spoilers`"
   ]
  },
  {
   "cell_type": "code",
   "execution_count": 16,
   "metadata": {},
   "outputs": [
    {
     "data": {
      "text/plain": [
       "[<p class=\"user-msg\">Your changes have been saved</p>,\n",
       " <p class=\"user-msg\"></p>,\n",
       " <p class=\"user-msg\">Email is sent</p>,\n",
       " <p class=\"user-msg\">Email has already been sent</p>,\n",
       " <p class=\"user-msg\">Please verify your email address.</p>,\n",
       " <p class=\"user-msg\">You’ve reached your account maximum for followed topics.</p>,\n",
       " <p>Despite occasional complaints about its pacing,<strong><em> <a href=\"https://screenrant.com/tag/one-piece/\" target=\"_blank\">One Piece</a></em></strong> is often agreed to be one of the most well-written shōnen manga, not only in terms of its storytelling, but also its world-building, well-rounded characters, complex themes, and backstories. That said, one unexpected character best encapsulates the <a href=\"https://screenrant.com/one-piece-big-flaw-manga-makes-it-so-interesting-to-read/\" target=\"_blank\">beauty of Eiichiro Oda's writing</a>, and it isn't one fans would expect.</p>,\n",
       " <p>Episode #1116 of <em>One Piece</em> sheds new light on Buggy, who, despite being a pathetic gag character for a majority of the series, is finally portrayed in an admirable light. The episode <strong>highlights Buggy's dreams and aspirations</strong> as well as the hidden tragedy within his character, adding an unexpected layer of complexity to him while also making him seem almost respectable for the very first time in the series. More than anything, the episode portrays just how well Eiichiro Oda can <strong>recontextualize and flip perceptions of a character </strong>with just a simple scene.</p>,\n",
       " <p>Despite being one of the first real antagonists of the series, Buggy the Clown has gradually devolved into one of <a href=\"https://screenrant.com/one-piece-best-running-gags/\" target=\"_blank\"><em>One Piece</em>'s longest-running gags</a>. Through a series of hilarious misunderstandings, Buggy has continued to fail upwards, unwittingly keeping up with Luffy ever since the beginning of the series. His constant failures coupled with his cowardice make him <strong>a character that is difficult to take seriously,</strong> and he spends most of <em>One Piece</em> being a one-note pompous clown.</p>,\n",
       " <p class=\"display-card-excerpt\">Buggy is expected to have a smaller role in One Piece season 2, but his importance to future stories means Netflix's show can't drop him completely.</p>,\n",
       " <p>However, fans see a new side of Buggy in chapter #1082, when, even at his lowest, being utterly degraded by Mihawk and Crocodile, Buggy holds fast to his ideals of what piracy should be. This is one of the first instances that fans see the influence sailing with Roger had on Buggy. Chapter #1082 makes it clear that Buggy disagrees with Crocodile and Mihawk's business-minded approach towards piracy. To him, piracy and setting out to sea are all about pursuing one's dreams and aspirations, which are values strongly upheld by Luffy and the Straw Hats.</p>,\n",
       " <p>Not only does Buggy admirably defend his beliefs, but he even declares his intentions to become the King of the Pirates. His epic declaration inspires the members of Cross Guild as well as fans, who gain <strong>a newfound sense of respect for Buggy</strong>. In the anime, the scene even features the same music that plays whenever Luffy or any of the Straw Hats declare their dreams, further pushing the importance of the moment for Buggy's character.</p>,\n",
       " <p>The music that plays at this moment is titled \"\n",
       " <em>To the Grand Line</em>\n",
       " \" and most notably appears as Luffy and the Straw Hats are entering the Grand Line and declaring their respective dreams with their feet on a barrel.</p>,\n",
       " <p>Ever since Buggy was first introduced, he has been known to possess a grudge against Shanks and while the grudge seemed shallow at first, the flashback in chapter #1082 expands on <a href=\"https://screenrant.com/buggy-shanks-history-one-piece-explained/\" target=\"_blank\">Buggy's complex feelings about Shanks</a>. Roger was known to be a father figure to both Buggy and Shanks, but as the flashback reveals, Shanks seemed to be the golden child from the start, who \"shone with potential,\" as Buggy puts it.</p>,\n",
       " <p>Buggy was forced to accept at a very young age that <strong>he would never be able to compete with Shanks</strong> and easily the saddest part of the flashback is when Buggy is even seen looking at Roger and Shanks from a distance with a mixture of frustration and sadness on his face. As such, Buggy instead gave up on his own dreams and chose to live vicariously through Shanks and see his dream fulfilled through Shanks.</p>,\n",
       " <p>Judging by Buggy's conversation with <a href=\"https://screenrant.com/one-piece-theory-shanks-knows-laugh-tales-location/\" target=\"_blank\">Shanks at Roger's execution</a>, Buggy wholeheartedly believed that Shanks would become the next King of the Pirates. Buggy never makes any mention of taking his own ship to Laugh Tale which implies <strong>he intended to be a part of Shanks' crew</strong> even before the latter could ask.</p>,\n",
       " <p>However, <strong>Shanks went back on his word</strong>, that too on the very day that Buggy's entire world had fallen apart. As such, Buggy begins to resent Shanks for taking away his ability to swim, his treasure map, and even the chance of seeing his dream vicariously fulfilled. This is why, when Buggy is first introduced, he seen pathetically terrorizing helpless civilians at Orange Town. That is, until Luffy comes around and seemingly reignites the spark of ambition within him. This is why, it is all the more admirable when Buggy finally chooses to go after his dream again, and in doing so, he reignites the same ambition in his followers.</p>,\n",
       " <p>Overall, though he may not be the most likable or the most complex character in <strong><em>One Piece</em></strong> just yet, it is still pleasant to see Buggy finally elevated to more than a gag after all these years. Fans have long joked that Buggy could end up beating Luffy to Laugh Tale and now that he has so earnestly decided to chase his dream, Buggy could indeed end up being a serious competitor for the title of the Pirate King with more fans rooting for him than ever before.</p>,\n",
       " <p><strong><em>One Piece</em></strong> is available from Crunchyroll and Netflix.</p>,\n",
       " <p class=\"display-card-description\">Created by Eiichiro Oda, One Piece is a multimedia franchise that began as a manga series and follows the adventures of the Straw Hat Pirates as led by Monkey D. Luffy. Luffy, an enthusiastic pirate with a thirst for adventure, is afflicted by a mysterious curse that gives him various powers he uses to protect himself and his friends. The manga eventually gave way to the anime series, with the two being some of history's longest-running anime and manga series. Along with over fifty video games made over the years, the series entered the live-action world with Netflix's 2023 adaptation.</p>,\n",
       " <p class=\"user-msg\">Your changes have been saved</p>,\n",
       " <p class=\"user-msg\"></p>,\n",
       " <p class=\"user-msg\">Email is sent</p>,\n",
       " <p class=\"user-msg\">Email has already been sent</p>,\n",
       " <p class=\"user-msg\">Please verify your email address.</p>,\n",
       " <p class=\"user-msg\">You’ve reached your account maximum for followed topics.</p>,\n",
       " <p class=\"comment-submit-rules\" style=\"margin-left: -1px;\">We want to hear from you! Share your opinions in the thread below and remember to keep it respectful.</p>,\n",
       " <p class=\"comment-msg icon\" id=\"comment-error-text\">Your comment has not been saved</p>,\n",
       " <p class=\"welcome-msg bold icon i-thread-title\">This thread is open for discussion.</p>,\n",
       " <p class=\"welcome-msg\">Be the first to post your thoughts.</p>,\n",
       " <p class=\"user-msg\" id=\"comment-success-text\"></p>,\n",
       " <p class=\"display-card-excerpt\">While the One Piece remake may seem like nothing more than a tribute to Oda’s work, it may open the floodgates to a much larger problem.</p>,\n",
       " <p class=\"display-card-excerpt\">James Gunn isn't returning for Guardians of the Galaxy Vol. 4, but if the film still moves forward without him, this is what it could be about.</p>,\n",
       " <p class=\"display-card-excerpt\">James Bond is one of the most high-profile roles in the entertainment industry, and the two most recent occupants had a strikingly similar path.</p>,\n",
       " <p class=\"display-card-excerpt\">The final trailer for Venom: The Last Dance has been released, offering insight into the film’s villain: the Marvel Comics character of Knull.</p>,\n",
       " <p class=\"display-card-excerpt\">20th Century's president seems to tease a third Alien vs. Predator crossover movie featuring characters from the Prey and Romulus subfranchises.</p>,\n",
       " <p class=\"display-card-excerpt\">Cate Blanchett's new movie, Rumours, has broken a horrible Rotten Tomatoes record in her career that even Borderlands managed to avoid.</p>,\n",
       " <p class=\"display-card-excerpt\">Dragon Ball Super's Goku Black is a fan favorite villain for many, but a talented artist instead combined Beast Gohan with the foe with godly results.</p>]"
      ]
     },
     "execution_count": 16,
     "metadata": {},
     "output_type": "execute_result"
    }
   ],
   "source": [
    "soup.find_all('p')"
   ]
  },
  {
   "cell_type": "code",
   "execution_count": 17,
   "metadata": {},
   "outputs": [],
   "source": [
    "paragraphs = soup.find_all('p')\n",
    "store_text = []\n",
    "for p in paragraphs:\n",
    "    # paste the strings into a single string\n",
    "    store_text.append(p.get_text())\n",
    "#     print(p.get_text())\n",
    "\n",
    "store_text = ' '.join(store_text)\n",
    "store_text\n",
    "# remove '\\xa0 \\n\\t'\n",
    "store_text = re.sub(r'\\xa0|\\n|\\t|\\\\', '', store_text)\n",
    "# replace end qoutes with double quotes\n",
    "# store_text = re.sub(r''', \"'\", store_text)\n"
   ]
  },
  {
   "cell_type": "code",
   "execution_count": 18,
   "metadata": {},
   "outputs": [
    {
     "data": {
      "text/plain": [
       "\"Your changes have been saved  Email is sent Email has already been sent Please verify your email address. You’ve reached your account maximum for followed topics. Despite occasional complaints about its pacing, One Piece is often agreed to be one of the most well-written shōnen manga, not only in terms of its storytelling, but also its world-building, well-rounded characters, complex themes, and backstories. That said, one unexpected character best encapsulates the beauty of Eiichiro Oda's writing, and it isn't one fans would expect. Episode #1116 of One Piece sheds new light on Buggy, who, despite being a pathetic gag character for a majority of the series, is finally portrayed in an admirable light. The episode highlights Buggy's dreams and aspirations as well as the hidden tragedy within his character, adding an unexpected layer of complexity to him while also making him seem almost respectable for the very first time in the series. More than anything, the episode portrays just how \""
      ]
     },
     "execution_count": 18,
     "metadata": {},
     "output_type": "execute_result"
    }
   ],
   "source": [
    "store_text[:1000]"
   ]
  },
  {
   "cell_type": "code",
   "execution_count": 19,
   "metadata": {},
   "outputs": [
    {
     "name": "stdout",
     "output_type": "stream",
     "text": [
      "Your changes have been saved  Email is sent Email has already been sent Please verify your email address. You’ve reached your account maximum for followed topics. Despite occasional complaints about its pacing, One Piece is often agreed to be one of the most well-written shōnen manga, not only in terms of its storytelling, but also its world-building, well-rounded characters, complex themes, and backstories. That said, one unexpected character best encapsulates the beauty of Eiichiro Oda's writing, and it isn't one fans would expect. Episode #1116 of One Piece sheds new light on Buggy, who, despite being a pathetic gag character for a majority of the series, is finally portrayed in an admirable light. The episode highlights Buggy's dreams and aspirations as well as the hidden tragedy within his character, adding an unexpected layer of complexity to him while also making him seem almost respectable for the very first time in the series. More than anything, the episode portrays just how well Eiichiro Oda can recontextualize and flip perceptions of a character with just a simple scene. Despite being one of the first real antagonists of the series, Buggy the Clown has gradually devolved into one of One Piece's longest-running gags. Through a series of hilarious misunderstandings, Buggy has continued to fail upwards, unwittingly keeping up with Luffy ever since the beginning of the series. His constant failures coupled with his cowardice make him a character that is difficult to take seriously, and he spends most of One Piece being a one-note pompous clown. Buggy is expected to have a smaller role in One Piece season 2, but his importance to future stories means Netflix's show can't drop him completely. However, fans see a new side of Buggy in chapter #1082, when, even at his lowest, being utterly degraded by Mihawk and Crocodile, Buggy holds fast to his ideals of what piracy should be. This is one of the first instances that fans see the influence sailing with Roger had on Buggy. Chapter #1082 makes it clear that Buggy disagrees with Crocodile and Mihawk's business-minded approach towards piracy. To him, piracy and setting out to sea are all about pursuing one's dreams and aspirations, which are values strongly upheld by Luffy and the Straw Hats. Not only does Buggy admirably defend his beliefs, but he even declares his intentions to become the King of the Pirates. His epic declaration inspires the members of Cross Guild as well as fans, who gain a newfound sense of respect for Buggy. In the anime, the scene even features the same music that plays whenever Luffy or any of the Straw Hats declare their dreams, further pushing the importance of the moment for Buggy's character. The music that plays at this moment is titled \"To the Grand Line\" and most notably appears as Luffy and the Straw Hats are entering the Grand Line and declaring their respective dreams with their feet on a barrel. Ever since Buggy was first introduced, he has been known to possess a grudge against Shanks and while the grudge seemed shallow at first, the flashback in chapter #1082 expands on Buggy's complex feelings about Shanks. Roger was known to be a father figure to both Buggy and Shanks, but as the flashback reveals, Shanks seemed to be the golden child from the start, who \"shone with potential,\" as Buggy puts it. Buggy was forced to accept at a very young age that he would never be able to compete with Shanks and easily the saddest part of the flashback is when Buggy is even seen looking at Roger and Shanks from a distance with a mixture of frustration and sadness on his face. As such, Buggy instead gave up on his own dreams and chose to live vicariously through Shanks and see his dream fulfilled through Shanks. Judging by Buggy's conversation with Shanks at Roger's execution, Buggy wholeheartedly believed that Shanks would become the next King of the Pirates. Buggy never makes any mention of taking his own ship to Laugh Tale which implies he intended to be a part of Shanks' crew even before the latter could ask. However, Shanks went back on his word, that too on the very day that Buggy's entire world had fallen apart. As such, Buggy begins to resent Shanks for taking away his ability to swim, his treasure map, and even the chance of seeing his dream vicariously fulfilled. This is why, when Buggy is first introduced, he seen pathetically terrorizing helpless civilians at Orange Town. That is, until Luffy comes around and seemingly reignites the spark of ambition within him. This is why, it is all the more admirable when Buggy finally chooses to go after his dream again, and in doing so, he reignites the same ambition in his followers. Overall, though he may not be the most likable or the most complex character in One Piece just yet, it is still pleasant to see Buggy finally elevated to more than a gag after all these years. Fans have long joked that Buggy could end up beating Luffy to Laugh Tale and now that he has so earnestly decided to chase his dream, Buggy could indeed end up being a serious competitor for the title of the Pirate King with more fans rooting for him than ever before. One Piece is available from Crunchyroll and Netflix. Created by Eiichiro Oda, One Piece is a multimedia franchise that began as a manga series and follows the adventures of the Straw Hat Pirates as led by Monkey D. Luffy. Luffy, an enthusiastic pirate with a thirst for adventure, is afflicted by a mysterious curse that gives him various powers he uses to protect himself and his friends. The manga eventually gave way to the anime series, with the two being some of history's longest-running anime and manga series. Along with over fifty video games made over the years, the series entered the live-action world with Netflix's 2023 adaptation. Your changes have been saved  Email is sent Email has already been sent Please verify your email address. You’ve reached your account maximum for followed topics. We want to hear from you! Share your opinions in the thread below and remember to keep it respectful. Your comment has not been saved This thread is open for discussion. Be the first to post your thoughts.  While the One Piece remake may seem like nothing more than a tribute to Oda’s work, it may open the floodgates to a much larger problem. James Gunn isn't returning for Guardians of the Galaxy Vol. 4, but if the film still moves forward without him, this is what it could be about. James Bond is one of the most high-profile roles in the entertainment industry, and the two most recent occupants had a strikingly similar path. The final trailer for Venom: The Last Dance has been released, offering insight into the film’s villain: the Marvel Comics character of Knull. 20th Century's president seems to tease a third Alien vs. Predator crossover movie featuring characters from the Prey and Romulus subfranchises. Cate Blanchett's new movie, Rumours, has broken a horrible Rotten Tomatoes record in her career that even Borderlands managed to avoid. Dragon Ball Super's Goku Black is a fan favorite villain for many, but a talented artist instead combined Beast Gohan with the foe with godly results.\n"
     ]
    }
   ],
   "source": [
    "store_text.__str__()\n",
    "# print(repr(store_text)) # returning store_text give a representational form which shows the escape characters \"\\\"\n",
    "# store_text.__repr__()\n",
    "print(str(store_text)) # returns "
   ]
  },
  {
   "cell_type": "markdown",
   "metadata": {},
   "source": [
    "# Tokenize with NLTK"
   ]
  },
  {
   "cell_type": "code",
   "execution_count": 20,
   "metadata": {},
   "outputs": [],
   "source": [
    "import nltk\n",
    "from nltk.tokenize import word_tokenize, sent_tokenize\n",
    "# nltk.download('punkt')"
   ]
  },
  {
   "cell_type": "code",
   "execution_count": 21,
   "metadata": {},
   "outputs": [],
   "source": [
    "sent_tokens = nltk.sent_tokenize(store_text)"
   ]
  },
  {
   "cell_type": "code",
   "execution_count": 22,
   "metadata": {},
   "outputs": [
    {
     "data": {
      "text/plain": [
       "['Your changes have been saved  Email is sent Email has already been sent Please verify your email address.',\n",
       " 'You’ve reached your account maximum for followed topics.',\n",
       " 'Despite occasional complaints about its pacing, One Piece is often agreed to be one of the most well-written shōnen manga, not only in terms of its storytelling, but also its world-building, well-rounded characters, complex themes, and backstories.',\n",
       " \"That said, one unexpected character best encapsulates the beauty of Eiichiro Oda's writing, and it isn't one fans would expect.\",\n",
       " 'Episode #1116 of One Piece sheds new light on Buggy, who, despite being a pathetic gag character for a majority of the series, is finally portrayed in an admirable light.',\n",
       " \"The episode highlights Buggy's dreams and aspirations as well as the hidden tragedy within his character, adding an unexpected layer of complexity to him while also making him seem almost respectable for the very first time in the series.\",\n",
       " 'More than anything, the episode portrays just how well Eiichiro Oda can recontextualize and flip perceptions of a character with just a simple scene.',\n",
       " \"Despite being one of the first real antagonists of the series, Buggy the Clown has gradually devolved into one of One Piece's longest-running gags.\",\n",
       " 'Through a series of hilarious misunderstandings, Buggy has continued to fail upwards, unwittingly keeping up with Luffy ever since the beginning of the series.',\n",
       " 'His constant failures coupled with his cowardice make him a character that is difficult to take seriously, and he spends most of One Piece being a one-note pompous clown.',\n",
       " \"Buggy is expected to have a smaller role in One Piece season 2, but his importance to future stories means Netflix's show can't drop him completely.\",\n",
       " 'However, fans see a new side of Buggy in chapter #1082, when, even at his lowest, being utterly degraded by Mihawk and Crocodile, Buggy holds fast to his ideals of what piracy should be.',\n",
       " 'This is one of the first instances that fans see the influence sailing with Roger had on Buggy.',\n",
       " \"Chapter #1082 makes it clear that Buggy disagrees with Crocodile and Mihawk's business-minded approach towards piracy.\",\n",
       " \"To him, piracy and setting out to sea are all about pursuing one's dreams and aspirations, which are values strongly upheld by Luffy and the Straw Hats.\",\n",
       " 'Not only does Buggy admirably defend his beliefs, but he even declares his intentions to become the King of the Pirates.',\n",
       " 'His epic declaration inspires the members of Cross Guild as well as fans, who gain a newfound sense of respect for Buggy.',\n",
       " \"In the anime, the scene even features the same music that plays whenever Luffy or any of the Straw Hats declare their dreams, further pushing the importance of the moment for Buggy's character.\",\n",
       " 'The music that plays at this moment is titled \"To the Grand Line\" and most notably appears as Luffy and the Straw Hats are entering the Grand Line and declaring their respective dreams with their feet on a barrel.',\n",
       " \"Ever since Buggy was first introduced, he has been known to possess a grudge against Shanks and while the grudge seemed shallow at first, the flashback in chapter #1082 expands on Buggy's complex feelings about Shanks.\",\n",
       " 'Roger was known to be a father figure to both Buggy and Shanks, but as the flashback reveals, Shanks seemed to be the golden child from the start, who \"shone with potential,\" as Buggy puts it.',\n",
       " 'Buggy was forced to accept at a very young age that he would never be able to compete with Shanks and easily the saddest part of the flashback is when Buggy is even seen looking at Roger and Shanks from a distance with a mixture of frustration and sadness on his face.',\n",
       " 'As such, Buggy instead gave up on his own dreams and chose to live vicariously through Shanks and see his dream fulfilled through Shanks.',\n",
       " \"Judging by Buggy's conversation with Shanks at Roger's execution, Buggy wholeheartedly believed that Shanks would become the next King of the Pirates.\",\n",
       " \"Buggy never makes any mention of taking his own ship to Laugh Tale which implies he intended to be a part of Shanks' crew even before the latter could ask.\",\n",
       " \"However, Shanks went back on his word, that too on the very day that Buggy's entire world had fallen apart.\",\n",
       " 'As such, Buggy begins to resent Shanks for taking away his ability to swim, his treasure map, and even the chance of seeing his dream vicariously fulfilled.',\n",
       " 'This is why, when Buggy is first introduced, he seen pathetically terrorizing helpless civilians at Orange Town.',\n",
       " 'That is, until Luffy comes around and seemingly reignites the spark of ambition within him.',\n",
       " 'This is why, it is all the more admirable when Buggy finally chooses to go after his dream again, and in doing so, he reignites the same ambition in his followers.',\n",
       " 'Overall, though he may not be the most likable or the most complex character in One Piece just yet, it is still pleasant to see Buggy finally elevated to more than a gag after all these years.',\n",
       " 'Fans have long joked that Buggy could end up beating Luffy to Laugh Tale and now that he has so earnestly decided to chase his dream, Buggy could indeed end up being a serious competitor for the title of the Pirate King with more fans rooting for him than ever before.',\n",
       " 'One Piece is available from Crunchyroll and Netflix.',\n",
       " 'Created by Eiichiro Oda, One Piece is a multimedia franchise that began as a manga series and follows the adventures of the Straw Hat Pirates as led by Monkey D. Luffy.',\n",
       " 'Luffy, an enthusiastic pirate with a thirst for adventure, is afflicted by a mysterious curse that gives him various powers he uses to protect himself and his friends.',\n",
       " \"The manga eventually gave way to the anime series, with the two being some of history's longest-running anime and manga series.\",\n",
       " \"Along with over fifty video games made over the years, the series entered the live-action world with Netflix's 2023 adaptation.\",\n",
       " 'Your changes have been saved  Email is sent Email has already been sent Please verify your email address.',\n",
       " 'You’ve reached your account maximum for followed topics.',\n",
       " 'We want to hear from you!',\n",
       " 'Share your opinions in the thread below and remember to keep it respectful.',\n",
       " 'Your comment has not been saved This thread is open for discussion.',\n",
       " 'Be the first to post your thoughts.',\n",
       " 'While the One Piece remake may seem like nothing more than a tribute to Oda’s work, it may open the floodgates to a much larger problem.',\n",
       " \"James Gunn isn't returning for Guardians of the Galaxy Vol.\",\n",
       " '4, but if the film still moves forward without him, this is what it could be about.',\n",
       " 'James Bond is one of the most high-profile roles in the entertainment industry, and the two most recent occupants had a strikingly similar path.',\n",
       " 'The final trailer for Venom: The Last Dance has been released, offering insight into the film’s villain: the Marvel Comics character of Knull.',\n",
       " \"20th Century's president seems to tease a third Alien vs.\",\n",
       " 'Predator crossover movie featuring characters from the Prey and Romulus subfranchises.',\n",
       " \"Cate Blanchett's new movie, Rumours, has broken a horrible Rotten Tomatoes record in her career that even Borderlands managed to avoid.\",\n",
       " \"Dragon Ball Super's Goku Black is a fan favorite villain for many, but a talented artist instead combined Beast Gohan with the foe with godly results.\"]"
      ]
     },
     "execution_count": 22,
     "metadata": {},
     "output_type": "execute_result"
    }
   ],
   "source": [
    "sent_tokens"
   ]
  },
  {
   "cell_type": "code",
   "execution_count": 23,
   "metadata": {},
   "outputs": [
    {
     "name": "stdout",
     "output_type": "stream",
     "text": [
      "Your changes have been saved  Email is sent Email has already been sent Please verify your email address.\n",
      "You’ve reached your account maximum for followed topics.\n",
      "Despite occasional complaints about its pacing, One Piece is often agreed to be one of the most well-written shōnen manga, not only in terms of its storytelling, but also its world-building, well-rounded characters, complex themes, and backstories.\n"
     ]
    }
   ],
   "source": [
    "summaries = {}\n",
    "\n",
    "def three_sentence_summary(text):\n",
    "    sent_tokens = nltk.sent_tokenize(text)\n",
    "    summary = \"\\n\".join(sent_tokens[:3])\n",
    "    return summary\n",
    "\n",
    "summaries[\"baseline\"] = three_sentence_summary(store_text)\n",
    "\n",
    "print(summaries[\"baseline\"])"
   ]
  },
  {
   "cell_type": "markdown",
   "metadata": {},
   "source": [
    "# Transformers"
   ]
  },
  {
   "cell_type": "code",
   "execution_count": 24,
   "metadata": {},
   "outputs": [],
   "source": [
    "#! pip install --upgrade transformers\n",
    "#! pip install --upgrade torch\n",
    "# !pip install --upgrade tf-keras\n"
   ]
  },
  {
   "cell_type": "code",
   "execution_count": 25,
   "metadata": {},
   "outputs": [],
   "source": [
    "from transformers import pipeline, set_seed"
   ]
  },
  {
   "cell_type": "code",
   "execution_count": 26,
   "metadata": {},
   "outputs": [
    {
     "name": "stdout",
     "output_type": "stream",
     "text": [
      "Name: transformers\n",
      "Version: 4.45.2\n",
      "Summary: State-of-the-art Machine Learning for JAX, PyTorch and TensorFlow\n",
      "Home-page: https://github.com/huggingface/transformers\n",
      "Author: The Hugging Face team (past and future) with the help of all our contributors (https://github.com/huggingface/transformers/graphs/contributors)\n",
      "Author-email: transformers@huggingface.co\n",
      "License: Apache 2.0 License\n",
      "Location: C:\\Users\\cld1465\\AppData\\Roaming\\Python\\Python311\\site-packages\n",
      "Requires: filelock, huggingface-hub, numpy, packaging, pyyaml, regex, requests, safetensors, tokenizers, tqdm\n",
      "Required-by: \n"
     ]
    }
   ],
   "source": [
    "!pip show transformers"
   ]
  },
  {
   "cell_type": "code",
   "execution_count": 27,
   "metadata": {},
   "outputs": [
    {
     "name": "stdout",
     "output_type": "stream",
     "text": [
      "WARNING:tensorflow:From C:\\Users\\cld1465\\AppData\\Roaming\\Python\\Python311\\site-packages\\tf_keras\\src\\losses.py:2976: The name tf.losses.sparse_softmax_cross_entropy is deprecated. Please use tf.compat.v1.losses.sparse_softmax_cross_entropy instead.\n",
      "\n"
     ]
    }
   ],
   "source": [
    "set_seed(42)\n",
    "pipe = pipeline('text-generation', model='gpt2-xl')\n",
    "# pipe = pipeline('text-generation', model='facebook/bart-large-cnn')\n"
   ]
  },
  {
   "cell_type": "code",
   "execution_count": 28,
   "metadata": {},
   "outputs": [
    {
     "name": "stdout",
     "output_type": "stream",
     "text": [
      "Cache directory: C:\\Users\\cld1465/.cache/huggingface/transformers\n"
     ]
    }
   ],
   "source": [
    "from transformers import TRANSFORMERS_CACHE\n",
    "import os\n",
    "\n",
    "# Print the cache directory (default cache location)\n",
    "cache_dir = os.getenv('TRANSFORMERS_CACHE', os.path.expanduser('~/.cache/huggingface/transformers'))\n",
    "print(f\"Cache directory: {cache_dir}\")\n",
    "\n"
   ]
  },
  {
   "cell_type": "code",
   "execution_count": 29,
   "metadata": {},
   "outputs": [
    {
     "name": "stderr",
     "output_type": "stream",
     "text": [
      "'ls' is not recognized as an internal or external command,\n",
      "operable program or batch file.\n"
     ]
    }
   ],
   "source": [
    "!ls ~/.cache/huggingface/"
   ]
  },
  {
   "cell_type": "code",
   "execution_count": 30,
   "metadata": {},
   "outputs": [
    {
     "name": "stderr",
     "output_type": "stream",
     "text": [
      "'ls' is not recognized as an internal or external command,\n",
      "operable program or batch file.\n"
     ]
    }
   ],
   "source": [
    "!ls -R ~/.cache/huggingface/transformers/\n"
   ]
  },
  {
   "cell_type": "code",
   "execution_count": 31,
   "metadata": {},
   "outputs": [
    {
     "name": "stdout",
     "output_type": "stream",
     "text": [
      "30\n"
     ]
    }
   ],
   "source": [
    "from transformers.utils import logging\n",
    "\n",
    "# This will show the cache directory used by the transformers library\n",
    "print(logging.get_verbosity())\n"
   ]
  },
  {
   "cell_type": "code",
   "execution_count": 32,
   "metadata": {},
   "outputs": [
    {
     "data": {
      "text/plain": [
       "7172"
      ]
     },
     "execution_count": 32,
     "metadata": {},
     "output_type": "execute_result"
    }
   ],
   "source": [
    "len(store_text)"
   ]
  },
  {
   "cell_type": "code",
   "execution_count": 33,
   "metadata": {},
   "outputs": [
    {
     "name": "stderr",
     "output_type": "stream",
     "text": [
      "Setting `pad_token_id` to `eos_token_id`:None for open-end generation.\n"
     ]
    }
   ],
   "source": [
    "gpt2_query = store_text[:3500] + \"\\nTL;DR:\\n\"\n",
    "# pipe_out = pipe(gpt2_query, max_length=512, clean_up_tokenization_spaces=True, truncation=True)\n",
    "pipe_out = pipe(gpt2_query, max_new_tokens=100, clean_up_tokenization_spaces=True, truncation=True)\n",
    "summaries[\"gpt2\"] = \"\\n\".join(sent_tokenize(pipe_out[0]['generated_text'][len(gpt2_query) :]))"
   ]
  },
  {
   "cell_type": "code",
   "execution_count": 34,
   "metadata": {},
   "outputs": [],
   "source": [
    "# Check the length of the tokenized input\n",
    "tokenized_input = pipe.tokenizer.encode(gpt2_query, truncation=True)\n",
    "if len(tokenized_input) > 1024:\n",
    "    print(f\"Input length: {len(tokenized_input)} tokens, which exceeds the max model length of 1024 tokens.\")\n"
   ]
  },
  {
   "cell_type": "code",
   "execution_count": 35,
   "metadata": {},
   "outputs": [
    {
     "data": {
      "text/plain": [
       "747"
      ]
     },
     "execution_count": 35,
     "metadata": {},
     "output_type": "execute_result"
    }
   ],
   "source": [
    "len(tokenized_input)"
   ]
  },
  {
   "cell_type": "code",
   "execution_count": 36,
   "metadata": {},
   "outputs": [
    {
     "data": {
      "text/plain": [
       "{'baseline': 'Your changes have been saved  Email is sent Email has already been sent Please verify your email address.\\nYou’ve reached your account maximum for followed topics.\\nDespite occasional complaints about its pacing, One Piece is often agreed to be one of the most well-written shōnen manga, not only in terms of its storytelling, but also its world-building, well-rounded characters, complex themes, and backstories.',\n",
       " 'gpt2': \"To be honest, you can't beat this scene.\\nEpisode #1135 is the longest episode of the series and arguably the episode that delivers the most plot: the birth of Brook, Zoro's failed attempt to save him, and the infamous fight with the Marines.\\nAs always, this episode is incredibly dense and complex, even if only in the broadest sense such as the birth of Brook, this episode is filled with a plethora of character developments, world-building, and plenty of action.\"}"
      ]
     },
     "execution_count": 36,
     "metadata": {},
     "output_type": "execute_result"
    }
   ],
   "source": [
    "summaries"
   ]
  },
  {
   "cell_type": "code",
   "execution_count": 37,
   "metadata": {},
   "outputs": [
    {
     "name": "stdout",
     "output_type": "stream",
     "text": [
      "Your changes have been saved  Email is sent Email has already been sent Please verify your email address.\n",
      "You’ve reached your account maximum for followed topics.\n",
      "Despite occasional complaints about its pacing, One Piece is often agreed to be one of the most well-written shōnen manga, not only in terms of its storytelling, but also its world-building, well-rounded characters, complex themes, and backstories.\n"
     ]
    }
   ],
   "source": [
    "print(summaries['baseline'])"
   ]
  },
  {
   "cell_type": "code",
   "execution_count": 38,
   "metadata": {},
   "outputs": [
    {
     "name": "stdout",
     "output_type": "stream",
     "text": [
      "To be honest, you can't beat this scene.\n",
      "Episode #1135 is the longest episode of the series and arguably the episode that delivers the most plot: the birth of Brook, Zoro's failed attempt to save him, and the infamous fight with the Marines.\n",
      "As always, this episode is incredibly dense and complex, even if only in the broadest sense such as the birth of Brook, this episode is filled with a plethora of character developments, world-building, and plenty of action.\n"
     ]
    }
   ],
   "source": [
    "print(summaries['gpt2'])"
   ]
  },
  {
   "cell_type": "markdown",
   "metadata": {},
   "source": [
    "# Beautifulsoup Tools"
   ]
  },
  {
   "cell_type": "code",
   "execution_count": 39,
   "metadata": {},
   "outputs": [
    {
     "data": {
      "text/plain": [
       "[<h2 id=\"one-piece-39-s-final-saga-completely-recontextualizes-buggy-39-s-character\"> One Piece's Final Saga Completely Recontextualizes Buggy's Character </h2>,\n",
       " <h2 id=\"buggy-39-s-flashback-with-shanks-reveals-a-sad-side-to-his-character\"> Buggy's Flashback With Shanks Reveals a Sad Side to His Character </h2>]"
      ]
     },
     "execution_count": 39,
     "metadata": {},
     "output_type": "execute_result"
    }
   ],
   "source": [
    "soup.find_all('h2')"
   ]
  },
  {
   "cell_type": "code",
   "execution_count": 40,
   "metadata": {},
   "outputs": [
    {
     "data": {
      "text/plain": [
       "\" Chapter #1082 and Episode #1116 Highlight Buggy's Most Admirable Trait \""
      ]
     },
     "execution_count": 40,
     "metadata": {},
     "output_type": "execute_result"
    }
   ],
   "source": [
    "soup.find_all('h3')[1].get_text()"
   ]
  },
  {
   "cell_type": "code",
   "execution_count": 41,
   "metadata": {},
   "outputs": [
    {
     "data": {
      "text/plain": [
       "\"Despite being one of the first real antagonists of the series, Buggy the Clown has gradually devolved into one of One Piece's longest-running gags. Through a series of hilarious misunderstandings, Buggy has continued to fail upwards, unwittingly keeping up with Luffy ever since the beginning of the series. His constant failures coupled with his cowardice make him a character that is difficult to take seriously, and he spends most of One Piece being a one-note pompous clown.\""
      ]
     },
     "execution_count": 41,
     "metadata": {},
     "output_type": "execute_result"
    }
   ],
   "source": [
    "soup.find_all('h2')[0].find_next('p').get_text()"
   ]
  },
  {
   "cell_type": "code",
   "execution_count": 42,
   "metadata": {},
   "outputs": [
    {
     "data": {
      "text/plain": [
       "'Ever since Buggy was first introduced, he has been known to possess a grudge against Shanks and while the grudge seemed shallow at first, the flashback in chapter #1082 expands on Buggy\\'s complex feelings about Shanks. Roger was known to be a father figure to both Buggy and Shanks, but as the flashback reveals, Shanks seemed to be the golden child from the start, who \"shone with potential,\" as Buggy puts it.'"
      ]
     },
     "execution_count": 42,
     "metadata": {},
     "output_type": "execute_result"
    }
   ],
   "source": [
    "soup.find_all('h3')[2].find_next('p').get_text()"
   ]
  }
 ],
 "metadata": {
  "kernelspec": {
   "display_name": "base",
   "language": "python",
   "name": "python3"
  },
  "language_info": {
   "codemirror_mode": {
    "name": "ipython",
    "version": 3
   },
   "file_extension": ".py",
   "mimetype": "text/x-python",
   "name": "python",
   "nbconvert_exporter": "python",
   "pygments_lexer": "ipython3",
   "version": "3.11.4"
  }
 },
 "nbformat": 4,
 "nbformat_minor": 2
}
